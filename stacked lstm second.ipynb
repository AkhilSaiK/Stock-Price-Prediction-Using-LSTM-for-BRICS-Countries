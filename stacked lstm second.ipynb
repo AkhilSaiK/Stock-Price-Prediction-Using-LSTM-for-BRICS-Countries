{
 "cells": [
  {
   "cell_type": "markdown",
   "metadata": {},
   "source": [
    "### Stock Market Prediction And Forecasting Using Stacked LSTM"
   ]
  },
  {
   "cell_type": "code",
   "execution_count": 2,
   "metadata": {},
   "outputs": [],
   "source": [
    "import pandas as pd"
   ]
  },
  {
   "cell_type": "code",
   "execution_count": 12,
   "metadata": {
    "scrolled": true
   },
   "outputs": [],
   "source": [
    "df=pd.read_csv('india.csv')"
   ]
  },
  {
   "cell_type": "code",
   "execution_count": 13,
   "metadata": {},
   "outputs": [
    {
     "data": {
      "text/html": [
       "<div>\n",
       "<style scoped>\n",
       "    .dataframe tbody tr th:only-of-type {\n",
       "        vertical-align: middle;\n",
       "    }\n",
       "\n",
       "    .dataframe tbody tr th {\n",
       "        vertical-align: top;\n",
       "    }\n",
       "\n",
       "    .dataframe thead th {\n",
       "        text-align: right;\n",
       "    }\n",
       "</style>\n",
       "<table border=\"1\" class=\"dataframe\">\n",
       "  <thead>\n",
       "    <tr style=\"text-align: right;\">\n",
       "      <th></th>\n",
       "      <th>Time Interval</th>\n",
       "      <th>Close</th>\n",
       "      <th>Net Chg</th>\n",
       "      <th>Open</th>\n",
       "      <th>High</th>\n",
       "      <th>Low</th>\n",
       "      <th>Tick Count</th>\n",
       "      <th>Volume</th>\n",
       "    </tr>\n",
       "  </thead>\n",
       "  <tbody>\n",
       "    <tr>\n",
       "      <th>0</th>\n",
       "      <td>Summary</td>\n",
       "      <td>47746.22</td>\n",
       "      <td>6188.22</td>\n",
       "      <td>41606.81</td>\n",
       "      <td>47789.04</td>\n",
       "      <td>25640.12</td>\n",
       "      <td>7120958.0</td>\n",
       "      <td>N.A.</td>\n",
       "    </tr>\n",
       "    <tr>\n",
       "      <th>1</th>\n",
       "      <td>30DEC2019_00:00:00.000000</td>\n",
       "      <td>NaN</td>\n",
       "      <td>NaN</td>\n",
       "      <td>NaN</td>\n",
       "      <td>NaN</td>\n",
       "      <td>NaN</td>\n",
       "      <td>NaN</td>\n",
       "      <td>NaN</td>\n",
       "    </tr>\n",
       "    <tr>\n",
       "      <th>2</th>\n",
       "      <td>22:30 - 23:00</td>\n",
       "      <td>41479.49</td>\n",
       "      <td>-78.51</td>\n",
       "      <td>41606.81</td>\n",
       "      <td>41607.49</td>\n",
       "      <td>41444.63</td>\n",
       "      <td>1365.0</td>\n",
       "      <td>N.A.</td>\n",
       "    </tr>\n",
       "    <tr>\n",
       "      <th>3</th>\n",
       "      <td>23:00 - 23:30</td>\n",
       "      <td>41417.40</td>\n",
       "      <td>-62.09</td>\n",
       "      <td>41480.95</td>\n",
       "      <td>41483.97</td>\n",
       "      <td>41384.20</td>\n",
       "      <td>1797.0</td>\n",
       "      <td>N.A.</td>\n",
       "    </tr>\n",
       "    <tr>\n",
       "      <th>4</th>\n",
       "      <td>23:30 - 00:00</td>\n",
       "      <td>41409.97</td>\n",
       "      <td>-7.43</td>\n",
       "      <td>41417.49</td>\n",
       "      <td>41442.61</td>\n",
       "      <td>41383.68</td>\n",
       "      <td>1797.0</td>\n",
       "      <td>N.A.</td>\n",
       "    </tr>\n",
       "    <tr>\n",
       "      <th>5</th>\n",
       "      <td>31DEC2019_00:00:00.000000</td>\n",
       "      <td>NaN</td>\n",
       "      <td>NaN</td>\n",
       "      <td>NaN</td>\n",
       "      <td>NaN</td>\n",
       "      <td>NaN</td>\n",
       "      <td>NaN</td>\n",
       "      <td>NaN</td>\n",
       "    </tr>\n",
       "    <tr>\n",
       "      <th>6</th>\n",
       "      <td>00:00 - 00:30</td>\n",
       "      <td>41376.39</td>\n",
       "      <td>-33.58</td>\n",
       "      <td>41409.97</td>\n",
       "      <td>41416.09</td>\n",
       "      <td>41372.15</td>\n",
       "      <td>1798.0</td>\n",
       "      <td>N.A.</td>\n",
       "    </tr>\n",
       "    <tr>\n",
       "      <th>7</th>\n",
       "      <td>00:30 - 01:00</td>\n",
       "      <td>41373.46</td>\n",
       "      <td>-2.93</td>\n",
       "      <td>41376.39</td>\n",
       "      <td>41399.50</td>\n",
       "      <td>41349.61</td>\n",
       "      <td>1797.0</td>\n",
       "      <td>N.A.</td>\n",
       "    </tr>\n",
       "    <tr>\n",
       "      <th>8</th>\n",
       "      <td>01:00 - 01:30</td>\n",
       "      <td>41486.16</td>\n",
       "      <td>112.70</td>\n",
       "      <td>41373.46</td>\n",
       "      <td>41504.09</td>\n",
       "      <td>41373.46</td>\n",
       "      <td>1798.0</td>\n",
       "      <td>N.A.</td>\n",
       "    </tr>\n",
       "    <tr>\n",
       "      <th>9</th>\n",
       "      <td>01:30 - 02:00</td>\n",
       "      <td>41418.06</td>\n",
       "      <td>-68.10</td>\n",
       "      <td>41486.56</td>\n",
       "      <td>41489.61</td>\n",
       "      <td>41416.50</td>\n",
       "      <td>1798.0</td>\n",
       "      <td>N.A.</td>\n",
       "    </tr>\n",
       "  </tbody>\n",
       "</table>\n",
       "</div>"
      ],
      "text/plain": [
       "               Time Interval     Close  Net Chg      Open      High       Low  \\\n",
       "0                    Summary  47746.22  6188.22  41606.81  47789.04  25640.12   \n",
       "1  30DEC2019_00:00:00.000000       NaN      NaN       NaN       NaN       NaN   \n",
       "2              22:30 - 23:00  41479.49   -78.51  41606.81  41607.49  41444.63   \n",
       "3              23:00 - 23:30  41417.40   -62.09  41480.95  41483.97  41384.20   \n",
       "4              23:30 - 00:00  41409.97    -7.43  41417.49  41442.61  41383.68   \n",
       "5  31DEC2019_00:00:00.000000       NaN      NaN       NaN       NaN       NaN   \n",
       "6              00:00 - 00:30  41376.39   -33.58  41409.97  41416.09  41372.15   \n",
       "7              00:30 - 01:00  41373.46    -2.93  41376.39  41399.50  41349.61   \n",
       "8              01:00 - 01:30  41486.16   112.70  41373.46  41504.09  41373.46   \n",
       "9              01:30 - 02:00  41418.06   -68.10  41486.56  41489.61  41416.50   \n",
       "\n",
       "   Tick Count Volume  \n",
       "0   7120958.0   N.A.  \n",
       "1         NaN    NaN  \n",
       "2      1365.0   N.A.  \n",
       "3      1797.0   N.A.  \n",
       "4      1797.0   N.A.  \n",
       "5         NaN    NaN  \n",
       "6      1798.0   N.A.  \n",
       "7      1797.0   N.A.  \n",
       "8      1798.0   N.A.  \n",
       "9      1798.0   N.A.  "
      ]
     },
     "execution_count": 13,
     "metadata": {},
     "output_type": "execute_result"
    }
   ],
   "source": [
    "df.head(10)"
   ]
  },
  {
   "cell_type": "code",
   "execution_count": 14,
   "metadata": {},
   "outputs": [],
   "source": [
    "df=df.dropna()"
   ]
  },
  {
   "cell_type": "code",
   "execution_count": 15,
   "metadata": {
    "scrolled": false
   },
   "outputs": [
    {
     "data": {
      "text/html": [
       "<div>\n",
       "<style scoped>\n",
       "    .dataframe tbody tr th:only-of-type {\n",
       "        vertical-align: middle;\n",
       "    }\n",
       "\n",
       "    .dataframe tbody tr th {\n",
       "        vertical-align: top;\n",
       "    }\n",
       "\n",
       "    .dataframe thead th {\n",
       "        text-align: right;\n",
       "    }\n",
       "</style>\n",
       "<table border=\"1\" class=\"dataframe\">\n",
       "  <thead>\n",
       "    <tr style=\"text-align: right;\">\n",
       "      <th></th>\n",
       "      <th>Time Interval</th>\n",
       "      <th>Close</th>\n",
       "      <th>Net Chg</th>\n",
       "      <th>Open</th>\n",
       "      <th>High</th>\n",
       "      <th>Low</th>\n",
       "      <th>Tick Count</th>\n",
       "      <th>Volume</th>\n",
       "    </tr>\n",
       "  </thead>\n",
       "  <tbody>\n",
       "    <tr>\n",
       "      <th>0</th>\n",
       "      <td>Summary</td>\n",
       "      <td>47746.22</td>\n",
       "      <td>6188.22</td>\n",
       "      <td>41606.81</td>\n",
       "      <td>47789.04</td>\n",
       "      <td>25640.12</td>\n",
       "      <td>7120958.0</td>\n",
       "      <td>N.A.</td>\n",
       "    </tr>\n",
       "    <tr>\n",
       "      <th>2</th>\n",
       "      <td>22:30 - 23:00</td>\n",
       "      <td>41479.49</td>\n",
       "      <td>-78.51</td>\n",
       "      <td>41606.81</td>\n",
       "      <td>41607.49</td>\n",
       "      <td>41444.63</td>\n",
       "      <td>1365.0</td>\n",
       "      <td>N.A.</td>\n",
       "    </tr>\n",
       "    <tr>\n",
       "      <th>3</th>\n",
       "      <td>23:00 - 23:30</td>\n",
       "      <td>41417.40</td>\n",
       "      <td>-62.09</td>\n",
       "      <td>41480.95</td>\n",
       "      <td>41483.97</td>\n",
       "      <td>41384.20</td>\n",
       "      <td>1797.0</td>\n",
       "      <td>N.A.</td>\n",
       "    </tr>\n",
       "    <tr>\n",
       "      <th>4</th>\n",
       "      <td>23:30 - 00:00</td>\n",
       "      <td>41409.97</td>\n",
       "      <td>-7.43</td>\n",
       "      <td>41417.49</td>\n",
       "      <td>41442.61</td>\n",
       "      <td>41383.68</td>\n",
       "      <td>1797.0</td>\n",
       "      <td>N.A.</td>\n",
       "    </tr>\n",
       "    <tr>\n",
       "      <th>6</th>\n",
       "      <td>00:00 - 00:30</td>\n",
       "      <td>41376.39</td>\n",
       "      <td>-33.58</td>\n",
       "      <td>41409.97</td>\n",
       "      <td>41416.09</td>\n",
       "      <td>41372.15</td>\n",
       "      <td>1798.0</td>\n",
       "      <td>N.A.</td>\n",
       "    </tr>\n",
       "    <tr>\n",
       "      <th>7</th>\n",
       "      <td>00:30 - 01:00</td>\n",
       "      <td>41373.46</td>\n",
       "      <td>-2.93</td>\n",
       "      <td>41376.39</td>\n",
       "      <td>41399.50</td>\n",
       "      <td>41349.61</td>\n",
       "      <td>1797.0</td>\n",
       "      <td>N.A.</td>\n",
       "    </tr>\n",
       "    <tr>\n",
       "      <th>8</th>\n",
       "      <td>01:00 - 01:30</td>\n",
       "      <td>41486.16</td>\n",
       "      <td>112.70</td>\n",
       "      <td>41373.46</td>\n",
       "      <td>41504.09</td>\n",
       "      <td>41373.46</td>\n",
       "      <td>1798.0</td>\n",
       "      <td>N.A.</td>\n",
       "    </tr>\n",
       "    <tr>\n",
       "      <th>9</th>\n",
       "      <td>01:30 - 02:00</td>\n",
       "      <td>41418.06</td>\n",
       "      <td>-68.10</td>\n",
       "      <td>41486.56</td>\n",
       "      <td>41489.61</td>\n",
       "      <td>41416.50</td>\n",
       "      <td>1798.0</td>\n",
       "      <td>N.A.</td>\n",
       "    </tr>\n",
       "    <tr>\n",
       "      <th>10</th>\n",
       "      <td>02:00 - 02:30</td>\n",
       "      <td>41418.80</td>\n",
       "      <td>0.74</td>\n",
       "      <td>41418.06</td>\n",
       "      <td>41431.41</td>\n",
       "      <td>41405.36</td>\n",
       "      <td>1797.0</td>\n",
       "      <td>N.A.</td>\n",
       "    </tr>\n",
       "    <tr>\n",
       "      <th>11</th>\n",
       "      <td>02:30 - 03:00</td>\n",
       "      <td>41436.96</td>\n",
       "      <td>18.16</td>\n",
       "      <td>41418.45</td>\n",
       "      <td>41450.02</td>\n",
       "      <td>41415.41</td>\n",
       "      <td>1798.0</td>\n",
       "      <td>N.A.</td>\n",
       "    </tr>\n",
       "  </tbody>\n",
       "</table>\n",
       "</div>"
      ],
      "text/plain": [
       "    Time Interval     Close  Net Chg      Open      High       Low  \\\n",
       "0         Summary  47746.22  6188.22  41606.81  47789.04  25640.12   \n",
       "2   22:30 - 23:00  41479.49   -78.51  41606.81  41607.49  41444.63   \n",
       "3   23:00 - 23:30  41417.40   -62.09  41480.95  41483.97  41384.20   \n",
       "4   23:30 - 00:00  41409.97    -7.43  41417.49  41442.61  41383.68   \n",
       "6   00:00 - 00:30  41376.39   -33.58  41409.97  41416.09  41372.15   \n",
       "7   00:30 - 01:00  41373.46    -2.93  41376.39  41399.50  41349.61   \n",
       "8   01:00 - 01:30  41486.16   112.70  41373.46  41504.09  41373.46   \n",
       "9   01:30 - 02:00  41418.06   -68.10  41486.56  41489.61  41416.50   \n",
       "10  02:00 - 02:30  41418.80     0.74  41418.06  41431.41  41405.36   \n",
       "11  02:30 - 03:00  41436.96    18.16  41418.45  41450.02  41415.41   \n",
       "\n",
       "    Tick Count Volume  \n",
       "0    7120958.0   N.A.  \n",
       "2       1365.0   N.A.  \n",
       "3       1797.0   N.A.  \n",
       "4       1797.0   N.A.  \n",
       "6       1798.0   N.A.  \n",
       "7       1797.0   N.A.  \n",
       "8       1798.0   N.A.  \n",
       "9       1798.0   N.A.  \n",
       "10      1797.0   N.A.  \n",
       "11      1798.0   N.A.  "
      ]
     },
     "execution_count": 15,
     "metadata": {},
     "output_type": "execute_result"
    }
   ],
   "source": [
    "df.head(10)"
   ]
  },
  {
   "cell_type": "code",
   "execution_count": 16,
   "metadata": {},
   "outputs": [
    {
     "data": {
      "text/html": [
       "<div>\n",
       "<style scoped>\n",
       "    .dataframe tbody tr th:only-of-type {\n",
       "        vertical-align: middle;\n",
       "    }\n",
       "\n",
       "    .dataframe tbody tr th {\n",
       "        vertical-align: top;\n",
       "    }\n",
       "\n",
       "    .dataframe thead th {\n",
       "        text-align: right;\n",
       "    }\n",
       "</style>\n",
       "<table border=\"1\" class=\"dataframe\">\n",
       "  <thead>\n",
       "    <tr style=\"text-align: right;\">\n",
       "      <th></th>\n",
       "      <th>Time Interval</th>\n",
       "      <th>Close</th>\n",
       "      <th>Net Chg</th>\n",
       "      <th>Open</th>\n",
       "      <th>High</th>\n",
       "      <th>Low</th>\n",
       "      <th>Tick Count</th>\n",
       "      <th>Volume</th>\n",
       "    </tr>\n",
       "  </thead>\n",
       "  <tbody>\n",
       "    <tr>\n",
       "      <th>0</th>\n",
       "      <td>Summary</td>\n",
       "      <td>47746.22</td>\n",
       "      <td>6188.22</td>\n",
       "      <td>41606.81</td>\n",
       "      <td>47789.04</td>\n",
       "      <td>25640.12</td>\n",
       "      <td>7120958.0</td>\n",
       "      <td>N.A.</td>\n",
       "    </tr>\n",
       "    <tr>\n",
       "      <th>2</th>\n",
       "      <td>22:30 - 23:00</td>\n",
       "      <td>41479.49</td>\n",
       "      <td>-78.51</td>\n",
       "      <td>41606.81</td>\n",
       "      <td>41607.49</td>\n",
       "      <td>41444.63</td>\n",
       "      <td>1365.0</td>\n",
       "      <td>N.A.</td>\n",
       "    </tr>\n",
       "    <tr>\n",
       "      <th>3</th>\n",
       "      <td>23:00 - 23:30</td>\n",
       "      <td>41417.40</td>\n",
       "      <td>-62.09</td>\n",
       "      <td>41480.95</td>\n",
       "      <td>41483.97</td>\n",
       "      <td>41384.20</td>\n",
       "      <td>1797.0</td>\n",
       "      <td>N.A.</td>\n",
       "    </tr>\n",
       "    <tr>\n",
       "      <th>4</th>\n",
       "      <td>23:30 - 00:00</td>\n",
       "      <td>41409.97</td>\n",
       "      <td>-7.43</td>\n",
       "      <td>41417.49</td>\n",
       "      <td>41442.61</td>\n",
       "      <td>41383.68</td>\n",
       "      <td>1797.0</td>\n",
       "      <td>N.A.</td>\n",
       "    </tr>\n",
       "    <tr>\n",
       "      <th>6</th>\n",
       "      <td>00:00 - 00:30</td>\n",
       "      <td>41376.39</td>\n",
       "      <td>-33.58</td>\n",
       "      <td>41409.97</td>\n",
       "      <td>41416.09</td>\n",
       "      <td>41372.15</td>\n",
       "      <td>1798.0</td>\n",
       "      <td>N.A.</td>\n",
       "    </tr>\n",
       "    <tr>\n",
       "      <th>7</th>\n",
       "      <td>00:30 - 01:00</td>\n",
       "      <td>41373.46</td>\n",
       "      <td>-2.93</td>\n",
       "      <td>41376.39</td>\n",
       "      <td>41399.50</td>\n",
       "      <td>41349.61</td>\n",
       "      <td>1797.0</td>\n",
       "      <td>N.A.</td>\n",
       "    </tr>\n",
       "    <tr>\n",
       "      <th>8</th>\n",
       "      <td>01:00 - 01:30</td>\n",
       "      <td>41486.16</td>\n",
       "      <td>112.70</td>\n",
       "      <td>41373.46</td>\n",
       "      <td>41504.09</td>\n",
       "      <td>41373.46</td>\n",
       "      <td>1798.0</td>\n",
       "      <td>N.A.</td>\n",
       "    </tr>\n",
       "    <tr>\n",
       "      <th>9</th>\n",
       "      <td>01:30 - 02:00</td>\n",
       "      <td>41418.06</td>\n",
       "      <td>-68.10</td>\n",
       "      <td>41486.56</td>\n",
       "      <td>41489.61</td>\n",
       "      <td>41416.50</td>\n",
       "      <td>1798.0</td>\n",
       "      <td>N.A.</td>\n",
       "    </tr>\n",
       "    <tr>\n",
       "      <th>10</th>\n",
       "      <td>02:00 - 02:30</td>\n",
       "      <td>41418.80</td>\n",
       "      <td>0.74</td>\n",
       "      <td>41418.06</td>\n",
       "      <td>41431.41</td>\n",
       "      <td>41405.36</td>\n",
       "      <td>1797.0</td>\n",
       "      <td>N.A.</td>\n",
       "    </tr>\n",
       "    <tr>\n",
       "      <th>11</th>\n",
       "      <td>02:30 - 03:00</td>\n",
       "      <td>41436.96</td>\n",
       "      <td>18.16</td>\n",
       "      <td>41418.45</td>\n",
       "      <td>41450.02</td>\n",
       "      <td>41415.41</td>\n",
       "      <td>1798.0</td>\n",
       "      <td>N.A.</td>\n",
       "    </tr>\n",
       "  </tbody>\n",
       "</table>\n",
       "</div>"
      ],
      "text/plain": [
       "    Time Interval     Close  Net Chg      Open      High       Low  \\\n",
       "0         Summary  47746.22  6188.22  41606.81  47789.04  25640.12   \n",
       "2   22:30 - 23:00  41479.49   -78.51  41606.81  41607.49  41444.63   \n",
       "3   23:00 - 23:30  41417.40   -62.09  41480.95  41483.97  41384.20   \n",
       "4   23:30 - 00:00  41409.97    -7.43  41417.49  41442.61  41383.68   \n",
       "6   00:00 - 00:30  41376.39   -33.58  41409.97  41416.09  41372.15   \n",
       "7   00:30 - 01:00  41373.46    -2.93  41376.39  41399.50  41349.61   \n",
       "8   01:00 - 01:30  41486.16   112.70  41373.46  41504.09  41373.46   \n",
       "9   01:30 - 02:00  41418.06   -68.10  41486.56  41489.61  41416.50   \n",
       "10  02:00 - 02:30  41418.80     0.74  41418.06  41431.41  41405.36   \n",
       "11  02:30 - 03:00  41436.96    18.16  41418.45  41450.02  41415.41   \n",
       "\n",
       "    Tick Count Volume  \n",
       "0    7120958.0   N.A.  \n",
       "2       1365.0   N.A.  \n",
       "3       1797.0   N.A.  \n",
       "4       1797.0   N.A.  \n",
       "6       1798.0   N.A.  \n",
       "7       1797.0   N.A.  \n",
       "8       1798.0   N.A.  \n",
       "9       1798.0   N.A.  \n",
       "10      1797.0   N.A.  \n",
       "11      1798.0   N.A.  "
      ]
     },
     "execution_count": 16,
     "metadata": {},
     "output_type": "execute_result"
    }
   ],
   "source": [
    "# df.index=[i for i in range(len(df))] or df.reset_index(inplace=True) to make indices in 1,2,3 order\n",
    "df.head(10)\n",
    "# print(df.loc[0])"
   ]
  },
  {
   "cell_type": "code",
   "execution_count": 17,
   "metadata": {},
   "outputs": [],
   "source": [
    "df1=df.reset_index()['Close']"
   ]
  },
  {
   "cell_type": "code",
   "execution_count": 18,
   "metadata": {},
   "outputs": [
    {
     "data": {
      "text/plain": [
       "0       47746.22\n",
       "1       41479.49\n",
       "2       41417.40\n",
       "3       41409.97\n",
       "4       41376.39\n",
       "          ...   \n",
       "4016    47663.50\n",
       "4017    47724.84\n",
       "4018    47746.22\n",
       "4019    47746.22\n",
       "4020    47746.22\n",
       "Name: Close, Length: 4021, dtype: float64"
      ]
     },
     "execution_count": 18,
     "metadata": {},
     "output_type": "execute_result"
    }
   ],
   "source": [
    "df1"
   ]
  },
  {
   "cell_type": "code",
   "execution_count": 19,
   "metadata": {},
   "outputs": [
    {
     "data": {
      "text/plain": [
       "[<matplotlib.lines.Line2D at 0x223ce9e2a40>]"
      ]
     },
     "execution_count": 19,
     "metadata": {},
     "output_type": "execute_result"
    },
    {
     "data": {
      "image/png": "[encoded data removed]",
      "text/plain": [
       "<Figure size 640x480 with 1 Axes>"
      ]
     },
     "metadata": {},
     "output_type": "display_data"
    }
   ],
   "source": [
    "import matplotlib.pyplot as plt\n",
    "plt.plot(df1)"
   ]
  },
  {
   "cell_type": "code",
   "execution_count": 20,
   "metadata": {},
   "outputs": [],
   "source": [
    "### LSTM are sensitive to the scale of the data. so we apply MinMax scaler "
   ]
  },
  {
   "cell_type": "code",
   "execution_count": 21,
   "metadata": {},
   "outputs": [],
   "source": [
    "import numpy as np"
   ]
  },
  {
   "cell_type": "code",
   "execution_count": 22,
   "metadata": {},
   "outputs": [
    {
     "data": {
      "text/plain": [
       "0       47746.22\n",
       "1       41479.49\n",
       "2       41417.40\n",
       "3       41409.97\n",
       "4       41376.39\n",
       "          ...   \n",
       "4016    47663.50\n",
       "4017    47724.84\n",
       "4018    47746.22\n",
       "4019    47746.22\n",
       "4020    47746.22\n",
       "Name: Close, Length: 4021, dtype: float64"
      ]
     },
     "execution_count": 22,
     "metadata": {},
     "output_type": "execute_result"
    }
   ],
   "source": [
    "df1"
   ]
  },
  {
   "cell_type": "code",
   "execution_count": 23,
   "metadata": {},
   "outputs": [],
   "source": [
    "from sklearn.preprocessing import MinMaxScaler\n",
    "scaler=MinMaxScaler(feature_range=(0,1))\n",
    "df1=scaler.fit_transform(np.array(df1).reshape(-1,1))"
   ]
  },
  {
   "cell_type": "code",
   "execution_count": 24,
   "metadata": {},
   "outputs": [
    {
     "name": "stdout",
     "output_type": "stream",
     "text": [
      "[[1.        ]\n",
      " [0.71386833]\n",
      " [0.71103337]\n",
      " ...\n",
      " [1.        ]\n",
      " [1.        ]\n",
      " [1.        ]]\n"
     ]
    }
   ],
   "source": [
    "print(df1)"
   ]
  },
  {
   "cell_type": "code",
   "execution_count": 25,
   "metadata": {},
   "outputs": [],
   "source": [
    "##splitting dataset into train and test split\n",
    "training_size=int(len(df1)*0.65)\n",
    "test_size=len(df1)-training_size\n",
    "train_data,test_data=df1[0:training_size,:],df1[training_size:len(df1),:1]"
   ]
  },
  {
   "cell_type": "code",
   "execution_count": 26,
   "metadata": {},
   "outputs": [
    {
     "data": {
      "text/plain": [
       "(2613, 1408)"
      ]
     },
     "execution_count": 26,
     "metadata": {},
     "output_type": "execute_result"
    }
   ],
   "source": [
    "training_size,test_size"
   ]
  },
  {
   "cell_type": "code",
   "execution_count": 27,
   "metadata": {},
   "outputs": [
    {
     "data": {
      "text/plain": [
       "array([[1.        ],\n",
       "       [0.71386833],\n",
       "       [0.71103337],\n",
       "       ...,\n",
       "       [0.59061181],\n",
       "       [0.59194596],\n",
       "       [0.59523751]])"
      ]
     },
     "execution_count": 27,
     "metadata": {},
     "output_type": "execute_result"
    }
   ],
   "source": [
    "train_data"
   ]
  },
  {
   "cell_type": "code",
   "execution_count": 28,
   "metadata": {},
   "outputs": [],
   "source": [
    "import numpy\n",
    "# convert an array of values into a dataset matrix\n",
    "def create_dataset(dataset, time_step=1):\n",
    "\tdataX, dataY = [], []\n",
    "\tfor i in range(len(dataset)-time_step-1):\n",
    "\t\ta = dataset[i:(i+time_step), 0]   ###i=0, 0,1,2,3-----99   100 \n",
    "\t\tdataX.append(a)\n",
    "\t\tdataY.append(dataset[i + time_step, 0])\n",
    "\treturn numpy.array(dataX), numpy.array(dataY)"
   ]
  },
  {
   "cell_type": "code",
   "execution_count": 29,
   "metadata": {},
   "outputs": [],
   "source": [
    "# reshape into X=t,t+1,t+2,t+3 and Y=t+4\n",
    "time_step = 100\n",
    "X_train, y_train = create_dataset(train_data, time_step)\n",
    "X_test, ytest = create_dataset(test_data, time_step)"
   ]
  },
  {
   "cell_type": "code",
   "execution_count": 30,
   "metadata": {},
   "outputs": [
    {
     "name": "stdout",
     "output_type": "stream",
     "text": [
      "(2512, 100)\n",
      "(2512,)\n"
     ]
    },
    {
     "data": {
      "text/plain": [
       "(None, None)"
      ]
     },
     "execution_count": 30,
     "metadata": {},
     "output_type": "execute_result"
    }
   ],
   "source": [
    "print(X_train.shape), print(y_train.shape)"
   ]
  },
  {
   "cell_type": "code",
   "execution_count": 31,
   "metadata": {},
   "outputs": [
    {
     "name": "stdout",
     "output_type": "stream",
     "text": [
      "(1307, 100)\n",
      "(1307,)\n"
     ]
    },
    {
     "data": {
      "text/plain": [
       "(None, None)"
      ]
     },
     "execution_count": 31,
     "metadata": {},
     "output_type": "execute_result"
    }
   ],
   "source": [
    "print(X_test.shape), print(ytest.shape)"
   ]
  },
  {
   "cell_type": "code",
   "execution_count": 32,
   "metadata": {},
   "outputs": [],
   "source": [
    "# reshape input to be [samples, time steps, features] which is required for LSTM\n",
    "X_train =X_train.reshape(X_train.shape[0],X_train.shape[1] , 1)\n",
    "X_test = X_test.reshape(X_test.shape[0],X_test.shape[1] , 1)"
   ]
  },
  {
   "cell_type": "code",
   "execution_count": 33,
   "metadata": {},
   "outputs": [
    {
     "name": "stdout",
     "output_type": "stream",
     "text": [
      "(2512, 100, 1)\n"
     ]
    }
   ],
   "source": [
    "print(X_train.shape)"
   ]
  },
  {
   "cell_type": "code",
   "execution_count": 34,
   "metadata": {
    "scrolled": false
   },
   "outputs": [
    {
     "name": "stdout",
     "output_type": "stream",
     "text": [
      "Requirement already satisfied: tensorflow in c:\\users\\akhil\\anaconda3\\lib\\site-packages (2.12.0)\n",
      "Requirement already satisfied: tensorflow-intel==2.12.0 in c:\\users\\akhil\\anaconda3\\lib\\site-packages (from tensorflow) (2.12.0)\n",
      "Requirement already satisfied: jax>=0.3.15 in c:\\users\\akhil\\anaconda3\\lib\\site-packages (from tensorflow-intel==2.12.0->tensorflow) (0.4.13)\n",
      "Requirement already satisfied: tensorflow-io-gcs-filesystem>=0.23.1 in c:\\users\\akhil\\anaconda3\\lib\\site-packages (from tensorflow-intel==2.12.0->tensorflow) (0.31.0)\n",
      "Requirement already satisfied: packaging in c:\\users\\akhil\\anaconda3\\lib\\site-packages (from tensorflow-intel==2.12.0->tensorflow) (22.0)\n",
      "Requirement already satisfied: typing-extensions>=3.6.6 in c:\\users\\akhil\\anaconda3\\lib\\site-packages (from tensorflow-intel==2.12.0->tensorflow) (4.4.0)\n",
      "Requirement already satisfied: absl-py>=1.0.0 in c:\\users\\akhil\\anaconda3\\lib\\site-packages (from tensorflow-intel==2.12.0->tensorflow) (1.4.0)\n",
      "Requirement already satisfied: gast<=0.4.0,>=0.2.1 in c:\\users\\akhil\\anaconda3\\lib\\site-packages (from tensorflow-intel==2.12.0->tensorflow) (0.4.0)\n",
      "Requirement already satisfied: flatbuffers>=2.0 in c:\\users\\akhil\\anaconda3\\lib\\site-packages (from tensorflow-intel==2.12.0->tensorflow) (23.5.26)\n",
      "Requirement already satisfied: google-pasta>=0.1.1 in c:\\users\\akhil\\anaconda3\\lib\\site-packages (from tensorflow-intel==2.12.0->tensorflow) (0.2.0)\n",
      "Requirement already satisfied: protobuf!=4.21.0,!=4.21.1,!=4.21.2,!=4.21.3,!=4.21.4,!=4.21.5,<5.0.0dev,>=3.20.3 in c:\\users\\akhil\\anaconda3\\lib\\site-packages (from tensorflow-intel==2.12.0->tensorflow) (4.23.3)\n",
      "Requirement already satisfied: setuptools in c:\\users\\akhil\\anaconda3\\lib\\site-packages (from tensorflow-intel==2.12.0->tensorflow) (65.6.3)\n",
      "Requirement already satisfied: wrapt<1.15,>=1.11.0 in c:\\users\\akhil\\anaconda3\\lib\\site-packages (from tensorflow-intel==2.12.0->tensorflow) (1.14.1)\n",
      "Requirement already satisfied: h5py>=2.9.0 in c:\\users\\akhil\\anaconda3\\lib\\site-packages (from tensorflow-intel==2.12.0->tensorflow) (3.7.0)\n",
      "Requirement already satisfied: numpy<1.24,>=1.22 in c:\\users\\akhil\\anaconda3\\lib\\site-packages (from tensorflow-intel==2.12.0->tensorflow) (1.23.5)\n",
      "Requirement already satisfied: termcolor>=1.1.0 in c:\\users\\akhil\\anaconda3\\lib\\site-packages (from tensorflow-intel==2.12.0->tensorflow) (2.3.0)\n",
      "Requirement already satisfied: grpcio<2.0,>=1.24.3 in c:\\users\\akhil\\anaconda3\\lib\\site-packages (from tensorflow-intel==2.12.0->tensorflow) (1.56.0)\n",
      "Requirement already satisfied: tensorflow-estimator<2.13,>=2.12.0 in c:\\users\\akhil\\anaconda3\\lib\\site-packages (from tensorflow-intel==2.12.0->tensorflow) (2.12.0)\n",
      "Requirement already satisfied: libclang>=13.0.0 in c:\\users\\akhil\\anaconda3\\lib\\site-packages (from tensorflow-intel==2.12.0->tensorflow) (16.0.0)\n",
      "Requirement already satisfied: tensorboard<2.13,>=2.12 in c:\\users\\akhil\\anaconda3\\lib\\site-packages (from tensorflow-intel==2.12.0->tensorflow) (2.12.3)\n",
      "Requirement already satisfied: opt-einsum>=2.3.2 in c:\\users\\akhil\\anaconda3\\lib\\site-packages (from tensorflow-intel==2.12.0->tensorflow) (3.3.0)\n",
      "Requirement already satisfied: six>=1.12.0 in c:\\users\\akhil\\anaconda3\\lib\\site-packages (from tensorflow-intel==2.12.0->tensorflow) (1.16.0)\n",
      "Requirement already satisfied: astunparse>=1.6.0 in c:\\users\\akhil\\anaconda3\\lib\\site-packages (from tensorflow-intel==2.12.0->tensorflow) (1.6.3)\n",
      "Requirement already satisfied: keras<2.13,>=2.12.0 in c:\\users\\akhil\\anaconda3\\lib\\site-packages (from tensorflow-intel==2.12.0->tensorflow) (2.12.0)\n",
      "Requirement already satisfied: wheel<1.0,>=0.23.0 in c:\\users\\akhil\\anaconda3\\lib\\site-packages (from astunparse>=1.6.0->tensorflow-intel==2.12.0->tensorflow) (0.38.4)\n",
      "Requirement already satisfied: scipy>=1.7 in c:\\users\\akhil\\anaconda3\\lib\\site-packages (from jax>=0.3.15->tensorflow-intel==2.12.0->tensorflow) (1.10.0)\n",
      "Requirement already satisfied: ml-dtypes>=0.1.0 in c:\\users\\akhil\\anaconda3\\lib\\site-packages (from jax>=0.3.15->tensorflow-intel==2.12.0->tensorflow) (0.2.0)\n",
      "Requirement already satisfied: google-auth-oauthlib<1.1,>=0.5 in c:\\users\\akhil\\anaconda3\\lib\\site-packages (from tensorboard<2.13,>=2.12->tensorflow-intel==2.12.0->tensorflow) (1.0.0)\n",
      "Requirement already satisfied: tensorboard-data-server<0.8.0,>=0.7.0 in c:\\users\\akhil\\anaconda3\\lib\\site-packages (from tensorboard<2.13,>=2.12->tensorflow-intel==2.12.0->tensorflow) (0.7.1)\n",
      "Requirement already satisfied: werkzeug>=1.0.1 in c:\\users\\akhil\\anaconda3\\lib\\site-packages (from tensorboard<2.13,>=2.12->tensorflow-intel==2.12.0->tensorflow) (2.2.2)\n",
      "Requirement already satisfied: requests<3,>=2.21.0 in c:\\users\\akhil\\anaconda3\\lib\\site-packages (from tensorboard<2.13,>=2.12->tensorflow-intel==2.12.0->tensorflow) (2.28.1)\n",
      "Requirement already satisfied: google-auth<3,>=1.6.3 in c:\\users\\akhil\\anaconda3\\lib\\site-packages (from tensorboard<2.13,>=2.12->tensorflow-intel==2.12.0->tensorflow) (2.21.0)\n",
      "Requirement already satisfied: markdown>=2.6.8 in c:\\users\\akhil\\anaconda3\\lib\\site-packages (from tensorboard<2.13,>=2.12->tensorflow-intel==2.12.0->tensorflow) (3.4.1)\n",
      "Requirement already satisfied: pyasn1-modules>=0.2.1 in c:\\users\\akhil\\anaconda3\\lib\\site-packages (from google-auth<3,>=1.6.3->tensorboard<2.13,>=2.12->tensorflow-intel==2.12.0->tensorflow) (0.2.8)\n",
      "Requirement already satisfied: urllib3<2.0 in c:\\users\\akhil\\anaconda3\\lib\\site-packages (from google-auth<3,>=1.6.3->tensorboard<2.13,>=2.12->tensorflow-intel==2.12.0->tensorflow) (1.26.14)\n",
      "Requirement already satisfied: rsa<5,>=3.1.4 in c:\\users\\akhil\\anaconda3\\lib\\site-packages (from google-auth<3,>=1.6.3->tensorboard<2.13,>=2.12->tensorflow-intel==2.12.0->tensorflow) (4.9)\n",
      "Requirement already satisfied: cachetools<6.0,>=2.0.0 in c:\\users\\akhil\\anaconda3\\lib\\site-packages (from google-auth<3,>=1.6.3->tensorboard<2.13,>=2.12->tensorflow-intel==2.12.0->tensorflow) (5.3.1)\n",
      "Requirement already satisfied: requests-oauthlib>=0.7.0 in c:\\users\\akhil\\anaconda3\\lib\\site-packages (from google-auth-oauthlib<1.1,>=0.5->tensorboard<2.13,>=2.12->tensorflow-intel==2.12.0->tensorflow) (1.3.1)\n",
      "Requirement already satisfied: idna<4,>=2.5 in c:\\users\\akhil\\anaconda3\\lib\\site-packages (from requests<3,>=2.21.0->tensorboard<2.13,>=2.12->tensorflow-intel==2.12.0->tensorflow) (3.4)\n",
      "Requirement already satisfied: charset-normalizer<3,>=2 in c:\\users\\akhil\\anaconda3\\lib\\site-packages (from requests<3,>=2.21.0->tensorboard<2.13,>=2.12->tensorflow-intel==2.12.0->tensorflow) (2.0.4)\n",
      "Requirement already satisfied: certifi>=2017.4.17 in c:\\users\\akhil\\anaconda3\\lib\\site-packages (from requests<3,>=2.21.0->tensorboard<2.13,>=2.12->tensorflow-intel==2.12.0->tensorflow) (2022.12.7)\n",
      "Requirement already satisfied: MarkupSafe>=2.1.1 in c:\\users\\akhil\\anaconda3\\lib\\site-packages (from werkzeug>=1.0.1->tensorboard<2.13,>=2.12->tensorflow-intel==2.12.0->tensorflow) (2.1.1)\n",
      "Requirement already satisfied: pyasn1<0.5.0,>=0.4.6 in c:\\users\\akhil\\anaconda3\\lib\\site-packages (from pyasn1-modules>=0.2.1->google-auth<3,>=1.6.3->tensorboard<2.13,>=2.12->tensorflow-intel==2.12.0->tensorflow) (0.4.8)\n",
      "Requirement already satisfied: oauthlib>=3.0.0 in c:\\users\\akhil\\anaconda3\\lib\\site-packages (from requests-oauthlib>=0.7.0->google-auth-oauthlib<1.1,>=0.5->tensorboard<2.13,>=2.12->tensorflow-intel==2.12.0->tensorflow) (3.2.2)\n",
      "Note: you may need to restart the kernel to use updated packages.\n"
     ]
    }
   ],
   "source": [
    "pip install tensorflow"
   ]
  },
  {
   "cell_type": "code",
   "execution_count": 41,
   "metadata": {},
   "outputs": [],
   "source": [
    "### Create the Stacked LSTM model\n",
    "from tensorflow.keras.models import Sequential\n",
    "from tensorflow.keras.layers import Dense\n",
    "from tensorflow.keras.optimizers import Adam\n",
    "from tensorflow.keras.layers import LSTM"
   ]
  },
  {
   "cell_type": "code",
   "execution_count": 80,
   "metadata": {},
   "outputs": [],
   "source": [
    "model=Sequential()\n",
    "model.add(LSTM(64,return_sequences=True,input_shape=(100,1)))\n",
    "model.add(LSTM(64))\n",
    "model.add(Dense(32,activation='relu'))\n",
    "model.add(Dense(32,activation='relu'))\n",
    "model.add(Dense(1))\n",
    "model.compile(loss='mse',optimizer=Adam(learning_rate=0.001))\n"
   ]
  },
  {
   "cell_type": "code",
   "execution_count": 81,
   "metadata": {
    "scrolled": true
   },
   "outputs": [
    {
     "name": "stdout",
     "output_type": "stream",
     "text": [
      "Model: \"sequential_5\"\n",
      "_________________________________________________________________\n",
      " Layer (type)                Output Shape              Param #   \n",
      "=================================================================\n",
      " lstm_11 (LSTM)              (None, 100, 64)           16896     \n",
      "                                                                 \n",
      " lstm_12 (LSTM)              (None, 64)                33024     \n",
      "                                                                 \n",
      " dense_13 (Dense)            (None, 32)                2080      \n",
      "                                                                 \n",
      " dense_14 (Dense)            (None, 32)                1056      \n",
      "                                                                 \n",
      " dense_15 (Dense)            (None, 1)                 33        \n",
      "                                                                 \n",
      "=================================================================\n",
      "Total params: 53,089\n",
      "Trainable params: 53,089\n",
      "Non-trainable params: 0\n",
      "_________________________________________________________________\n"
     ]
    }
   ],
   "source": [
    "model.summary()"
   ]
  },
  {
   "cell_type": "code",
   "execution_count": 82,
   "metadata": {},
   "outputs": [
    {
     "name": "stdout",
     "output_type": "stream",
     "text": [
      "Model: \"sequential_5\"\n",
      "_________________________________________________________________\n",
      " Layer (type)                Output Shape              Param #   \n",
      "=================================================================\n",
      " lstm_11 (LSTM)              (None, 100, 64)           16896     \n",
      "                                                                 \n",
      " lstm_12 (LSTM)              (None, 64)                33024     \n",
      "                                                                 \n",
      " dense_13 (Dense)            (None, 32)                2080      \n",
      "                                                                 \n",
      " dense_14 (Dense)            (None, 32)                1056      \n",
      "                                                                 \n",
      " dense_15 (Dense)            (None, 1)                 33        \n",
      "                                                                 \n",
      "=================================================================\n",
      "Total params: 53,089\n",
      "Trainable params: 53,089\n",
      "Non-trainable params: 0\n",
      "_________________________________________________________________\n"
     ]
    }
   ],
   "source": [
    "model.summary()"
   ]
  },
  {
   "cell_type": "code",
   "execution_count": null,
   "metadata": {},
   "outputs": [],
   "source": []
  },
  {
   "cell_type": "code",
   "execution_count": null,
   "metadata": {},
   "outputs": [
    {
     "name": "stdout",
     "output_type": "stream",
     "text": [
      "Epoch 1/100\n",
      "79/79 [==============================] - 9s 79ms/step - loss: 0.0325 - val_loss: 2.2772e-04\n",
      "Epoch 2/100\n",
      "79/79 [==============================] - 7s 89ms/step - loss: 4.8254e-04 - val_loss: 4.1292e-04\n",
      "Epoch 3/100\n",
      "79/79 [==============================] - 8s 107ms/step - loss: 4.2667e-04 - val_loss: 3.7835e-04\n",
      "Epoch 4/100\n",
      "79/79 [==============================] - 6s 76ms/step - loss: 3.8726e-04 - val_loss: 2.9689e-04\n",
      "Epoch 5/100\n",
      "79/79 [==============================] - 6s 75ms/step - loss: 4.0091e-04 - val_loss: 1.5393e-04\n",
      "Epoch 6/100\n",
      "79/79 [==============================] - 6s 73ms/step - loss: 3.5259e-04 - val_loss: 3.6182e-04\n",
      "Epoch 7/100\n",
      "79/79 [==============================] - 5s 66ms/step - loss: 3.4497e-04 - val_loss: 6.2322e-04\n",
      "Epoch 8/100\n",
      "79/79 [==============================] - 6s 71ms/step - loss: 3.4678e-04 - val_loss: 2.2264e-04\n",
      "Epoch 9/100\n",
      "79/79 [==============================] - 5s 66ms/step - loss: 3.1350e-04 - val_loss: 1.2201e-04\n",
      "Epoch 10/100\n",
      "79/79 [==============================] - 5s 64ms/step - loss: 2.7692e-04 - val_loss: 1.0348e-04\n",
      "Epoch 11/100\n",
      "79/79 [==============================] - 5s 63ms/step - loss: 3.0827e-04 - val_loss: 2.0814e-04\n",
      "Epoch 12/100\n",
      "79/79 [==============================] - 5s 68ms/step - loss: 3.1236e-04 - val_loss: 1.5579e-04\n",
      "Epoch 13/100\n",
      "79/79 [==============================] - 5s 67ms/step - loss: 2.8573e-04 - val_loss: 1.4542e-04\n",
      "Epoch 14/100\n",
      "79/79 [==============================] - 5s 67ms/step - loss: 2.8871e-04 - val_loss: 8.7890e-05\n",
      "Epoch 15/100\n",
      "79/79 [==============================] - 5s 63ms/step - loss: 2.4143e-04 - val_loss: 2.6827e-04\n",
      "Epoch 16/100\n",
      "79/79 [==============================] - 5s 66ms/step - loss: 2.6794e-04 - val_loss: 7.7954e-05\n",
      "Epoch 17/100\n",
      "79/79 [==============================] - 5s 66ms/step - loss: 2.3372e-04 - val_loss: 1.2432e-04\n",
      "Epoch 18/100\n",
      "79/79 [==============================] - 5s 66ms/step - loss: 2.2245e-04 - val_loss: 8.1099e-05\n",
      "Epoch 19/100\n",
      "79/79 [==============================] - 5s 63ms/step - loss: 2.1858e-04 - val_loss: 2.1174e-04\n",
      "Epoch 20/100\n",
      "79/79 [==============================] - 5s 69ms/step - loss: 2.1470e-04 - val_loss: 6.8540e-05\n",
      "Epoch 21/100\n",
      "79/79 [==============================] - 5s 68ms/step - loss: 1.9040e-04 - val_loss: 8.6371e-05\n",
      "Epoch 22/100\n",
      "79/79 [==============================] - 6s 70ms/step - loss: 1.8703e-04 - val_loss: 3.1080e-04\n",
      "Epoch 23/100\n",
      "79/79 [==============================] - 5s 69ms/step - loss: 2.4350e-04 - val_loss: 6.8489e-05\n",
      "Epoch 24/100\n",
      "79/79 [==============================] - 5s 68ms/step - loss: 1.8265e-04 - val_loss: 1.7460e-04\n",
      "Epoch 25/100\n",
      "79/79 [==============================] - 5s 66ms/step - loss: 1.8684e-04 - val_loss: 5.9523e-05\n",
      "Epoch 26/100\n",
      "79/79 [==============================] - 5s 67ms/step - loss: 1.7479e-04 - val_loss: 7.2824e-05\n",
      "Epoch 27/100\n",
      "79/79 [==============================] - 5s 67ms/step - loss: 1.6720e-04 - val_loss: 3.0062e-04\n",
      "Epoch 28/100\n",
      "79/79 [==============================] - 5s 68ms/step - loss: 1.7982e-04 - val_loss: 5.7785e-05\n",
      "Epoch 29/100\n",
      "79/79 [==============================] - 5s 68ms/step - loss: 1.5199e-04 - val_loss: 1.0261e-04\n",
      "Epoch 30/100\n",
      "79/79 [==============================] - 5s 68ms/step - loss: 1.4856e-04 - val_loss: 6.0828e-05\n",
      "Epoch 31/100\n",
      "79/79 [==============================] - 6s 70ms/step - loss: 1.5224e-04 - val_loss: 8.6848e-05\n",
      "Epoch 32/100\n",
      "79/79 [==============================] - 5s 69ms/step - loss: 1.3865e-04 - val_loss: 5.5263e-05\n",
      "Epoch 33/100\n",
      "79/79 [==============================] - 5s 68ms/step - loss: 1.2664e-04 - val_loss: 7.2759e-05\n",
      "Epoch 34/100\n",
      "79/79 [==============================] - 5s 66ms/step - loss: 1.3089e-04 - val_loss: 4.0638e-05\n",
      "Epoch 35/100\n",
      "79/79 [==============================] - 5s 68ms/step - loss: 1.3637e-04 - val_loss: 6.9317e-05\n",
      "Epoch 36/100\n",
      "79/79 [==============================] - 5s 67ms/step - loss: 1.4747e-04 - val_loss: 7.2207e-04\n",
      "Epoch 37/100\n",
      "79/79 [==============================] - 5s 66ms/step - loss: 1.3619e-04 - val_loss: 4.0696e-05\n",
      "Epoch 38/100\n",
      "79/79 [==============================] - 5s 69ms/step - loss: 1.3188e-04 - val_loss: 9.0674e-05\n",
      "Epoch 39/100\n",
      "79/79 [==============================] - 5s 68ms/step - loss: 1.1738e-04 - val_loss: 6.0450e-05\n",
      "Epoch 40/100\n",
      "79/79 [==============================] - 5s 68ms/step - loss: 1.2287e-04 - val_loss: 7.4364e-05\n",
      "Epoch 41/100\n",
      "79/79 [==============================] - 5s 68ms/step - loss: 1.2617e-04 - val_loss: 1.8540e-04\n",
      "Epoch 42/100\n",
      "79/79 [==============================] - 5s 68ms/step - loss: 1.3046e-04 - val_loss: 2.0767e-04\n",
      "Epoch 43/100\n",
      "79/79 [==============================] - 5s 67ms/step - loss: 1.4252e-04 - val_loss: 4.5385e-05\n",
      "Epoch 44/100\n",
      "79/79 [==============================] - 5s 68ms/step - loss: 1.2518e-04 - val_loss: 8.8911e-05\n",
      "Epoch 45/100\n",
      "79/79 [==============================] - 5s 70ms/step - loss: 1.3060e-04 - val_loss: 7.4649e-05\n",
      "Epoch 46/100\n",
      "79/79 [==============================] - 5s 67ms/step - loss: 1.0751e-04 - val_loss: 4.5235e-05\n",
      "Epoch 47/100\n",
      "79/79 [==============================] - 5s 67ms/step - loss: 1.1536e-04 - val_loss: 3.2322e-05\n",
      "Epoch 48/100\n",
      "79/79 [==============================] - 5s 66ms/step - loss: 1.0698e-04 - val_loss: 1.5053e-04\n",
      "Epoch 49/100\n",
      "79/79 [==============================] - 5s 67ms/step - loss: 1.1173e-04 - val_loss: 3.1684e-05\n",
      "Epoch 50/100\n",
      "79/79 [==============================] - 5s 68ms/step - loss: 1.0368e-04 - val_loss: 6.3544e-05\n",
      "Epoch 51/100\n",
      "79/79 [==============================] - 5s 68ms/step - loss: 1.0283e-04 - val_loss: 6.6708e-05\n",
      "Epoch 52/100\n",
      "79/79 [==============================] - 5s 67ms/step - loss: 9.6464e-05 - val_loss: 7.1314e-05\n",
      "Epoch 53/100\n",
      "79/79 [==============================] - 5s 68ms/step - loss: 1.0410e-04 - val_loss: 3.2550e-05\n",
      "Epoch 54/100\n",
      "79/79 [==============================] - 5s 70ms/step - loss: 1.0474e-04 - val_loss: 3.6327e-05\n",
      "Epoch 55/100\n",
      "79/79 [==============================] - 5s 67ms/step - loss: 9.0056e-05 - val_loss: 3.8450e-05\n",
      "Epoch 56/100\n",
      "79/79 [==============================] - 5s 68ms/step - loss: 1.1119e-04 - val_loss: 6.9454e-05\n",
      "Epoch 57/100\n",
      "79/79 [==============================] - 5s 68ms/step - loss: 1.0505e-04 - val_loss: 5.6926e-05\n",
      "Epoch 58/100\n",
      "79/79 [==============================] - 7s 88ms/step - loss: 9.9694e-05 - val_loss: 9.1457e-05\n",
      "Epoch 59/100\n",
      "79/79 [==============================] - 6s 71ms/step - loss: 8.8757e-05 - val_loss: 2.6420e-05\n",
      "Epoch 60/100\n",
      "79/79 [==============================] - 5s 68ms/step - loss: 9.1114e-05 - val_loss: 1.5220e-04\n",
      "Epoch 61/100\n",
      "79/79 [==============================] - 5s 66ms/step - loss: 1.0290e-04 - val_loss: 9.1783e-05\n",
      "Epoch 62/100\n",
      "79/79 [==============================] - 5s 68ms/step - loss: 8.9572e-05 - val_loss: 6.4243e-05\n",
      "Epoch 63/100\n",
      "79/79 [==============================] - 5s 67ms/step - loss: 8.4326e-05 - val_loss: 2.8727e-05\n",
      "Epoch 64/100\n",
      "79/79 [==============================] - 5s 69ms/step - loss: 1.0551e-04 - val_loss: 9.0433e-05\n",
      "Epoch 65/100\n",
      "79/79 [==============================] - 5s 68ms/step - loss: 9.7093e-05 - val_loss: 1.1002e-04\n",
      "Epoch 66/100\n",
      "79/79 [==============================] - 5s 67ms/step - loss: 8.5232e-05 - val_loss: 2.6532e-05\n",
      "Epoch 67/100\n",
      "79/79 [==============================] - 5s 68ms/step - loss: 8.6116e-05 - val_loss: 2.5541e-05\n",
      "Epoch 68/100\n",
      "79/79 [==============================] - 6s 71ms/step - loss: 8.6069e-05 - val_loss: 3.5728e-05\n",
      "Epoch 69/100\n",
      "79/79 [==============================] - 6s 70ms/step - loss: 1.0273e-04 - val_loss: 3.9175e-05\n",
      "Epoch 70/100\n",
      "79/79 [==============================] - 5s 69ms/step - loss: 1.2458e-04 - val_loss: 1.3182e-04\n",
      "Epoch 71/100\n",
      "79/79 [==============================] - 6s 72ms/step - loss: 8.3517e-05 - val_loss: 2.6867e-05\n",
      "Epoch 72/100\n",
      "79/79 [==============================] - 5s 68ms/step - loss: 9.9966e-05 - val_loss: 2.6263e-05\n",
      "Epoch 73/100\n",
      "79/79 [==============================] - 5s 68ms/step - loss: 8.5092e-05 - val_loss: 1.1423e-04\n",
      "Epoch 74/100\n",
      "79/79 [==============================] - 5s 68ms/step - loss: 8.3442e-05 - val_loss: 1.7983e-04\n",
      "Epoch 75/100\n",
      "79/79 [==============================] - 5s 66ms/step - loss: 8.8303e-05 - val_loss: 3.9528e-05\n",
      "Epoch 76/100\n"
     ]
    },
    {
     "name": "stdout",
     "output_type": "stream",
     "text": [
      "79/79 [==============================] - 5s 69ms/step - loss: 9.7751e-05 - val_loss: 3.7585e-05\n",
      "Epoch 77/100\n",
      "79/79 [==============================] - 5s 68ms/step - loss: 8.4057e-05 - val_loss: 3.6415e-05\n",
      "Epoch 78/100\n",
      "79/79 [==============================] - 5s 66ms/step - loss: 1.1528e-04 - val_loss: 8.9697e-05\n",
      "Epoch 79/100\n",
      "79/79 [==============================] - 5s 67ms/step - loss: 9.7459e-05 - val_loss: 3.1269e-05\n",
      "Epoch 80/100\n",
      "79/79 [==============================] - 5s 67ms/step - loss: 9.3451e-05 - val_loss: 3.0414e-05\n",
      "Epoch 81/100\n",
      "79/79 [==============================] - 5s 67ms/step - loss: 8.6837e-05 - val_loss: 6.3236e-05\n",
      "Epoch 82/100\n",
      "79/79 [==============================] - 5s 68ms/step - loss: 9.4203e-05 - val_loss: 4.4332e-05\n",
      "Epoch 83/100\n",
      "79/79 [==============================] - 5s 67ms/step - loss: 9.1655e-05 - val_loss: 1.6811e-04\n",
      "Epoch 84/100\n",
      "79/79 [==============================] - 5s 69ms/step - loss: 8.7066e-05 - val_loss: 1.0031e-04\n",
      "Epoch 85/100\n",
      "79/79 [==============================] - 6s 71ms/step - loss: 9.0350e-05 - val_loss: 6.6180e-05\n",
      "Epoch 86/100\n",
      "79/79 [==============================] - 5s 67ms/step - loss: 8.6046e-05 - val_loss: 5.4703e-04\n",
      "Epoch 87/100\n",
      "79/79 [==============================] - 5s 66ms/step - loss: 1.0278e-04 - val_loss: 1.0387e-04\n",
      "Epoch 88/100\n",
      "79/79 [==============================] - 5s 69ms/step - loss: 7.9940e-05 - val_loss: 5.4248e-05\n",
      "Epoch 89/100\n",
      "79/79 [==============================] - 5s 66ms/step - loss: 9.6885e-05 - val_loss: 3.3864e-05\n",
      "Epoch 90/100\n",
      "79/79 [==============================] - 5s 69ms/step - loss: 7.9705e-05 - val_loss: 4.4198e-05\n",
      "Epoch 91/100\n",
      "79/79 [==============================] - 6s 79ms/step - loss: 8.4921e-05 - val_loss: 1.0945e-04\n",
      "Epoch 92/100\n",
      "79/79 [==============================] - 6s 71ms/step - loss: 8.8229e-05 - val_loss: 2.3589e-05\n",
      "Epoch 93/100\n",
      "23/79 [=======>......................] - ETA: 3s - loss: 6.8600e-05"
     ]
    }
   ],
   "source": [
    "model.fit(X_train, y_train, validation_data=(X_test, ytest), epochs=100)"
   ]
  },
  {
   "cell_type": "code",
   "execution_count": 50,
   "metadata": {},
   "outputs": [],
   "source": [
    "import tensorflow as tf"
   ]
  },
  {
   "cell_type": "code",
   "execution_count": 51,
   "metadata": {},
   "outputs": [
    {
     "data": {
      "text/plain": [
       "'2.12.0'"
      ]
     },
     "execution_count": 51,
     "metadata": {},
     "output_type": "execute_result"
    }
   ],
   "source": [
    "tf.__version__"
   ]
  },
  {
   "cell_type": "code",
   "execution_count": 52,
   "metadata": {},
   "outputs": [
    {
     "name": "stdout",
     "output_type": "stream",
     "text": [
      "79/79 [==============================] - 6s 48ms/step\n",
      "41/41 [==============================] - 2s 44ms/step\n"
     ]
    }
   ],
   "source": [
    "### Lets Do the prediction and check performance metrics\n",
    "train_predict=model.predict(X_train)\n",
    "test_predict=model.predict(X_test)"
   ]
  },
  {
   "cell_type": "code",
   "execution_count": 53,
   "metadata": {},
   "outputs": [
    {
     "data": {
      "text/plain": [
       "(2512, 1)"
      ]
     },
     "execution_count": 53,
     "metadata": {},
     "output_type": "execute_result"
    }
   ],
   "source": [
    "train_predict.shape"
   ]
  },
  {
   "cell_type": "code",
   "execution_count": 54,
   "metadata": {},
   "outputs": [],
   "source": [
    "##Transformback to original form\n",
    "train_predict=scaler.inverse_transform(train_predict)\n",
    "test_predict=scaler.inverse_transform(test_predict)"
   ]
  },
  {
   "cell_type": "code",
   "execution_count": 55,
   "metadata": {},
   "outputs": [
    {
     "data": {
      "text/plain": [
       "35922.4353241664"
      ]
     },
     "execution_count": 55,
     "metadata": {},
     "output_type": "execute_result"
    }
   ],
   "source": [
    "### Calculate RMSE performance metrics\n",
    "import math\n",
    "from sklearn.metrics import mean_squared_error\n",
    "math.sqrt(mean_squared_error(y_train,train_predict))"
   ]
  },
  {
   "cell_type": "code",
   "execution_count": 56,
   "metadata": {},
   "outputs": [
    {
     "data": {
      "text/plain": [
       "41863.82881829921"
      ]
     },
     "execution_count": 56,
     "metadata": {},
     "output_type": "execute_result"
    }
   ],
   "source": [
    "### Test Data RMSE\n",
    "math.sqrt(mean_squared_error(ytest,test_predict))"
   ]
  },
  {
   "cell_type": "code",
   "execution_count": 71,
   "metadata": {
    "scrolled": true
   },
   "outputs": [
    {
     "data": {
      "image/png": "[encoded data removed]",
      "text/plain": [
       "<Figure size 640x480 with 1 Axes>"
      ]
     },
     "metadata": {},
     "output_type": "display_data"
    }
   ],
   "source": [
    "### Plotting\n",
    "# shift train predictions for plotting\n",
    "look_back=100\n",
    "trainPredictPlot = numpy.empty_like(df1)\n",
    "trainPredictPlot[:, :] = np.nan\n",
    "trainPredictPlot[look_back:len(train_predict)+look_back, :] = train_predict\n",
    "# shift test predictions for plotting\n",
    "testPredictPlot = numpy.empty_like(df1)\n",
    "testPredictPlot[:, :] = numpy.nan\n",
    "testPredictPlot[len(train_predict)+(look_back*2)+1:len(df1)-1, :] = test_predict\n",
    "# plot baseline and predictions\n",
    "plt.plot(scaler.inverse_transform(df1))\n",
    "plt.plot(trainPredictPlot)\n",
    "plt.plot(testPredictPlot)\n",
    "plt.legend(['data set','train','test'])\n",
    "plt.show()"
   ]
  },
  {
   "cell_type": "code",
   "execution_count": 58,
   "metadata": {},
   "outputs": [
    {
     "data": {
      "text/plain": [
       "1408"
      ]
     },
     "execution_count": 58,
     "metadata": {},
     "output_type": "execute_result"
    }
   ],
   "source": [
    "len(test_data)"
   ]
  },
  {
   "cell_type": "code",
   "execution_count": 59,
   "metadata": {},
   "outputs": [
    {
     "data": {
      "text/plain": [
       "(1, 100)"
      ]
     },
     "execution_count": 59,
     "metadata": {},
     "output_type": "execute_result"
    }
   ],
   "source": [
    "x_input=test_data[1308:].reshape(1,-1)\n",
    "x_input.shape\n"
   ]
  },
  {
   "cell_type": "code",
   "execution_count": null,
   "metadata": {},
   "outputs": [],
   "source": []
  },
  {
   "cell_type": "code",
   "execution_count": null,
   "metadata": {},
   "outputs": [],
   "source": []
  },
  {
   "cell_type": "code",
   "execution_count": 60,
   "metadata": {},
   "outputs": [],
   "source": [
    "temp_input=list(x_input)\n",
    "temp_input=temp_input[0].tolist()"
   ]
  },
  {
   "cell_type": "code",
   "execution_count": 61,
   "metadata": {},
   "outputs": [
    {
     "data": {
      "text/plain": [
       "[0.8936098615806363,\n",
       " 0.8999039337837123,\n",
       " 0.8999039337837123,\n",
       " 0.8999039337837123,\n",
       " 0.8983405748266331,\n",
       " 0.8899959637578325,\n",
       " 0.9008618564157072,\n",
       " 0.8920962707679267,\n",
       " 0.8868966411525023,\n",
       " 0.888976401680976,\n",
       " 0.8833987168037343,\n",
       " 0.8910319630199859,\n",
       " 0.8944933602903169,\n",
       " 0.9076230186342888,\n",
       " 0.9167296758769696,\n",
       " 0.9149973791821222,\n",
       " 0.9205800865326488,\n",
       " 0.920575064059364,\n",
       " 0.920575064059364,\n",
       " 0.920575064059364,\n",
       " 0.9252363758563313,\n",
       " 0.9272951333147046,\n",
       " 0.9313637932640413,\n",
       " 0.929551136996634,\n",
       " 0.9276608606875492,\n",
       " 0.9321956974754309,\n",
       " 0.9324335800737482,\n",
       " 0.9335773342172886,\n",
       " 0.931677469550114,\n",
       " 0.9335887489292998,\n",
       " 0.934606028063754,\n",
       " 0.9358739742739788,\n",
       " 0.9421461302299927,\n",
       " 0.9405503534908015,\n",
       " 0.9405503534908015,\n",
       " 0.9405503534908015,\n",
       " 0.9560437703980904,\n",
       " 0.9558725497179195,\n",
       " 0.9597001309495758,\n",
       " 0.9550187292594678,\n",
       " 0.9486634742000115,\n",
       " 0.9500090404519126,\n",
       " 0.9548032194966929,\n",
       " 0.9550054881935348,\n",
       " 0.9598448694978803,\n",
       " 0.9613657657262769,\n",
       " 0.9612749046186666,\n",
       " 0.9650563704137971,\n",
       " 0.9628446558144717,\n",
       " 0.964720321292182,\n",
       " 0.964720321292182,\n",
       " 0.964720321292182,\n",
       " 0.9814821409981755,\n",
       " 0.9771408977260068,\n",
       " 0.9764108127457587,\n",
       " 0.9756067604316767,\n",
       " 0.9757437369758137,\n",
       " 0.9770381653179041,\n",
       " 0.9800594112930767,\n",
       " 0.9815803075214733,\n",
       " 0.9796083018743871,\n",
       " 0.9817748142141469,\n",
       " 0.9814223279072354,\n",
       " 0.9819871278575589,\n",
       " 0.9836134960249407,\n",
       " 0.9820802719075719,\n",
       " 0.9820802719075719,\n",
       " 0.9820802719075719,\n",
       " 0.9950752366498095,\n",
       " 0.9966783188046877,\n",
       " 0.9951176993784916,\n",
       " 0.9859525988103126,\n",
       " 0.9850015250055248,\n",
       " 0.9881268731542407,\n",
       " 0.9886254677748982,\n",
       " 0.9875849026279404,\n",
       " 0.9939456367491633,\n",
       " 0.9917882561790119,\n",
       " 0.9914983224939227,\n",
       " 0.9919343644927574,\n",
       " 0.9933402004240794,\n",
       " 0.9939209809712186,\n",
       " 0.9939209809712186,\n",
       " 0.9939209809712186,\n",
       " 0.9898651054993342,\n",
       " 0.991219803520845,\n",
       " 0.9875638995578395,\n",
       " 0.9952752224042487,\n",
       " 0.9940707419928079,\n",
       " 0.990885124164671,\n",
       " 0.9904901751290773,\n",
       " 0.9865986715101571,\n",
       " 0.9890797733129513,\n",
       " 0.9945542691936096,\n",
       " 0.9972796458334474,\n",
       " 0.996223100089674,\n",
       " 0.9990238138287864,\n",
       " 1.0,\n",
       " 1.0,\n",
       " 1.0]"
      ]
     },
     "execution_count": 61,
     "metadata": {},
     "output_type": "execute_result"
    }
   ],
   "source": [
    "temp_input"
   ]
  },
  {
   "cell_type": "code",
   "execution_count": 62,
   "metadata": {},
   "outputs": [
    {
     "name": "stdout",
     "output_type": "stream",
     "text": [
      "[0.9893788]\n",
      "101\n",
      "1 day input [0.89990393 0.89990393 0.89990393 0.89834057 0.88999596 0.90086186\n",
      " 0.89209627 0.88689664 0.8889764  0.88339872 0.89103196 0.89449336\n",
      " 0.90762302 0.91672968 0.91499738 0.92058009 0.92057506 0.92057506\n",
      " 0.92057506 0.92523638 0.92729513 0.93136379 0.92955114 0.92766086\n",
      " 0.9321957  0.93243358 0.93357733 0.93167747 0.93358875 0.93460603\n",
      " 0.93587397 0.94214613 0.94055035 0.94055035 0.94055035 0.95604377\n",
      " 0.95587255 0.95970013 0.95501873 0.94866347 0.95000904 0.95480322\n",
      " 0.95500549 0.95984487 0.96136577 0.9612749  0.96505637 0.96284466\n",
      " 0.96472032 0.96472032 0.96472032 0.98148214 0.9771409  0.97641081\n",
      " 0.97560676 0.97574374 0.97703817 0.98005941 0.98158031 0.9796083\n",
      " 0.98177481 0.98142233 0.98198713 0.9836135  0.98208027 0.98208027\n",
      " 0.98208027 0.99507524 0.99667832 0.9951177  0.9859526  0.98500153\n",
      " 0.98812687 0.98862547 0.9875849  0.99394564 0.99178826 0.99149832\n",
      " 0.99193436 0.9933402  0.99392098 0.99392098 0.99392098 0.98986511\n",
      " 0.9912198  0.9875639  0.99527522 0.99407074 0.99088512 0.99049018\n",
      " 0.98659867 0.98907977 0.99455427 0.99727965 0.9962231  0.99902381\n",
      " 1.         1.         1.         0.98937881]\n",
      "1 day output [[0.9830239]]\n",
      "2 day input [0.89990393 0.89990393 0.89834057 0.88999596 0.90086186 0.89209627\n",
      " 0.88689664 0.8889764  0.88339872 0.89103196 0.89449336 0.90762302\n",
      " 0.91672968 0.91499738 0.92058009 0.92057506 0.92057506 0.92057506\n",
      " 0.92523638 0.92729513 0.93136379 0.92955114 0.92766086 0.9321957\n",
      " 0.93243358 0.93357733 0.93167747 0.93358875 0.93460603 0.93587397\n",
      " 0.94214613 0.94055035 0.94055035 0.94055035 0.95604377 0.95587255\n",
      " 0.95970013 0.95501873 0.94866347 0.95000904 0.95480322 0.95500549\n",
      " 0.95984487 0.96136577 0.9612749  0.96505637 0.96284466 0.96472032\n",
      " 0.96472032 0.96472032 0.98148214 0.9771409  0.97641081 0.97560676\n",
      " 0.97574374 0.97703817 0.98005941 0.98158031 0.9796083  0.98177481\n",
      " 0.98142233 0.98198713 0.9836135  0.98208027 0.98208027 0.98208027\n",
      " 0.99507524 0.99667832 0.9951177  0.9859526  0.98500153 0.98812687\n",
      " 0.98862547 0.9875849  0.99394564 0.99178826 0.99149832 0.99193436\n",
      " 0.9933402  0.99392098 0.99392098 0.99392098 0.98986511 0.9912198\n",
      " 0.9875639  0.99527522 0.99407074 0.99088512 0.99049018 0.98659867\n",
      " 0.98907977 0.99455427 0.99727965 0.9962231  0.99902381 1.\n",
      " 1.         1.         0.98937881 0.98302388]\n",
      "2 day output [[0.9748387]]\n",
      "3 day input [0.89990393 0.89834057 0.88999596 0.90086186 0.89209627 0.88689664\n",
      " 0.8889764  0.88339872 0.89103196 0.89449336 0.90762302 0.91672968\n",
      " 0.91499738 0.92058009 0.92057506 0.92057506 0.92057506 0.92523638\n",
      " 0.92729513 0.93136379 0.92955114 0.92766086 0.9321957  0.93243358\n",
      " 0.93357733 0.93167747 0.93358875 0.93460603 0.93587397 0.94214613\n",
      " 0.94055035 0.94055035 0.94055035 0.95604377 0.95587255 0.95970013\n",
      " 0.95501873 0.94866347 0.95000904 0.95480322 0.95500549 0.95984487\n",
      " 0.96136577 0.9612749  0.96505637 0.96284466 0.96472032 0.96472032\n",
      " 0.96472032 0.98148214 0.9771409  0.97641081 0.97560676 0.97574374\n",
      " 0.97703817 0.98005941 0.98158031 0.9796083  0.98177481 0.98142233\n",
      " 0.98198713 0.9836135  0.98208027 0.98208027 0.98208027 0.99507524\n",
      " 0.99667832 0.9951177  0.9859526  0.98500153 0.98812687 0.98862547\n",
      " 0.9875849  0.99394564 0.99178826 0.99149832 0.99193436 0.9933402\n",
      " 0.99392098 0.99392098 0.99392098 0.98986511 0.9912198  0.9875639\n",
      " 0.99527522 0.99407074 0.99088512 0.99049018 0.98659867 0.98907977\n",
      " 0.99455427 0.99727965 0.9962231  0.99902381 1.         1.\n",
      " 1.         0.98937881 0.98302388 0.97483867]\n",
      "3 day output [[0.96652174]]\n",
      "4 day input [0.89834057 0.88999596 0.90086186 0.89209627 0.88689664 0.8889764\n",
      " 0.88339872 0.89103196 0.89449336 0.90762302 0.91672968 0.91499738\n",
      " 0.92058009 0.92057506 0.92057506 0.92057506 0.92523638 0.92729513\n",
      " 0.93136379 0.92955114 0.92766086 0.9321957  0.93243358 0.93357733\n",
      " 0.93167747 0.93358875 0.93460603 0.93587397 0.94214613 0.94055035\n",
      " 0.94055035 0.94055035 0.95604377 0.95587255 0.95970013 0.95501873\n",
      " 0.94866347 0.95000904 0.95480322 0.95500549 0.95984487 0.96136577\n",
      " 0.9612749  0.96505637 0.96284466 0.96472032 0.96472032 0.96472032\n",
      " 0.98148214 0.9771409  0.97641081 0.97560676 0.97574374 0.97703817\n",
      " 0.98005941 0.98158031 0.9796083  0.98177481 0.98142233 0.98198713\n",
      " 0.9836135  0.98208027 0.98208027 0.98208027 0.99507524 0.99667832\n",
      " 0.9951177  0.9859526  0.98500153 0.98812687 0.98862547 0.9875849\n",
      " 0.99394564 0.99178826 0.99149832 0.99193436 0.9933402  0.99392098\n",
      " 0.99392098 0.99392098 0.98986511 0.9912198  0.9875639  0.99527522\n",
      " 0.99407074 0.99088512 0.99049018 0.98659867 0.98907977 0.99455427\n",
      " 0.99727965 0.9962231  0.99902381 1.         1.         1.\n",
      " 0.98937881 0.98302388 0.97483867 0.96652174]\n",
      "4 day output [[0.95878106]]\n",
      "5 day input [0.88999596 0.90086186 0.89209627 0.88689664 0.8889764  0.88339872\n",
      " 0.89103196 0.89449336 0.90762302 0.91672968 0.91499738 0.92058009\n",
      " 0.92057506 0.92057506 0.92057506 0.92523638 0.92729513 0.93136379\n",
      " 0.92955114 0.92766086 0.9321957  0.93243358 0.93357733 0.93167747\n",
      " 0.93358875 0.93460603 0.93587397 0.94214613 0.94055035 0.94055035\n",
      " 0.94055035 0.95604377 0.95587255 0.95970013 0.95501873 0.94866347\n",
      " 0.95000904 0.95480322 0.95500549 0.95984487 0.96136577 0.9612749\n",
      " 0.96505637 0.96284466 0.96472032 0.96472032 0.96472032 0.98148214\n",
      " 0.9771409  0.97641081 0.97560676 0.97574374 0.97703817 0.98005941\n",
      " 0.98158031 0.9796083  0.98177481 0.98142233 0.98198713 0.9836135\n",
      " 0.98208027 0.98208027 0.98208027 0.99507524 0.99667832 0.9951177\n",
      " 0.9859526  0.98500153 0.98812687 0.98862547 0.9875849  0.99394564\n",
      " 0.99178826 0.99149832 0.99193436 0.9933402  0.99392098 0.99392098\n",
      " 0.99392098 0.98986511 0.9912198  0.9875639  0.99527522 0.99407074\n",
      " 0.99088512 0.99049018 0.98659867 0.98907977 0.99455427 0.99727965\n",
      " 0.9962231  0.99902381 1.         1.         1.         0.98937881\n",
      " 0.98302388 0.97483867 0.96652174 0.95878106]\n",
      "5 day output [[0.9519883]]\n",
      "6 day input [0.90086186 0.89209627 0.88689664 0.8889764  0.88339872 0.89103196\n",
      " 0.89449336 0.90762302 0.91672968 0.91499738 0.92058009 0.92057506\n",
      " 0.92057506 0.92057506 0.92523638 0.92729513 0.93136379 0.92955114\n",
      " 0.92766086 0.9321957  0.93243358 0.93357733 0.93167747 0.93358875\n",
      " 0.93460603 0.93587397 0.94214613 0.94055035 0.94055035 0.94055035\n",
      " 0.95604377 0.95587255 0.95970013 0.95501873 0.94866347 0.95000904\n",
      " 0.95480322 0.95500549 0.95984487 0.96136577 0.9612749  0.96505637\n",
      " 0.96284466 0.96472032 0.96472032 0.96472032 0.98148214 0.9771409\n",
      " 0.97641081 0.97560676 0.97574374 0.97703817 0.98005941 0.98158031\n",
      " 0.9796083  0.98177481 0.98142233 0.98198713 0.9836135  0.98208027\n",
      " 0.98208027 0.98208027 0.99507524 0.99667832 0.9951177  0.9859526\n",
      " 0.98500153 0.98812687 0.98862547 0.9875849  0.99394564 0.99178826\n",
      " 0.99149832 0.99193436 0.9933402  0.99392098 0.99392098 0.99392098\n",
      " 0.98986511 0.9912198  0.9875639  0.99527522 0.99407074 0.99088512\n",
      " 0.99049018 0.98659867 0.98907977 0.99455427 0.99727965 0.9962231\n",
      " 0.99902381 1.         1.         1.         0.98937881 0.98302388\n",
      " 0.97483867 0.96652174 0.95878106 0.95198828]\n",
      "6 day output [[0.9462906]]\n",
      "7 day input [0.89209627 0.88689664 0.8889764  0.88339872 0.89103196 0.89449336\n",
      " 0.90762302 0.91672968 0.91499738 0.92058009 0.92057506 0.92057506\n",
      " 0.92057506 0.92523638 0.92729513 0.93136379 0.92955114 0.92766086\n",
      " 0.9321957  0.93243358 0.93357733 0.93167747 0.93358875 0.93460603\n",
      " 0.93587397 0.94214613 0.94055035 0.94055035 0.94055035 0.95604377\n",
      " 0.95587255 0.95970013 0.95501873 0.94866347 0.95000904 0.95480322\n",
      " 0.95500549 0.95984487 0.96136577 0.9612749  0.96505637 0.96284466\n",
      " 0.96472032 0.96472032 0.96472032 0.98148214 0.9771409  0.97641081\n",
      " 0.97560676 0.97574374 0.97703817 0.98005941 0.98158031 0.9796083\n",
      " 0.98177481 0.98142233 0.98198713 0.9836135  0.98208027 0.98208027\n",
      " 0.98208027 0.99507524 0.99667832 0.9951177  0.9859526  0.98500153\n",
      " 0.98812687 0.98862547 0.9875849  0.99394564 0.99178826 0.99149832\n",
      " 0.99193436 0.9933402  0.99392098 0.99392098 0.99392098 0.98986511\n",
      " 0.9912198  0.9875639  0.99527522 0.99407074 0.99088512 0.99049018\n",
      " 0.98659867 0.98907977 0.99455427 0.99727965 0.9962231  0.99902381\n",
      " 1.         1.         1.         0.98937881 0.98302388 0.97483867\n",
      " 0.96652174 0.95878106 0.95198828 0.94629061]\n",
      "7 day output [[0.94163954]]\n",
      "8 day input [0.88689664 0.8889764  0.88339872 0.89103196 0.89449336 0.90762302\n",
      " 0.91672968 0.91499738 0.92058009 0.92057506 0.92057506 0.92057506\n",
      " 0.92523638 0.92729513 0.93136379 0.92955114 0.92766086 0.9321957\n",
      " 0.93243358 0.93357733 0.93167747 0.93358875 0.93460603 0.93587397\n",
      " 0.94214613 0.94055035 0.94055035 0.94055035 0.95604377 0.95587255\n",
      " 0.95970013 0.95501873 0.94866347 0.95000904 0.95480322 0.95500549\n",
      " 0.95984487 0.96136577 0.9612749  0.96505637 0.96284466 0.96472032\n",
      " 0.96472032 0.96472032 0.98148214 0.9771409  0.97641081 0.97560676\n",
      " 0.97574374 0.97703817 0.98005941 0.98158031 0.9796083  0.98177481\n",
      " 0.98142233 0.98198713 0.9836135  0.98208027 0.98208027 0.98208027\n",
      " 0.99507524 0.99667832 0.9951177  0.9859526  0.98500153 0.98812687\n",
      " 0.98862547 0.9875849  0.99394564 0.99178826 0.99149832 0.99193436\n",
      " 0.9933402  0.99392098 0.99392098 0.99392098 0.98986511 0.9912198\n",
      " 0.9875639  0.99527522 0.99407074 0.99088512 0.99049018 0.98659867\n",
      " 0.98907977 0.99455427 0.99727965 0.9962231  0.99902381 1.\n",
      " 1.         1.         0.98937881 0.98302388 0.97483867 0.96652174\n",
      " 0.95878106 0.95198828 0.94629061 0.94163954]\n"
     ]
    },
    {
     "name": "stdout",
     "output_type": "stream",
     "text": [
      "8 day output [[0.9378374]]\n",
      "9 day input [0.8889764  0.88339872 0.89103196 0.89449336 0.90762302 0.91672968\n",
      " 0.91499738 0.92058009 0.92057506 0.92057506 0.92057506 0.92523638\n",
      " 0.92729513 0.93136379 0.92955114 0.92766086 0.9321957  0.93243358\n",
      " 0.93357733 0.93167747 0.93358875 0.93460603 0.93587397 0.94214613\n",
      " 0.94055035 0.94055035 0.94055035 0.95604377 0.95587255 0.95970013\n",
      " 0.95501873 0.94866347 0.95000904 0.95480322 0.95500549 0.95984487\n",
      " 0.96136577 0.9612749  0.96505637 0.96284466 0.96472032 0.96472032\n",
      " 0.96472032 0.98148214 0.9771409  0.97641081 0.97560676 0.97574374\n",
      " 0.97703817 0.98005941 0.98158031 0.9796083  0.98177481 0.98142233\n",
      " 0.98198713 0.9836135  0.98208027 0.98208027 0.98208027 0.99507524\n",
      " 0.99667832 0.9951177  0.9859526  0.98500153 0.98812687 0.98862547\n",
      " 0.9875849  0.99394564 0.99178826 0.99149832 0.99193436 0.9933402\n",
      " 0.99392098 0.99392098 0.99392098 0.98986511 0.9912198  0.9875639\n",
      " 0.99527522 0.99407074 0.99088512 0.99049018 0.98659867 0.98907977\n",
      " 0.99455427 0.99727965 0.9962231  0.99902381 1.         1.\n",
      " 1.         0.98937881 0.98302388 0.97483867 0.96652174 0.95878106\n",
      " 0.95198828 0.94629061 0.94163954 0.93783742]\n",
      "9 day output [[0.9345994]]\n",
      "10 day input [0.88339872 0.89103196 0.89449336 0.90762302 0.91672968 0.91499738\n",
      " 0.92058009 0.92057506 0.92057506 0.92057506 0.92523638 0.92729513\n",
      " 0.93136379 0.92955114 0.92766086 0.9321957  0.93243358 0.93357733\n",
      " 0.93167747 0.93358875 0.93460603 0.93587397 0.94214613 0.94055035\n",
      " 0.94055035 0.94055035 0.95604377 0.95587255 0.95970013 0.95501873\n",
      " 0.94866347 0.95000904 0.95480322 0.95500549 0.95984487 0.96136577\n",
      " 0.9612749  0.96505637 0.96284466 0.96472032 0.96472032 0.96472032\n",
      " 0.98148214 0.9771409  0.97641081 0.97560676 0.97574374 0.97703817\n",
      " 0.98005941 0.98158031 0.9796083  0.98177481 0.98142233 0.98198713\n",
      " 0.9836135  0.98208027 0.98208027 0.98208027 0.99507524 0.99667832\n",
      " 0.9951177  0.9859526  0.98500153 0.98812687 0.98862547 0.9875849\n",
      " 0.99394564 0.99178826 0.99149832 0.99193436 0.9933402  0.99392098\n",
      " 0.99392098 0.99392098 0.98986511 0.9912198  0.9875639  0.99527522\n",
      " 0.99407074 0.99088512 0.99049018 0.98659867 0.98907977 0.99455427\n",
      " 0.99727965 0.9962231  0.99902381 1.         1.         1.\n",
      " 0.98937881 0.98302388 0.97483867 0.96652174 0.95878106 0.95198828\n",
      " 0.94629061 0.94163954 0.93783742 0.9345994 ]\n",
      "10 day output [[0.93161654]]\n",
      "11 day input [0.89103196 0.89449336 0.90762302 0.91672968 0.91499738 0.92058009\n",
      " 0.92057506 0.92057506 0.92057506 0.92523638 0.92729513 0.93136379\n",
      " 0.92955114 0.92766086 0.9321957  0.93243358 0.93357733 0.93167747\n",
      " 0.93358875 0.93460603 0.93587397 0.94214613 0.94055035 0.94055035\n",
      " 0.94055035 0.95604377 0.95587255 0.95970013 0.95501873 0.94866347\n",
      " 0.95000904 0.95480322 0.95500549 0.95984487 0.96136577 0.9612749\n",
      " 0.96505637 0.96284466 0.96472032 0.96472032 0.96472032 0.98148214\n",
      " 0.9771409  0.97641081 0.97560676 0.97574374 0.97703817 0.98005941\n",
      " 0.98158031 0.9796083  0.98177481 0.98142233 0.98198713 0.9836135\n",
      " 0.98208027 0.98208027 0.98208027 0.99507524 0.99667832 0.9951177\n",
      " 0.9859526  0.98500153 0.98812687 0.98862547 0.9875849  0.99394564\n",
      " 0.99178826 0.99149832 0.99193436 0.9933402  0.99392098 0.99392098\n",
      " 0.99392098 0.98986511 0.9912198  0.9875639  0.99527522 0.99407074\n",
      " 0.99088512 0.99049018 0.98659867 0.98907977 0.99455427 0.99727965\n",
      " 0.9962231  0.99902381 1.         1.         1.         0.98937881\n",
      " 0.98302388 0.97483867 0.96652174 0.95878106 0.95198828 0.94629061\n",
      " 0.94163954 0.93783742 0.9345994  0.93161654]\n",
      "11 day output [[0.9286077]]\n",
      "12 day input [0.89449336 0.90762302 0.91672968 0.91499738 0.92058009 0.92057506\n",
      " 0.92057506 0.92057506 0.92523638 0.92729513 0.93136379 0.92955114\n",
      " 0.92766086 0.9321957  0.93243358 0.93357733 0.93167747 0.93358875\n",
      " 0.93460603 0.93587397 0.94214613 0.94055035 0.94055035 0.94055035\n",
      " 0.95604377 0.95587255 0.95970013 0.95501873 0.94866347 0.95000904\n",
      " 0.95480322 0.95500549 0.95984487 0.96136577 0.9612749  0.96505637\n",
      " 0.96284466 0.96472032 0.96472032 0.96472032 0.98148214 0.9771409\n",
      " 0.97641081 0.97560676 0.97574374 0.97703817 0.98005941 0.98158031\n",
      " 0.9796083  0.98177481 0.98142233 0.98198713 0.9836135  0.98208027\n",
      " 0.98208027 0.98208027 0.99507524 0.99667832 0.9951177  0.9859526\n",
      " 0.98500153 0.98812687 0.98862547 0.9875849  0.99394564 0.99178826\n",
      " 0.99149832 0.99193436 0.9933402  0.99392098 0.99392098 0.99392098\n",
      " 0.98986511 0.9912198  0.9875639  0.99527522 0.99407074 0.99088512\n",
      " 0.99049018 0.98659867 0.98907977 0.99455427 0.99727965 0.9962231\n",
      " 0.99902381 1.         1.         1.         0.98937881 0.98302388\n",
      " 0.97483867 0.96652174 0.95878106 0.95198828 0.94629061 0.94163954\n",
      " 0.93783742 0.9345994  0.93161654 0.9286077 ]\n",
      "12 day output [[0.9253594]]\n",
      "13 day input [0.90762302 0.91672968 0.91499738 0.92058009 0.92057506 0.92057506\n",
      " 0.92057506 0.92523638 0.92729513 0.93136379 0.92955114 0.92766086\n",
      " 0.9321957  0.93243358 0.93357733 0.93167747 0.93358875 0.93460603\n",
      " 0.93587397 0.94214613 0.94055035 0.94055035 0.94055035 0.95604377\n",
      " 0.95587255 0.95970013 0.95501873 0.94866347 0.95000904 0.95480322\n",
      " 0.95500549 0.95984487 0.96136577 0.9612749  0.96505637 0.96284466\n",
      " 0.96472032 0.96472032 0.96472032 0.98148214 0.9771409  0.97641081\n",
      " 0.97560676 0.97574374 0.97703817 0.98005941 0.98158031 0.9796083\n",
      " 0.98177481 0.98142233 0.98198713 0.9836135  0.98208027 0.98208027\n",
      " 0.98208027 0.99507524 0.99667832 0.9951177  0.9859526  0.98500153\n",
      " 0.98812687 0.98862547 0.9875849  0.99394564 0.99178826 0.99149832\n",
      " 0.99193436 0.9933402  0.99392098 0.99392098 0.99392098 0.98986511\n",
      " 0.9912198  0.9875639  0.99527522 0.99407074 0.99088512 0.99049018\n",
      " 0.98659867 0.98907977 0.99455427 0.99727965 0.9962231  0.99902381\n",
      " 1.         1.         1.         0.98937881 0.98302388 0.97483867\n",
      " 0.96652174 0.95878106 0.95198828 0.94629061 0.94163954 0.93783742\n",
      " 0.9345994  0.93161654 0.9286077  0.92535943]\n",
      "13 day output [[0.921744]]\n",
      "14 day input [0.91672968 0.91499738 0.92058009 0.92057506 0.92057506 0.92057506\n",
      " 0.92523638 0.92729513 0.93136379 0.92955114 0.92766086 0.9321957\n",
      " 0.93243358 0.93357733 0.93167747 0.93358875 0.93460603 0.93587397\n",
      " 0.94214613 0.94055035 0.94055035 0.94055035 0.95604377 0.95587255\n",
      " 0.95970013 0.95501873 0.94866347 0.95000904 0.95480322 0.95500549\n",
      " 0.95984487 0.96136577 0.9612749  0.96505637 0.96284466 0.96472032\n",
      " 0.96472032 0.96472032 0.98148214 0.9771409  0.97641081 0.97560676\n",
      " 0.97574374 0.97703817 0.98005941 0.98158031 0.9796083  0.98177481\n",
      " 0.98142233 0.98198713 0.9836135  0.98208027 0.98208027 0.98208027\n",
      " 0.99507524 0.99667832 0.9951177  0.9859526  0.98500153 0.98812687\n",
      " 0.98862547 0.9875849  0.99394564 0.99178826 0.99149832 0.99193436\n",
      " 0.9933402  0.99392098 0.99392098 0.99392098 0.98986511 0.9912198\n",
      " 0.9875639  0.99527522 0.99407074 0.99088512 0.99049018 0.98659867\n",
      " 0.98907977 0.99455427 0.99727965 0.9962231  0.99902381 1.\n",
      " 1.         1.         0.98937881 0.98302388 0.97483867 0.96652174\n",
      " 0.95878106 0.95198828 0.94629061 0.94163954 0.93783742 0.9345994\n",
      " 0.93161654 0.9286077  0.92535943 0.92174399]\n",
      "14 day output [[0.91772264]]\n",
      "15 day input [0.91499738 0.92058009 0.92057506 0.92057506 0.92057506 0.92523638\n",
      " 0.92729513 0.93136379 0.92955114 0.92766086 0.9321957  0.93243358\n",
      " 0.93357733 0.93167747 0.93358875 0.93460603 0.93587397 0.94214613\n",
      " 0.94055035 0.94055035 0.94055035 0.95604377 0.95587255 0.95970013\n",
      " 0.95501873 0.94866347 0.95000904 0.95480322 0.95500549 0.95984487\n",
      " 0.96136577 0.9612749  0.96505637 0.96284466 0.96472032 0.96472032\n",
      " 0.96472032 0.98148214 0.9771409  0.97641081 0.97560676 0.97574374\n",
      " 0.97703817 0.98005941 0.98158031 0.9796083  0.98177481 0.98142233\n",
      " 0.98198713 0.9836135  0.98208027 0.98208027 0.98208027 0.99507524\n",
      " 0.99667832 0.9951177  0.9859526  0.98500153 0.98812687 0.98862547\n",
      " 0.9875849  0.99394564 0.99178826 0.99149832 0.99193436 0.9933402\n",
      " 0.99392098 0.99392098 0.99392098 0.98986511 0.9912198  0.9875639\n",
      " 0.99527522 0.99407074 0.99088512 0.99049018 0.98659867 0.98907977\n",
      " 0.99455427 0.99727965 0.9962231  0.99902381 1.         1.\n",
      " 1.         0.98937881 0.98302388 0.97483867 0.96652174 0.95878106\n",
      " 0.95198828 0.94629061 0.94163954 0.93783742 0.9345994  0.93161654\n",
      " 0.9286077  0.92535943 0.92174399 0.91772264]\n",
      "15 day output [[0.9133333]]\n",
      "16 day input [0.92058009 0.92057506 0.92057506 0.92057506 0.92523638 0.92729513\n",
      " 0.93136379 0.92955114 0.92766086 0.9321957  0.93243358 0.93357733\n",
      " 0.93167747 0.93358875 0.93460603 0.93587397 0.94214613 0.94055035\n",
      " 0.94055035 0.94055035 0.95604377 0.95587255 0.95970013 0.95501873\n",
      " 0.94866347 0.95000904 0.95480322 0.95500549 0.95984487 0.96136577\n",
      " 0.9612749  0.96505637 0.96284466 0.96472032 0.96472032 0.96472032\n",
      " 0.98148214 0.9771409  0.97641081 0.97560676 0.97574374 0.97703817\n",
      " 0.98005941 0.98158031 0.9796083  0.98177481 0.98142233 0.98198713\n",
      " 0.9836135  0.98208027 0.98208027 0.98208027 0.99507524 0.99667832\n",
      " 0.9951177  0.9859526  0.98500153 0.98812687 0.98862547 0.9875849\n",
      " 0.99394564 0.99178826 0.99149832 0.99193436 0.9933402  0.99392098\n",
      " 0.99392098 0.99392098 0.98986511 0.9912198  0.9875639  0.99527522\n",
      " 0.99407074 0.99088512 0.99049018 0.98659867 0.98907977 0.99455427\n",
      " 0.99727965 0.9962231  0.99902381 1.         1.         1.\n",
      " 0.98937881 0.98302388 0.97483867 0.96652174 0.95878106 0.95198828\n",
      " 0.94629061 0.94163954 0.93783742 0.9345994  0.93161654 0.9286077\n",
      " 0.92535943 0.92174399 0.91772264 0.9133333 ]\n",
      "16 day output [[0.9086696]]\n",
      "17 day input [0.92057506 0.92057506 0.92057506 0.92523638 0.92729513 0.93136379\n",
      " 0.92955114 0.92766086 0.9321957  0.93243358 0.93357733 0.93167747\n",
      " 0.93358875 0.93460603 0.93587397 0.94214613 0.94055035 0.94055035\n",
      " 0.94055035 0.95604377 0.95587255 0.95970013 0.95501873 0.94866347\n",
      " 0.95000904 0.95480322 0.95500549 0.95984487 0.96136577 0.9612749\n",
      " 0.96505637 0.96284466 0.96472032 0.96472032 0.96472032 0.98148214\n",
      " 0.9771409  0.97641081 0.97560676 0.97574374 0.97703817 0.98005941\n",
      " 0.98158031 0.9796083  0.98177481 0.98142233 0.98198713 0.9836135\n",
      " 0.98208027 0.98208027 0.98208027 0.99507524 0.99667832 0.9951177\n",
      " 0.9859526  0.98500153 0.98812687 0.98862547 0.9875849  0.99394564\n",
      " 0.99178826 0.99149832 0.99193436 0.9933402  0.99392098 0.99392098\n",
      " 0.99392098 0.98986511 0.9912198  0.9875639  0.99527522 0.99407074\n",
      " 0.99088512 0.99049018 0.98659867 0.98907977 0.99455427 0.99727965\n",
      " 0.9962231  0.99902381 1.         1.         1.         0.98937881\n",
      " 0.98302388 0.97483867 0.96652174 0.95878106 0.95198828 0.94629061\n",
      " 0.94163954 0.93783742 0.9345994  0.93161654 0.9286077  0.92535943\n",
      " 0.92174399 0.91772264 0.9133333  0.90866959]\n"
     ]
    },
    {
     "name": "stdout",
     "output_type": "stream",
     "text": [
      "17 day output [[0.90385425]]\n",
      "18 day input [0.92057506 0.92057506 0.92523638 0.92729513 0.93136379 0.92955114\n",
      " 0.92766086 0.9321957  0.93243358 0.93357733 0.93167747 0.93358875\n",
      " 0.93460603 0.93587397 0.94214613 0.94055035 0.94055035 0.94055035\n",
      " 0.95604377 0.95587255 0.95970013 0.95501873 0.94866347 0.95000904\n",
      " 0.95480322 0.95500549 0.95984487 0.96136577 0.9612749  0.96505637\n",
      " 0.96284466 0.96472032 0.96472032 0.96472032 0.98148214 0.9771409\n",
      " 0.97641081 0.97560676 0.97574374 0.97703817 0.98005941 0.98158031\n",
      " 0.9796083  0.98177481 0.98142233 0.98198713 0.9836135  0.98208027\n",
      " 0.98208027 0.98208027 0.99507524 0.99667832 0.9951177  0.9859526\n",
      " 0.98500153 0.98812687 0.98862547 0.9875849  0.99394564 0.99178826\n",
      " 0.99149832 0.99193436 0.9933402  0.99392098 0.99392098 0.99392098\n",
      " 0.98986511 0.9912198  0.9875639  0.99527522 0.99407074 0.99088512\n",
      " 0.99049018 0.98659867 0.98907977 0.99455427 0.99727965 0.9962231\n",
      " 0.99902381 1.         1.         1.         0.98937881 0.98302388\n",
      " 0.97483867 0.96652174 0.95878106 0.95198828 0.94629061 0.94163954\n",
      " 0.93783742 0.9345994  0.93161654 0.9286077  0.92535943 0.92174399\n",
      " 0.91772264 0.9133333  0.90866959 0.90385425]\n",
      "18 day output [[0.89901495]]\n",
      "19 day input [0.92057506 0.92523638 0.92729513 0.93136379 0.92955114 0.92766086\n",
      " 0.9321957  0.93243358 0.93357733 0.93167747 0.93358875 0.93460603\n",
      " 0.93587397 0.94214613 0.94055035 0.94055035 0.94055035 0.95604377\n",
      " 0.95587255 0.95970013 0.95501873 0.94866347 0.95000904 0.95480322\n",
      " 0.95500549 0.95984487 0.96136577 0.9612749  0.96505637 0.96284466\n",
      " 0.96472032 0.96472032 0.96472032 0.98148214 0.9771409  0.97641081\n",
      " 0.97560676 0.97574374 0.97703817 0.98005941 0.98158031 0.9796083\n",
      " 0.98177481 0.98142233 0.98198713 0.9836135  0.98208027 0.98208027\n",
      " 0.98208027 0.99507524 0.99667832 0.9951177  0.9859526  0.98500153\n",
      " 0.98812687 0.98862547 0.9875849  0.99394564 0.99178826 0.99149832\n",
      " 0.99193436 0.9933402  0.99392098 0.99392098 0.99392098 0.98986511\n",
      " 0.9912198  0.9875639  0.99527522 0.99407074 0.99088512 0.99049018\n",
      " 0.98659867 0.98907977 0.99455427 0.99727965 0.9962231  0.99902381\n",
      " 1.         1.         1.         0.98937881 0.98302388 0.97483867\n",
      " 0.96652174 0.95878106 0.95198828 0.94629061 0.94163954 0.93783742\n",
      " 0.9345994  0.93161654 0.9286077  0.92535943 0.92174399 0.91772264\n",
      " 0.9133333  0.90866959 0.90385425 0.89901495]\n",
      "19 day output [[0.89426255]]\n",
      "20 day input [0.92523638 0.92729513 0.93136379 0.92955114 0.92766086 0.9321957\n",
      " 0.93243358 0.93357733 0.93167747 0.93358875 0.93460603 0.93587397\n",
      " 0.94214613 0.94055035 0.94055035 0.94055035 0.95604377 0.95587255\n",
      " 0.95970013 0.95501873 0.94866347 0.95000904 0.95480322 0.95500549\n",
      " 0.95984487 0.96136577 0.9612749  0.96505637 0.96284466 0.96472032\n",
      " 0.96472032 0.96472032 0.98148214 0.9771409  0.97641081 0.97560676\n",
      " 0.97574374 0.97703817 0.98005941 0.98158031 0.9796083  0.98177481\n",
      " 0.98142233 0.98198713 0.9836135  0.98208027 0.98208027 0.98208027\n",
      " 0.99507524 0.99667832 0.9951177  0.9859526  0.98500153 0.98812687\n",
      " 0.98862547 0.9875849  0.99394564 0.99178826 0.99149832 0.99193436\n",
      " 0.9933402  0.99392098 0.99392098 0.99392098 0.98986511 0.9912198\n",
      " 0.9875639  0.99527522 0.99407074 0.99088512 0.99049018 0.98659867\n",
      " 0.98907977 0.99455427 0.99727965 0.9962231  0.99902381 1.\n",
      " 1.         1.         0.98937881 0.98302388 0.97483867 0.96652174\n",
      " 0.95878106 0.95198828 0.94629061 0.94163954 0.93783742 0.9345994\n",
      " 0.93161654 0.9286077  0.92535943 0.92174399 0.91772264 0.9133333\n",
      " 0.90866959 0.90385425 0.89901495 0.89426255]\n",
      "20 day output [[0.8896778]]\n",
      "21 day input [0.92729513 0.93136379 0.92955114 0.92766086 0.9321957  0.93243358\n",
      " 0.93357733 0.93167747 0.93358875 0.93460603 0.93587397 0.94214613\n",
      " 0.94055035 0.94055035 0.94055035 0.95604377 0.95587255 0.95970013\n",
      " 0.95501873 0.94866347 0.95000904 0.95480322 0.95500549 0.95984487\n",
      " 0.96136577 0.9612749  0.96505637 0.96284466 0.96472032 0.96472032\n",
      " 0.96472032 0.98148214 0.9771409  0.97641081 0.97560676 0.97574374\n",
      " 0.97703817 0.98005941 0.98158031 0.9796083  0.98177481 0.98142233\n",
      " 0.98198713 0.9836135  0.98208027 0.98208027 0.98208027 0.99507524\n",
      " 0.99667832 0.9951177  0.9859526  0.98500153 0.98812687 0.98862547\n",
      " 0.9875849  0.99394564 0.99178826 0.99149832 0.99193436 0.9933402\n",
      " 0.99392098 0.99392098 0.99392098 0.98986511 0.9912198  0.9875639\n",
      " 0.99527522 0.99407074 0.99088512 0.99049018 0.98659867 0.98907977\n",
      " 0.99455427 0.99727965 0.9962231  0.99902381 1.         1.\n",
      " 1.         0.98937881 0.98302388 0.97483867 0.96652174 0.95878106\n",
      " 0.95198828 0.94629061 0.94163954 0.93783742 0.9345994  0.93161654\n",
      " 0.9286077  0.92535943 0.92174399 0.91772264 0.9133333  0.90866959\n",
      " 0.90385425 0.89901495 0.89426255 0.88967782]\n",
      "21 day output [[0.8853052]]\n",
      "22 day input [0.93136379 0.92955114 0.92766086 0.9321957  0.93243358 0.93357733\n",
      " 0.93167747 0.93358875 0.93460603 0.93587397 0.94214613 0.94055035\n",
      " 0.94055035 0.94055035 0.95604377 0.95587255 0.95970013 0.95501873\n",
      " 0.94866347 0.95000904 0.95480322 0.95500549 0.95984487 0.96136577\n",
      " 0.9612749  0.96505637 0.96284466 0.96472032 0.96472032 0.96472032\n",
      " 0.98148214 0.9771409  0.97641081 0.97560676 0.97574374 0.97703817\n",
      " 0.98005941 0.98158031 0.9796083  0.98177481 0.98142233 0.98198713\n",
      " 0.9836135  0.98208027 0.98208027 0.98208027 0.99507524 0.99667832\n",
      " 0.9951177  0.9859526  0.98500153 0.98812687 0.98862547 0.9875849\n",
      " 0.99394564 0.99178826 0.99149832 0.99193436 0.9933402  0.99392098\n",
      " 0.99392098 0.99392098 0.98986511 0.9912198  0.9875639  0.99527522\n",
      " 0.99407074 0.99088512 0.99049018 0.98659867 0.98907977 0.99455427\n",
      " 0.99727965 0.9962231  0.99902381 1.         1.         1.\n",
      " 0.98937881 0.98302388 0.97483867 0.96652174 0.95878106 0.95198828\n",
      " 0.94629061 0.94163954 0.93783742 0.9345994  0.93161654 0.9286077\n",
      " 0.92535943 0.92174399 0.91772264 0.9133333  0.90866959 0.90385425\n",
      " 0.89901495 0.89426255 0.88967782 0.88530523]\n",
      "22 day output [[0.88115364]]\n",
      "23 day input [0.92955114 0.92766086 0.9321957  0.93243358 0.93357733 0.93167747\n",
      " 0.93358875 0.93460603 0.93587397 0.94214613 0.94055035 0.94055035\n",
      " 0.94055035 0.95604377 0.95587255 0.95970013 0.95501873 0.94866347\n",
      " 0.95000904 0.95480322 0.95500549 0.95984487 0.96136577 0.9612749\n",
      " 0.96505637 0.96284466 0.96472032 0.96472032 0.96472032 0.98148214\n",
      " 0.9771409  0.97641081 0.97560676 0.97574374 0.97703817 0.98005941\n",
      " 0.98158031 0.9796083  0.98177481 0.98142233 0.98198713 0.9836135\n",
      " 0.98208027 0.98208027 0.98208027 0.99507524 0.99667832 0.9951177\n",
      " 0.9859526  0.98500153 0.98812687 0.98862547 0.9875849  0.99394564\n",
      " 0.99178826 0.99149832 0.99193436 0.9933402  0.99392098 0.99392098\n",
      " 0.99392098 0.98986511 0.9912198  0.9875639  0.99527522 0.99407074\n",
      " 0.99088512 0.99049018 0.98659867 0.98907977 0.99455427 0.99727965\n",
      " 0.9962231  0.99902381 1.         1.         1.         0.98937881\n",
      " 0.98302388 0.97483867 0.96652174 0.95878106 0.95198828 0.94629061\n",
      " 0.94163954 0.93783742 0.9345994  0.93161654 0.9286077  0.92535943\n",
      " 0.92174399 0.91772264 0.9133333  0.90866959 0.90385425 0.89901495\n",
      " 0.89426255 0.88967782 0.88530523 0.88115364]\n",
      "23 day output [[0.8772022]]\n",
      "24 day input [0.92766086 0.9321957  0.93243358 0.93357733 0.93167747 0.93358875\n",
      " 0.93460603 0.93587397 0.94214613 0.94055035 0.94055035 0.94055035\n",
      " 0.95604377 0.95587255 0.95970013 0.95501873 0.94866347 0.95000904\n",
      " 0.95480322 0.95500549 0.95984487 0.96136577 0.9612749  0.96505637\n",
      " 0.96284466 0.96472032 0.96472032 0.96472032 0.98148214 0.9771409\n",
      " 0.97641081 0.97560676 0.97574374 0.97703817 0.98005941 0.98158031\n",
      " 0.9796083  0.98177481 0.98142233 0.98198713 0.9836135  0.98208027\n",
      " 0.98208027 0.98208027 0.99507524 0.99667832 0.9951177  0.9859526\n",
      " 0.98500153 0.98812687 0.98862547 0.9875849  0.99394564 0.99178826\n",
      " 0.99149832 0.99193436 0.9933402  0.99392098 0.99392098 0.99392098\n",
      " 0.98986511 0.9912198  0.9875639  0.99527522 0.99407074 0.99088512\n",
      " 0.99049018 0.98659867 0.98907977 0.99455427 0.99727965 0.9962231\n",
      " 0.99902381 1.         1.         1.         0.98937881 0.98302388\n",
      " 0.97483867 0.96652174 0.95878106 0.95198828 0.94629061 0.94163954\n",
      " 0.93783742 0.9345994  0.93161654 0.9286077  0.92535943 0.92174399\n",
      " 0.91772264 0.9133333  0.90866959 0.90385425 0.89901495 0.89426255\n",
      " 0.88967782 0.88530523 0.88115364 0.87720221]\n",
      "24 day output [[0.87341005]]\n",
      "25 day input [0.9321957  0.93243358 0.93357733 0.93167747 0.93358875 0.93460603\n",
      " 0.93587397 0.94214613 0.94055035 0.94055035 0.94055035 0.95604377\n",
      " 0.95587255 0.95970013 0.95501873 0.94866347 0.95000904 0.95480322\n",
      " 0.95500549 0.95984487 0.96136577 0.9612749  0.96505637 0.96284466\n",
      " 0.96472032 0.96472032 0.96472032 0.98148214 0.9771409  0.97641081\n",
      " 0.97560676 0.97574374 0.97703817 0.98005941 0.98158031 0.9796083\n",
      " 0.98177481 0.98142233 0.98198713 0.9836135  0.98208027 0.98208027\n",
      " 0.98208027 0.99507524 0.99667832 0.9951177  0.9859526  0.98500153\n",
      " 0.98812687 0.98862547 0.9875849  0.99394564 0.99178826 0.99149832\n",
      " 0.99193436 0.9933402  0.99392098 0.99392098 0.99392098 0.98986511\n",
      " 0.9912198  0.9875639  0.99527522 0.99407074 0.99088512 0.99049018\n",
      " 0.98659867 0.98907977 0.99455427 0.99727965 0.9962231  0.99902381\n",
      " 1.         1.         1.         0.98937881 0.98302388 0.97483867\n",
      " 0.96652174 0.95878106 0.95198828 0.94629061 0.94163954 0.93783742\n",
      " 0.9345994  0.93161654 0.9286077  0.92535943 0.92174399 0.91772264\n",
      " 0.9133333  0.90866959 0.90385425 0.89901495 0.89426255 0.88967782\n",
      " 0.88530523 0.88115364 0.87720221 0.87341005]\n",
      "25 day output [[0.86972666]]\n",
      "26 day input [0.93243358 0.93357733 0.93167747 0.93358875 0.93460603 0.93587397\n",
      " 0.94214613 0.94055035 0.94055035 0.94055035 0.95604377 0.95587255\n",
      " 0.95970013 0.95501873 0.94866347 0.95000904 0.95480322 0.95500549\n",
      " 0.95984487 0.96136577 0.9612749  0.96505637 0.96284466 0.96472032\n",
      " 0.96472032 0.96472032 0.98148214 0.9771409  0.97641081 0.97560676\n",
      " 0.97574374 0.97703817 0.98005941 0.98158031 0.9796083  0.98177481\n",
      " 0.98142233 0.98198713 0.9836135  0.98208027 0.98208027 0.98208027\n",
      " 0.99507524 0.99667832 0.9951177  0.9859526  0.98500153 0.98812687\n",
      " 0.98862547 0.9875849  0.99394564 0.99178826 0.99149832 0.99193436\n",
      " 0.9933402  0.99392098 0.99392098 0.99392098 0.98986511 0.9912198\n",
      " 0.9875639  0.99527522 0.99407074 0.99088512 0.99049018 0.98659867\n",
      " 0.98907977 0.99455427 0.99727965 0.9962231  0.99902381 1.\n",
      " 1.         1.         0.98937881 0.98302388 0.97483867 0.96652174\n",
      " 0.95878106 0.95198828 0.94629061 0.94163954 0.93783742 0.9345994\n",
      " 0.93161654 0.9286077  0.92535943 0.92174399 0.91772264 0.9133333\n",
      " 0.90866959 0.90385425 0.89901495 0.89426255 0.88967782 0.88530523\n",
      " 0.88115364 0.87720221 0.87341005 0.86972666]\n"
     ]
    },
    {
     "name": "stdout",
     "output_type": "stream",
     "text": [
      "26 day output [[0.8661018]]\n",
      "27 day input [0.93357733 0.93167747 0.93358875 0.93460603 0.93587397 0.94214613\n",
      " 0.94055035 0.94055035 0.94055035 0.95604377 0.95587255 0.95970013\n",
      " 0.95501873 0.94866347 0.95000904 0.95480322 0.95500549 0.95984487\n",
      " 0.96136577 0.9612749  0.96505637 0.96284466 0.96472032 0.96472032\n",
      " 0.96472032 0.98148214 0.9771409  0.97641081 0.97560676 0.97574374\n",
      " 0.97703817 0.98005941 0.98158031 0.9796083  0.98177481 0.98142233\n",
      " 0.98198713 0.9836135  0.98208027 0.98208027 0.98208027 0.99507524\n",
      " 0.99667832 0.9951177  0.9859526  0.98500153 0.98812687 0.98862547\n",
      " 0.9875849  0.99394564 0.99178826 0.99149832 0.99193436 0.9933402\n",
      " 0.99392098 0.99392098 0.99392098 0.98986511 0.9912198  0.9875639\n",
      " 0.99527522 0.99407074 0.99088512 0.99049018 0.98659867 0.98907977\n",
      " 0.99455427 0.99727965 0.9962231  0.99902381 1.         1.\n",
      " 1.         0.98937881 0.98302388 0.97483867 0.96652174 0.95878106\n",
      " 0.95198828 0.94629061 0.94163954 0.93783742 0.9345994  0.93161654\n",
      " 0.9286077  0.92535943 0.92174399 0.91772264 0.9133333  0.90866959\n",
      " 0.90385425 0.89901495 0.89426255 0.88967782 0.88530523 0.88115364\n",
      " 0.87720221 0.87341005 0.86972666 0.8661018 ]\n",
      "27 day output [[0.86249334]]\n",
      "28 day input [0.93167747 0.93358875 0.93460603 0.93587397 0.94214613 0.94055035\n",
      " 0.94055035 0.94055035 0.95604377 0.95587255 0.95970013 0.95501873\n",
      " 0.94866347 0.95000904 0.95480322 0.95500549 0.95984487 0.96136577\n",
      " 0.9612749  0.96505637 0.96284466 0.96472032 0.96472032 0.96472032\n",
      " 0.98148214 0.9771409  0.97641081 0.97560676 0.97574374 0.97703817\n",
      " 0.98005941 0.98158031 0.9796083  0.98177481 0.98142233 0.98198713\n",
      " 0.9836135  0.98208027 0.98208027 0.98208027 0.99507524 0.99667832\n",
      " 0.9951177  0.9859526  0.98500153 0.98812687 0.98862547 0.9875849\n",
      " 0.99394564 0.99178826 0.99149832 0.99193436 0.9933402  0.99392098\n",
      " 0.99392098 0.99392098 0.98986511 0.9912198  0.9875639  0.99527522\n",
      " 0.99407074 0.99088512 0.99049018 0.98659867 0.98907977 0.99455427\n",
      " 0.99727965 0.9962231  0.99902381 1.         1.         1.\n",
      " 0.98937881 0.98302388 0.97483867 0.96652174 0.95878106 0.95198828\n",
      " 0.94629061 0.94163954 0.93783742 0.9345994  0.93161654 0.9286077\n",
      " 0.92535943 0.92174399 0.91772264 0.9133333  0.90866959 0.90385425\n",
      " 0.89901495 0.89426255 0.88967782 0.88530523 0.88115364 0.87720221\n",
      " 0.87341005 0.86972666 0.8661018  0.86249334]\n",
      "28 day output [[0.85887116]]\n",
      "29 day input [0.93358875 0.93460603 0.93587397 0.94214613 0.94055035 0.94055035\n",
      " 0.94055035 0.95604377 0.95587255 0.95970013 0.95501873 0.94866347\n",
      " 0.95000904 0.95480322 0.95500549 0.95984487 0.96136577 0.9612749\n",
      " 0.96505637 0.96284466 0.96472032 0.96472032 0.96472032 0.98148214\n",
      " 0.9771409  0.97641081 0.97560676 0.97574374 0.97703817 0.98005941\n",
      " 0.98158031 0.9796083  0.98177481 0.98142233 0.98198713 0.9836135\n",
      " 0.98208027 0.98208027 0.98208027 0.99507524 0.99667832 0.9951177\n",
      " 0.9859526  0.98500153 0.98812687 0.98862547 0.9875849  0.99394564\n",
      " 0.99178826 0.99149832 0.99193436 0.9933402  0.99392098 0.99392098\n",
      " 0.99392098 0.98986511 0.9912198  0.9875639  0.99527522 0.99407074\n",
      " 0.99088512 0.99049018 0.98659867 0.98907977 0.99455427 0.99727965\n",
      " 0.9962231  0.99902381 1.         1.         1.         0.98937881\n",
      " 0.98302388 0.97483867 0.96652174 0.95878106 0.95198828 0.94629061\n",
      " 0.94163954 0.93783742 0.9345994  0.93161654 0.9286077  0.92535943\n",
      " 0.92174399 0.91772264 0.9133333  0.90866959 0.90385425 0.89901495\n",
      " 0.89426255 0.88967782 0.88530523 0.88115364 0.87720221 0.87341005\n",
      " 0.86972666 0.8661018  0.86249334 0.85887116]\n",
      "29 day output [[0.85522014]]\n",
      "[[0.989378809928894], [0.9830238819122314], [0.9748386740684509], [0.9665217399597168], [0.9587810635566711], [0.9519882798194885], [0.9462906122207642], [0.9416395425796509], [0.9378374218940735], [0.9345993995666504], [0.9316165447235107], [0.928607702255249], [0.9253594279289246], [0.9217439889907837], [0.9177226424217224], [0.9133332967758179], [0.9086695909500122], [0.903854250907898], [0.899014949798584], [0.8942625522613525], [0.8896778225898743], [0.8853052258491516], [0.8811536431312561], [0.8772022128105164], [0.8734100461006165], [0.8697266578674316], [0.8661018013954163], [0.8624933362007141], [0.8588711619377136], [0.8552201390266418]]\n"
     ]
    }
   ],
   "source": [
    "# demonstrate prediction for next 10 days\n",
    "from numpy import array\n",
    "\n",
    "lst_output=[]\n",
    "n_steps=100\n",
    "i=0\n",
    "while(i<30):\n",
    "    \n",
    "    if(len(temp_input)>100):\n",
    "        #print(temp_input)\n",
    "        x_input=np.array(temp_input[1:])\n",
    "        print(\"{} day input {}\".format(i,x_input))\n",
    "        x_input=x_input.reshape(1,-1)\n",
    "        x_input = x_input.reshape((1, n_steps, 1))\n",
    "        #print(x_input)\n",
    "        yhat = model.predict(x_input, verbose=0)\n",
    "        print(\"{} day output {}\".format(i,yhat))\n",
    "        temp_input.extend(yhat[0].tolist())\n",
    "        temp_input=temp_input[1:]\n",
    "        #print(temp_input)\n",
    "        lst_output.extend(yhat.tolist())\n",
    "        i=i+1\n",
    "    else:\n",
    "        x_input = x_input.reshape((1, n_steps,1))\n",
    "        yhat = model.predict(x_input, verbose=0)\n",
    "        print(yhat[0])\n",
    "        temp_input.extend(yhat[0].tolist())\n",
    "        print(len(temp_input))\n",
    "        lst_output.extend(yhat.tolist())\n",
    "        i=i+1\n",
    "    \n",
    "\n",
    "print(lst_output)"
   ]
  },
  {
   "cell_type": "code",
   "execution_count": 63,
   "metadata": {},
   "outputs": [],
   "source": [
    "day_new=np.arange(1,101)\n",
    "day_pred=np.arange(101,131)"
   ]
  },
  {
   "cell_type": "code",
   "execution_count": 64,
   "metadata": {},
   "outputs": [],
   "source": [
    "import matplotlib.pyplot as plt"
   ]
  },
  {
   "cell_type": "code",
   "execution_count": 65,
   "metadata": {},
   "outputs": [
    {
     "data": {
      "text/plain": [
       "4021"
      ]
     },
     "execution_count": 65,
     "metadata": {},
     "output_type": "execute_result"
    }
   ],
   "source": [
    "len(df1)"
   ]
  },
  {
   "cell_type": "code",
   "execution_count": null,
   "metadata": {},
   "outputs": [],
   "source": []
  },
  {
   "cell_type": "code",
   "execution_count": 66,
   "metadata": {},
   "outputs": [
    {
     "data": {
      "text/plain": [
       "[<matplotlib.lines.Line2D at 0x223ee08a230>]"
      ]
     },
     "execution_count": 66,
     "metadata": {},
     "output_type": "execute_result"
    },
    {
     "data": {
      "image/png": "[encoded data removed]",
      "text/plain": [
       "<Figure size 640x480 with 1 Axes>"
      ]
     },
     "metadata": {},
     "output_type": "display_data"
    }
   ],
   "source": [
    "plt.plot(day_new,scaler.inverse_transform(df1[3921:]))\n",
    "plt.plot(day_pred,scaler.inverse_transform(lst_output))"
   ]
  },
  {
   "cell_type": "code",
   "execution_count": 67,
   "metadata": {},
   "outputs": [
    {
     "data": {
      "text/plain": [
       "[<matplotlib.lines.Line2D at 0x223ee008f40>]"
      ]
     },
     "execution_count": 67,
     "metadata": {},
     "output_type": "execute_result"
    },
    {
     "data": {
      "image/png": "[encoded data removed]",
      "text/plain": [
       "<Figure size 640x480 with 1 Axes>"
      ]
     },
     "metadata": {},
     "output_type": "display_data"
    }
   ],
   "source": [
    "df3=df1.tolist()\n",
    "df3.extend(lst_output)\n",
    "plt.plot(df3[1200:])"
   ]
  },
  {
   "cell_type": "code",
   "execution_count": 68,
   "metadata": {},
   "outputs": [],
   "source": [
    "df3=scaler.inverse_transform(df3).tolist()"
   ]
  },
  {
   "cell_type": "code",
   "execution_count": 69,
   "metadata": {
    "scrolled": true
   },
   "outputs": [
    {
     "data": {
      "text/plain": [
       "[<matplotlib.lines.Line2D at 0x223ee120220>]"
      ]
     },
     "execution_count": 69,
     "metadata": {},
     "output_type": "execute_result"
    },
    {
     "data": {
      "image/png": "[encoded data removed]",
      "text/plain": [
       "<Figure size 640x480 with 1 Axes>"
      ]
     },
     "metadata": {},
     "output_type": "display_data"
    }
   ],
   "source": [
    "plt.plot(df3)"
   ]
  },
  {
   "cell_type": "code",
   "execution_count": null,
   "metadata": {},
   "outputs": [],
   "source": []
  }
 ],
 "metadata": {
  "kernelspec": {
   "display_name": "Python 3 (ipykernel)",
   "language": "python",
   "name": "python3"
  },
  "language_info": {
   "codemirror_mode": {
    "name": "ipython",
    "version": 3
   },
   "file_extension": ".py",
   "mimetype": "text/x-python",
   "name": "python",
   "nbconvert_exporter": "python",
   "pygments_lexer": "ipython3",
   "version": "3.10.9"
  }
 },
 "nbformat": 4,
 "nbformat_minor": 2
}
