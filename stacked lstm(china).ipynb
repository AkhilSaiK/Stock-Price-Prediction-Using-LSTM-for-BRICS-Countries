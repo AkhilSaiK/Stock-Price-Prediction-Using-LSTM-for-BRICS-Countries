{
 "cells": [
  {
   "cell_type": "markdown",
   "metadata": {},
   "source": [
    "### Stock Market Prediction And Forecasting Using Stacked LSTM"
   ]
  },
  {
   "cell_type": "code",
   "execution_count": 1,
   "metadata": {},
   "outputs": [],
   "source": [
    "import pandas as pd"
   ]
  },
  {
   "cell_type": "code",
   "execution_count": 2,
   "metadata": {
    "scrolled": true
   },
   "outputs": [],
   "source": [
    "df=pd.read_csv('china.csv')"
   ]
  },
  {
   "cell_type": "code",
   "execution_count": 3,
   "metadata": {},
   "outputs": [
    {
     "data": {
      "text/html": [
       "<div>\n",
       "<style scoped>\n",
       "    .dataframe tbody tr th:only-of-type {\n",
       "        vertical-align: middle;\n",
       "    }\n",
       "\n",
       "    .dataframe tbody tr th {\n",
       "        vertical-align: top;\n",
       "    }\n",
       "\n",
       "    .dataframe thead th {\n",
       "        text-align: right;\n",
       "    }\n",
       "</style>\n",
       "<table border=\"1\" class=\"dataframe\">\n",
       "  <thead>\n",
       "    <tr style=\"text-align: right;\">\n",
       "      <th></th>\n",
       "      <th>Time Interval</th>\n",
       "      <th>Close</th>\n",
       "      <th>Net Chg</th>\n",
       "      <th>Open</th>\n",
       "      <th>High</th>\n",
       "      <th>Low</th>\n",
       "      <th>Tick Count</th>\n",
       "      <th>Volume</th>\n",
       "    </tr>\n",
       "  </thead>\n",
       "  <tbody>\n",
       "    <tr>\n",
       "      <th>0</th>\n",
       "      <td>Summary</td>\n",
       "      <td>3379.036</td>\n",
       "      <td>339.012</td>\n",
       "      <td>3036.386</td>\n",
       "      <td>3465.493</td>\n",
       "      <td>2646.811</td>\n",
       "      <td>1270440.0</td>\n",
       "      <td>N.A.</td>\n",
       "    </tr>\n",
       "    <tr>\n",
       "      <th>1</th>\n",
       "      <td>30DEC2019_00:00:00.000000</td>\n",
       "      <td>NaN</td>\n",
       "      <td>NaN</td>\n",
       "      <td>NaN</td>\n",
       "      <td>NaN</td>\n",
       "      <td>NaN</td>\n",
       "      <td>NaN</td>\n",
       "      <td>NaN</td>\n",
       "    </tr>\n",
       "    <tr>\n",
       "      <th>2</th>\n",
       "      <td>20:15 - 20:45</td>\n",
       "      <td>3042.413</td>\n",
       "      <td>2.389</td>\n",
       "      <td>3036.386</td>\n",
       "      <td>3042.413</td>\n",
       "      <td>3034.328</td>\n",
       "      <td>303.0</td>\n",
       "      <td>N.A.</td>\n",
       "    </tr>\n",
       "    <tr>\n",
       "      <th>3</th>\n",
       "      <td>20:45 - 21:15</td>\n",
       "      <td>3040.201</td>\n",
       "      <td>-2.212</td>\n",
       "      <td>3042.413</td>\n",
       "      <td>3044.264</td>\n",
       "      <td>3037.198</td>\n",
       "      <td>469.0</td>\n",
       "      <td>N.A.</td>\n",
       "    </tr>\n",
       "    <tr>\n",
       "      <th>4</th>\n",
       "      <td>21:15 - 21:45</td>\n",
       "      <td>3037.930</td>\n",
       "      <td>-2.271</td>\n",
       "      <td>3040.129</td>\n",
       "      <td>3043.792</td>\n",
       "      <td>3034.271</td>\n",
       "      <td>469.0</td>\n",
       "      <td>N.A.</td>\n",
       "    </tr>\n",
       "    <tr>\n",
       "      <th>5</th>\n",
       "      <td>21:45 - 22:15</td>\n",
       "      <td>3034.573</td>\n",
       "      <td>-3.357</td>\n",
       "      <td>3037.930</td>\n",
       "      <td>3039.345</td>\n",
       "      <td>3033.481</td>\n",
       "      <td>469.0</td>\n",
       "      <td>N.A.</td>\n",
       "    </tr>\n",
       "    <tr>\n",
       "      <th>6</th>\n",
       "      <td>22:15 - 22:45</td>\n",
       "      <td>3038.260</td>\n",
       "      <td>3.687</td>\n",
       "      <td>3034.946</td>\n",
       "      <td>3039.506</td>\n",
       "      <td>3034.804</td>\n",
       "      <td>469.0</td>\n",
       "      <td>N.A.</td>\n",
       "    </tr>\n",
       "    <tr>\n",
       "      <th>7</th>\n",
       "      <td>22:45 - 23:15</td>\n",
       "      <td>3038.260</td>\n",
       "      <td>0.000</td>\n",
       "      <td>3038.260</td>\n",
       "      <td>3038.260</td>\n",
       "      <td>3038.260</td>\n",
       "      <td>470.0</td>\n",
       "      <td>N.A.</td>\n",
       "    </tr>\n",
       "    <tr>\n",
       "      <th>8</th>\n",
       "      <td>23:15 - 23:45</td>\n",
       "      <td>3038.260</td>\n",
       "      <td>0.000</td>\n",
       "      <td>3038.260</td>\n",
       "      <td>3038.260</td>\n",
       "      <td>3038.260</td>\n",
       "      <td>470.0</td>\n",
       "      <td>N.A.</td>\n",
       "    </tr>\n",
       "    <tr>\n",
       "      <th>9</th>\n",
       "      <td>23:45 - 00:15</td>\n",
       "      <td>3034.584</td>\n",
       "      <td>-3.676</td>\n",
       "      <td>3038.260</td>\n",
       "      <td>3038.415</td>\n",
       "      <td>3034.136</td>\n",
       "      <td>469.0</td>\n",
       "      <td>N.A.</td>\n",
       "    </tr>\n",
       "  </tbody>\n",
       "</table>\n",
       "</div>"
      ],
      "text/plain": [
       "               Time Interval     Close  Net Chg      Open      High       Low  \\\n",
       "0                    Summary  3379.036  339.012  3036.386  3465.493  2646.811   \n",
       "1  30DEC2019_00:00:00.000000       NaN      NaN       NaN       NaN       NaN   \n",
       "2              20:15 - 20:45  3042.413    2.389  3036.386  3042.413  3034.328   \n",
       "3              20:45 - 21:15  3040.201   -2.212  3042.413  3044.264  3037.198   \n",
       "4              21:15 - 21:45  3037.930   -2.271  3040.129  3043.792  3034.271   \n",
       "5              21:45 - 22:15  3034.573   -3.357  3037.930  3039.345  3033.481   \n",
       "6              22:15 - 22:45  3038.260    3.687  3034.946  3039.506  3034.804   \n",
       "7              22:45 - 23:15  3038.260    0.000  3038.260  3038.260  3038.260   \n",
       "8              23:15 - 23:45  3038.260    0.000  3038.260  3038.260  3038.260   \n",
       "9              23:45 - 00:15  3034.584   -3.676  3038.260  3038.415  3034.136   \n",
       "\n",
       "   Tick Count Volume  \n",
       "0   1270440.0   N.A.  \n",
       "1         NaN    NaN  \n",
       "2       303.0   N.A.  \n",
       "3       469.0   N.A.  \n",
       "4       469.0   N.A.  \n",
       "5       469.0   N.A.  \n",
       "6       469.0   N.A.  \n",
       "7       470.0   N.A.  \n",
       "8       470.0   N.A.  \n",
       "9       469.0   N.A.  "
      ]
     },
     "execution_count": 3,
     "metadata": {},
     "output_type": "execute_result"
    }
   ],
   "source": [
    "df.head(10)"
   ]
  },
  {
   "cell_type": "code",
   "execution_count": 4,
   "metadata": {},
   "outputs": [],
   "source": [
    "df=df.dropna()"
   ]
  },
  {
   "cell_type": "code",
   "execution_count": 5,
   "metadata": {
    "scrolled": false
   },
   "outputs": [
    {
     "data": {
      "text/html": [
       "<div>\n",
       "<style scoped>\n",
       "    .dataframe tbody tr th:only-of-type {\n",
       "        vertical-align: middle;\n",
       "    }\n",
       "\n",
       "    .dataframe tbody tr th {\n",
       "        vertical-align: top;\n",
       "    }\n",
       "\n",
       "    .dataframe thead th {\n",
       "        text-align: right;\n",
       "    }\n",
       "</style>\n",
       "<table border=\"1\" class=\"dataframe\">\n",
       "  <thead>\n",
       "    <tr style=\"text-align: right;\">\n",
       "      <th></th>\n",
       "      <th>Time Interval</th>\n",
       "      <th>Close</th>\n",
       "      <th>Net Chg</th>\n",
       "      <th>Open</th>\n",
       "      <th>High</th>\n",
       "      <th>Low</th>\n",
       "      <th>Tick Count</th>\n",
       "      <th>Volume</th>\n",
       "    </tr>\n",
       "  </thead>\n",
       "  <tbody>\n",
       "    <tr>\n",
       "      <th>0</th>\n",
       "      <td>Summary</td>\n",
       "      <td>3379.036</td>\n",
       "      <td>339.012</td>\n",
       "      <td>3036.386</td>\n",
       "      <td>3465.493</td>\n",
       "      <td>2646.811</td>\n",
       "      <td>1270440.0</td>\n",
       "      <td>N.A.</td>\n",
       "    </tr>\n",
       "    <tr>\n",
       "      <th>2</th>\n",
       "      <td>20:15 - 20:45</td>\n",
       "      <td>3042.413</td>\n",
       "      <td>2.389</td>\n",
       "      <td>3036.386</td>\n",
       "      <td>3042.413</td>\n",
       "      <td>3034.328</td>\n",
       "      <td>303.0</td>\n",
       "      <td>N.A.</td>\n",
       "    </tr>\n",
       "    <tr>\n",
       "      <th>3</th>\n",
       "      <td>20:45 - 21:15</td>\n",
       "      <td>3040.201</td>\n",
       "      <td>-2.212</td>\n",
       "      <td>3042.413</td>\n",
       "      <td>3044.264</td>\n",
       "      <td>3037.198</td>\n",
       "      <td>469.0</td>\n",
       "      <td>N.A.</td>\n",
       "    </tr>\n",
       "    <tr>\n",
       "      <th>4</th>\n",
       "      <td>21:15 - 21:45</td>\n",
       "      <td>3037.930</td>\n",
       "      <td>-2.271</td>\n",
       "      <td>3040.129</td>\n",
       "      <td>3043.792</td>\n",
       "      <td>3034.271</td>\n",
       "      <td>469.0</td>\n",
       "      <td>N.A.</td>\n",
       "    </tr>\n",
       "    <tr>\n",
       "      <th>5</th>\n",
       "      <td>21:45 - 22:15</td>\n",
       "      <td>3034.573</td>\n",
       "      <td>-3.357</td>\n",
       "      <td>3037.930</td>\n",
       "      <td>3039.345</td>\n",
       "      <td>3033.481</td>\n",
       "      <td>469.0</td>\n",
       "      <td>N.A.</td>\n",
       "    </tr>\n",
       "    <tr>\n",
       "      <th>6</th>\n",
       "      <td>22:15 - 22:45</td>\n",
       "      <td>3038.260</td>\n",
       "      <td>3.687</td>\n",
       "      <td>3034.946</td>\n",
       "      <td>3039.506</td>\n",
       "      <td>3034.804</td>\n",
       "      <td>469.0</td>\n",
       "      <td>N.A.</td>\n",
       "    </tr>\n",
       "    <tr>\n",
       "      <th>7</th>\n",
       "      <td>22:45 - 23:15</td>\n",
       "      <td>3038.260</td>\n",
       "      <td>0.000</td>\n",
       "      <td>3038.260</td>\n",
       "      <td>3038.260</td>\n",
       "      <td>3038.260</td>\n",
       "      <td>470.0</td>\n",
       "      <td>N.A.</td>\n",
       "    </tr>\n",
       "    <tr>\n",
       "      <th>8</th>\n",
       "      <td>23:15 - 23:45</td>\n",
       "      <td>3038.260</td>\n",
       "      <td>0.000</td>\n",
       "      <td>3038.260</td>\n",
       "      <td>3038.260</td>\n",
       "      <td>3038.260</td>\n",
       "      <td>470.0</td>\n",
       "      <td>N.A.</td>\n",
       "    </tr>\n",
       "    <tr>\n",
       "      <th>9</th>\n",
       "      <td>23:45 - 00:15</td>\n",
       "      <td>3034.584</td>\n",
       "      <td>-3.676</td>\n",
       "      <td>3038.260</td>\n",
       "      <td>3038.415</td>\n",
       "      <td>3034.136</td>\n",
       "      <td>469.0</td>\n",
       "      <td>N.A.</td>\n",
       "    </tr>\n",
       "    <tr>\n",
       "      <th>11</th>\n",
       "      <td>00:15 - 00:45</td>\n",
       "      <td>3039.398</td>\n",
       "      <td>4.814</td>\n",
       "      <td>3034.635</td>\n",
       "      <td>3039.744</td>\n",
       "      <td>3030.594</td>\n",
       "      <td>470.0</td>\n",
       "      <td>N.A.</td>\n",
       "    </tr>\n",
       "  </tbody>\n",
       "</table>\n",
       "</div>"
      ],
      "text/plain": [
       "    Time Interval     Close  Net Chg      Open      High       Low  \\\n",
       "0         Summary  3379.036  339.012  3036.386  3465.493  2646.811   \n",
       "2   20:15 - 20:45  3042.413    2.389  3036.386  3042.413  3034.328   \n",
       "3   20:45 - 21:15  3040.201   -2.212  3042.413  3044.264  3037.198   \n",
       "4   21:15 - 21:45  3037.930   -2.271  3040.129  3043.792  3034.271   \n",
       "5   21:45 - 22:15  3034.573   -3.357  3037.930  3039.345  3033.481   \n",
       "6   22:15 - 22:45  3038.260    3.687  3034.946  3039.506  3034.804   \n",
       "7   22:45 - 23:15  3038.260    0.000  3038.260  3038.260  3038.260   \n",
       "8   23:15 - 23:45  3038.260    0.000  3038.260  3038.260  3038.260   \n",
       "9   23:45 - 00:15  3034.584   -3.676  3038.260  3038.415  3034.136   \n",
       "11  00:15 - 00:45  3039.398    4.814  3034.635  3039.744  3030.594   \n",
       "\n",
       "    Tick Count Volume  \n",
       "0    1270440.0   N.A.  \n",
       "2        303.0   N.A.  \n",
       "3        469.0   N.A.  \n",
       "4        469.0   N.A.  \n",
       "5        469.0   N.A.  \n",
       "6        469.0   N.A.  \n",
       "7        470.0   N.A.  \n",
       "8        470.0   N.A.  \n",
       "9        469.0   N.A.  \n",
       "11       470.0   N.A.  "
      ]
     },
     "execution_count": 5,
     "metadata": {},
     "output_type": "execute_result"
    }
   ],
   "source": [
    "df.head(10)"
   ]
  },
  {
   "cell_type": "code",
   "execution_count": 6,
   "metadata": {},
   "outputs": [
    {
     "data": {
      "text/html": [
       "<div>\n",
       "<style scoped>\n",
       "    .dataframe tbody tr th:only-of-type {\n",
       "        vertical-align: middle;\n",
       "    }\n",
       "\n",
       "    .dataframe tbody tr th {\n",
       "        vertical-align: top;\n",
       "    }\n",
       "\n",
       "    .dataframe thead th {\n",
       "        text-align: right;\n",
       "    }\n",
       "</style>\n",
       "<table border=\"1\" class=\"dataframe\">\n",
       "  <thead>\n",
       "    <tr style=\"text-align: right;\">\n",
       "      <th></th>\n",
       "      <th>Time Interval</th>\n",
       "      <th>Close</th>\n",
       "      <th>Net Chg</th>\n",
       "      <th>Open</th>\n",
       "      <th>High</th>\n",
       "      <th>Low</th>\n",
       "      <th>Tick Count</th>\n",
       "      <th>Volume</th>\n",
       "    </tr>\n",
       "  </thead>\n",
       "  <tbody>\n",
       "    <tr>\n",
       "      <th>0</th>\n",
       "      <td>Summary</td>\n",
       "      <td>3379.036</td>\n",
       "      <td>339.012</td>\n",
       "      <td>3036.386</td>\n",
       "      <td>3465.493</td>\n",
       "      <td>2646.811</td>\n",
       "      <td>1270440.0</td>\n",
       "      <td>N.A.</td>\n",
       "    </tr>\n",
       "    <tr>\n",
       "      <th>2</th>\n",
       "      <td>20:15 - 20:45</td>\n",
       "      <td>3042.413</td>\n",
       "      <td>2.389</td>\n",
       "      <td>3036.386</td>\n",
       "      <td>3042.413</td>\n",
       "      <td>3034.328</td>\n",
       "      <td>303.0</td>\n",
       "      <td>N.A.</td>\n",
       "    </tr>\n",
       "    <tr>\n",
       "      <th>3</th>\n",
       "      <td>20:45 - 21:15</td>\n",
       "      <td>3040.201</td>\n",
       "      <td>-2.212</td>\n",
       "      <td>3042.413</td>\n",
       "      <td>3044.264</td>\n",
       "      <td>3037.198</td>\n",
       "      <td>469.0</td>\n",
       "      <td>N.A.</td>\n",
       "    </tr>\n",
       "    <tr>\n",
       "      <th>4</th>\n",
       "      <td>21:15 - 21:45</td>\n",
       "      <td>3037.930</td>\n",
       "      <td>-2.271</td>\n",
       "      <td>3040.129</td>\n",
       "      <td>3043.792</td>\n",
       "      <td>3034.271</td>\n",
       "      <td>469.0</td>\n",
       "      <td>N.A.</td>\n",
       "    </tr>\n",
       "    <tr>\n",
       "      <th>5</th>\n",
       "      <td>21:45 - 22:15</td>\n",
       "      <td>3034.573</td>\n",
       "      <td>-3.357</td>\n",
       "      <td>3037.930</td>\n",
       "      <td>3039.345</td>\n",
       "      <td>3033.481</td>\n",
       "      <td>469.0</td>\n",
       "      <td>N.A.</td>\n",
       "    </tr>\n",
       "    <tr>\n",
       "      <th>6</th>\n",
       "      <td>22:15 - 22:45</td>\n",
       "      <td>3038.260</td>\n",
       "      <td>3.687</td>\n",
       "      <td>3034.946</td>\n",
       "      <td>3039.506</td>\n",
       "      <td>3034.804</td>\n",
       "      <td>469.0</td>\n",
       "      <td>N.A.</td>\n",
       "    </tr>\n",
       "    <tr>\n",
       "      <th>7</th>\n",
       "      <td>22:45 - 23:15</td>\n",
       "      <td>3038.260</td>\n",
       "      <td>0.000</td>\n",
       "      <td>3038.260</td>\n",
       "      <td>3038.260</td>\n",
       "      <td>3038.260</td>\n",
       "      <td>470.0</td>\n",
       "      <td>N.A.</td>\n",
       "    </tr>\n",
       "    <tr>\n",
       "      <th>8</th>\n",
       "      <td>23:15 - 23:45</td>\n",
       "      <td>3038.260</td>\n",
       "      <td>0.000</td>\n",
       "      <td>3038.260</td>\n",
       "      <td>3038.260</td>\n",
       "      <td>3038.260</td>\n",
       "      <td>470.0</td>\n",
       "      <td>N.A.</td>\n",
       "    </tr>\n",
       "    <tr>\n",
       "      <th>9</th>\n",
       "      <td>23:45 - 00:15</td>\n",
       "      <td>3034.584</td>\n",
       "      <td>-3.676</td>\n",
       "      <td>3038.260</td>\n",
       "      <td>3038.415</td>\n",
       "      <td>3034.136</td>\n",
       "      <td>469.0</td>\n",
       "      <td>N.A.</td>\n",
       "    </tr>\n",
       "    <tr>\n",
       "      <th>11</th>\n",
       "      <td>00:15 - 00:45</td>\n",
       "      <td>3039.398</td>\n",
       "      <td>4.814</td>\n",
       "      <td>3034.635</td>\n",
       "      <td>3039.744</td>\n",
       "      <td>3030.594</td>\n",
       "      <td>470.0</td>\n",
       "      <td>N.A.</td>\n",
       "    </tr>\n",
       "  </tbody>\n",
       "</table>\n",
       "</div>"
      ],
      "text/plain": [
       "    Time Interval     Close  Net Chg      Open      High       Low  \\\n",
       "0         Summary  3379.036  339.012  3036.386  3465.493  2646.811   \n",
       "2   20:15 - 20:45  3042.413    2.389  3036.386  3042.413  3034.328   \n",
       "3   20:45 - 21:15  3040.201   -2.212  3042.413  3044.264  3037.198   \n",
       "4   21:15 - 21:45  3037.930   -2.271  3040.129  3043.792  3034.271   \n",
       "5   21:45 - 22:15  3034.573   -3.357  3037.930  3039.345  3033.481   \n",
       "6   22:15 - 22:45  3038.260    3.687  3034.946  3039.506  3034.804   \n",
       "7   22:45 - 23:15  3038.260    0.000  3038.260  3038.260  3038.260   \n",
       "8   23:15 - 23:45  3038.260    0.000  3038.260  3038.260  3038.260   \n",
       "9   23:45 - 00:15  3034.584   -3.676  3038.260  3038.415  3034.136   \n",
       "11  00:15 - 00:45  3039.398    4.814  3034.635  3039.744  3030.594   \n",
       "\n",
       "    Tick Count Volume  \n",
       "0    1270440.0   N.A.  \n",
       "2        303.0   N.A.  \n",
       "3        469.0   N.A.  \n",
       "4        469.0   N.A.  \n",
       "5        469.0   N.A.  \n",
       "6        469.0   N.A.  \n",
       "7        470.0   N.A.  \n",
       "8        470.0   N.A.  \n",
       "9        469.0   N.A.  \n",
       "11       470.0   N.A.  "
      ]
     },
     "execution_count": 6,
     "metadata": {},
     "output_type": "execute_result"
    }
   ],
   "source": [
    "# df.index=[i for i in range(len(df))] or df.reset_index(inplace=True) to make indices in 1,2,3 order\n",
    "df.head(10)\n",
    "# print(df.loc[0])"
   ]
  },
  {
   "cell_type": "code",
   "execution_count": 7,
   "metadata": {},
   "outputs": [],
   "source": [
    "df1=df.reset_index()['Close']"
   ]
  },
  {
   "cell_type": "code",
   "execution_count": 8,
   "metadata": {},
   "outputs": [
    {
     "data": {
      "text/plain": [
       "0       3379.036\n",
       "1       3042.413\n",
       "2       3040.201\n",
       "3       3037.930\n",
       "4       3034.573\n",
       "          ...   \n",
       "2900    3386.783\n",
       "2901    3390.892\n",
       "2902    3379.596\n",
       "2903    3380.257\n",
       "2904    3379.036\n",
       "Name: Close, Length: 2905, dtype: float64"
      ]
     },
     "execution_count": 8,
     "metadata": {},
     "output_type": "execute_result"
    }
   ],
   "source": [
    "df1"
   ]
  },
  {
   "cell_type": "code",
   "execution_count": 9,
   "metadata": {},
   "outputs": [
    {
     "data": {
      "text/plain": [
       "[<matplotlib.lines.Line2D at 0x21ef6641900>]"
      ]
     },
     "execution_count": 9,
     "metadata": {},
     "output_type": "execute_result"
    },
    {
     "data": {
      "image/png": "[encoded data removed]",
      "text/plain": [
       "<Figure size 640x480 with 1 Axes>"
      ]
     },
     "metadata": {},
     "output_type": "display_data"
    }
   ],
   "source": [
    "import matplotlib.pyplot as plt\n",
    "plt.plot(df1)"
   ]
  },
  {
   "cell_type": "code",
   "execution_count": 10,
   "metadata": {},
   "outputs": [],
   "source": [
    "### LSTM are sensitive to the scale of the data. so we apply MinMax scaler "
   ]
  },
  {
   "cell_type": "code",
   "execution_count": 11,
   "metadata": {},
   "outputs": [],
   "source": [
    "import numpy as np"
   ]
  },
  {
   "cell_type": "code",
   "execution_count": 12,
   "metadata": {},
   "outputs": [
    {
     "data": {
      "text/plain": [
       "0       3379.036\n",
       "1       3042.413\n",
       "2       3040.201\n",
       "3       3037.930\n",
       "4       3034.573\n",
       "          ...   \n",
       "2900    3386.783\n",
       "2901    3390.892\n",
       "2902    3379.596\n",
       "2903    3380.257\n",
       "2904    3379.036\n",
       "Name: Close, Length: 2905, dtype: float64"
      ]
     },
     "execution_count": 12,
     "metadata": {},
     "output_type": "execute_result"
    }
   ],
   "source": [
    "df1"
   ]
  },
  {
   "cell_type": "code",
   "execution_count": 13,
   "metadata": {},
   "outputs": [],
   "source": [
    "from sklearn.preprocessing import MinMaxScaler\n",
    "scaler=MinMaxScaler(feature_range=(0,1))\n",
    "df1=scaler.fit_transform(np.array(df1).reshape(-1,1))"
   ]
  },
  {
   "cell_type": "code",
   "execution_count": 14,
   "metadata": {},
   "outputs": [
    {
     "name": "stdout",
     "output_type": "stream",
     "text": [
      "[[0.90120371]\n",
      " [0.47960864]\n",
      " [0.47683828]\n",
      " ...\n",
      " [0.90190506]\n",
      " [0.90273292]\n",
      " [0.90120371]]\n"
     ]
    }
   ],
   "source": [
    "print(df1)"
   ]
  },
  {
   "cell_type": "code",
   "execution_count": 15,
   "metadata": {},
   "outputs": [],
   "source": [
    "##splitting dataset into train and test split\n",
    "training_size=int(len(df1)*0.65)\n",
    "test_size=len(df1)-training_size\n",
    "train_data,test_data=df1[0:training_size,:],df1[training_size:len(df1),:1]"
   ]
  },
  {
   "cell_type": "code",
   "execution_count": 16,
   "metadata": {},
   "outputs": [
    {
     "data": {
      "text/plain": [
       "(1888, 1017)"
      ]
     },
     "execution_count": 16,
     "metadata": {},
     "output_type": "execute_result"
    }
   ],
   "source": [
    "training_size,test_size"
   ]
  },
  {
   "cell_type": "code",
   "execution_count": 17,
   "metadata": {
    "scrolled": true
   },
   "outputs": [
    {
     "data": {
      "text/plain": [
       "array([[0.90120371],\n",
       "       [0.47960864],\n",
       "       [0.47683828],\n",
       "       ...,\n",
       "       [0.93081479],\n",
       "       [0.92319253],\n",
       "       [0.91674755]])"
      ]
     },
     "execution_count": 17,
     "metadata": {},
     "output_type": "execute_result"
    }
   ],
   "source": [
    "train_data"
   ]
  },
  {
   "cell_type": "code",
   "execution_count": 18,
   "metadata": {},
   "outputs": [
    {
     "data": {
      "text/plain": [
       "array([[0.91221252],\n",
       "       [0.90131141],\n",
       "       [0.90131141],\n",
       "       ...,\n",
       "       [0.90190506],\n",
       "       [0.90273292],\n",
       "       [0.90120371]])"
      ]
     },
     "execution_count": 18,
     "metadata": {},
     "output_type": "execute_result"
    }
   ],
   "source": [
    "test_data"
   ]
  },
  {
   "cell_type": "code",
   "execution_count": 19,
   "metadata": {},
   "outputs": [],
   "source": [
    "import numpy\n",
    "# convert an array of values into a dataset matrix\n",
    "def create_dataset(dataset, time_step=1):\n",
    "\tdataX, dataY = [], []\n",
    "\tfor i in range(len(dataset)-time_step-1):\n",
    "\t\ta = dataset[i:(i+time_step), 0]   ###i=0, 0,1,2,3-----99   100 \n",
    "\t\tdataX.append(a)\n",
    "\t\tdataY.append(dataset[i + time_step, 0])\n",
    "\treturn numpy.array(dataX), numpy.array(dataY)"
   ]
  },
  {
   "cell_type": "code",
   "execution_count": 20,
   "metadata": {},
   "outputs": [],
   "source": [
    "# reshape into X=t,t+1,t+2,t+3 and Y=t+4\n",
    "time_step = 100\n",
    "X_train, y_train = create_dataset(train_data, time_step)\n",
    "X_test, ytest = create_dataset(test_data, time_step)"
   ]
  },
  {
   "cell_type": "code",
   "execution_count": 21,
   "metadata": {},
   "outputs": [
    {
     "name": "stdout",
     "output_type": "stream",
     "text": [
      "(1787, 100)\n",
      "(1787,)\n"
     ]
    },
    {
     "data": {
      "text/plain": [
       "(None, None)"
      ]
     },
     "execution_count": 21,
     "metadata": {},
     "output_type": "execute_result"
    }
   ],
   "source": [
    "print(X_train.shape), print(y_train.shape)"
   ]
  },
  {
   "cell_type": "code",
   "execution_count": 22,
   "metadata": {},
   "outputs": [
    {
     "name": "stdout",
     "output_type": "stream",
     "text": [
      "(916, 100)\n",
      "(916,)\n"
     ]
    },
    {
     "data": {
      "text/plain": [
       "(None, None)"
      ]
     },
     "execution_count": 22,
     "metadata": {},
     "output_type": "execute_result"
    }
   ],
   "source": [
    "print(X_test.shape), print(ytest.shape)"
   ]
  },
  {
   "cell_type": "code",
   "execution_count": 23,
   "metadata": {},
   "outputs": [],
   "source": [
    "# reshape input to be [samples, time steps, features] which is required for LSTM\n",
    "X_train =X_train.reshape(X_train.shape[0],X_train.shape[1] , 1)\n",
    "X_test = X_test.reshape(X_test.shape[0],X_test.shape[1] , 1)"
   ]
  },
  {
   "cell_type": "code",
   "execution_count": 24,
   "metadata": {},
   "outputs": [
    {
     "name": "stdout",
     "output_type": "stream",
     "text": [
      "(1787, 100, 1)\n"
     ]
    }
   ],
   "source": [
    "print(X_train.shape)"
   ]
  },
  {
   "cell_type": "code",
   "execution_count": 25,
   "metadata": {
    "scrolled": false
   },
   "outputs": [],
   "source": [
    "# pip install tensorflow"
   ]
  },
  {
   "cell_type": "code",
   "execution_count": 26,
   "metadata": {},
   "outputs": [],
   "source": [
    "### Create the Stacked LSTM model\n",
    "from tensorflow.keras.models import Sequential\n",
    "from tensorflow.keras.layers import Dense\n",
    "from tensorflow.keras.layers import LSTM"
   ]
  },
  {
   "cell_type": "code",
   "execution_count": null,
   "metadata": {},
   "outputs": [],
   "source": [
    "model=Sequential()\n",
    "model.add(LSTM(50,return_sequences=True,input_shape=(100,1)))\n",
    "model.add(LSTM(50,return_sequences=True))\n",
    "model.add(LSTM(50))\n",
    "model.add(Dense(1))\n",
    "model.compile(loss='mean_squared_error',optimizer='adam')\n"
   ]
  },
  {
   "cell_type": "code",
   "execution_count": null,
   "metadata": {
    "scrolled": true
   },
   "outputs": [],
   "source": [
    "model.summary()"
   ]
  },
  {
   "cell_type": "code",
   "execution_count": null,
   "metadata": {},
   "outputs": [],
   "source": [
    "model.fit(X_train,y_train,validation_data=(X_test,ytest),epochs=100,batch_size=64,verbose=1)"
   ]
  },
  {
   "cell_type": "code",
   "execution_count": null,
   "metadata": {},
   "outputs": [],
   "source": [
    "import tensorflow as tf"
   ]
  },
  {
   "cell_type": "code",
   "execution_count": null,
   "metadata": {},
   "outputs": [],
   "source": [
    "tf.__version__"
   ]
  },
  {
   "cell_type": "code",
   "execution_count": null,
   "metadata": {},
   "outputs": [],
   "source": [
    "### Lets Do the prediction and check performance metrics\n",
    "train_predict=model.predict(X_train)\n",
    "test_predict=model.predict(X_test)"
   ]
  },
  {
   "cell_type": "code",
   "execution_count": null,
   "metadata": {},
   "outputs": [],
   "source": [
    "train_predict.shape"
   ]
  },
  {
   "cell_type": "code",
   "execution_count": null,
   "metadata": {},
   "outputs": [],
   "source": [
    "##Transformback to original form\n",
    "train_predict=scaler.inverse_transform(train_predict)\n",
    "test_predict=scaler.inverse_transform(test_predict)"
   ]
  },
  {
   "cell_type": "code",
   "execution_count": null,
   "metadata": {},
   "outputs": [],
   "source": [
    "### Calculate RMSE performance metrics\n",
    "import math\n",
    "from sklearn.metrics import mean_squared_error\n",
    "math.sqrt(mean_squared_error(y_train,train_predict))"
   ]
  },
  {
   "cell_type": "code",
   "execution_count": null,
   "metadata": {},
   "outputs": [],
   "source": [
    "### Test Data RMSE\n",
    "math.sqrt(mean_squared_error(ytest,test_predict))"
   ]
  },
  {
   "cell_type": "code",
   "execution_count": null,
   "metadata": {},
   "outputs": [],
   "source": [
    "### Plotting \n",
    "# shift train predictions for plotting\n",
    "look_back=100\n",
    "trainPredictPlot = numpy.empty_like(df1)\n",
    "trainPredictPlot[:, :] = np.nan\n",
    "trainPredictPlot[look_back:len(train_predict)+look_back, :] = train_predict\n",
    "# shift test predictions for plotting\n",
    "testPredictPlot = numpy.empty_like(df1)\n",
    "testPredictPlot[:, :] = numpy.nan\n",
    "testPredictPlot[len(train_predict)+(look_back*2)+1:len(df1)-1, :] = test_predict\n",
    "# plot baseline and predictions\n",
    "plt.plot(scaler.inverse_transform(df1))\n",
    "plt.plot(trainPredictPlot)\n",
    "plt.plot(testPredictPlot)\n",
    "plt.legend(['data set','train','test'])\n",
    "plt.show()"
   ]
  },
  {
   "cell_type": "code",
   "execution_count": null,
   "metadata": {},
   "outputs": [],
   "source": [
    "len(test_data)"
   ]
  },
  {
   "cell_type": "code",
   "execution_count": null,
   "metadata": {},
   "outputs": [],
   "source": [
    "x_input=test_data[len(test_data)-100:].reshape(1,-1)\n",
    "x_input.shape\n"
   ]
  },
  {
   "cell_type": "code",
   "execution_count": null,
   "metadata": {},
   "outputs": [],
   "source": []
  },
  {
   "cell_type": "code",
   "execution_count": null,
   "metadata": {},
   "outputs": [],
   "source": []
  },
  {
   "cell_type": "code",
   "execution_count": null,
   "metadata": {},
   "outputs": [],
   "source": [
    "temp_input=list(x_input)\n",
    "temp_input=temp_input[0].tolist()"
   ]
  },
  {
   "cell_type": "code",
   "execution_count": null,
   "metadata": {},
   "outputs": [],
   "source": [
    "temp_input"
   ]
  },
  {
   "cell_type": "code",
   "execution_count": null,
   "metadata": {},
   "outputs": [],
   "source": [
    "# demonstrate prediction for next 30 days\n",
    "from numpy import array\n",
    "\n",
    "lst_output=[]\n",
    "n_steps=100\n",
    "i=0\n",
    "while(i<30):\n",
    "    \n",
    "    if(len(temp_input)>100):\n",
    "        #print(temp_input)\n",
    "        x_input=np.array(temp_input[1:])\n",
    "        print(\"{} day input {}\".format(i,x_input))\n",
    "        x_input=x_input.reshape(1,-1)\n",
    "        x_input = x_input.reshape((1, n_steps, 1))\n",
    "        #print(x_input)\n",
    "        yhat = model.predict(x_input, verbose=0)\n",
    "        print(\"{} day output {}\".format(i,yhat))\n",
    "        temp_input.extend(yhat[0].tolist())\n",
    "        temp_input=temp_input[1:]\n",
    "        #print(temp_input)\n",
    "        lst_output.extend(yhat.tolist())\n",
    "        i=i+1\n",
    "    else:\n",
    "        x_input = x_input.reshape((1, n_steps,1))\n",
    "        yhat = model.predict(x_input, verbose=0)\n",
    "        print(yhat[0])\n",
    "        temp_input.extend(yhat[0].tolist())\n",
    "        print(len(temp_input))\n",
    "        lst_output.extend(yhat.tolist())\n",
    "        i=i+1\n",
    "    \n",
    "\n",
    "print(lst_output)"
   ]
  },
  {
   "cell_type": "code",
   "execution_count": null,
   "metadata": {},
   "outputs": [],
   "source": [
    "day_new=np.arange(1,101)\n",
    "day_pred=np.arange(101,131)"
   ]
  },
  {
   "cell_type": "code",
   "execution_count": null,
   "metadata": {},
   "outputs": [],
   "source": [
    "import matplotlib.pyplot as plt"
   ]
  },
  {
   "cell_type": "code",
   "execution_count": null,
   "metadata": {},
   "outputs": [],
   "source": [
    "len(df1)"
   ]
  },
  {
   "cell_type": "code",
   "execution_count": null,
   "metadata": {},
   "outputs": [],
   "source": []
  },
  {
   "cell_type": "code",
   "execution_count": null,
   "metadata": {},
   "outputs": [],
   "source": [
    "plt.plot(day_new,scaler.inverse_transform(df1[len(df1)-100:]))\n",
    "plt.plot(day_pred,scaler.inverse_transform(lst_output))"
   ]
  },
  {
   "cell_type": "code",
   "execution_count": null,
   "metadata": {},
   "outputs": [],
   "source": [
    "df3=df1.tolist()\n",
    "df3.extend(lst_output)\n",
    "plt.plot(df3[1200:])"
   ]
  },
  {
   "cell_type": "code",
   "execution_count": null,
   "metadata": {},
   "outputs": [],
   "source": [
    "df3=scaler.inverse_transform(df3).tolist()"
   ]
  },
  {
   "cell_type": "code",
   "execution_count": null,
   "metadata": {
    "scrolled": true
   },
   "outputs": [],
   "source": [
    "plt.plot(df3)"
   ]
  }
 ],
 "metadata": {
  "kernelspec": {
   "display_name": "Python 3 (ipykernel)",
   "language": "python",
   "name": "python3"
  },
  "language_info": {
   "codemirror_mode": {
    "name": "ipython",
    "version": 3
   },
   "file_extension": ".py",
   "mimetype": "text/x-python",
   "name": "python",
   "nbconvert_exporter": "python",
   "pygments_lexer": "ipython3",
   "version": "3.10.9"
  }
 },
 "nbformat": 4,
 "nbformat_minor": 2
}
