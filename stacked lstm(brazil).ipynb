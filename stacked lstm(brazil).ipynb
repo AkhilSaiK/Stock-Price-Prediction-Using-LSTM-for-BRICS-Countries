{
 "cells": [
  {
   "cell_type": "markdown",
   "metadata": {},
   "source": [
    "### Stock Market Prediction And Forecasting Using Stacked LSTM"
   ]
  },
  {
   "cell_type": "code",
   "execution_count": 1,
   "metadata": {},
   "outputs": [],
   "source": [
    "import pandas as pd"
   ]
  },
  {
   "cell_type": "code",
   "execution_count": 2,
   "metadata": {
    "scrolled": true
   },
   "outputs": [],
   "source": [
    "df=pd.read_csv('brazil.csv')"
   ]
  },
  {
   "cell_type": "code",
   "execution_count": 3,
   "metadata": {},
   "outputs": [
    {
     "data": {
      "text/html": [
       "<div>\n",
       "<style scoped>\n",
       "    .dataframe tbody tr th:only-of-type {\n",
       "        vertical-align: middle;\n",
       "    }\n",
       "\n",
       "    .dataframe tbody tr th {\n",
       "        vertical-align: top;\n",
       "    }\n",
       "\n",
       "    .dataframe thead th {\n",
       "        text-align: right;\n",
       "    }\n",
       "</style>\n",
       "<table border=\"1\" class=\"dataframe\">\n",
       "  <thead>\n",
       "    <tr style=\"text-align: right;\">\n",
       "      <th></th>\n",
       "      <th>Time Interval</th>\n",
       "      <th>Close</th>\n",
       "      <th>Net Chg</th>\n",
       "      <th>Open</th>\n",
       "      <th>High</th>\n",
       "      <th>Low</th>\n",
       "      <th>Tick Count</th>\n",
       "      <th>Volume</th>\n",
       "    </tr>\n",
       "  </thead>\n",
       "  <tbody>\n",
       "    <tr>\n",
       "      <th>0</th>\n",
       "      <td>Summary</td>\n",
       "      <td>119017.2</td>\n",
       "      <td>3371.9</td>\n",
       "      <td>115652.0</td>\n",
       "      <td>120149.9</td>\n",
       "      <td>61690.5</td>\n",
       "      <td>226717.0</td>\n",
       "      <td>N.A.</td>\n",
       "    </tr>\n",
       "    <tr>\n",
       "      <th>1</th>\n",
       "      <td>02JAN2020_00:00:00.000000</td>\n",
       "      <td>NaN</td>\n",
       "      <td>NaN</td>\n",
       "      <td>NaN</td>\n",
       "      <td>NaN</td>\n",
       "      <td>NaN</td>\n",
       "      <td>NaN</td>\n",
       "      <td>NaN</td>\n",
       "    </tr>\n",
       "    <tr>\n",
       "      <th>2</th>\n",
       "      <td>08:00 - 08:30</td>\n",
       "      <td>116451.5</td>\n",
       "      <td>806.2</td>\n",
       "      <td>115652.0</td>\n",
       "      <td>116574.7</td>\n",
       "      <td>115649.0</td>\n",
       "      <td>61.0</td>\n",
       "      <td>N.A.</td>\n",
       "    </tr>\n",
       "    <tr>\n",
       "      <th>3</th>\n",
       "      <td>08:30 - 09:00</td>\n",
       "      <td>116451.5</td>\n",
       "      <td>528.1</td>\n",
       "      <td>116546.4</td>\n",
       "      <td>116979.6</td>\n",
       "      <td>116515.3</td>\n",
       "      <td>60.0</td>\n",
       "      <td>N.A.</td>\n",
       "    </tr>\n",
       "    <tr>\n",
       "      <th>4</th>\n",
       "      <td>09:00 - 09:30</td>\n",
       "      <td>116451.5</td>\n",
       "      <td>103.6</td>\n",
       "      <td>116957.1</td>\n",
       "      <td>117108.5</td>\n",
       "      <td>116956.2</td>\n",
       "      <td>60.0</td>\n",
       "      <td>N.A.</td>\n",
       "    </tr>\n",
       "    <tr>\n",
       "      <th>5</th>\n",
       "      <td>09:30 - 10:00</td>\n",
       "      <td>116451.5</td>\n",
       "      <td>730.2</td>\n",
       "      <td>117209.2</td>\n",
       "      <td>117813.4</td>\n",
       "      <td>117139.7</td>\n",
       "      <td>60.0</td>\n",
       "      <td>N.A.</td>\n",
       "    </tr>\n",
       "    <tr>\n",
       "      <th>6</th>\n",
       "      <td>10:00 - 10:30</td>\n",
       "      <td>116451.5</td>\n",
       "      <td>-243.5</td>\n",
       "      <td>117795.4</td>\n",
       "      <td>117846.3</td>\n",
       "      <td>117465.0</td>\n",
       "      <td>60.0</td>\n",
       "      <td>N.A.</td>\n",
       "    </tr>\n",
       "    <tr>\n",
       "      <th>7</th>\n",
       "      <td>10:30 - 11:00</td>\n",
       "      <td>116451.5</td>\n",
       "      <td>156.7</td>\n",
       "      <td>117561.0</td>\n",
       "      <td>117735.4</td>\n",
       "      <td>117535.5</td>\n",
       "      <td>60.0</td>\n",
       "      <td>N.A.</td>\n",
       "    </tr>\n",
       "    <tr>\n",
       "      <th>8</th>\n",
       "      <td>11:00 - 11:30</td>\n",
       "      <td>116451.5</td>\n",
       "      <td>-16.1</td>\n",
       "      <td>117739.4</td>\n",
       "      <td>117837.1</td>\n",
       "      <td>117710.5</td>\n",
       "      <td>60.0</td>\n",
       "      <td>N.A.</td>\n",
       "    </tr>\n",
       "    <tr>\n",
       "      <th>9</th>\n",
       "      <td>11:30 - 12:00</td>\n",
       "      <td>116451.5</td>\n",
       "      <td>-61.0</td>\n",
       "      <td>117658.2</td>\n",
       "      <td>117661.6</td>\n",
       "      <td>117562.8</td>\n",
       "      <td>60.0</td>\n",
       "      <td>N.A.</td>\n",
       "    </tr>\n",
       "  </tbody>\n",
       "</table>\n",
       "</div>"
      ],
      "text/plain": [
       "               Time Interval     Close  Net Chg      Open      High       Low  \\\n",
       "0                    Summary  119017.2   3371.9  115652.0  120149.9   61690.5   \n",
       "1  02JAN2020_00:00:00.000000       NaN      NaN       NaN       NaN       NaN   \n",
       "2              08:00 - 08:30  116451.5    806.2  115652.0  116574.7  115649.0   \n",
       "3              08:30 - 09:00  116451.5    528.1  116546.4  116979.6  116515.3   \n",
       "4              09:00 - 09:30  116451.5    103.6  116957.1  117108.5  116956.2   \n",
       "5              09:30 - 10:00  116451.5    730.2  117209.2  117813.4  117139.7   \n",
       "6              10:00 - 10:30  116451.5   -243.5  117795.4  117846.3  117465.0   \n",
       "7              10:30 - 11:00  116451.5    156.7  117561.0  117735.4  117535.5   \n",
       "8              11:00 - 11:30  116451.5    -16.1  117739.4  117837.1  117710.5   \n",
       "9              11:30 - 12:00  116451.5    -61.0  117658.2  117661.6  117562.8   \n",
       "\n",
       "   Tick Count Volume  \n",
       "0    226717.0   N.A.  \n",
       "1         NaN    NaN  \n",
       "2        61.0   N.A.  \n",
       "3        60.0   N.A.  \n",
       "4        60.0   N.A.  \n",
       "5        60.0   N.A.  \n",
       "6        60.0   N.A.  \n",
       "7        60.0   N.A.  \n",
       "8        60.0   N.A.  \n",
       "9        60.0   N.A.  "
      ]
     },
     "execution_count": 3,
     "metadata": {},
     "output_type": "execute_result"
    }
   ],
   "source": [
    "df.head(10)"
   ]
  },
  {
   "cell_type": "code",
   "execution_count": 4,
   "metadata": {},
   "outputs": [],
   "source": [
    "df=df.dropna()"
   ]
  },
  {
   "cell_type": "code",
   "execution_count": 5,
   "metadata": {
    "scrolled": false
   },
   "outputs": [
    {
     "data": {
      "text/html": [
       "<div>\n",
       "<style scoped>\n",
       "    .dataframe tbody tr th:only-of-type {\n",
       "        vertical-align: middle;\n",
       "    }\n",
       "\n",
       "    .dataframe tbody tr th {\n",
       "        vertical-align: top;\n",
       "    }\n",
       "\n",
       "    .dataframe thead th {\n",
       "        text-align: right;\n",
       "    }\n",
       "</style>\n",
       "<table border=\"1\" class=\"dataframe\">\n",
       "  <thead>\n",
       "    <tr style=\"text-align: right;\">\n",
       "      <th></th>\n",
       "      <th>Time Interval</th>\n",
       "      <th>Close</th>\n",
       "      <th>Net Chg</th>\n",
       "      <th>Open</th>\n",
       "      <th>High</th>\n",
       "      <th>Low</th>\n",
       "      <th>Tick Count</th>\n",
       "      <th>Volume</th>\n",
       "    </tr>\n",
       "  </thead>\n",
       "  <tbody>\n",
       "    <tr>\n",
       "      <th>0</th>\n",
       "      <td>Summary</td>\n",
       "      <td>119017.2</td>\n",
       "      <td>3371.9</td>\n",
       "      <td>115652.0</td>\n",
       "      <td>120149.9</td>\n",
       "      <td>61690.5</td>\n",
       "      <td>226717.0</td>\n",
       "      <td>N.A.</td>\n",
       "    </tr>\n",
       "    <tr>\n",
       "      <th>2</th>\n",
       "      <td>08:00 - 08:30</td>\n",
       "      <td>116451.5</td>\n",
       "      <td>806.2</td>\n",
       "      <td>115652.0</td>\n",
       "      <td>116574.7</td>\n",
       "      <td>115649.0</td>\n",
       "      <td>61.0</td>\n",
       "      <td>N.A.</td>\n",
       "    </tr>\n",
       "    <tr>\n",
       "      <th>3</th>\n",
       "      <td>08:30 - 09:00</td>\n",
       "      <td>116451.5</td>\n",
       "      <td>528.1</td>\n",
       "      <td>116546.4</td>\n",
       "      <td>116979.6</td>\n",
       "      <td>116515.3</td>\n",
       "      <td>60.0</td>\n",
       "      <td>N.A.</td>\n",
       "    </tr>\n",
       "    <tr>\n",
       "      <th>4</th>\n",
       "      <td>09:00 - 09:30</td>\n",
       "      <td>116451.5</td>\n",
       "      <td>103.6</td>\n",
       "      <td>116957.1</td>\n",
       "      <td>117108.5</td>\n",
       "      <td>116956.2</td>\n",
       "      <td>60.0</td>\n",
       "      <td>N.A.</td>\n",
       "    </tr>\n",
       "    <tr>\n",
       "      <th>5</th>\n",
       "      <td>09:30 - 10:00</td>\n",
       "      <td>116451.5</td>\n",
       "      <td>730.2</td>\n",
       "      <td>117209.2</td>\n",
       "      <td>117813.4</td>\n",
       "      <td>117139.7</td>\n",
       "      <td>60.0</td>\n",
       "      <td>N.A.</td>\n",
       "    </tr>\n",
       "    <tr>\n",
       "      <th>6</th>\n",
       "      <td>10:00 - 10:30</td>\n",
       "      <td>116451.5</td>\n",
       "      <td>-243.5</td>\n",
       "      <td>117795.4</td>\n",
       "      <td>117846.3</td>\n",
       "      <td>117465.0</td>\n",
       "      <td>60.0</td>\n",
       "      <td>N.A.</td>\n",
       "    </tr>\n",
       "    <tr>\n",
       "      <th>7</th>\n",
       "      <td>10:30 - 11:00</td>\n",
       "      <td>116451.5</td>\n",
       "      <td>156.7</td>\n",
       "      <td>117561.0</td>\n",
       "      <td>117735.4</td>\n",
       "      <td>117535.5</td>\n",
       "      <td>60.0</td>\n",
       "      <td>N.A.</td>\n",
       "    </tr>\n",
       "    <tr>\n",
       "      <th>8</th>\n",
       "      <td>11:00 - 11:30</td>\n",
       "      <td>116451.5</td>\n",
       "      <td>-16.1</td>\n",
       "      <td>117739.4</td>\n",
       "      <td>117837.1</td>\n",
       "      <td>117710.5</td>\n",
       "      <td>60.0</td>\n",
       "      <td>N.A.</td>\n",
       "    </tr>\n",
       "    <tr>\n",
       "      <th>9</th>\n",
       "      <td>11:30 - 12:00</td>\n",
       "      <td>116451.5</td>\n",
       "      <td>-61.0</td>\n",
       "      <td>117658.2</td>\n",
       "      <td>117661.6</td>\n",
       "      <td>117562.8</td>\n",
       "      <td>60.0</td>\n",
       "      <td>N.A.</td>\n",
       "    </tr>\n",
       "    <tr>\n",
       "      <th>10</th>\n",
       "      <td>12:00 - 12:30</td>\n",
       "      <td>116451.5</td>\n",
       "      <td>36.2</td>\n",
       "      <td>117690.3</td>\n",
       "      <td>117776.8</td>\n",
       "      <td>117641.8</td>\n",
       "      <td>60.0</td>\n",
       "      <td>N.A.</td>\n",
       "    </tr>\n",
       "  </tbody>\n",
       "</table>\n",
       "</div>"
      ],
      "text/plain": [
       "    Time Interval     Close  Net Chg      Open      High       Low  \\\n",
       "0         Summary  119017.2   3371.9  115652.0  120149.9   61690.5   \n",
       "2   08:00 - 08:30  116451.5    806.2  115652.0  116574.7  115649.0   \n",
       "3   08:30 - 09:00  116451.5    528.1  116546.4  116979.6  116515.3   \n",
       "4   09:00 - 09:30  116451.5    103.6  116957.1  117108.5  116956.2   \n",
       "5   09:30 - 10:00  116451.5    730.2  117209.2  117813.4  117139.7   \n",
       "6   10:00 - 10:30  116451.5   -243.5  117795.4  117846.3  117465.0   \n",
       "7   10:30 - 11:00  116451.5    156.7  117561.0  117735.4  117535.5   \n",
       "8   11:00 - 11:30  116451.5    -16.1  117739.4  117837.1  117710.5   \n",
       "9   11:30 - 12:00  116451.5    -61.0  117658.2  117661.6  117562.8   \n",
       "10  12:00 - 12:30  116451.5     36.2  117690.3  117776.8  117641.8   \n",
       "\n",
       "    Tick Count Volume  \n",
       "0     226717.0   N.A.  \n",
       "2         61.0   N.A.  \n",
       "3         60.0   N.A.  \n",
       "4         60.0   N.A.  \n",
       "5         60.0   N.A.  \n",
       "6         60.0   N.A.  \n",
       "7         60.0   N.A.  \n",
       "8         60.0   N.A.  \n",
       "9         60.0   N.A.  \n",
       "10        60.0   N.A.  "
      ]
     },
     "execution_count": 5,
     "metadata": {},
     "output_type": "execute_result"
    }
   ],
   "source": [
    "df.head(10)"
   ]
  },
  {
   "cell_type": "code",
   "execution_count": 6,
   "metadata": {},
   "outputs": [
    {
     "data": {
      "text/html": [
       "<div>\n",
       "<style scoped>\n",
       "    .dataframe tbody tr th:only-of-type {\n",
       "        vertical-align: middle;\n",
       "    }\n",
       "\n",
       "    .dataframe tbody tr th {\n",
       "        vertical-align: top;\n",
       "    }\n",
       "\n",
       "    .dataframe thead th {\n",
       "        text-align: right;\n",
       "    }\n",
       "</style>\n",
       "<table border=\"1\" class=\"dataframe\">\n",
       "  <thead>\n",
       "    <tr style=\"text-align: right;\">\n",
       "      <th></th>\n",
       "      <th>Time Interval</th>\n",
       "      <th>Close</th>\n",
       "      <th>Net Chg</th>\n",
       "      <th>Open</th>\n",
       "      <th>High</th>\n",
       "      <th>Low</th>\n",
       "      <th>Tick Count</th>\n",
       "      <th>Volume</th>\n",
       "    </tr>\n",
       "  </thead>\n",
       "  <tbody>\n",
       "    <tr>\n",
       "      <th>0</th>\n",
       "      <td>Summary</td>\n",
       "      <td>119017.2</td>\n",
       "      <td>3371.9</td>\n",
       "      <td>115652.0</td>\n",
       "      <td>120149.9</td>\n",
       "      <td>61690.5</td>\n",
       "      <td>226717.0</td>\n",
       "      <td>N.A.</td>\n",
       "    </tr>\n",
       "    <tr>\n",
       "      <th>2</th>\n",
       "      <td>08:00 - 08:30</td>\n",
       "      <td>116451.5</td>\n",
       "      <td>806.2</td>\n",
       "      <td>115652.0</td>\n",
       "      <td>116574.7</td>\n",
       "      <td>115649.0</td>\n",
       "      <td>61.0</td>\n",
       "      <td>N.A.</td>\n",
       "    </tr>\n",
       "    <tr>\n",
       "      <th>3</th>\n",
       "      <td>08:30 - 09:00</td>\n",
       "      <td>116451.5</td>\n",
       "      <td>528.1</td>\n",
       "      <td>116546.4</td>\n",
       "      <td>116979.6</td>\n",
       "      <td>116515.3</td>\n",
       "      <td>60.0</td>\n",
       "      <td>N.A.</td>\n",
       "    </tr>\n",
       "    <tr>\n",
       "      <th>4</th>\n",
       "      <td>09:00 - 09:30</td>\n",
       "      <td>116451.5</td>\n",
       "      <td>103.6</td>\n",
       "      <td>116957.1</td>\n",
       "      <td>117108.5</td>\n",
       "      <td>116956.2</td>\n",
       "      <td>60.0</td>\n",
       "      <td>N.A.</td>\n",
       "    </tr>\n",
       "    <tr>\n",
       "      <th>5</th>\n",
       "      <td>09:30 - 10:00</td>\n",
       "      <td>116451.5</td>\n",
       "      <td>730.2</td>\n",
       "      <td>117209.2</td>\n",
       "      <td>117813.4</td>\n",
       "      <td>117139.7</td>\n",
       "      <td>60.0</td>\n",
       "      <td>N.A.</td>\n",
       "    </tr>\n",
       "    <tr>\n",
       "      <th>6</th>\n",
       "      <td>10:00 - 10:30</td>\n",
       "      <td>116451.5</td>\n",
       "      <td>-243.5</td>\n",
       "      <td>117795.4</td>\n",
       "      <td>117846.3</td>\n",
       "      <td>117465.0</td>\n",
       "      <td>60.0</td>\n",
       "      <td>N.A.</td>\n",
       "    </tr>\n",
       "    <tr>\n",
       "      <th>7</th>\n",
       "      <td>10:30 - 11:00</td>\n",
       "      <td>116451.5</td>\n",
       "      <td>156.7</td>\n",
       "      <td>117561.0</td>\n",
       "      <td>117735.4</td>\n",
       "      <td>117535.5</td>\n",
       "      <td>60.0</td>\n",
       "      <td>N.A.</td>\n",
       "    </tr>\n",
       "    <tr>\n",
       "      <th>8</th>\n",
       "      <td>11:00 - 11:30</td>\n",
       "      <td>116451.5</td>\n",
       "      <td>-16.1</td>\n",
       "      <td>117739.4</td>\n",
       "      <td>117837.1</td>\n",
       "      <td>117710.5</td>\n",
       "      <td>60.0</td>\n",
       "      <td>N.A.</td>\n",
       "    </tr>\n",
       "    <tr>\n",
       "      <th>9</th>\n",
       "      <td>11:30 - 12:00</td>\n",
       "      <td>116451.5</td>\n",
       "      <td>-61.0</td>\n",
       "      <td>117658.2</td>\n",
       "      <td>117661.6</td>\n",
       "      <td>117562.8</td>\n",
       "      <td>60.0</td>\n",
       "      <td>N.A.</td>\n",
       "    </tr>\n",
       "    <tr>\n",
       "      <th>10</th>\n",
       "      <td>12:00 - 12:30</td>\n",
       "      <td>116451.5</td>\n",
       "      <td>36.2</td>\n",
       "      <td>117690.3</td>\n",
       "      <td>117776.8</td>\n",
       "      <td>117641.8</td>\n",
       "      <td>60.0</td>\n",
       "      <td>N.A.</td>\n",
       "    </tr>\n",
       "  </tbody>\n",
       "</table>\n",
       "</div>"
      ],
      "text/plain": [
       "    Time Interval     Close  Net Chg      Open      High       Low  \\\n",
       "0         Summary  119017.2   3371.9  115652.0  120149.9   61690.5   \n",
       "2   08:00 - 08:30  116451.5    806.2  115652.0  116574.7  115649.0   \n",
       "3   08:30 - 09:00  116451.5    528.1  116546.4  116979.6  116515.3   \n",
       "4   09:00 - 09:30  116451.5    103.6  116957.1  117108.5  116956.2   \n",
       "5   09:30 - 10:00  116451.5    730.2  117209.2  117813.4  117139.7   \n",
       "6   10:00 - 10:30  116451.5   -243.5  117795.4  117846.3  117465.0   \n",
       "7   10:30 - 11:00  116451.5    156.7  117561.0  117735.4  117535.5   \n",
       "8   11:00 - 11:30  116451.5    -16.1  117739.4  117837.1  117710.5   \n",
       "9   11:30 - 12:00  116451.5    -61.0  117658.2  117661.6  117562.8   \n",
       "10  12:00 - 12:30  116451.5     36.2  117690.3  117776.8  117641.8   \n",
       "\n",
       "    Tick Count Volume  \n",
       "0     226717.0   N.A.  \n",
       "2         61.0   N.A.  \n",
       "3         60.0   N.A.  \n",
       "4         60.0   N.A.  \n",
       "5         60.0   N.A.  \n",
       "6         60.0   N.A.  \n",
       "7         60.0   N.A.  \n",
       "8         60.0   N.A.  \n",
       "9         60.0   N.A.  \n",
       "10        60.0   N.A.  "
      ]
     },
     "execution_count": 6,
     "metadata": {},
     "output_type": "execute_result"
    }
   ],
   "source": [
    "# df.index=[i for i in range(len(df))] or df.reset_index(inplace=True) to make indices in 1,2,3 order\n",
    "df.head(10)\n",
    "# print(df.loc[0])"
   ]
  },
  {
   "cell_type": "code",
   "execution_count": 7,
   "metadata": {},
   "outputs": [],
   "source": [
    "df1=df.reset_index()['Close']"
   ]
  },
  {
   "cell_type": "code",
   "execution_count": 8,
   "metadata": {},
   "outputs": [
    {
     "data": {
      "text/plain": [
       "0       119017.2\n",
       "1       116451.5\n",
       "2       116451.5\n",
       "3       116451.5\n",
       "4       116451.5\n",
       "          ...   \n",
       "3894    119270.6\n",
       "3895    119250.4\n",
       "3896    119280.7\n",
       "3897    119225.2\n",
       "3898    119017.2\n",
       "Name: Close, Length: 3899, dtype: float64"
      ]
     },
     "execution_count": 8,
     "metadata": {},
     "output_type": "execute_result"
    }
   ],
   "source": [
    "df1"
   ]
  },
  {
   "cell_type": "code",
   "execution_count": 9,
   "metadata": {},
   "outputs": [
    {
     "data": {
      "text/plain": [
       "[<matplotlib.lines.Line2D at 0x185a58ece20>]"
      ]
     },
     "execution_count": 9,
     "metadata": {},
     "output_type": "execute_result"
    },
    {
     "data": {
      "image/png": "[encoded data removed]",
      "text/plain": [
       "<Figure size 640x480 with 1 Axes>"
      ]
     },
     "metadata": {},
     "output_type": "display_data"
    }
   ],
   "source": [
    "import matplotlib.pyplot as plt\n",
    "plt.plot(df1)"
   ]
  },
  {
   "cell_type": "code",
   "execution_count": 10,
   "metadata": {},
   "outputs": [],
   "source": [
    "### LSTM are sensitive to the scale of the data. so we apply MinMax scaler "
   ]
  },
  {
   "cell_type": "code",
   "execution_count": 11,
   "metadata": {},
   "outputs": [],
   "source": [
    "import numpy as np"
   ]
  },
  {
   "cell_type": "code",
   "execution_count": 12,
   "metadata": {},
   "outputs": [
    {
     "data": {
      "text/plain": [
       "0       119017.2\n",
       "1       116451.5\n",
       "2       116451.5\n",
       "3       116451.5\n",
       "4       116451.5\n",
       "          ...   \n",
       "3894    119270.6\n",
       "3895    119250.4\n",
       "3896    119280.7\n",
       "3897    119225.2\n",
       "3898    119017.2\n",
       "Name: Close, Length: 3899, dtype: float64"
      ]
     },
     "execution_count": 12,
     "metadata": {},
     "output_type": "execute_result"
    }
   ],
   "source": [
    "df1"
   ]
  },
  {
   "cell_type": "code",
   "execution_count": 13,
   "metadata": {},
   "outputs": [],
   "source": [
    "from sklearn.preprocessing import MinMaxScaler\n",
    "scaler=MinMaxScaler(feature_range=(0,1))\n",
    "df1=scaler.fit_transform(np.array(df1).reshape(-1,1))"
   ]
  },
  {
   "cell_type": "code",
   "execution_count": 14,
   "metadata": {},
   "outputs": [
    {
     "name": "stdout",
     "output_type": "stream",
     "text": [
      "[[0.98202923]\n",
      " [0.93744635]\n",
      " [0.93744635]\n",
      " ...\n",
      " [0.98660793]\n",
      " [0.98564354]\n",
      " [0.98202923]]\n"
     ]
    }
   ],
   "source": [
    "print(df1)"
   ]
  },
  {
   "cell_type": "code",
   "execution_count": 15,
   "metadata": {},
   "outputs": [],
   "source": [
    "##splitting dataset into train and test split\n",
    "training_size=int(len(df1)*0.65)\n",
    "test_size=len(df1)-training_size\n",
    "train_data,test_data=df1[0:training_size,:],df1[training_size:len(df1),:1]"
   ]
  },
  {
   "cell_type": "code",
   "execution_count": 16,
   "metadata": {},
   "outputs": [
    {
     "data": {
      "text/plain": [
       "(2534, 1365)"
      ]
     },
     "execution_count": 16,
     "metadata": {},
     "output_type": "execute_result"
    }
   ],
   "source": [
    "training_size,test_size"
   ]
  },
  {
   "cell_type": "code",
   "execution_count": 17,
   "metadata": {
    "scrolled": true
   },
   "outputs": [
    {
     "data": {
      "text/plain": [
       "array([[0.98202923],\n",
       "       [0.93744635],\n",
       "       [0.93744635],\n",
       "       ...,\n",
       "       [0.68287894],\n",
       "       [0.68419086],\n",
       "       [0.66234166]])"
      ]
     },
     "execution_count": 17,
     "metadata": {},
     "output_type": "execute_result"
    }
   ],
   "source": [
    "train_data"
   ]
  },
  {
   "cell_type": "code",
   "execution_count": 18,
   "metadata": {},
   "outputs": [
    {
     "data": {
      "text/plain": [
       "array([[0.66437123],\n",
       "       [0.66346592],\n",
       "       [0.65879859],\n",
       "       ...,\n",
       "       [0.98660793],\n",
       "       [0.98564354],\n",
       "       [0.98202923]])"
      ]
     },
     "execution_count": 18,
     "metadata": {},
     "output_type": "execute_result"
    }
   ],
   "source": [
    "test_data"
   ]
  },
  {
   "cell_type": "code",
   "execution_count": 19,
   "metadata": {},
   "outputs": [],
   "source": [
    "import numpy\n",
    "# convert an array of values into a dataset matrix\n",
    "def create_dataset(dataset, time_step=1):\n",
    "\tdataX, dataY = [], []\n",
    "\tfor i in range(len(dataset)-time_step-1):\n",
    "\t\ta = dataset[i:(i+time_step), 0]   ###i=0, 0,1,2,3-----99   100 \n",
    "\t\tdataX.append(a)\n",
    "\t\tdataY.append(dataset[i + time_step, 0])\n",
    "\treturn numpy.array(dataX), numpy.array(dataY)"
   ]
  },
  {
   "cell_type": "code",
   "execution_count": 20,
   "metadata": {},
   "outputs": [],
   "source": [
    "# reshape into X=t,t+1,t+2,t+3 and Y=t+4\n",
    "time_step = 100\n",
    "X_train, y_train = create_dataset(train_data, time_step)\n",
    "X_test, ytest = create_dataset(test_data, time_step)"
   ]
  },
  {
   "cell_type": "code",
   "execution_count": 21,
   "metadata": {},
   "outputs": [
    {
     "name": "stdout",
     "output_type": "stream",
     "text": [
      "(2433, 100)\n",
      "(2433,)\n"
     ]
    },
    {
     "data": {
      "text/plain": [
       "(None, None)"
      ]
     },
     "execution_count": 21,
     "metadata": {},
     "output_type": "execute_result"
    }
   ],
   "source": [
    "print(X_train.shape), print(y_train.shape)"
   ]
  },
  {
   "cell_type": "code",
   "execution_count": 22,
   "metadata": {},
   "outputs": [
    {
     "name": "stdout",
     "output_type": "stream",
     "text": [
      "(1264, 100)\n",
      "(1264,)\n"
     ]
    },
    {
     "data": {
      "text/plain": [
       "(None, None)"
      ]
     },
     "execution_count": 22,
     "metadata": {},
     "output_type": "execute_result"
    }
   ],
   "source": [
    "print(X_test.shape), print(ytest.shape)"
   ]
  },
  {
   "cell_type": "code",
   "execution_count": 23,
   "metadata": {},
   "outputs": [],
   "source": [
    "# reshape input to be [samples, time steps, features] which is required for LSTM\n",
    "X_train =X_train.reshape(X_train.shape[0],X_train.shape[1] , 1)\n",
    "X_test = X_test.reshape(X_test.shape[0],X_test.shape[1] , 1)"
   ]
  },
  {
   "cell_type": "code",
   "execution_count": 24,
   "metadata": {},
   "outputs": [
    {
     "name": "stdout",
     "output_type": "stream",
     "text": [
      "(2433, 100, 1)\n"
     ]
    }
   ],
   "source": [
    "print(X_train.shape)"
   ]
  },
  {
   "cell_type": "code",
   "execution_count": 25,
   "metadata": {
    "scrolled": false
   },
   "outputs": [],
   "source": [
    "# pip install tensorflow"
   ]
  },
  {
   "cell_type": "code",
   "execution_count": 26,
   "metadata": {},
   "outputs": [],
   "source": [
    "### Create the Stacked LSTM model\n",
    "from tensorflow.keras.models import Sequential\n",
    "from tensorflow.keras.layers import Dense\n",
    "from tensorflow.keras.layers import LSTM"
   ]
  },
  {
   "cell_type": "code",
   "execution_count": 27,
   "metadata": {},
   "outputs": [],
   "source": [
    "model=Sequential()\n",
    "model.add(LSTM(50,return_sequences=True,input_shape=(100,1)))\n",
    "model.add(LSTM(50,return_sequences=True))\n",
    "model.add(LSTM(50))\n",
    "model.add(Dense(1))\n",
    "model.compile(loss='mean_squared_error',optimizer='adam')\n"
   ]
  },
  {
   "cell_type": "code",
   "execution_count": 28,
   "metadata": {
    "scrolled": true
   },
   "outputs": [
    {
     "name": "stdout",
     "output_type": "stream",
     "text": [
      "Model: \"sequential\"\n",
      "_________________________________________________________________\n",
      " Layer (type)                Output Shape              Param #   \n",
      "=================================================================\n",
      " lstm (LSTM)                 (None, 100, 50)           10400     \n",
      "                                                                 \n",
      " lstm_1 (LSTM)               (None, 100, 50)           20200     \n",
      "                                                                 \n",
      " lstm_2 (LSTM)               (None, 50)                20200     \n",
      "                                                                 \n",
      " dense (Dense)               (None, 1)                 51        \n",
      "                                                                 \n",
      "=================================================================\n",
      "Total params: 50,851\n",
      "Trainable params: 50,851\n",
      "Non-trainable params: 0\n",
      "_________________________________________________________________\n"
     ]
    }
   ],
   "source": [
    "model.summary()"
   ]
  },
  {
   "cell_type": "code",
   "execution_count": 29,
   "metadata": {},
   "outputs": [
    {
     "name": "stdout",
     "output_type": "stream",
     "text": [
      "Epoch 1/100\n",
      "39/39 [==============================] - 21s 316ms/step - loss: 0.0531 - val_loss: 0.0023\n",
      "Epoch 2/100\n",
      "39/39 [==============================] - 10s 252ms/step - loss: 0.0022 - val_loss: 3.0005e-04\n",
      "Epoch 3/100\n",
      "39/39 [==============================] - 10s 257ms/step - loss: 0.0013 - val_loss: 3.0539e-04\n",
      "Epoch 4/100\n",
      "39/39 [==============================] - 10s 268ms/step - loss: 0.0013 - val_loss: 2.9055e-04\n",
      "Epoch 5/100\n",
      "39/39 [==============================] - 10s 248ms/step - loss: 0.0012 - val_loss: 2.9671e-04\n",
      "Epoch 6/100\n",
      "39/39 [==============================] - 12s 314ms/step - loss: 0.0012 - val_loss: 2.6887e-04\n",
      "Epoch 7/100\n",
      "39/39 [==============================] - 12s 319ms/step - loss: 0.0012 - val_loss: 2.9961e-04\n",
      "Epoch 8/100\n",
      "39/39 [==============================] - 11s 280ms/step - loss: 0.0011 - val_loss: 3.3617e-04\n",
      "Epoch 9/100\n",
      "39/39 [==============================] - 12s 317ms/step - loss: 0.0011 - val_loss: 2.5364e-04\n",
      "Epoch 10/100\n",
      "39/39 [==============================] - 10s 256ms/step - loss: 0.0011 - val_loss: 6.7427e-04\n",
      "Epoch 11/100\n",
      "39/39 [==============================] - 10s 252ms/step - loss: 0.0011 - val_loss: 2.3468e-04\n",
      "Epoch 12/100\n",
      "39/39 [==============================] - 12s 295ms/step - loss: 0.0010 - val_loss: 2.4603e-04\n",
      "Epoch 13/100\n",
      "39/39 [==============================] - 10s 259ms/step - loss: 0.0010 - val_loss: 9.1104e-04\n",
      "Epoch 14/100\n",
      "39/39 [==============================] - 15s 377ms/step - loss: 0.0010 - val_loss: 2.2820e-04\n",
      "Epoch 15/100\n",
      "39/39 [==============================] - 12s 293ms/step - loss: 9.7371e-04 - val_loss: 2.1268e-04\n",
      "Epoch 16/100\n",
      "39/39 [==============================] - 11s 270ms/step - loss: 9.8622e-04 - val_loss: 4.8326e-04\n",
      "Epoch 17/100\n",
      "39/39 [==============================] - 13s 326ms/step - loss: 9.6624e-04 - val_loss: 0.0013\n",
      "Epoch 18/100\n",
      "39/39 [==============================] - 11s 273ms/step - loss: 0.0011 - val_loss: 9.8096e-04\n",
      "Epoch 19/100\n",
      "39/39 [==============================] - 10s 247ms/step - loss: 9.3493e-04 - val_loss: 1.8666e-04\n",
      "Epoch 20/100\n",
      "39/39 [==============================] - 11s 284ms/step - loss: 8.8682e-04 - val_loss: 4.3697e-04\n",
      "Epoch 21/100\n",
      "39/39 [==============================] - 11s 287ms/step - loss: 8.2588e-04 - val_loss: 2.0459e-04\n",
      "Epoch 22/100\n",
      "39/39 [==============================] - 13s 342ms/step - loss: 8.0138e-04 - val_loss: 6.9907e-04\n",
      "Epoch 23/100\n",
      "39/39 [==============================] - 13s 332ms/step - loss: 8.1627e-04 - val_loss: 9.7391e-04\n",
      "Epoch 24/100\n",
      "39/39 [==============================] - 15s 391ms/step - loss: 8.5028e-04 - val_loss: 5.3911e-04\n",
      "Epoch 25/100\n",
      "39/39 [==============================] - 14s 370ms/step - loss: 8.3287e-04 - val_loss: 1.8643e-04\n",
      "Epoch 26/100\n",
      "39/39 [==============================] - 17s 431ms/step - loss: 7.1942e-04 - val_loss: 1.6732e-04\n",
      "Epoch 27/100\n",
      "39/39 [==============================] - 16s 411ms/step - loss: 7.2645e-04 - val_loss: 3.3743e-04\n",
      "Epoch 28/100\n",
      "39/39 [==============================] - 18s 463ms/step - loss: 7.1713e-04 - val_loss: 3.9637e-04\n",
      "Epoch 29/100\n",
      "39/39 [==============================] - 18s 467ms/step - loss: 6.7609e-04 - val_loss: 4.2709e-04\n",
      "Epoch 30/100\n",
      "39/39 [==============================] - 18s 464ms/step - loss: 7.3608e-04 - val_loss: 8.4029e-04\n",
      "Epoch 31/100\n",
      "39/39 [==============================] - 19s 477ms/step - loss: 7.2412e-04 - val_loss: 7.0837e-04\n",
      "Epoch 32/100\n",
      "39/39 [==============================] - 21s 531ms/step - loss: 6.9448e-04 - val_loss: 1.5799e-04\n",
      "Epoch 33/100\n",
      "39/39 [==============================] - 20s 522ms/step - loss: 6.0017e-04 - val_loss: 1.4505e-04\n",
      "Epoch 34/100\n",
      "39/39 [==============================] - 18s 463ms/step - loss: 5.9890e-04 - val_loss: 4.7813e-04\n",
      "Epoch 35/100\n",
      "39/39 [==============================] - 18s 450ms/step - loss: 6.0013e-04 - val_loss: 0.0012\n",
      "Epoch 36/100\n",
      "39/39 [==============================] - 18s 455ms/step - loss: 6.8565e-04 - val_loss: 2.5612e-04\n",
      "Epoch 37/100\n",
      "39/39 [==============================] - 19s 476ms/step - loss: 5.8826e-04 - val_loss: 4.7517e-04\n",
      "Epoch 38/100\n",
      "39/39 [==============================] - 19s 476ms/step - loss: 5.6454e-04 - val_loss: 1.4357e-04\n",
      "Epoch 39/100\n",
      "39/39 [==============================] - 17s 444ms/step - loss: 5.2657e-04 - val_loss: 0.0011\n",
      "Epoch 40/100\n",
      "39/39 [==============================] - 17s 438ms/step - loss: 6.0060e-04 - val_loss: 2.2705e-04\n",
      "Epoch 41/100\n",
      "39/39 [==============================] - 17s 440ms/step - loss: 5.4176e-04 - val_loss: 2.0514e-04\n",
      "Epoch 42/100\n",
      "39/39 [==============================] - 17s 447ms/step - loss: 5.2713e-04 - val_loss: 1.2004e-04\n",
      "Epoch 43/100\n",
      "39/39 [==============================] - 18s 454ms/step - loss: 5.3106e-04 - val_loss: 4.9567e-04\n",
      "Epoch 44/100\n",
      "39/39 [==============================] - 18s 453ms/step - loss: 5.9041e-04 - val_loss: 2.4294e-04\n",
      "Epoch 45/100\n",
      "39/39 [==============================] - 17s 438ms/step - loss: 5.0890e-04 - val_loss: 1.2746e-04\n",
      "Epoch 46/100\n",
      "39/39 [==============================] - 18s 455ms/step - loss: 4.7906e-04 - val_loss: 2.0097e-04\n",
      "Epoch 47/100\n",
      "39/39 [==============================] - 17s 444ms/step - loss: 5.0724e-04 - val_loss: 1.1136e-04\n",
      "Epoch 48/100\n",
      "39/39 [==============================] - 17s 437ms/step - loss: 4.8304e-04 - val_loss: 1.0935e-04\n",
      "Epoch 49/100\n",
      "39/39 [==============================] - 18s 454ms/step - loss: 4.8068e-04 - val_loss: 1.3112e-04\n",
      "Epoch 50/100\n",
      "39/39 [==============================] - 18s 460ms/step - loss: 4.5309e-04 - val_loss: 1.7212e-04\n",
      "Epoch 51/100\n",
      "39/39 [==============================] - 17s 450ms/step - loss: 4.5314e-04 - val_loss: 1.9408e-04\n",
      "Epoch 52/100\n",
      "39/39 [==============================] - 19s 481ms/step - loss: 4.7878e-04 - val_loss: 1.0347e-04\n",
      "Epoch 53/100\n",
      "39/39 [==============================] - 20s 504ms/step - loss: 4.4313e-04 - val_loss: 9.9733e-04\n",
      "Epoch 54/100\n",
      "39/39 [==============================] - 18s 474ms/step - loss: 5.4304e-04 - val_loss: 1.1150e-04\n",
      "Epoch 55/100\n",
      "39/39 [==============================] - 19s 481ms/step - loss: 4.4596e-04 - val_loss: 1.1066e-04\n",
      "Epoch 56/100\n",
      "39/39 [==============================] - 18s 465ms/step - loss: 4.2058e-04 - val_loss: 8.7536e-04\n",
      "Epoch 57/100\n",
      "39/39 [==============================] - 18s 471ms/step - loss: 5.1230e-04 - val_loss: 1.0820e-04\n",
      "Epoch 58/100\n",
      "39/39 [==============================] - 18s 461ms/step - loss: 4.3116e-04 - val_loss: 1.6827e-04\n",
      "Epoch 59/100\n",
      "39/39 [==============================] - 18s 454ms/step - loss: 4.0428e-04 - val_loss: 0.0024\n",
      "Epoch 60/100\n",
      "39/39 [==============================] - 18s 468ms/step - loss: 6.7402e-04 - val_loss: 9.1122e-05\n",
      "Epoch 61/100\n",
      "39/39 [==============================] - 18s 468ms/step - loss: 4.3771e-04 - val_loss: 9.4051e-04\n",
      "Epoch 62/100\n",
      "39/39 [==============================] - 18s 471ms/step - loss: 5.6169e-04 - val_loss: 1.1086e-04\n",
      "Epoch 63/100\n",
      "39/39 [==============================] - 18s 464ms/step - loss: 4.0925e-04 - val_loss: 8.6289e-05\n",
      "Epoch 64/100\n",
      "39/39 [==============================] - 18s 459ms/step - loss: 3.7590e-04 - val_loss: 4.6187e-04\n",
      "Epoch 65/100\n",
      "39/39 [==============================] - 18s 460ms/step - loss: 3.9708e-04 - val_loss: 1.0172e-04\n",
      "Epoch 66/100\n",
      "39/39 [==============================] - 18s 460ms/step - loss: 3.9956e-04 - val_loss: 6.6256e-04\n",
      "Epoch 67/100\n",
      "39/39 [==============================] - 18s 467ms/step - loss: 4.0188e-04 - val_loss: 2.2281e-04\n",
      "Epoch 68/100\n",
      "39/39 [==============================] - 18s 462ms/step - loss: 3.7197e-04 - val_loss: 1.7769e-04\n",
      "Epoch 69/100\n",
      "39/39 [==============================] - 18s 467ms/step - loss: 3.9019e-04 - val_loss: 1.0163e-04\n",
      "Epoch 70/100\n",
      "39/39 [==============================] - 18s 464ms/step - loss: 3.8376e-04 - val_loss: 8.2232e-05\n",
      "Epoch 71/100\n",
      "39/39 [==============================] - 18s 471ms/step - loss: 3.4839e-04 - val_loss: 5.5626e-04\n",
      "Epoch 72/100\n",
      "39/39 [==============================] - 18s 458ms/step - loss: 3.9453e-04 - val_loss: 3.6177e-04\n",
      "Epoch 73/100\n",
      "39/39 [==============================] - 17s 430ms/step - loss: 3.6422e-04 - val_loss: 0.0026\n",
      "Epoch 74/100\n",
      "39/39 [==============================] - 17s 435ms/step - loss: 5.7470e-04 - val_loss: 7.1949e-05\n",
      "Epoch 75/100\n"
     ]
    },
    {
     "name": "stdout",
     "output_type": "stream",
     "text": [
      "39/39 [==============================] - 16s 401ms/step - loss: 3.3970e-04 - val_loss: 1.0932e-04\n",
      "Epoch 76/100\n",
      "39/39 [==============================] - 15s 390ms/step - loss: 3.4104e-04 - val_loss: 8.7517e-05\n",
      "Epoch 77/100\n",
      "39/39 [==============================] - 14s 366ms/step - loss: 3.2775e-04 - val_loss: 1.1786e-04\n",
      "Epoch 78/100\n",
      "39/39 [==============================] - 14s 356ms/step - loss: 3.7962e-04 - val_loss: 0.0011\n",
      "Epoch 79/100\n",
      "39/39 [==============================] - 13s 324ms/step - loss: 4.5059e-04 - val_loss: 8.6765e-05\n",
      "Epoch 80/100\n",
      "39/39 [==============================] - 12s 309ms/step - loss: 3.2735e-04 - val_loss: 7.3991e-05\n",
      "Epoch 81/100\n",
      "39/39 [==============================] - 12s 312ms/step - loss: 3.0630e-04 - val_loss: 7.1636e-05\n",
      "Epoch 82/100\n",
      "39/39 [==============================] - 12s 305ms/step - loss: 3.1240e-04 - val_loss: 7.2559e-05\n",
      "Epoch 83/100\n",
      "39/39 [==============================] - 12s 305ms/step - loss: 3.2545e-04 - val_loss: 6.5264e-05\n",
      "Epoch 84/100\n",
      "39/39 [==============================] - 12s 301ms/step - loss: 2.9409e-04 - val_loss: 1.2030e-04\n",
      "Epoch 85/100\n",
      "39/39 [==============================] - 12s 313ms/step - loss: 3.3148e-04 - val_loss: 4.5215e-04\n",
      "Epoch 86/100\n",
      "39/39 [==============================] - 12s 312ms/step - loss: 3.4659e-04 - val_loss: 7.5344e-04\n",
      "Epoch 87/100\n",
      "39/39 [==============================] - 12s 302ms/step - loss: 3.5231e-04 - val_loss: 7.8122e-05\n",
      "Epoch 88/100\n",
      "39/39 [==============================] - 12s 302ms/step - loss: 2.8278e-04 - val_loss: 1.4788e-04\n",
      "Epoch 89/100\n",
      "39/39 [==============================] - 12s 301ms/step - loss: 3.0861e-04 - val_loss: 1.8228e-04\n",
      "Epoch 90/100\n",
      "39/39 [==============================] - 12s 310ms/step - loss: 2.8957e-04 - val_loss: 6.5207e-05\n",
      "Epoch 91/100\n",
      "39/39 [==============================] - 12s 303ms/step - loss: 2.9022e-04 - val_loss: 1.8216e-04\n",
      "Epoch 92/100\n",
      "39/39 [==============================] - 12s 305ms/step - loss: 2.8197e-04 - val_loss: 2.0963e-04\n",
      "Epoch 93/100\n",
      "39/39 [==============================] - 12s 304ms/step - loss: 2.9961e-04 - val_loss: 5.6245e-05\n",
      "Epoch 94/100\n",
      "39/39 [==============================] - 12s 303ms/step - loss: 2.5556e-04 - val_loss: 6.7642e-05\n",
      "Epoch 95/100\n",
      "39/39 [==============================] - 12s 320ms/step - loss: 2.6423e-04 - val_loss: 2.1867e-04\n",
      "Epoch 96/100\n",
      "39/39 [==============================] - 12s 307ms/step - loss: 2.5945e-04 - val_loss: 7.6657e-05\n",
      "Epoch 97/100\n",
      "39/39 [==============================] - 12s 303ms/step - loss: 2.4699e-04 - val_loss: 9.8524e-05\n",
      "Epoch 98/100\n",
      "39/39 [==============================] - 12s 301ms/step - loss: 2.5367e-04 - val_loss: 1.3569e-04\n",
      "Epoch 99/100\n",
      "39/39 [==============================] - 12s 305ms/step - loss: 2.6659e-04 - val_loss: 5.4340e-05\n",
      "Epoch 100/100\n",
      "39/39 [==============================] - 12s 310ms/step - loss: 2.8893e-04 - val_loss: 5.0147e-05\n"
     ]
    },
    {
     "data": {
      "text/plain": [
       "<keras.callbacks.History at 0x185d1b881f0>"
      ]
     },
     "execution_count": 29,
     "metadata": {},
     "output_type": "execute_result"
    }
   ],
   "source": [
    "model.fit(X_train,y_train,validation_data=(X_test,ytest),epochs=100,batch_size=64,verbose=1)"
   ]
  },
  {
   "cell_type": "code",
   "execution_count": 30,
   "metadata": {},
   "outputs": [],
   "source": [
    "import tensorflow as tf"
   ]
  },
  {
   "cell_type": "code",
   "execution_count": 31,
   "metadata": {},
   "outputs": [
    {
     "data": {
      "text/plain": [
       "'2.12.0'"
      ]
     },
     "execution_count": 31,
     "metadata": {},
     "output_type": "execute_result"
    }
   ],
   "source": [
    "tf.__version__"
   ]
  },
  {
   "cell_type": "code",
   "execution_count": 32,
   "metadata": {},
   "outputs": [
    {
     "name": "stdout",
     "output_type": "stream",
     "text": [
      "77/77 [==============================] - 7s 58ms/step\n",
      "40/40 [==============================] - 2s 58ms/step\n"
     ]
    }
   ],
   "source": [
    "### Lets Do the prediction and check performance metrics\n",
    "train_predict=model.predict(X_train)\n",
    "test_predict=model.predict(X_test)"
   ]
  },
  {
   "cell_type": "code",
   "execution_count": 33,
   "metadata": {},
   "outputs": [
    {
     "data": {
      "text/plain": [
       "(2433, 1)"
      ]
     },
     "execution_count": 33,
     "metadata": {},
     "output_type": "execute_result"
    }
   ],
   "source": [
    "train_predict.shape"
   ]
  },
  {
   "cell_type": "code",
   "execution_count": 34,
   "metadata": {},
   "outputs": [],
   "source": [
    "##Transformback to original form\n",
    "train_predict=scaler.inverse_transform(train_predict)\n",
    "test_predict=scaler.inverse_transform(test_predict)"
   ]
  },
  {
   "cell_type": "code",
   "execution_count": 35,
   "metadata": {},
   "outputs": [
    {
     "data": {
      "text/plain": [
       "96990.14659257795"
      ]
     },
     "execution_count": 35,
     "metadata": {},
     "output_type": "execute_result"
    }
   ],
   "source": [
    "### Calculate RMSE performance metrics\n",
    "import math\n",
    "from sklearn.metrics import mean_squared_error\n",
    "math.sqrt(mean_squared_error(y_train,train_predict))"
   ]
  },
  {
   "cell_type": "code",
   "execution_count": 36,
   "metadata": {},
   "outputs": [
    {
     "data": {
      "text/plain": [
       "105013.50879562984"
      ]
     },
     "execution_count": 36,
     "metadata": {},
     "output_type": "execute_result"
    }
   ],
   "source": [
    "### Test Data RMSE\n",
    "math.sqrt(mean_squared_error(ytest,test_predict))"
   ]
  },
  {
   "cell_type": "code",
   "execution_count": 37,
   "metadata": {},
   "outputs": [
    {
     "data": {
      "image/png": "[encoded data removed]",
      "text/plain": [
       "<Figure size 640x480 with 1 Axes>"
      ]
     },
     "metadata": {},
     "output_type": "display_data"
    }
   ],
   "source": [
    "### Plotting \n",
    "# shift train predictions for plotting\n",
    "look_back=100\n",
    "trainPredictPlot = numpy.empty_like(df1)\n",
    "trainPredictPlot[:, :] = np.nan\n",
    "trainPredictPlot[look_back:len(train_predict)+look_back, :] = train_predict\n",
    "# shift test predictions for plotting\n",
    "testPredictPlot = numpy.empty_like(df1)\n",
    "testPredictPlot[:, :] = numpy.nan\n",
    "testPredictPlot[len(train_predict)+(look_back*2)+1:len(df1)-1, :] = test_predict\n",
    "# plot baseline and predictions\n",
    "plt.plot(scaler.inverse_transform(df1))\n",
    "plt.plot(trainPredictPlot)\n",
    "plt.plot(testPredictPlot)\n",
    "plt.legend(['data set','train','test'])\n",
    "plt.show()"
   ]
  },
  {
   "cell_type": "code",
   "execution_count": 38,
   "metadata": {},
   "outputs": [
    {
     "data": {
      "text/plain": [
       "1365"
      ]
     },
     "execution_count": 38,
     "metadata": {},
     "output_type": "execute_result"
    }
   ],
   "source": [
    "len(test_data)"
   ]
  },
  {
   "cell_type": "code",
   "execution_count": 39,
   "metadata": {},
   "outputs": [
    {
     "data": {
      "text/plain": [
       "(1, 100)"
      ]
     },
     "execution_count": 39,
     "metadata": {},
     "output_type": "execute_result"
    }
   ],
   "source": [
    "x_input=test_data[len(test_data)-100:].reshape(1,-1)\n",
    "x_input.shape\n"
   ]
  },
  {
   "cell_type": "code",
   "execution_count": null,
   "metadata": {},
   "outputs": [],
   "source": []
  },
  {
   "cell_type": "code",
   "execution_count": null,
   "metadata": {},
   "outputs": [],
   "source": []
  },
  {
   "cell_type": "code",
   "execution_count": 40,
   "metadata": {},
   "outputs": [],
   "source": [
    "temp_input=list(x_input)\n",
    "temp_input=temp_input[0].tolist()"
   ]
  },
  {
   "cell_type": "code",
   "execution_count": 41,
   "metadata": {},
   "outputs": [
    {
     "data": {
      "text/plain": [
       "[0.9293419520756225,\n",
       " 0.9299779318493806,\n",
       " 0.9219082868512054,\n",
       " 0.9268762272150688,\n",
       " 0.9237623590331718,\n",
       " 0.9327251559540566,\n",
       " 0.9302993970355697,\n",
       " 0.9324627708561402,\n",
       " 0.9416132339397734,\n",
       " 0.944808771655459,\n",
       " 0.9452171193244017,\n",
       " 0.9444595040747885,\n",
       " 0.9302907087872943,\n",
       " 0.9262506733392415,\n",
       " 0.9265182713861233,\n",
       " 0.9409998436115312,\n",
       " 0.9410259083563572,\n",
       " 0.9354932318545937,\n",
       " 0.936249109454552,\n",
       " 0.9433091800031279,\n",
       " 0.9387443743592419,\n",
       " 0.9336791256146937,\n",
       " 0.9298840987680064,\n",
       " 0.9356079167318285,\n",
       " 0.9362508471042068,\n",
       " 0.9353490069332222,\n",
       " 0.9344558550105126,\n",
       " 0.9384263844723628,\n",
       " 0.9388347321413055,\n",
       " 0.935163078420129,\n",
       " 0.9386175259344209,\n",
       " 0.9406557889798257,\n",
       " 0.9485933726042155,\n",
       " 0.9517228796330086,\n",
       " 0.9540947714121881,\n",
       " 0.9580792020712783,\n",
       " 0.9569775321899601,\n",
       " 0.9649429182088307,\n",
       " 0.9669481659107892,\n",
       " 0.9683365479851951,\n",
       " 0.9661888130115208,\n",
       " 0.9672244522059461,\n",
       " 0.9626526959634398,\n",
       " 0.9620914351248502,\n",
       " 0.9653790682722552,\n",
       " 0.9608872439138822,\n",
       " 0.9609046204104328,\n",
       " 0.9619628490503744,\n",
       " 0.960998453491807,\n",
       " 0.9730056126083857,\n",
       " 0.9748127682496655,\n",
       " 0.9745382196041634,\n",
       " 0.9698152878416655,\n",
       " 0.9724634659160019,\n",
       " 0.9713565830857183,\n",
       " 0.9770108950633374,\n",
       " 0.9820344402161638,\n",
       " 0.9824028219430401,\n",
       " 0.9803523953500497,\n",
       " 0.9821456497940886,\n",
       " 0.9840223114215714,\n",
       " 0.9824306243375214,\n",
       " 0.9832924985664391,\n",
       " 0.9823402665554573,\n",
       " 0.9831135206519666,\n",
       " 0.9838798241498548,\n",
       " 0.9930563519783144,\n",
       " 0.992097169368712,\n",
       " 0.9863021077690319,\n",
       " 0.980114337347304,\n",
       " 0.9824705902795878,\n",
       " 0.9849519539870373,\n",
       " 0.9842099775843194,\n",
       " 0.9846965194877411,\n",
       " 0.9789396861804722,\n",
       " 0.9816156666492903,\n",
       " 0.9861526698986951,\n",
       " 0.9904568280943196,\n",
       " 0.9869763158352012,\n",
       " 0.9887104901909678,\n",
       " 0.9915411214790877,\n",
       " 0.9888112738709622,\n",
       " 0.9888390762654435,\n",
       " 0.9999999999999998,\n",
       " 0.9955047003423172,\n",
       " 0.994119793567221,\n",
       " 0.993845244921719,\n",
       " 0.9933882430624339,\n",
       " 0.9912144433439332,\n",
       " 0.9855271160228674,\n",
       " 0.9869936923317522,\n",
       " 0.9857530104780274,\n",
       " 0.9906201671618968,\n",
       " 0.9891396896557716,\n",
       " 0.9901457888060612,\n",
       " 0.9864324314931625,\n",
       " 0.9860814262628368,\n",
       " 0.9866079341083249,\n",
       " 0.9856435385497575,\n",
       " 0.9820292272671984]"
      ]
     },
     "execution_count": 41,
     "metadata": {},
     "output_type": "execute_result"
    }
   ],
   "source": [
    "temp_input"
   ]
  },
  {
   "cell_type": "code",
   "execution_count": 42,
   "metadata": {},
   "outputs": [
    {
     "name": "stdout",
     "output_type": "stream",
     "text": [
      "[0.9810008]\n",
      "101\n",
      "1 day input [0.92997793 0.92190829 0.92687623 0.92376236 0.93272516 0.9302994\n",
      " 0.93246277 0.94161323 0.94480877 0.94521712 0.9444595  0.93029071\n",
      " 0.92625067 0.92651827 0.94099984 0.94102591 0.93549323 0.93624911\n",
      " 0.94330918 0.93874437 0.93367913 0.9298841  0.93560792 0.93625085\n",
      " 0.93534901 0.93445586 0.93842638 0.93883473 0.93516308 0.93861753\n",
      " 0.94065579 0.94859337 0.95172288 0.95409477 0.9580792  0.95697753\n",
      " 0.96494292 0.96694817 0.96833655 0.96618881 0.96722445 0.9626527\n",
      " 0.96209144 0.96537907 0.96088724 0.96090462 0.96196285 0.96099845\n",
      " 0.97300561 0.97481277 0.97453822 0.96981529 0.97246347 0.97135658\n",
      " 0.9770109  0.98203444 0.98240282 0.9803524  0.98214565 0.98402231\n",
      " 0.98243062 0.9832925  0.98234027 0.98311352 0.98387982 0.99305635\n",
      " 0.99209717 0.98630211 0.98011434 0.98247059 0.98495195 0.98420998\n",
      " 0.98469652 0.97893969 0.98161567 0.98615267 0.99045683 0.98697632\n",
      " 0.98871049 0.99154112 0.98881127 0.98883908 1.         0.9955047\n",
      " 0.99411979 0.99384524 0.99338824 0.99121444 0.98552712 0.98699369\n",
      " 0.98575301 0.99062017 0.98913969 0.99014579 0.98643243 0.98608143\n",
      " 0.98660793 0.98564354 0.98202923 0.98100078]\n",
      "1 day output [[0.978909]]\n",
      "2 day input [0.92190829 0.92687623 0.92376236 0.93272516 0.9302994  0.93246277\n",
      " 0.94161323 0.94480877 0.94521712 0.9444595  0.93029071 0.92625067\n",
      " 0.92651827 0.94099984 0.94102591 0.93549323 0.93624911 0.94330918\n",
      " 0.93874437 0.93367913 0.9298841  0.93560792 0.93625085 0.93534901\n",
      " 0.93445586 0.93842638 0.93883473 0.93516308 0.93861753 0.94065579\n",
      " 0.94859337 0.95172288 0.95409477 0.9580792  0.95697753 0.96494292\n",
      " 0.96694817 0.96833655 0.96618881 0.96722445 0.9626527  0.96209144\n",
      " 0.96537907 0.96088724 0.96090462 0.96196285 0.96099845 0.97300561\n",
      " 0.97481277 0.97453822 0.96981529 0.97246347 0.97135658 0.9770109\n",
      " 0.98203444 0.98240282 0.9803524  0.98214565 0.98402231 0.98243062\n",
      " 0.9832925  0.98234027 0.98311352 0.98387982 0.99305635 0.99209717\n",
      " 0.98630211 0.98011434 0.98247059 0.98495195 0.98420998 0.98469652\n",
      " 0.97893969 0.98161567 0.98615267 0.99045683 0.98697632 0.98871049\n",
      " 0.99154112 0.98881127 0.98883908 1.         0.9955047  0.99411979\n",
      " 0.99384524 0.99338824 0.99121444 0.98552712 0.98699369 0.98575301\n",
      " 0.99062017 0.98913969 0.99014579 0.98643243 0.98608143 0.98660793\n",
      " 0.98564354 0.98202923 0.98100078 0.97890902]\n",
      "2 day output [[0.9770354]]\n",
      "3 day input [0.92687623 0.92376236 0.93272516 0.9302994  0.93246277 0.94161323\n",
      " 0.94480877 0.94521712 0.9444595  0.93029071 0.92625067 0.92651827\n",
      " 0.94099984 0.94102591 0.93549323 0.93624911 0.94330918 0.93874437\n",
      " 0.93367913 0.9298841  0.93560792 0.93625085 0.93534901 0.93445586\n",
      " 0.93842638 0.93883473 0.93516308 0.93861753 0.94065579 0.94859337\n",
      " 0.95172288 0.95409477 0.9580792  0.95697753 0.96494292 0.96694817\n",
      " 0.96833655 0.96618881 0.96722445 0.9626527  0.96209144 0.96537907\n",
      " 0.96088724 0.96090462 0.96196285 0.96099845 0.97300561 0.97481277\n",
      " 0.97453822 0.96981529 0.97246347 0.97135658 0.9770109  0.98203444\n",
      " 0.98240282 0.9803524  0.98214565 0.98402231 0.98243062 0.9832925\n",
      " 0.98234027 0.98311352 0.98387982 0.99305635 0.99209717 0.98630211\n",
      " 0.98011434 0.98247059 0.98495195 0.98420998 0.98469652 0.97893969\n",
      " 0.98161567 0.98615267 0.99045683 0.98697632 0.98871049 0.99154112\n",
      " 0.98881127 0.98883908 1.         0.9955047  0.99411979 0.99384524\n",
      " 0.99338824 0.99121444 0.98552712 0.98699369 0.98575301 0.99062017\n",
      " 0.98913969 0.99014579 0.98643243 0.98608143 0.98660793 0.98564354\n",
      " 0.98202923 0.98100078 0.97890902 0.9770354 ]\n",
      "3 day output [[0.97525686]]\n",
      "4 day input [0.92376236 0.93272516 0.9302994  0.93246277 0.94161323 0.94480877\n",
      " 0.94521712 0.9444595  0.93029071 0.92625067 0.92651827 0.94099984\n",
      " 0.94102591 0.93549323 0.93624911 0.94330918 0.93874437 0.93367913\n",
      " 0.9298841  0.93560792 0.93625085 0.93534901 0.93445586 0.93842638\n",
      " 0.93883473 0.93516308 0.93861753 0.94065579 0.94859337 0.95172288\n",
      " 0.95409477 0.9580792  0.95697753 0.96494292 0.96694817 0.96833655\n",
      " 0.96618881 0.96722445 0.9626527  0.96209144 0.96537907 0.96088724\n",
      " 0.96090462 0.96196285 0.96099845 0.97300561 0.97481277 0.97453822\n",
      " 0.96981529 0.97246347 0.97135658 0.9770109  0.98203444 0.98240282\n",
      " 0.9803524  0.98214565 0.98402231 0.98243062 0.9832925  0.98234027\n",
      " 0.98311352 0.98387982 0.99305635 0.99209717 0.98630211 0.98011434\n",
      " 0.98247059 0.98495195 0.98420998 0.98469652 0.97893969 0.98161567\n",
      " 0.98615267 0.99045683 0.98697632 0.98871049 0.99154112 0.98881127\n",
      " 0.98883908 1.         0.9955047  0.99411979 0.99384524 0.99338824\n",
      " 0.99121444 0.98552712 0.98699369 0.98575301 0.99062017 0.98913969\n",
      " 0.99014579 0.98643243 0.98608143 0.98660793 0.98564354 0.98202923\n",
      " 0.98100078 0.97890902 0.9770354  0.97525686]\n",
      "4 day output [[0.97354156]]\n",
      "5 day input [0.93272516 0.9302994  0.93246277 0.94161323 0.94480877 0.94521712\n",
      " 0.9444595  0.93029071 0.92625067 0.92651827 0.94099984 0.94102591\n",
      " 0.93549323 0.93624911 0.94330918 0.93874437 0.93367913 0.9298841\n",
      " 0.93560792 0.93625085 0.93534901 0.93445586 0.93842638 0.93883473\n",
      " 0.93516308 0.93861753 0.94065579 0.94859337 0.95172288 0.95409477\n",
      " 0.9580792  0.95697753 0.96494292 0.96694817 0.96833655 0.96618881\n",
      " 0.96722445 0.9626527  0.96209144 0.96537907 0.96088724 0.96090462\n",
      " 0.96196285 0.96099845 0.97300561 0.97481277 0.97453822 0.96981529\n",
      " 0.97246347 0.97135658 0.9770109  0.98203444 0.98240282 0.9803524\n",
      " 0.98214565 0.98402231 0.98243062 0.9832925  0.98234027 0.98311352\n",
      " 0.98387982 0.99305635 0.99209717 0.98630211 0.98011434 0.98247059\n",
      " 0.98495195 0.98420998 0.98469652 0.97893969 0.98161567 0.98615267\n",
      " 0.99045683 0.98697632 0.98871049 0.99154112 0.98881127 0.98883908\n",
      " 1.         0.9955047  0.99411979 0.99384524 0.99338824 0.99121444\n",
      " 0.98552712 0.98699369 0.98575301 0.99062017 0.98913969 0.99014579\n",
      " 0.98643243 0.98608143 0.98660793 0.98564354 0.98202923 0.98100078\n",
      " 0.97890902 0.9770354  0.97525686 0.97354156]\n",
      "5 day output [[0.9719066]]\n",
      "6 day input [0.9302994  0.93246277 0.94161323 0.94480877 0.94521712 0.9444595\n",
      " 0.93029071 0.92625067 0.92651827 0.94099984 0.94102591 0.93549323\n",
      " 0.93624911 0.94330918 0.93874437 0.93367913 0.9298841  0.93560792\n",
      " 0.93625085 0.93534901 0.93445586 0.93842638 0.93883473 0.93516308\n",
      " 0.93861753 0.94065579 0.94859337 0.95172288 0.95409477 0.9580792\n",
      " 0.95697753 0.96494292 0.96694817 0.96833655 0.96618881 0.96722445\n",
      " 0.9626527  0.96209144 0.96537907 0.96088724 0.96090462 0.96196285\n",
      " 0.96099845 0.97300561 0.97481277 0.97453822 0.96981529 0.97246347\n",
      " 0.97135658 0.9770109  0.98203444 0.98240282 0.9803524  0.98214565\n",
      " 0.98402231 0.98243062 0.9832925  0.98234027 0.98311352 0.98387982\n",
      " 0.99305635 0.99209717 0.98630211 0.98011434 0.98247059 0.98495195\n",
      " 0.98420998 0.98469652 0.97893969 0.98161567 0.98615267 0.99045683\n",
      " 0.98697632 0.98871049 0.99154112 0.98881127 0.98883908 1.\n",
      " 0.9955047  0.99411979 0.99384524 0.99338824 0.99121444 0.98552712\n",
      " 0.98699369 0.98575301 0.99062017 0.98913969 0.99014579 0.98643243\n",
      " 0.98608143 0.98660793 0.98564354 0.98202923 0.98100078 0.97890902\n",
      " 0.9770354  0.97525686 0.97354156 0.9719066 ]\n",
      "6 day output [[0.97035855]]\n",
      "7 day input [0.93246277 0.94161323 0.94480877 0.94521712 0.9444595  0.93029071\n",
      " 0.92625067 0.92651827 0.94099984 0.94102591 0.93549323 0.93624911\n",
      " 0.94330918 0.93874437 0.93367913 0.9298841  0.93560792 0.93625085\n",
      " 0.93534901 0.93445586 0.93842638 0.93883473 0.93516308 0.93861753\n",
      " 0.94065579 0.94859337 0.95172288 0.95409477 0.9580792  0.95697753\n",
      " 0.96494292 0.96694817 0.96833655 0.96618881 0.96722445 0.9626527\n",
      " 0.96209144 0.96537907 0.96088724 0.96090462 0.96196285 0.96099845\n",
      " 0.97300561 0.97481277 0.97453822 0.96981529 0.97246347 0.97135658\n",
      " 0.9770109  0.98203444 0.98240282 0.9803524  0.98214565 0.98402231\n",
      " 0.98243062 0.9832925  0.98234027 0.98311352 0.98387982 0.99305635\n",
      " 0.99209717 0.98630211 0.98011434 0.98247059 0.98495195 0.98420998\n",
      " 0.98469652 0.97893969 0.98161567 0.98615267 0.99045683 0.98697632\n",
      " 0.98871049 0.99154112 0.98881127 0.98883908 1.         0.9955047\n",
      " 0.99411979 0.99384524 0.99338824 0.99121444 0.98552712 0.98699369\n",
      " 0.98575301 0.99062017 0.98913969 0.99014579 0.98643243 0.98608143\n",
      " 0.98660793 0.98564354 0.98202923 0.98100078 0.97890902 0.9770354\n",
      " 0.97525686 0.97354156 0.9719066  0.97035855]\n",
      "7 day output [[0.96889186]]\n",
      "8 day input [0.94161323 0.94480877 0.94521712 0.9444595  0.93029071 0.92625067\n",
      " 0.92651827 0.94099984 0.94102591 0.93549323 0.93624911 0.94330918\n",
      " 0.93874437 0.93367913 0.9298841  0.93560792 0.93625085 0.93534901\n",
      " 0.93445586 0.93842638 0.93883473 0.93516308 0.93861753 0.94065579\n",
      " 0.94859337 0.95172288 0.95409477 0.9580792  0.95697753 0.96494292\n",
      " 0.96694817 0.96833655 0.96618881 0.96722445 0.9626527  0.96209144\n",
      " 0.96537907 0.96088724 0.96090462 0.96196285 0.96099845 0.97300561\n",
      " 0.97481277 0.97453822 0.96981529 0.97246347 0.97135658 0.9770109\n",
      " 0.98203444 0.98240282 0.9803524  0.98214565 0.98402231 0.98243062\n",
      " 0.9832925  0.98234027 0.98311352 0.98387982 0.99305635 0.99209717\n",
      " 0.98630211 0.98011434 0.98247059 0.98495195 0.98420998 0.98469652\n",
      " 0.97893969 0.98161567 0.98615267 0.99045683 0.98697632 0.98871049\n",
      " 0.99154112 0.98881127 0.98883908 1.         0.9955047  0.99411979\n",
      " 0.99384524 0.99338824 0.99121444 0.98552712 0.98699369 0.98575301\n",
      " 0.99062017 0.98913969 0.99014579 0.98643243 0.98608143 0.98660793\n",
      " 0.98564354 0.98202923 0.98100078 0.97890902 0.9770354  0.97525686\n",
      " 0.97354156 0.9719066  0.97035855 0.96889186]\n"
     ]
    },
    {
     "name": "stdout",
     "output_type": "stream",
     "text": [
      "8 day output [[0.9674982]]\n",
      "9 day input [0.94480877 0.94521712 0.9444595  0.93029071 0.92625067 0.92651827\n",
      " 0.94099984 0.94102591 0.93549323 0.93624911 0.94330918 0.93874437\n",
      " 0.93367913 0.9298841  0.93560792 0.93625085 0.93534901 0.93445586\n",
      " 0.93842638 0.93883473 0.93516308 0.93861753 0.94065579 0.94859337\n",
      " 0.95172288 0.95409477 0.9580792  0.95697753 0.96494292 0.96694817\n",
      " 0.96833655 0.96618881 0.96722445 0.9626527  0.96209144 0.96537907\n",
      " 0.96088724 0.96090462 0.96196285 0.96099845 0.97300561 0.97481277\n",
      " 0.97453822 0.96981529 0.97246347 0.97135658 0.9770109  0.98203444\n",
      " 0.98240282 0.9803524  0.98214565 0.98402231 0.98243062 0.9832925\n",
      " 0.98234027 0.98311352 0.98387982 0.99305635 0.99209717 0.98630211\n",
      " 0.98011434 0.98247059 0.98495195 0.98420998 0.98469652 0.97893969\n",
      " 0.98161567 0.98615267 0.99045683 0.98697632 0.98871049 0.99154112\n",
      " 0.98881127 0.98883908 1.         0.9955047  0.99411979 0.99384524\n",
      " 0.99338824 0.99121444 0.98552712 0.98699369 0.98575301 0.99062017\n",
      " 0.98913969 0.99014579 0.98643243 0.98608143 0.98660793 0.98564354\n",
      " 0.98202923 0.98100078 0.97890902 0.9770354  0.97525686 0.97354156\n",
      " 0.9719066  0.97035855 0.96889186 0.96749818]\n",
      "9 day output [[0.96616846]]\n",
      "10 day input [0.94521712 0.9444595  0.93029071 0.92625067 0.92651827 0.94099984\n",
      " 0.94102591 0.93549323 0.93624911 0.94330918 0.93874437 0.93367913\n",
      " 0.9298841  0.93560792 0.93625085 0.93534901 0.93445586 0.93842638\n",
      " 0.93883473 0.93516308 0.93861753 0.94065579 0.94859337 0.95172288\n",
      " 0.95409477 0.9580792  0.95697753 0.96494292 0.96694817 0.96833655\n",
      " 0.96618881 0.96722445 0.9626527  0.96209144 0.96537907 0.96088724\n",
      " 0.96090462 0.96196285 0.96099845 0.97300561 0.97481277 0.97453822\n",
      " 0.96981529 0.97246347 0.97135658 0.9770109  0.98203444 0.98240282\n",
      " 0.9803524  0.98214565 0.98402231 0.98243062 0.9832925  0.98234027\n",
      " 0.98311352 0.98387982 0.99305635 0.99209717 0.98630211 0.98011434\n",
      " 0.98247059 0.98495195 0.98420998 0.98469652 0.97893969 0.98161567\n",
      " 0.98615267 0.99045683 0.98697632 0.98871049 0.99154112 0.98881127\n",
      " 0.98883908 1.         0.9955047  0.99411979 0.99384524 0.99338824\n",
      " 0.99121444 0.98552712 0.98699369 0.98575301 0.99062017 0.98913969\n",
      " 0.99014579 0.98643243 0.98608143 0.98660793 0.98564354 0.98202923\n",
      " 0.98100078 0.97890902 0.9770354  0.97525686 0.97354156 0.9719066\n",
      " 0.97035855 0.96889186 0.96749818 0.96616846]\n",
      "10 day output [[0.9648936]]\n",
      "11 day input [0.9444595  0.93029071 0.92625067 0.92651827 0.94099984 0.94102591\n",
      " 0.93549323 0.93624911 0.94330918 0.93874437 0.93367913 0.9298841\n",
      " 0.93560792 0.93625085 0.93534901 0.93445586 0.93842638 0.93883473\n",
      " 0.93516308 0.93861753 0.94065579 0.94859337 0.95172288 0.95409477\n",
      " 0.9580792  0.95697753 0.96494292 0.96694817 0.96833655 0.96618881\n",
      " 0.96722445 0.9626527  0.96209144 0.96537907 0.96088724 0.96090462\n",
      " 0.96196285 0.96099845 0.97300561 0.97481277 0.97453822 0.96981529\n",
      " 0.97246347 0.97135658 0.9770109  0.98203444 0.98240282 0.9803524\n",
      " 0.98214565 0.98402231 0.98243062 0.9832925  0.98234027 0.98311352\n",
      " 0.98387982 0.99305635 0.99209717 0.98630211 0.98011434 0.98247059\n",
      " 0.98495195 0.98420998 0.98469652 0.97893969 0.98161567 0.98615267\n",
      " 0.99045683 0.98697632 0.98871049 0.99154112 0.98881127 0.98883908\n",
      " 1.         0.9955047  0.99411979 0.99384524 0.99338824 0.99121444\n",
      " 0.98552712 0.98699369 0.98575301 0.99062017 0.98913969 0.99014579\n",
      " 0.98643243 0.98608143 0.98660793 0.98564354 0.98202923 0.98100078\n",
      " 0.97890902 0.9770354  0.97525686 0.97354156 0.9719066  0.97035855\n",
      " 0.96889186 0.96749818 0.96616846 0.96489358]\n",
      "11 day output [[0.9636657]]\n",
      "12 day input [0.93029071 0.92625067 0.92651827 0.94099984 0.94102591 0.93549323\n",
      " 0.93624911 0.94330918 0.93874437 0.93367913 0.9298841  0.93560792\n",
      " 0.93625085 0.93534901 0.93445586 0.93842638 0.93883473 0.93516308\n",
      " 0.93861753 0.94065579 0.94859337 0.95172288 0.95409477 0.9580792\n",
      " 0.95697753 0.96494292 0.96694817 0.96833655 0.96618881 0.96722445\n",
      " 0.9626527  0.96209144 0.96537907 0.96088724 0.96090462 0.96196285\n",
      " 0.96099845 0.97300561 0.97481277 0.97453822 0.96981529 0.97246347\n",
      " 0.97135658 0.9770109  0.98203444 0.98240282 0.9803524  0.98214565\n",
      " 0.98402231 0.98243062 0.9832925  0.98234027 0.98311352 0.98387982\n",
      " 0.99305635 0.99209717 0.98630211 0.98011434 0.98247059 0.98495195\n",
      " 0.98420998 0.98469652 0.97893969 0.98161567 0.98615267 0.99045683\n",
      " 0.98697632 0.98871049 0.99154112 0.98881127 0.98883908 1.\n",
      " 0.9955047  0.99411979 0.99384524 0.99338824 0.99121444 0.98552712\n",
      " 0.98699369 0.98575301 0.99062017 0.98913969 0.99014579 0.98643243\n",
      " 0.98608143 0.98660793 0.98564354 0.98202923 0.98100078 0.97890902\n",
      " 0.9770354  0.97525686 0.97354156 0.9719066  0.97035855 0.96889186\n",
      " 0.96749818 0.96616846 0.96489358 0.96366572]\n",
      "12 day output [[0.9624773]]\n",
      "13 day input [0.92625067 0.92651827 0.94099984 0.94102591 0.93549323 0.93624911\n",
      " 0.94330918 0.93874437 0.93367913 0.9298841  0.93560792 0.93625085\n",
      " 0.93534901 0.93445586 0.93842638 0.93883473 0.93516308 0.93861753\n",
      " 0.94065579 0.94859337 0.95172288 0.95409477 0.9580792  0.95697753\n",
      " 0.96494292 0.96694817 0.96833655 0.96618881 0.96722445 0.9626527\n",
      " 0.96209144 0.96537907 0.96088724 0.96090462 0.96196285 0.96099845\n",
      " 0.97300561 0.97481277 0.97453822 0.96981529 0.97246347 0.97135658\n",
      " 0.9770109  0.98203444 0.98240282 0.9803524  0.98214565 0.98402231\n",
      " 0.98243062 0.9832925  0.98234027 0.98311352 0.98387982 0.99305635\n",
      " 0.99209717 0.98630211 0.98011434 0.98247059 0.98495195 0.98420998\n",
      " 0.98469652 0.97893969 0.98161567 0.98615267 0.99045683 0.98697632\n",
      " 0.98871049 0.99154112 0.98881127 0.98883908 1.         0.9955047\n",
      " 0.99411979 0.99384524 0.99338824 0.99121444 0.98552712 0.98699369\n",
      " 0.98575301 0.99062017 0.98913969 0.99014579 0.98643243 0.98608143\n",
      " 0.98660793 0.98564354 0.98202923 0.98100078 0.97890902 0.9770354\n",
      " 0.97525686 0.97354156 0.9719066  0.97035855 0.96889186 0.96749818\n",
      " 0.96616846 0.96489358 0.96366572 0.96247733]\n",
      "13 day output [[0.96132195]]\n",
      "14 day input [0.92651827 0.94099984 0.94102591 0.93549323 0.93624911 0.94330918\n",
      " 0.93874437 0.93367913 0.9298841  0.93560792 0.93625085 0.93534901\n",
      " 0.93445586 0.93842638 0.93883473 0.93516308 0.93861753 0.94065579\n",
      " 0.94859337 0.95172288 0.95409477 0.9580792  0.95697753 0.96494292\n",
      " 0.96694817 0.96833655 0.96618881 0.96722445 0.9626527  0.96209144\n",
      " 0.96537907 0.96088724 0.96090462 0.96196285 0.96099845 0.97300561\n",
      " 0.97481277 0.97453822 0.96981529 0.97246347 0.97135658 0.9770109\n",
      " 0.98203444 0.98240282 0.9803524  0.98214565 0.98402231 0.98243062\n",
      " 0.9832925  0.98234027 0.98311352 0.98387982 0.99305635 0.99209717\n",
      " 0.98630211 0.98011434 0.98247059 0.98495195 0.98420998 0.98469652\n",
      " 0.97893969 0.98161567 0.98615267 0.99045683 0.98697632 0.98871049\n",
      " 0.99154112 0.98881127 0.98883908 1.         0.9955047  0.99411979\n",
      " 0.99384524 0.99338824 0.99121444 0.98552712 0.98699369 0.98575301\n",
      " 0.99062017 0.98913969 0.99014579 0.98643243 0.98608143 0.98660793\n",
      " 0.98564354 0.98202923 0.98100078 0.97890902 0.9770354  0.97525686\n",
      " 0.97354156 0.9719066  0.97035855 0.96889186 0.96749818 0.96616846\n",
      " 0.96489358 0.96366572 0.96247733 0.96132195]\n",
      "14 day output [[0.96019393]]\n",
      "15 day input [0.94099984 0.94102591 0.93549323 0.93624911 0.94330918 0.93874437\n",
      " 0.93367913 0.9298841  0.93560792 0.93625085 0.93534901 0.93445586\n",
      " 0.93842638 0.93883473 0.93516308 0.93861753 0.94065579 0.94859337\n",
      " 0.95172288 0.95409477 0.9580792  0.95697753 0.96494292 0.96694817\n",
      " 0.96833655 0.96618881 0.96722445 0.9626527  0.96209144 0.96537907\n",
      " 0.96088724 0.96090462 0.96196285 0.96099845 0.97300561 0.97481277\n",
      " 0.97453822 0.96981529 0.97246347 0.97135658 0.9770109  0.98203444\n",
      " 0.98240282 0.9803524  0.98214565 0.98402231 0.98243062 0.9832925\n",
      " 0.98234027 0.98311352 0.98387982 0.99305635 0.99209717 0.98630211\n",
      " 0.98011434 0.98247059 0.98495195 0.98420998 0.98469652 0.97893969\n",
      " 0.98161567 0.98615267 0.99045683 0.98697632 0.98871049 0.99154112\n",
      " 0.98881127 0.98883908 1.         0.9955047  0.99411979 0.99384524\n",
      " 0.99338824 0.99121444 0.98552712 0.98699369 0.98575301 0.99062017\n",
      " 0.98913969 0.99014579 0.98643243 0.98608143 0.98660793 0.98564354\n",
      " 0.98202923 0.98100078 0.97890902 0.9770354  0.97525686 0.97354156\n",
      " 0.9719066  0.97035855 0.96889186 0.96749818 0.96616846 0.96489358\n",
      " 0.96366572 0.96247733 0.96132195 0.96019393]\n",
      "15 day output [[0.95908886]]\n",
      "16 day input [0.94102591 0.93549323 0.93624911 0.94330918 0.93874437 0.93367913\n",
      " 0.9298841  0.93560792 0.93625085 0.93534901 0.93445586 0.93842638\n",
      " 0.93883473 0.93516308 0.93861753 0.94065579 0.94859337 0.95172288\n",
      " 0.95409477 0.9580792  0.95697753 0.96494292 0.96694817 0.96833655\n",
      " 0.96618881 0.96722445 0.9626527  0.96209144 0.96537907 0.96088724\n",
      " 0.96090462 0.96196285 0.96099845 0.97300561 0.97481277 0.97453822\n",
      " 0.96981529 0.97246347 0.97135658 0.9770109  0.98203444 0.98240282\n",
      " 0.9803524  0.98214565 0.98402231 0.98243062 0.9832925  0.98234027\n",
      " 0.98311352 0.98387982 0.99305635 0.99209717 0.98630211 0.98011434\n",
      " 0.98247059 0.98495195 0.98420998 0.98469652 0.97893969 0.98161567\n",
      " 0.98615267 0.99045683 0.98697632 0.98871049 0.99154112 0.98881127\n",
      " 0.98883908 1.         0.9955047  0.99411979 0.99384524 0.99338824\n",
      " 0.99121444 0.98552712 0.98699369 0.98575301 0.99062017 0.98913969\n",
      " 0.99014579 0.98643243 0.98608143 0.98660793 0.98564354 0.98202923\n",
      " 0.98100078 0.97890902 0.9770354  0.97525686 0.97354156 0.9719066\n",
      " 0.97035855 0.96889186 0.96749818 0.96616846 0.96489358 0.96366572\n",
      " 0.96247733 0.96132195 0.96019393 0.95908886]\n"
     ]
    },
    {
     "name": "stdout",
     "output_type": "stream",
     "text": [
      "16 day output [[0.9580029]]\n",
      "17 day input [0.93549323 0.93624911 0.94330918 0.93874437 0.93367913 0.9298841\n",
      " 0.93560792 0.93625085 0.93534901 0.93445586 0.93842638 0.93883473\n",
      " 0.93516308 0.93861753 0.94065579 0.94859337 0.95172288 0.95409477\n",
      " 0.9580792  0.95697753 0.96494292 0.96694817 0.96833655 0.96618881\n",
      " 0.96722445 0.9626527  0.96209144 0.96537907 0.96088724 0.96090462\n",
      " 0.96196285 0.96099845 0.97300561 0.97481277 0.97453822 0.96981529\n",
      " 0.97246347 0.97135658 0.9770109  0.98203444 0.98240282 0.9803524\n",
      " 0.98214565 0.98402231 0.98243062 0.9832925  0.98234027 0.98311352\n",
      " 0.98387982 0.99305635 0.99209717 0.98630211 0.98011434 0.98247059\n",
      " 0.98495195 0.98420998 0.98469652 0.97893969 0.98161567 0.98615267\n",
      " 0.99045683 0.98697632 0.98871049 0.99154112 0.98881127 0.98883908\n",
      " 1.         0.9955047  0.99411979 0.99384524 0.99338824 0.99121444\n",
      " 0.98552712 0.98699369 0.98575301 0.99062017 0.98913969 0.99014579\n",
      " 0.98643243 0.98608143 0.98660793 0.98564354 0.98202923 0.98100078\n",
      " 0.97890902 0.9770354  0.97525686 0.97354156 0.9719066  0.97035855\n",
      " 0.96889186 0.96749818 0.96616846 0.96489358 0.96366572 0.96247733\n",
      " 0.96132195 0.96019393 0.95908886 0.95800292]\n",
      "17 day output [[0.9569329]]\n",
      "18 day input [0.93624911 0.94330918 0.93874437 0.93367913 0.9298841  0.93560792\n",
      " 0.93625085 0.93534901 0.93445586 0.93842638 0.93883473 0.93516308\n",
      " 0.93861753 0.94065579 0.94859337 0.95172288 0.95409477 0.9580792\n",
      " 0.95697753 0.96494292 0.96694817 0.96833655 0.96618881 0.96722445\n",
      " 0.9626527  0.96209144 0.96537907 0.96088724 0.96090462 0.96196285\n",
      " 0.96099845 0.97300561 0.97481277 0.97453822 0.96981529 0.97246347\n",
      " 0.97135658 0.9770109  0.98203444 0.98240282 0.9803524  0.98214565\n",
      " 0.98402231 0.98243062 0.9832925  0.98234027 0.98311352 0.98387982\n",
      " 0.99305635 0.99209717 0.98630211 0.98011434 0.98247059 0.98495195\n",
      " 0.98420998 0.98469652 0.97893969 0.98161567 0.98615267 0.99045683\n",
      " 0.98697632 0.98871049 0.99154112 0.98881127 0.98883908 1.\n",
      " 0.9955047  0.99411979 0.99384524 0.99338824 0.99121444 0.98552712\n",
      " 0.98699369 0.98575301 0.99062017 0.98913969 0.99014579 0.98643243\n",
      " 0.98608143 0.98660793 0.98564354 0.98202923 0.98100078 0.97890902\n",
      " 0.9770354  0.97525686 0.97354156 0.9719066  0.97035855 0.96889186\n",
      " 0.96749818 0.96616846 0.96489358 0.96366572 0.96247733 0.96132195\n",
      " 0.96019393 0.95908886 0.95800292 0.9569329 ]\n",
      "18 day output [[0.9558764]]\n",
      "19 day input [0.94330918 0.93874437 0.93367913 0.9298841  0.93560792 0.93625085\n",
      " 0.93534901 0.93445586 0.93842638 0.93883473 0.93516308 0.93861753\n",
      " 0.94065579 0.94859337 0.95172288 0.95409477 0.9580792  0.95697753\n",
      " 0.96494292 0.96694817 0.96833655 0.96618881 0.96722445 0.9626527\n",
      " 0.96209144 0.96537907 0.96088724 0.96090462 0.96196285 0.96099845\n",
      " 0.97300561 0.97481277 0.97453822 0.96981529 0.97246347 0.97135658\n",
      " 0.9770109  0.98203444 0.98240282 0.9803524  0.98214565 0.98402231\n",
      " 0.98243062 0.9832925  0.98234027 0.98311352 0.98387982 0.99305635\n",
      " 0.99209717 0.98630211 0.98011434 0.98247059 0.98495195 0.98420998\n",
      " 0.98469652 0.97893969 0.98161567 0.98615267 0.99045683 0.98697632\n",
      " 0.98871049 0.99154112 0.98881127 0.98883908 1.         0.9955047\n",
      " 0.99411979 0.99384524 0.99338824 0.99121444 0.98552712 0.98699369\n",
      " 0.98575301 0.99062017 0.98913969 0.99014579 0.98643243 0.98608143\n",
      " 0.98660793 0.98564354 0.98202923 0.98100078 0.97890902 0.9770354\n",
      " 0.97525686 0.97354156 0.9719066  0.97035855 0.96889186 0.96749818\n",
      " 0.96616846 0.96489358 0.96366572 0.96247733 0.96132195 0.96019393\n",
      " 0.95908886 0.95800292 0.9569329  0.95587641]\n",
      "19 day output [[0.9548316]]\n",
      "20 day input [0.93874437 0.93367913 0.9298841  0.93560792 0.93625085 0.93534901\n",
      " 0.93445586 0.93842638 0.93883473 0.93516308 0.93861753 0.94065579\n",
      " 0.94859337 0.95172288 0.95409477 0.9580792  0.95697753 0.96494292\n",
      " 0.96694817 0.96833655 0.96618881 0.96722445 0.9626527  0.96209144\n",
      " 0.96537907 0.96088724 0.96090462 0.96196285 0.96099845 0.97300561\n",
      " 0.97481277 0.97453822 0.96981529 0.97246347 0.97135658 0.9770109\n",
      " 0.98203444 0.98240282 0.9803524  0.98214565 0.98402231 0.98243062\n",
      " 0.9832925  0.98234027 0.98311352 0.98387982 0.99305635 0.99209717\n",
      " 0.98630211 0.98011434 0.98247059 0.98495195 0.98420998 0.98469652\n",
      " 0.97893969 0.98161567 0.98615267 0.99045683 0.98697632 0.98871049\n",
      " 0.99154112 0.98881127 0.98883908 1.         0.9955047  0.99411979\n",
      " 0.99384524 0.99338824 0.99121444 0.98552712 0.98699369 0.98575301\n",
      " 0.99062017 0.98913969 0.99014579 0.98643243 0.98608143 0.98660793\n",
      " 0.98564354 0.98202923 0.98100078 0.97890902 0.9770354  0.97525686\n",
      " 0.97354156 0.9719066  0.97035855 0.96889186 0.96749818 0.96616846\n",
      " 0.96489358 0.96366572 0.96247733 0.96132195 0.96019393 0.95908886\n",
      " 0.95800292 0.9569329  0.95587641 0.9548316 ]\n",
      "20 day output [[0.95379704]]\n",
      "21 day input [0.93367913 0.9298841  0.93560792 0.93625085 0.93534901 0.93445586\n",
      " 0.93842638 0.93883473 0.93516308 0.93861753 0.94065579 0.94859337\n",
      " 0.95172288 0.95409477 0.9580792  0.95697753 0.96494292 0.96694817\n",
      " 0.96833655 0.96618881 0.96722445 0.9626527  0.96209144 0.96537907\n",
      " 0.96088724 0.96090462 0.96196285 0.96099845 0.97300561 0.97481277\n",
      " 0.97453822 0.96981529 0.97246347 0.97135658 0.9770109  0.98203444\n",
      " 0.98240282 0.9803524  0.98214565 0.98402231 0.98243062 0.9832925\n",
      " 0.98234027 0.98311352 0.98387982 0.99305635 0.99209717 0.98630211\n",
      " 0.98011434 0.98247059 0.98495195 0.98420998 0.98469652 0.97893969\n",
      " 0.98161567 0.98615267 0.99045683 0.98697632 0.98871049 0.99154112\n",
      " 0.98881127 0.98883908 1.         0.9955047  0.99411979 0.99384524\n",
      " 0.99338824 0.99121444 0.98552712 0.98699369 0.98575301 0.99062017\n",
      " 0.98913969 0.99014579 0.98643243 0.98608143 0.98660793 0.98564354\n",
      " 0.98202923 0.98100078 0.97890902 0.9770354  0.97525686 0.97354156\n",
      " 0.9719066  0.97035855 0.96889186 0.96749818 0.96616846 0.96489358\n",
      " 0.96366572 0.96247733 0.96132195 0.96019393 0.95908886 0.95800292\n",
      " 0.9569329  0.95587641 0.9548316  0.95379704]\n",
      "21 day output [[0.95277196]]\n",
      "22 day input [0.9298841  0.93560792 0.93625085 0.93534901 0.93445586 0.93842638\n",
      " 0.93883473 0.93516308 0.93861753 0.94065579 0.94859337 0.95172288\n",
      " 0.95409477 0.9580792  0.95697753 0.96494292 0.96694817 0.96833655\n",
      " 0.96618881 0.96722445 0.9626527  0.96209144 0.96537907 0.96088724\n",
      " 0.96090462 0.96196285 0.96099845 0.97300561 0.97481277 0.97453822\n",
      " 0.96981529 0.97246347 0.97135658 0.9770109  0.98203444 0.98240282\n",
      " 0.9803524  0.98214565 0.98402231 0.98243062 0.9832925  0.98234027\n",
      " 0.98311352 0.98387982 0.99305635 0.99209717 0.98630211 0.98011434\n",
      " 0.98247059 0.98495195 0.98420998 0.98469652 0.97893969 0.98161567\n",
      " 0.98615267 0.99045683 0.98697632 0.98871049 0.99154112 0.98881127\n",
      " 0.98883908 1.         0.9955047  0.99411979 0.99384524 0.99338824\n",
      " 0.99121444 0.98552712 0.98699369 0.98575301 0.99062017 0.98913969\n",
      " 0.99014579 0.98643243 0.98608143 0.98660793 0.98564354 0.98202923\n",
      " 0.98100078 0.97890902 0.9770354  0.97525686 0.97354156 0.9719066\n",
      " 0.97035855 0.96889186 0.96749818 0.96616846 0.96489358 0.96366572\n",
      " 0.96247733 0.96132195 0.96019393 0.95908886 0.95800292 0.9569329\n",
      " 0.95587641 0.9548316  0.95379704 0.95277196]\n",
      "22 day output [[0.95175564]]\n",
      "23 day input [0.93560792 0.93625085 0.93534901 0.93445586 0.93842638 0.93883473\n",
      " 0.93516308 0.93861753 0.94065579 0.94859337 0.95172288 0.95409477\n",
      " 0.9580792  0.95697753 0.96494292 0.96694817 0.96833655 0.96618881\n",
      " 0.96722445 0.9626527  0.96209144 0.96537907 0.96088724 0.96090462\n",
      " 0.96196285 0.96099845 0.97300561 0.97481277 0.97453822 0.96981529\n",
      " 0.97246347 0.97135658 0.9770109  0.98203444 0.98240282 0.9803524\n",
      " 0.98214565 0.98402231 0.98243062 0.9832925  0.98234027 0.98311352\n",
      " 0.98387982 0.99305635 0.99209717 0.98630211 0.98011434 0.98247059\n",
      " 0.98495195 0.98420998 0.98469652 0.97893969 0.98161567 0.98615267\n",
      " 0.99045683 0.98697632 0.98871049 0.99154112 0.98881127 0.98883908\n",
      " 1.         0.9955047  0.99411979 0.99384524 0.99338824 0.99121444\n",
      " 0.98552712 0.98699369 0.98575301 0.99062017 0.98913969 0.99014579\n",
      " 0.98643243 0.98608143 0.98660793 0.98564354 0.98202923 0.98100078\n",
      " 0.97890902 0.9770354  0.97525686 0.97354156 0.9719066  0.97035855\n",
      " 0.96889186 0.96749818 0.96616846 0.96489358 0.96366572 0.96247733\n",
      " 0.96132195 0.96019393 0.95908886 0.95800292 0.9569329  0.95587641\n",
      " 0.9548316  0.95379704 0.95277196 0.95175564]\n",
      "23 day output [[0.9507483]]\n",
      "24 day input [0.93625085 0.93534901 0.93445586 0.93842638 0.93883473 0.93516308\n",
      " 0.93861753 0.94065579 0.94859337 0.95172288 0.95409477 0.9580792\n",
      " 0.95697753 0.96494292 0.96694817 0.96833655 0.96618881 0.96722445\n",
      " 0.9626527  0.96209144 0.96537907 0.96088724 0.96090462 0.96196285\n",
      " 0.96099845 0.97300561 0.97481277 0.97453822 0.96981529 0.97246347\n",
      " 0.97135658 0.9770109  0.98203444 0.98240282 0.9803524  0.98214565\n",
      " 0.98402231 0.98243062 0.9832925  0.98234027 0.98311352 0.98387982\n",
      " 0.99305635 0.99209717 0.98630211 0.98011434 0.98247059 0.98495195\n",
      " 0.98420998 0.98469652 0.97893969 0.98161567 0.98615267 0.99045683\n",
      " 0.98697632 0.98871049 0.99154112 0.98881127 0.98883908 1.\n",
      " 0.9955047  0.99411979 0.99384524 0.99338824 0.99121444 0.98552712\n",
      " 0.98699369 0.98575301 0.99062017 0.98913969 0.99014579 0.98643243\n",
      " 0.98608143 0.98660793 0.98564354 0.98202923 0.98100078 0.97890902\n",
      " 0.9770354  0.97525686 0.97354156 0.9719066  0.97035855 0.96889186\n",
      " 0.96749818 0.96616846 0.96489358 0.96366572 0.96247733 0.96132195\n",
      " 0.96019393 0.95908886 0.95800292 0.9569329  0.95587641 0.9548316\n",
      " 0.95379704 0.95277196 0.95175564 0.95074832]\n"
     ]
    },
    {
     "name": "stdout",
     "output_type": "stream",
     "text": [
      "24 day output [[0.9497496]]\n",
      "25 day input [0.93534901 0.93445586 0.93842638 0.93883473 0.93516308 0.93861753\n",
      " 0.94065579 0.94859337 0.95172288 0.95409477 0.9580792  0.95697753\n",
      " 0.96494292 0.96694817 0.96833655 0.96618881 0.96722445 0.9626527\n",
      " 0.96209144 0.96537907 0.96088724 0.96090462 0.96196285 0.96099845\n",
      " 0.97300561 0.97481277 0.97453822 0.96981529 0.97246347 0.97135658\n",
      " 0.9770109  0.98203444 0.98240282 0.9803524  0.98214565 0.98402231\n",
      " 0.98243062 0.9832925  0.98234027 0.98311352 0.98387982 0.99305635\n",
      " 0.99209717 0.98630211 0.98011434 0.98247059 0.98495195 0.98420998\n",
      " 0.98469652 0.97893969 0.98161567 0.98615267 0.99045683 0.98697632\n",
      " 0.98871049 0.99154112 0.98881127 0.98883908 1.         0.9955047\n",
      " 0.99411979 0.99384524 0.99338824 0.99121444 0.98552712 0.98699369\n",
      " 0.98575301 0.99062017 0.98913969 0.99014579 0.98643243 0.98608143\n",
      " 0.98660793 0.98564354 0.98202923 0.98100078 0.97890902 0.9770354\n",
      " 0.97525686 0.97354156 0.9719066  0.97035855 0.96889186 0.96749818\n",
      " 0.96616846 0.96489358 0.96366572 0.96247733 0.96132195 0.96019393\n",
      " 0.95908886 0.95800292 0.9569329  0.95587641 0.9548316  0.95379704\n",
      " 0.95277196 0.95175564 0.95074832 0.94974959]\n",
      "25 day output [[0.94875985]]\n",
      "26 day input [0.93445586 0.93842638 0.93883473 0.93516308 0.93861753 0.94065579\n",
      " 0.94859337 0.95172288 0.95409477 0.9580792  0.95697753 0.96494292\n",
      " 0.96694817 0.96833655 0.96618881 0.96722445 0.9626527  0.96209144\n",
      " 0.96537907 0.96088724 0.96090462 0.96196285 0.96099845 0.97300561\n",
      " 0.97481277 0.97453822 0.96981529 0.97246347 0.97135658 0.9770109\n",
      " 0.98203444 0.98240282 0.9803524  0.98214565 0.98402231 0.98243062\n",
      " 0.9832925  0.98234027 0.98311352 0.98387982 0.99305635 0.99209717\n",
      " 0.98630211 0.98011434 0.98247059 0.98495195 0.98420998 0.98469652\n",
      " 0.97893969 0.98161567 0.98615267 0.99045683 0.98697632 0.98871049\n",
      " 0.99154112 0.98881127 0.98883908 1.         0.9955047  0.99411979\n",
      " 0.99384524 0.99338824 0.99121444 0.98552712 0.98699369 0.98575301\n",
      " 0.99062017 0.98913969 0.99014579 0.98643243 0.98608143 0.98660793\n",
      " 0.98564354 0.98202923 0.98100078 0.97890902 0.9770354  0.97525686\n",
      " 0.97354156 0.9719066  0.97035855 0.96889186 0.96749818 0.96616846\n",
      " 0.96489358 0.96366572 0.96247733 0.96132195 0.96019393 0.95908886\n",
      " 0.95800292 0.9569329  0.95587641 0.9548316  0.95379704 0.95277196\n",
      " 0.95175564 0.95074832 0.94974959 0.94875985]\n",
      "26 day output [[0.9477799]]\n",
      "27 day input [0.93842638 0.93883473 0.93516308 0.93861753 0.94065579 0.94859337\n",
      " 0.95172288 0.95409477 0.9580792  0.95697753 0.96494292 0.96694817\n",
      " 0.96833655 0.96618881 0.96722445 0.9626527  0.96209144 0.96537907\n",
      " 0.96088724 0.96090462 0.96196285 0.96099845 0.97300561 0.97481277\n",
      " 0.97453822 0.96981529 0.97246347 0.97135658 0.9770109  0.98203444\n",
      " 0.98240282 0.9803524  0.98214565 0.98402231 0.98243062 0.9832925\n",
      " 0.98234027 0.98311352 0.98387982 0.99305635 0.99209717 0.98630211\n",
      " 0.98011434 0.98247059 0.98495195 0.98420998 0.98469652 0.97893969\n",
      " 0.98161567 0.98615267 0.99045683 0.98697632 0.98871049 0.99154112\n",
      " 0.98881127 0.98883908 1.         0.9955047  0.99411979 0.99384524\n",
      " 0.99338824 0.99121444 0.98552712 0.98699369 0.98575301 0.99062017\n",
      " 0.98913969 0.99014579 0.98643243 0.98608143 0.98660793 0.98564354\n",
      " 0.98202923 0.98100078 0.97890902 0.9770354  0.97525686 0.97354156\n",
      " 0.9719066  0.97035855 0.96889186 0.96749818 0.96616846 0.96489358\n",
      " 0.96366572 0.96247733 0.96132195 0.96019393 0.95908886 0.95800292\n",
      " 0.9569329  0.95587641 0.9548316  0.95379704 0.95277196 0.95175564\n",
      " 0.95074832 0.94974959 0.94875985 0.94777989]\n",
      "27 day output [[0.9468092]]\n",
      "28 day input [0.93883473 0.93516308 0.93861753 0.94065579 0.94859337 0.95172288\n",
      " 0.95409477 0.9580792  0.95697753 0.96494292 0.96694817 0.96833655\n",
      " 0.96618881 0.96722445 0.9626527  0.96209144 0.96537907 0.96088724\n",
      " 0.96090462 0.96196285 0.96099845 0.97300561 0.97481277 0.97453822\n",
      " 0.96981529 0.97246347 0.97135658 0.9770109  0.98203444 0.98240282\n",
      " 0.9803524  0.98214565 0.98402231 0.98243062 0.9832925  0.98234027\n",
      " 0.98311352 0.98387982 0.99305635 0.99209717 0.98630211 0.98011434\n",
      " 0.98247059 0.98495195 0.98420998 0.98469652 0.97893969 0.98161567\n",
      " 0.98615267 0.99045683 0.98697632 0.98871049 0.99154112 0.98881127\n",
      " 0.98883908 1.         0.9955047  0.99411979 0.99384524 0.99338824\n",
      " 0.99121444 0.98552712 0.98699369 0.98575301 0.99062017 0.98913969\n",
      " 0.99014579 0.98643243 0.98608143 0.98660793 0.98564354 0.98202923\n",
      " 0.98100078 0.97890902 0.9770354  0.97525686 0.97354156 0.9719066\n",
      " 0.97035855 0.96889186 0.96749818 0.96616846 0.96489358 0.96366572\n",
      " 0.96247733 0.96132195 0.96019393 0.95908886 0.95800292 0.9569329\n",
      " 0.95587641 0.9548316  0.95379704 0.95277196 0.95175564 0.95074832\n",
      " 0.94974959 0.94875985 0.94777989 0.94680917]\n",
      "28 day output [[0.9458491]]\n",
      "29 day input [0.93516308 0.93861753 0.94065579 0.94859337 0.95172288 0.95409477\n",
      " 0.9580792  0.95697753 0.96494292 0.96694817 0.96833655 0.96618881\n",
      " 0.96722445 0.9626527  0.96209144 0.96537907 0.96088724 0.96090462\n",
      " 0.96196285 0.96099845 0.97300561 0.97481277 0.97453822 0.96981529\n",
      " 0.97246347 0.97135658 0.9770109  0.98203444 0.98240282 0.9803524\n",
      " 0.98214565 0.98402231 0.98243062 0.9832925  0.98234027 0.98311352\n",
      " 0.98387982 0.99305635 0.99209717 0.98630211 0.98011434 0.98247059\n",
      " 0.98495195 0.98420998 0.98469652 0.97893969 0.98161567 0.98615267\n",
      " 0.99045683 0.98697632 0.98871049 0.99154112 0.98881127 0.98883908\n",
      " 1.         0.9955047  0.99411979 0.99384524 0.99338824 0.99121444\n",
      " 0.98552712 0.98699369 0.98575301 0.99062017 0.98913969 0.99014579\n",
      " 0.98643243 0.98608143 0.98660793 0.98564354 0.98202923 0.98100078\n",
      " 0.97890902 0.9770354  0.97525686 0.97354156 0.9719066  0.97035855\n",
      " 0.96889186 0.96749818 0.96616846 0.96489358 0.96366572 0.96247733\n",
      " 0.96132195 0.96019393 0.95908886 0.95800292 0.9569329  0.95587641\n",
      " 0.9548316  0.95379704 0.95277196 0.95175564 0.95074832 0.94974959\n",
      " 0.94875985 0.94777989 0.94680917 0.94584912]\n",
      "29 day output [[0.9448996]]\n",
      "[[0.9810007810592651], [0.9789090156555176], [0.977035403251648], [0.9752568602561951], [0.9735415577888489], [0.9719066023826599], [0.9703585505485535], [0.9688918590545654], [0.9674981832504272], [0.9661684632301331], [0.9648935794830322], [0.9636657238006592], [0.9624773263931274], [0.9613219499588013], [0.960193932056427], [0.9590888619422913], [0.9580029249191284], [0.9569329023361206], [0.9558764100074768], [0.954831600189209], [0.9537970423698425], [0.9527719616889954], [0.9517556428909302], [0.9507483243942261], [0.9497495889663696], [0.9487598538398743], [0.9477798938751221], [0.9468091726303101], [0.9458491206169128], [0.9448996186256409]]\n"
     ]
    }
   ],
   "source": [
    "# demonstrate prediction for next 30 days\n",
    "from numpy import array\n",
    "\n",
    "lst_output=[]\n",
    "n_steps=100\n",
    "i=0\n",
    "while(i<30):\n",
    "    \n",
    "    if(len(temp_input)>100):\n",
    "        #print(temp_input)\n",
    "        x_input=np.array(temp_input[1:])\n",
    "        print(\"{} day input {}\".format(i,x_input))\n",
    "        x_input=x_input.reshape(1,-1)\n",
    "        x_input = x_input.reshape((1, n_steps, 1))\n",
    "        #print(x_input)\n",
    "        yhat = model.predict(x_input, verbose=0)\n",
    "        print(\"{} day output {}\".format(i,yhat))\n",
    "        temp_input.extend(yhat[0].tolist())\n",
    "        temp_input=temp_input[1:]\n",
    "        #print(temp_input)\n",
    "        lst_output.extend(yhat.tolist())\n",
    "        i=i+1\n",
    "    else:\n",
    "        x_input = x_input.reshape((1, n_steps,1))\n",
    "        yhat = model.predict(x_input, verbose=0)\n",
    "        print(yhat[0])\n",
    "        temp_input.extend(yhat[0].tolist())\n",
    "        print(len(temp_input))\n",
    "        lst_output.extend(yhat.tolist())\n",
    "        i=i+1\n",
    "    \n",
    "\n",
    "print(lst_output)"
   ]
  },
  {
   "cell_type": "code",
   "execution_count": 43,
   "metadata": {},
   "outputs": [],
   "source": [
    "day_new=np.arange(1,101)\n",
    "day_pred=np.arange(101,131)"
   ]
  },
  {
   "cell_type": "code",
   "execution_count": 44,
   "metadata": {},
   "outputs": [],
   "source": [
    "import matplotlib.pyplot as plt"
   ]
  },
  {
   "cell_type": "code",
   "execution_count": 45,
   "metadata": {},
   "outputs": [
    {
     "data": {
      "text/plain": [
       "3899"
      ]
     },
     "execution_count": 45,
     "metadata": {},
     "output_type": "execute_result"
    }
   ],
   "source": [
    "len(df1)"
   ]
  },
  {
   "cell_type": "code",
   "execution_count": null,
   "metadata": {},
   "outputs": [],
   "source": []
  },
  {
   "cell_type": "code",
   "execution_count": 46,
   "metadata": {},
   "outputs": [
    {
     "data": {
      "text/plain": [
       "[<matplotlib.lines.Line2D at 0x185de3cd810>]"
      ]
     },
     "execution_count": 46,
     "metadata": {},
     "output_type": "execute_result"
    },
    {
     "data": {
      "image/png": "[encoded data removed]",
      "text/plain": [
       "<Figure size 640x480 with 1 Axes>"
      ]
     },
     "metadata": {},
     "output_type": "display_data"
    }
   ],
   "source": [
    "plt.plot(day_new,scaler.inverse_transform(df1[len(df1)-100:]))\n",
    "plt.plot(day_pred,scaler.inverse_transform(lst_output))"
   ]
  },
  {
   "cell_type": "code",
   "execution_count": 47,
   "metadata": {},
   "outputs": [
    {
     "data": {
      "text/plain": [
       "[<matplotlib.lines.Line2D at 0x185de3edc60>]"
      ]
     },
     "execution_count": 47,
     "metadata": {},
     "output_type": "execute_result"
    },
    {
     "data": {
      "image/png": "[encoded data removed]",
      "text/plain": [
       "<Figure size 640x480 with 1 Axes>"
      ]
     },
     "metadata": {},
     "output_type": "display_data"
    }
   ],
   "source": [
    "df3=df1.tolist()\n",
    "df3.extend(lst_output)\n",
    "plt.plot(df3[1200:])"
   ]
  },
  {
   "cell_type": "code",
   "execution_count": 48,
   "metadata": {},
   "outputs": [],
   "source": [
    "df3=scaler.inverse_transform(df3).tolist()"
   ]
  },
  {
   "cell_type": "code",
   "execution_count": 49,
   "metadata": {
    "scrolled": true
   },
   "outputs": [
    {
     "data": {
      "text/plain": [
       "[<matplotlib.lines.Line2D at 0x185de3ed990>]"
      ]
     },
     "execution_count": 49,
     "metadata": {},
     "output_type": "execute_result"
    },
    {
     "data": {
      "image/png": "[encoded data removed]",
      "text/plain": [
       "<Figure size 640x480 with 1 Axes>"
      ]
     },
     "metadata": {},
     "output_type": "display_data"
    }
   ],
   "source": [
    "plt.plot(df3)"
   ]
  }
 ],
 "metadata": {
  "kernelspec": {
   "display_name": "Python 3 (ipykernel)",
   "language": "python",
   "name": "python3"
  },
  "language_info": {
   "codemirror_mode": {
    "name": "ipython",
    "version": 3
   },
   "file_extension": ".py",
   "mimetype": "text/x-python",
   "name": "python",
   "nbconvert_exporter": "python",
   "pygments_lexer": "ipython3",
   "version": "3.10.9"
  }
 },
 "nbformat": 4,
 "nbformat_minor": 2
}
