{
 "cells": [
  {
   "cell_type": "markdown",
   "metadata": {},
   "source": [
    "### Stock Market Prediction And Forecasting Using Stacked LSTM"
   ]
  },
  {
   "cell_type": "code",
   "execution_count": 1,
   "metadata": {},
   "outputs": [
    {
     "name": "stdout",
     "output_type": "stream",
     "text": [
      "Num GPUs Available:  [PhysicalDevice(name='/physical_device:GPU:0', device_type='GPU')]\n"
     ]
    }
   ],
   "source": [
    "import tensorflow as tf\n",
    "print(\"Num GPUs Available: \", tf.config.list_physical_devices('GPU'))"
   ]
  },
  {
   "cell_type": "code",
   "execution_count": 2,
   "metadata": {
    "scrolled": false
   },
   "outputs": [
    {
     "name": "stdout",
     "output_type": "stream",
     "text": [
      "True\n"
     ]
    }
   ],
   "source": [
    "import pandas as pd\n",
    "# import torch\n",
    "# print(torch.cuda.is_available())"
   ]
  },
  {
   "cell_type": "code",
   "execution_count": 3,
   "metadata": {
    "scrolled": true
   },
   "outputs": [],
   "source": [
    "df=pd.read_csv('india.csv')"
   ]
  },
  {
   "cell_type": "code",
   "execution_count": 4,
   "metadata": {},
   "outputs": [
    {
     "data": {
      "text/html": [
       "<div>\n",
       "<style scoped>\n",
       "    .dataframe tbody tr th:only-of-type {\n",
       "        vertical-align: middle;\n",
       "    }\n",
       "\n",
       "    .dataframe tbody tr th {\n",
       "        vertical-align: top;\n",
       "    }\n",
       "\n",
       "    .dataframe thead th {\n",
       "        text-align: right;\n",
       "    }\n",
       "</style>\n",
       "<table border=\"1\" class=\"dataframe\">\n",
       "  <thead>\n",
       "    <tr style=\"text-align: right;\">\n",
       "      <th></th>\n",
       "      <th>Time Interval</th>\n",
       "      <th>Close</th>\n",
       "      <th>Net Chg</th>\n",
       "      <th>Open</th>\n",
       "      <th>High</th>\n",
       "      <th>Low</th>\n",
       "      <th>Tick Count</th>\n",
       "      <th>Volume</th>\n",
       "    </tr>\n",
       "  </thead>\n",
       "  <tbody>\n",
       "    <tr>\n",
       "      <th>0</th>\n",
       "      <td>Summary</td>\n",
       "      <td>47746.22</td>\n",
       "      <td>6188.22</td>\n",
       "      <td>41606.81</td>\n",
       "      <td>47789.04</td>\n",
       "      <td>25640.12</td>\n",
       "      <td>7120958.0</td>\n",
       "      <td>N.A.</td>\n",
       "    </tr>\n",
       "    <tr>\n",
       "      <th>1</th>\n",
       "      <td>30DEC2019_00:00:00.000000</td>\n",
       "      <td>NaN</td>\n",
       "      <td>NaN</td>\n",
       "      <td>NaN</td>\n",
       "      <td>NaN</td>\n",
       "      <td>NaN</td>\n",
       "      <td>NaN</td>\n",
       "      <td>NaN</td>\n",
       "    </tr>\n",
       "    <tr>\n",
       "      <th>2</th>\n",
       "      <td>22:30 - 23:00</td>\n",
       "      <td>41479.49</td>\n",
       "      <td>-78.51</td>\n",
       "      <td>41606.81</td>\n",
       "      <td>41607.49</td>\n",
       "      <td>41444.63</td>\n",
       "      <td>1365.0</td>\n",
       "      <td>N.A.</td>\n",
       "    </tr>\n",
       "    <tr>\n",
       "      <th>3</th>\n",
       "      <td>23:00 - 23:30</td>\n",
       "      <td>41417.40</td>\n",
       "      <td>-62.09</td>\n",
       "      <td>41480.95</td>\n",
       "      <td>41483.97</td>\n",
       "      <td>41384.20</td>\n",
       "      <td>1797.0</td>\n",
       "      <td>N.A.</td>\n",
       "    </tr>\n",
       "    <tr>\n",
       "      <th>4</th>\n",
       "      <td>23:30 - 00:00</td>\n",
       "      <td>41409.97</td>\n",
       "      <td>-7.43</td>\n",
       "      <td>41417.49</td>\n",
       "      <td>41442.61</td>\n",
       "      <td>41383.68</td>\n",
       "      <td>1797.0</td>\n",
       "      <td>N.A.</td>\n",
       "    </tr>\n",
       "    <tr>\n",
       "      <th>5</th>\n",
       "      <td>31DEC2019_00:00:00.000000</td>\n",
       "      <td>NaN</td>\n",
       "      <td>NaN</td>\n",
       "      <td>NaN</td>\n",
       "      <td>NaN</td>\n",
       "      <td>NaN</td>\n",
       "      <td>NaN</td>\n",
       "      <td>NaN</td>\n",
       "    </tr>\n",
       "    <tr>\n",
       "      <th>6</th>\n",
       "      <td>00:00 - 00:30</td>\n",
       "      <td>41376.39</td>\n",
       "      <td>-33.58</td>\n",
       "      <td>41409.97</td>\n",
       "      <td>41416.09</td>\n",
       "      <td>41372.15</td>\n",
       "      <td>1798.0</td>\n",
       "      <td>N.A.</td>\n",
       "    </tr>\n",
       "    <tr>\n",
       "      <th>7</th>\n",
       "      <td>00:30 - 01:00</td>\n",
       "      <td>41373.46</td>\n",
       "      <td>-2.93</td>\n",
       "      <td>41376.39</td>\n",
       "      <td>41399.50</td>\n",
       "      <td>41349.61</td>\n",
       "      <td>1797.0</td>\n",
       "      <td>N.A.</td>\n",
       "    </tr>\n",
       "    <tr>\n",
       "      <th>8</th>\n",
       "      <td>01:00 - 01:30</td>\n",
       "      <td>41486.16</td>\n",
       "      <td>112.70</td>\n",
       "      <td>41373.46</td>\n",
       "      <td>41504.09</td>\n",
       "      <td>41373.46</td>\n",
       "      <td>1798.0</td>\n",
       "      <td>N.A.</td>\n",
       "    </tr>\n",
       "    <tr>\n",
       "      <th>9</th>\n",
       "      <td>01:30 - 02:00</td>\n",
       "      <td>41418.06</td>\n",
       "      <td>-68.10</td>\n",
       "      <td>41486.56</td>\n",
       "      <td>41489.61</td>\n",
       "      <td>41416.50</td>\n",
       "      <td>1798.0</td>\n",
       "      <td>N.A.</td>\n",
       "    </tr>\n",
       "  </tbody>\n",
       "</table>\n",
       "</div>"
      ],
      "text/plain": [
       "               Time Interval     Close  Net Chg      Open      High       Low  \\\n",
       "0                    Summary  47746.22  6188.22  41606.81  47789.04  25640.12   \n",
       "1  30DEC2019_00:00:00.000000       NaN      NaN       NaN       NaN       NaN   \n",
       "2              22:30 - 23:00  41479.49   -78.51  41606.81  41607.49  41444.63   \n",
       "3              23:00 - 23:30  41417.40   -62.09  41480.95  41483.97  41384.20   \n",
       "4              23:30 - 00:00  41409.97    -7.43  41417.49  41442.61  41383.68   \n",
       "5  31DEC2019_00:00:00.000000       NaN      NaN       NaN       NaN       NaN   \n",
       "6              00:00 - 00:30  41376.39   -33.58  41409.97  41416.09  41372.15   \n",
       "7              00:30 - 01:00  41373.46    -2.93  41376.39  41399.50  41349.61   \n",
       "8              01:00 - 01:30  41486.16   112.70  41373.46  41504.09  41373.46   \n",
       "9              01:30 - 02:00  41418.06   -68.10  41486.56  41489.61  41416.50   \n",
       "\n",
       "   Tick Count Volume  \n",
       "0   7120958.0   N.A.  \n",
       "1         NaN    NaN  \n",
       "2      1365.0   N.A.  \n",
       "3      1797.0   N.A.  \n",
       "4      1797.0   N.A.  \n",
       "5         NaN    NaN  \n",
       "6      1798.0   N.A.  \n",
       "7      1797.0   N.A.  \n",
       "8      1798.0   N.A.  \n",
       "9      1798.0   N.A.  "
      ]
     },
     "execution_count": 4,
     "metadata": {},
     "output_type": "execute_result"
    }
   ],
   "source": [
    "df.head(10)"
   ]
  },
  {
   "cell_type": "code",
   "execution_count": 5,
   "metadata": {},
   "outputs": [],
   "source": [
    "df=df.dropna()"
   ]
  },
  {
   "cell_type": "code",
   "execution_count": 6,
   "metadata": {
    "scrolled": false
   },
   "outputs": [
    {
     "data": {
      "text/html": [
       "<div>\n",
       "<style scoped>\n",
       "    .dataframe tbody tr th:only-of-type {\n",
       "        vertical-align: middle;\n",
       "    }\n",
       "\n",
       "    .dataframe tbody tr th {\n",
       "        vertical-align: top;\n",
       "    }\n",
       "\n",
       "    .dataframe thead th {\n",
       "        text-align: right;\n",
       "    }\n",
       "</style>\n",
       "<table border=\"1\" class=\"dataframe\">\n",
       "  <thead>\n",
       "    <tr style=\"text-align: right;\">\n",
       "      <th></th>\n",
       "      <th>Time Interval</th>\n",
       "      <th>Close</th>\n",
       "      <th>Net Chg</th>\n",
       "      <th>Open</th>\n",
       "      <th>High</th>\n",
       "      <th>Low</th>\n",
       "      <th>Tick Count</th>\n",
       "      <th>Volume</th>\n",
       "    </tr>\n",
       "  </thead>\n",
       "  <tbody>\n",
       "    <tr>\n",
       "      <th>0</th>\n",
       "      <td>Summary</td>\n",
       "      <td>47746.22</td>\n",
       "      <td>6188.22</td>\n",
       "      <td>41606.81</td>\n",
       "      <td>47789.04</td>\n",
       "      <td>25640.12</td>\n",
       "      <td>7120958.0</td>\n",
       "      <td>N.A.</td>\n",
       "    </tr>\n",
       "    <tr>\n",
       "      <th>2</th>\n",
       "      <td>22:30 - 23:00</td>\n",
       "      <td>41479.49</td>\n",
       "      <td>-78.51</td>\n",
       "      <td>41606.81</td>\n",
       "      <td>41607.49</td>\n",
       "      <td>41444.63</td>\n",
       "      <td>1365.0</td>\n",
       "      <td>N.A.</td>\n",
       "    </tr>\n",
       "    <tr>\n",
       "      <th>3</th>\n",
       "      <td>23:00 - 23:30</td>\n",
       "      <td>41417.40</td>\n",
       "      <td>-62.09</td>\n",
       "      <td>41480.95</td>\n",
       "      <td>41483.97</td>\n",
       "      <td>41384.20</td>\n",
       "      <td>1797.0</td>\n",
       "      <td>N.A.</td>\n",
       "    </tr>\n",
       "    <tr>\n",
       "      <th>4</th>\n",
       "      <td>23:30 - 00:00</td>\n",
       "      <td>41409.97</td>\n",
       "      <td>-7.43</td>\n",
       "      <td>41417.49</td>\n",
       "      <td>41442.61</td>\n",
       "      <td>41383.68</td>\n",
       "      <td>1797.0</td>\n",
       "      <td>N.A.</td>\n",
       "    </tr>\n",
       "    <tr>\n",
       "      <th>6</th>\n",
       "      <td>00:00 - 00:30</td>\n",
       "      <td>41376.39</td>\n",
       "      <td>-33.58</td>\n",
       "      <td>41409.97</td>\n",
       "      <td>41416.09</td>\n",
       "      <td>41372.15</td>\n",
       "      <td>1798.0</td>\n",
       "      <td>N.A.</td>\n",
       "    </tr>\n",
       "    <tr>\n",
       "      <th>7</th>\n",
       "      <td>00:30 - 01:00</td>\n",
       "      <td>41373.46</td>\n",
       "      <td>-2.93</td>\n",
       "      <td>41376.39</td>\n",
       "      <td>41399.50</td>\n",
       "      <td>41349.61</td>\n",
       "      <td>1797.0</td>\n",
       "      <td>N.A.</td>\n",
       "    </tr>\n",
       "    <tr>\n",
       "      <th>8</th>\n",
       "      <td>01:00 - 01:30</td>\n",
       "      <td>41486.16</td>\n",
       "      <td>112.70</td>\n",
       "      <td>41373.46</td>\n",
       "      <td>41504.09</td>\n",
       "      <td>41373.46</td>\n",
       "      <td>1798.0</td>\n",
       "      <td>N.A.</td>\n",
       "    </tr>\n",
       "    <tr>\n",
       "      <th>9</th>\n",
       "      <td>01:30 - 02:00</td>\n",
       "      <td>41418.06</td>\n",
       "      <td>-68.10</td>\n",
       "      <td>41486.56</td>\n",
       "      <td>41489.61</td>\n",
       "      <td>41416.50</td>\n",
       "      <td>1798.0</td>\n",
       "      <td>N.A.</td>\n",
       "    </tr>\n",
       "    <tr>\n",
       "      <th>10</th>\n",
       "      <td>02:00 - 02:30</td>\n",
       "      <td>41418.80</td>\n",
       "      <td>0.74</td>\n",
       "      <td>41418.06</td>\n",
       "      <td>41431.41</td>\n",
       "      <td>41405.36</td>\n",
       "      <td>1797.0</td>\n",
       "      <td>N.A.</td>\n",
       "    </tr>\n",
       "    <tr>\n",
       "      <th>11</th>\n",
       "      <td>02:30 - 03:00</td>\n",
       "      <td>41436.96</td>\n",
       "      <td>18.16</td>\n",
       "      <td>41418.45</td>\n",
       "      <td>41450.02</td>\n",
       "      <td>41415.41</td>\n",
       "      <td>1798.0</td>\n",
       "      <td>N.A.</td>\n",
       "    </tr>\n",
       "  </tbody>\n",
       "</table>\n",
       "</div>"
      ],
      "text/plain": [
       "    Time Interval     Close  Net Chg      Open      High       Low  \\\n",
       "0         Summary  47746.22  6188.22  41606.81  47789.04  25640.12   \n",
       "2   22:30 - 23:00  41479.49   -78.51  41606.81  41607.49  41444.63   \n",
       "3   23:00 - 23:30  41417.40   -62.09  41480.95  41483.97  41384.20   \n",
       "4   23:30 - 00:00  41409.97    -7.43  41417.49  41442.61  41383.68   \n",
       "6   00:00 - 00:30  41376.39   -33.58  41409.97  41416.09  41372.15   \n",
       "7   00:30 - 01:00  41373.46    -2.93  41376.39  41399.50  41349.61   \n",
       "8   01:00 - 01:30  41486.16   112.70  41373.46  41504.09  41373.46   \n",
       "9   01:30 - 02:00  41418.06   -68.10  41486.56  41489.61  41416.50   \n",
       "10  02:00 - 02:30  41418.80     0.74  41418.06  41431.41  41405.36   \n",
       "11  02:30 - 03:00  41436.96    18.16  41418.45  41450.02  41415.41   \n",
       "\n",
       "    Tick Count Volume  \n",
       "0    7120958.0   N.A.  \n",
       "2       1365.0   N.A.  \n",
       "3       1797.0   N.A.  \n",
       "4       1797.0   N.A.  \n",
       "6       1798.0   N.A.  \n",
       "7       1797.0   N.A.  \n",
       "8       1798.0   N.A.  \n",
       "9       1798.0   N.A.  \n",
       "10      1797.0   N.A.  \n",
       "11      1798.0   N.A.  "
      ]
     },
     "execution_count": 6,
     "metadata": {},
     "output_type": "execute_result"
    }
   ],
   "source": [
    "df.head(10)"
   ]
  },
  {
   "cell_type": "code",
   "execution_count": 7,
   "metadata": {},
   "outputs": [
    {
     "data": {
      "text/html": [
       "<div>\n",
       "<style scoped>\n",
       "    .dataframe tbody tr th:only-of-type {\n",
       "        vertical-align: middle;\n",
       "    }\n",
       "\n",
       "    .dataframe tbody tr th {\n",
       "        vertical-align: top;\n",
       "    }\n",
       "\n",
       "    .dataframe thead th {\n",
       "        text-align: right;\n",
       "    }\n",
       "</style>\n",
       "<table border=\"1\" class=\"dataframe\">\n",
       "  <thead>\n",
       "    <tr style=\"text-align: right;\">\n",
       "      <th></th>\n",
       "      <th>Time Interval</th>\n",
       "      <th>Close</th>\n",
       "      <th>Net Chg</th>\n",
       "      <th>Open</th>\n",
       "      <th>High</th>\n",
       "      <th>Low</th>\n",
       "      <th>Tick Count</th>\n",
       "      <th>Volume</th>\n",
       "    </tr>\n",
       "  </thead>\n",
       "  <tbody>\n",
       "    <tr>\n",
       "      <th>0</th>\n",
       "      <td>Summary</td>\n",
       "      <td>47746.22</td>\n",
       "      <td>6188.22</td>\n",
       "      <td>41606.81</td>\n",
       "      <td>47789.04</td>\n",
       "      <td>25640.12</td>\n",
       "      <td>7120958.0</td>\n",
       "      <td>N.A.</td>\n",
       "    </tr>\n",
       "    <tr>\n",
       "      <th>2</th>\n",
       "      <td>22:30 - 23:00</td>\n",
       "      <td>41479.49</td>\n",
       "      <td>-78.51</td>\n",
       "      <td>41606.81</td>\n",
       "      <td>41607.49</td>\n",
       "      <td>41444.63</td>\n",
       "      <td>1365.0</td>\n",
       "      <td>N.A.</td>\n",
       "    </tr>\n",
       "    <tr>\n",
       "      <th>3</th>\n",
       "      <td>23:00 - 23:30</td>\n",
       "      <td>41417.40</td>\n",
       "      <td>-62.09</td>\n",
       "      <td>41480.95</td>\n",
       "      <td>41483.97</td>\n",
       "      <td>41384.20</td>\n",
       "      <td>1797.0</td>\n",
       "      <td>N.A.</td>\n",
       "    </tr>\n",
       "    <tr>\n",
       "      <th>4</th>\n",
       "      <td>23:30 - 00:00</td>\n",
       "      <td>41409.97</td>\n",
       "      <td>-7.43</td>\n",
       "      <td>41417.49</td>\n",
       "      <td>41442.61</td>\n",
       "      <td>41383.68</td>\n",
       "      <td>1797.0</td>\n",
       "      <td>N.A.</td>\n",
       "    </tr>\n",
       "    <tr>\n",
       "      <th>6</th>\n",
       "      <td>00:00 - 00:30</td>\n",
       "      <td>41376.39</td>\n",
       "      <td>-33.58</td>\n",
       "      <td>41409.97</td>\n",
       "      <td>41416.09</td>\n",
       "      <td>41372.15</td>\n",
       "      <td>1798.0</td>\n",
       "      <td>N.A.</td>\n",
       "    </tr>\n",
       "    <tr>\n",
       "      <th>7</th>\n",
       "      <td>00:30 - 01:00</td>\n",
       "      <td>41373.46</td>\n",
       "      <td>-2.93</td>\n",
       "      <td>41376.39</td>\n",
       "      <td>41399.50</td>\n",
       "      <td>41349.61</td>\n",
       "      <td>1797.0</td>\n",
       "      <td>N.A.</td>\n",
       "    </tr>\n",
       "    <tr>\n",
       "      <th>8</th>\n",
       "      <td>01:00 - 01:30</td>\n",
       "      <td>41486.16</td>\n",
       "      <td>112.70</td>\n",
       "      <td>41373.46</td>\n",
       "      <td>41504.09</td>\n",
       "      <td>41373.46</td>\n",
       "      <td>1798.0</td>\n",
       "      <td>N.A.</td>\n",
       "    </tr>\n",
       "    <tr>\n",
       "      <th>9</th>\n",
       "      <td>01:30 - 02:00</td>\n",
       "      <td>41418.06</td>\n",
       "      <td>-68.10</td>\n",
       "      <td>41486.56</td>\n",
       "      <td>41489.61</td>\n",
       "      <td>41416.50</td>\n",
       "      <td>1798.0</td>\n",
       "      <td>N.A.</td>\n",
       "    </tr>\n",
       "    <tr>\n",
       "      <th>10</th>\n",
       "      <td>02:00 - 02:30</td>\n",
       "      <td>41418.80</td>\n",
       "      <td>0.74</td>\n",
       "      <td>41418.06</td>\n",
       "      <td>41431.41</td>\n",
       "      <td>41405.36</td>\n",
       "      <td>1797.0</td>\n",
       "      <td>N.A.</td>\n",
       "    </tr>\n",
       "    <tr>\n",
       "      <th>11</th>\n",
       "      <td>02:30 - 03:00</td>\n",
       "      <td>41436.96</td>\n",
       "      <td>18.16</td>\n",
       "      <td>41418.45</td>\n",
       "      <td>41450.02</td>\n",
       "      <td>41415.41</td>\n",
       "      <td>1798.0</td>\n",
       "      <td>N.A.</td>\n",
       "    </tr>\n",
       "  </tbody>\n",
       "</table>\n",
       "</div>"
      ],
      "text/plain": [
       "    Time Interval     Close  Net Chg      Open      High       Low  \\\n",
       "0         Summary  47746.22  6188.22  41606.81  47789.04  25640.12   \n",
       "2   22:30 - 23:00  41479.49   -78.51  41606.81  41607.49  41444.63   \n",
       "3   23:00 - 23:30  41417.40   -62.09  41480.95  41483.97  41384.20   \n",
       "4   23:30 - 00:00  41409.97    -7.43  41417.49  41442.61  41383.68   \n",
       "6   00:00 - 00:30  41376.39   -33.58  41409.97  41416.09  41372.15   \n",
       "7   00:30 - 01:00  41373.46    -2.93  41376.39  41399.50  41349.61   \n",
       "8   01:00 - 01:30  41486.16   112.70  41373.46  41504.09  41373.46   \n",
       "9   01:30 - 02:00  41418.06   -68.10  41486.56  41489.61  41416.50   \n",
       "10  02:00 - 02:30  41418.80     0.74  41418.06  41431.41  41405.36   \n",
       "11  02:30 - 03:00  41436.96    18.16  41418.45  41450.02  41415.41   \n",
       "\n",
       "    Tick Count Volume  \n",
       "0    7120958.0   N.A.  \n",
       "2       1365.0   N.A.  \n",
       "3       1797.0   N.A.  \n",
       "4       1797.0   N.A.  \n",
       "6       1798.0   N.A.  \n",
       "7       1797.0   N.A.  \n",
       "8       1798.0   N.A.  \n",
       "9       1798.0   N.A.  \n",
       "10      1797.0   N.A.  \n",
       "11      1798.0   N.A.  "
      ]
     },
     "execution_count": 7,
     "metadata": {},
     "output_type": "execute_result"
    }
   ],
   "source": [
    "# df.index=[i for i in range(len(df))] or df.reset_index(inplace=True) to make indices in 1,2,3 order\n",
    "df.head(10)\n",
    "# print(df.loc[0])"
   ]
  },
  {
   "cell_type": "code",
   "execution_count": 8,
   "metadata": {},
   "outputs": [],
   "source": [
    "df1=df.reset_index()['Close']"
   ]
  },
  {
   "cell_type": "code",
   "execution_count": 9,
   "metadata": {},
   "outputs": [
    {
     "data": {
      "text/plain": [
       "0       47746.22\n",
       "1       41479.49\n",
       "2       41417.40\n",
       "3       41409.97\n",
       "4       41376.39\n",
       "          ...   \n",
       "4016    47663.50\n",
       "4017    47724.84\n",
       "4018    47746.22\n",
       "4019    47746.22\n",
       "4020    47746.22\n",
       "Name: Close, Length: 4021, dtype: float64"
      ]
     },
     "execution_count": 9,
     "metadata": {},
     "output_type": "execute_result"
    }
   ],
   "source": [
    "df1"
   ]
  },
  {
   "cell_type": "code",
   "execution_count": 10,
   "metadata": {},
   "outputs": [
    {
     "data": {
      "text/plain": [
       "[<matplotlib.lines.Line2D at 0x1cd8b3a1160>]"
      ]
     },
     "execution_count": 10,
     "metadata": {},
     "output_type": "execute_result"
    },
    {
     "data": {
      "image/png": "[encoded data removed]",
      "text/plain": [
       "<Figure size 640x480 with 1 Axes>"
      ]
     },
     "metadata": {},
     "output_type": "display_data"
    }
   ],
   "source": [
    "import matplotlib.pyplot as plt\n",
    "plt.plot(df1)"
   ]
  },
  {
   "cell_type": "code",
   "execution_count": 11,
   "metadata": {},
   "outputs": [],
   "source": [
    "### LSTM are sensitive to the scale of the data. so we apply MinMax scaler "
   ]
  },
  {
   "cell_type": "code",
   "execution_count": 12,
   "metadata": {},
   "outputs": [],
   "source": [
    "import numpy as np"
   ]
  },
  {
   "cell_type": "code",
   "execution_count": 13,
   "metadata": {},
   "outputs": [
    {
     "data": {
      "text/plain": [
       "0       47746.22\n",
       "1       41479.49\n",
       "2       41417.40\n",
       "3       41409.97\n",
       "4       41376.39\n",
       "          ...   \n",
       "4016    47663.50\n",
       "4017    47724.84\n",
       "4018    47746.22\n",
       "4019    47746.22\n",
       "4020    47746.22\n",
       "Name: Close, Length: 4021, dtype: float64"
      ]
     },
     "execution_count": 13,
     "metadata": {},
     "output_type": "execute_result"
    }
   ],
   "source": [
    "df1"
   ]
  },
  {
   "cell_type": "code",
   "execution_count": 14,
   "metadata": {},
   "outputs": [],
   "source": [
    "from sklearn.preprocessing import MinMaxScaler\n",
    "scaler=MinMaxScaler(feature_range=(0,1))\n",
    "df1=scaler.fit_transform(np.array(df1).reshape(-1,1))"
   ]
  },
  {
   "cell_type": "code",
   "execution_count": 15,
   "metadata": {},
   "outputs": [
    {
     "name": "stdout",
     "output_type": "stream",
     "text": [
      "[[1.        ]\n",
      " [0.71386833]\n",
      " [0.71103337]\n",
      " ...\n",
      " [1.        ]\n",
      " [1.        ]\n",
      " [1.        ]]\n"
     ]
    }
   ],
   "source": [
    "print(df1)"
   ]
  },
  {
   "cell_type": "code",
   "execution_count": 16,
   "metadata": {},
   "outputs": [],
   "source": [
    "##splitting dataset into train and test split\n",
    "training_size=int(len(df1)*0.65)\n",
    "test_size=len(df1)-training_size\n",
    "train_data,test_data=df1[0:training_size,:],df1[training_size:len(df1),:1]"
   ]
  },
  {
   "cell_type": "code",
   "execution_count": 17,
   "metadata": {},
   "outputs": [
    {
     "data": {
      "text/plain": [
       "(2613, 1408)"
      ]
     },
     "execution_count": 17,
     "metadata": {},
     "output_type": "execute_result"
    }
   ],
   "source": [
    "training_size,test_size"
   ]
  },
  {
   "cell_type": "code",
   "execution_count": 18,
   "metadata": {
    "scrolled": true
   },
   "outputs": [
    {
     "data": {
      "text/plain": [
       "array([[1.        ],\n",
       "       [0.71386833],\n",
       "       [0.71103337],\n",
       "       ...,\n",
       "       [0.59061181],\n",
       "       [0.59194596],\n",
       "       [0.59523751]])"
      ]
     },
     "execution_count": 18,
     "metadata": {},
     "output_type": "execute_result"
    }
   ],
   "source": [
    "train_data"
   ]
  },
  {
   "cell_type": "code",
   "execution_count": 19,
   "metadata": {},
   "outputs": [
    {
     "data": {
      "text/plain": [
       "array([[0.59448094],\n",
       "       [0.59391066],\n",
       "       [0.59567309],\n",
       "       ...,\n",
       "       [1.        ],\n",
       "       [1.        ],\n",
       "       [1.        ]])"
      ]
     },
     "execution_count": 19,
     "metadata": {},
     "output_type": "execute_result"
    }
   ],
   "source": [
    "test_data"
   ]
  },
  {
   "cell_type": "code",
   "execution_count": 20,
   "metadata": {},
   "outputs": [],
   "source": [
    "import numpy\n",
    "# convert an array of values into a dataset matrix\n",
    "def create_dataset(dataset, time_step=1):\n",
    "\tdataX, dataY = [], []\n",
    "\tfor i in range(len(dataset)-time_step-1):\n",
    "\t\ta = dataset[i:(i+time_step), 0]   ###i=0, 0,1,2,3-----99   100 \n",
    "\t\tdataX.append(a)\n",
    "\t\tdataY.append(dataset[i + time_step, 0])\n",
    "\treturn numpy.array(dataX), numpy.array(dataY)"
   ]
  },
  {
   "cell_type": "code",
   "execution_count": 21,
   "metadata": {},
   "outputs": [],
   "source": [
    "# reshape into X=t,t+1,t+2,t+3 and Y=t+4\n",
    "time_step = 100\n",
    "X_train, y_train = create_dataset(train_data, time_step)\n",
    "X_test, ytest = create_dataset(test_data, time_step)"
   ]
  },
  {
   "cell_type": "code",
   "execution_count": 22,
   "metadata": {},
   "outputs": [
    {
     "name": "stdout",
     "output_type": "stream",
     "text": [
      "(2512, 100)\n",
      "(2512,)\n"
     ]
    },
    {
     "data": {
      "text/plain": [
       "(None, None)"
      ]
     },
     "execution_count": 22,
     "metadata": {},
     "output_type": "execute_result"
    }
   ],
   "source": [
    "print(X_train.shape), print(y_train.shape)"
   ]
  },
  {
   "cell_type": "code",
   "execution_count": 23,
   "metadata": {},
   "outputs": [
    {
     "name": "stdout",
     "output_type": "stream",
     "text": [
      "(1307, 100)\n",
      "(1307,)\n"
     ]
    },
    {
     "data": {
      "text/plain": [
       "(None, None)"
      ]
     },
     "execution_count": 23,
     "metadata": {},
     "output_type": "execute_result"
    }
   ],
   "source": [
    "print(X_test.shape), print(ytest.shape)"
   ]
  },
  {
   "cell_type": "code",
   "execution_count": 24,
   "metadata": {},
   "outputs": [],
   "source": [
    "# reshape input to be [samples, time steps, features] which is required for LSTM\n",
    "X_train =X_train.reshape(X_train.shape[0],X_train.shape[1] , 1)\n",
    "X_test = X_test.reshape(X_test.shape[0],X_test.shape[1] , 1)"
   ]
  },
  {
   "cell_type": "code",
   "execution_count": 25,
   "metadata": {},
   "outputs": [
    {
     "name": "stdout",
     "output_type": "stream",
     "text": [
      "(2512, 100, 1)\n"
     ]
    }
   ],
   "source": [
    "print(X_train.shape)"
   ]
  },
  {
   "cell_type": "code",
   "execution_count": 26,
   "metadata": {
    "scrolled": false
   },
   "outputs": [],
   "source": [
    "#pip install tensorflow"
   ]
  },
  {
   "cell_type": "code",
   "execution_count": 27,
   "metadata": {},
   "outputs": [],
   "source": [
    "### Create the Stacked LSTM model\n",
    "from tensorflow.keras.models import Sequential\n",
    "from tensorflow.keras.layers import Dense\n",
    "from tensorflow.keras.layers import LSTM"
   ]
  },
  {
   "cell_type": "code",
   "execution_count": 28,
   "metadata": {},
   "outputs": [],
   "source": [
    "model=Sequential()\n",
    "model.add(LSTM(50,return_sequences=True,input_shape=(100,1)))\n",
    "model.add(LSTM(50,return_sequences=True))\n",
    "model.add(LSTM(50))\n",
    "model.add(Dense(1))\n",
    "model.compile(loss='mean_squared_error',optimizer='adam')\n"
   ]
  },
  {
   "cell_type": "code",
   "execution_count": 29,
   "metadata": {
    "scrolled": true
   },
   "outputs": [
    {
     "name": "stdout",
     "output_type": "stream",
     "text": [
      "Model: \"sequential\"\n",
      "_________________________________________________________________\n",
      " Layer (type)                Output Shape              Param #   \n",
      "=================================================================\n",
      " lstm (LSTM)                 (None, 100, 50)           10400     \n",
      "                                                                 \n",
      " lstm_1 (LSTM)               (None, 100, 50)           20200     \n",
      "                                                                 \n",
      " lstm_2 (LSTM)               (None, 50)                20200     \n",
      "                                                                 \n",
      " dense (Dense)               (None, 1)                 51        \n",
      "                                                                 \n",
      "=================================================================\n",
      "Total params: 50,851\n",
      "Trainable params: 50,851\n",
      "Non-trainable params: 0\n",
      "_________________________________________________________________\n"
     ]
    }
   ],
   "source": [
    "model.summary()"
   ]
  },
  {
   "cell_type": "code",
   "execution_count": 30,
   "metadata": {},
   "outputs": [
    {
     "name": "stdout",
     "output_type": "stream",
     "text": [
      "Epoch 1/100\n",
      "40/40 [==============================] - 9s 67ms/step - loss: 0.0179 - val_loss: 0.0011\n",
      "Epoch 2/100\n",
      "40/40 [==============================] - 1s 32ms/step - loss: 8.2033e-04 - val_loss: 3.3779e-04\n",
      "Epoch 3/100\n",
      "40/40 [==============================] - 1s 32ms/step - loss: 6.2104e-04 - val_loss: 4.9532e-04\n",
      "Epoch 4/100\n",
      "40/40 [==============================] - 2s 39ms/step - loss: 6.4052e-04 - val_loss: 6.6644e-04\n",
      "Epoch 5/100\n",
      "40/40 [==============================] - 2s 38ms/step - loss: 6.2076e-04 - val_loss: 3.0766e-04\n",
      "Epoch 6/100\n",
      "40/40 [==============================] - 2s 45ms/step - loss: 5.9494e-04 - val_loss: 2.7048e-04\n",
      "Epoch 7/100\n",
      "40/40 [==============================] - 1s 32ms/step - loss: 5.6944e-04 - val_loss: 2.2142e-04\n",
      "Epoch 8/100\n",
      "40/40 [==============================] - 1s 32ms/step - loss: 5.5485e-04 - val_loss: 2.8178e-04\n",
      "Epoch 9/100\n",
      "40/40 [==============================] - 1s 33ms/step - loss: 5.4658e-04 - val_loss: 3.1481e-04\n",
      "Epoch 10/100\n",
      "40/40 [==============================] - 1s 37ms/step - loss: 5.2845e-04 - val_loss: 5.4959e-04\n",
      "Epoch 11/100\n",
      "40/40 [==============================] - 2s 38ms/step - loss: 5.2629e-04 - val_loss: 1.8823e-04\n",
      "Epoch 12/100\n",
      "40/40 [==============================] - 1s 36ms/step - loss: 5.0406e-04 - val_loss: 1.5844e-04\n",
      "Epoch 13/100\n",
      "40/40 [==============================] - 1s 36ms/step - loss: 4.8826e-04 - val_loss: 3.6326e-04\n",
      "Epoch 14/100\n",
      "40/40 [==============================] - 1s 32ms/step - loss: 4.8479e-04 - val_loss: 2.4219e-04\n",
      "Epoch 15/100\n",
      "40/40 [==============================] - 1s 37ms/step - loss: 4.7153e-04 - val_loss: 1.4190e-04\n",
      "Epoch 16/100\n",
      "40/40 [==============================] - 2s 41ms/step - loss: 4.6111e-04 - val_loss: 1.3443e-04\n",
      "Epoch 17/100\n",
      "40/40 [==============================] - 1s 36ms/step - loss: 4.4494e-04 - val_loss: 4.6192e-04\n",
      "Epoch 18/100\n",
      "40/40 [==============================] - 1s 35ms/step - loss: 4.3230e-04 - val_loss: 2.7667e-04\n",
      "Epoch 19/100\n",
      "40/40 [==============================] - 1s 33ms/step - loss: 4.4900e-04 - val_loss: 1.2453e-04\n",
      "Epoch 20/100\n",
      "40/40 [==============================] - 1s 32ms/step - loss: 4.0684e-04 - val_loss: 3.6703e-04\n",
      "Epoch 21/100\n",
      "40/40 [==============================] - 1s 32ms/step - loss: 4.1364e-04 - val_loss: 1.1664e-04\n",
      "Epoch 22/100\n",
      "40/40 [==============================] - 1s 36ms/step - loss: 4.1080e-04 - val_loss: 2.4016e-04\n",
      "Epoch 23/100\n",
      "40/40 [==============================] - 1s 32ms/step - loss: 4.0246e-04 - val_loss: 2.1327e-04\n",
      "Epoch 24/100\n",
      "40/40 [==============================] - 1s 32ms/step - loss: 3.6456e-04 - val_loss: 9.3074e-05\n",
      "Epoch 25/100\n",
      "40/40 [==============================] - 1s 32ms/step - loss: 3.3629e-04 - val_loss: 1.7789e-04\n",
      "Epoch 26/100\n",
      "40/40 [==============================] - 1s 34ms/step - loss: 3.3999e-04 - val_loss: 4.2144e-04\n",
      "Epoch 27/100\n",
      "40/40 [==============================] - 2s 38ms/step - loss: 3.3473e-04 - val_loss: 9.1544e-05\n",
      "Epoch 28/100\n",
      "40/40 [==============================] - 1s 37ms/step - loss: 3.0219e-04 - val_loss: 3.4913e-04\n",
      "Epoch 29/100\n",
      "40/40 [==============================] - 1s 34ms/step - loss: 2.8947e-04 - val_loss: 1.5494e-04\n",
      "Epoch 30/100\n",
      "40/40 [==============================] - 2s 42ms/step - loss: 2.7052e-04 - val_loss: 8.1089e-05\n",
      "Epoch 31/100\n",
      "40/40 [==============================] - 1s 37ms/step - loss: 2.6028e-04 - val_loss: 7.6469e-05\n",
      "Epoch 32/100\n",
      "40/40 [==============================] - 1s 34ms/step - loss: 2.6364e-04 - val_loss: 7.4105e-05\n",
      "Epoch 33/100\n",
      "40/40 [==============================] - 1s 34ms/step - loss: 2.4037e-04 - val_loss: 6.4205e-05\n",
      "Epoch 34/100\n",
      "40/40 [==============================] - 1s 34ms/step - loss: 2.4313e-04 - val_loss: 6.2621e-05\n",
      "Epoch 35/100\n",
      "40/40 [==============================] - 1s 35ms/step - loss: 2.5003e-04 - val_loss: 1.3495e-04\n",
      "Epoch 36/100\n",
      "40/40 [==============================] - 1s 35ms/step - loss: 2.5041e-04 - val_loss: 1.8771e-04\n",
      "Epoch 37/100\n",
      "40/40 [==============================] - 1s 34ms/step - loss: 2.3588e-04 - val_loss: 5.8424e-05\n",
      "Epoch 38/100\n",
      "40/40 [==============================] - 2s 38ms/step - loss: 2.1208e-04 - val_loss: 2.2657e-04\n",
      "Epoch 39/100\n",
      "40/40 [==============================] - 2s 40ms/step - loss: 1.9879e-04 - val_loss: 5.2992e-05\n",
      "Epoch 40/100\n",
      "40/40 [==============================] - 1s 36ms/step - loss: 2.0482e-04 - val_loss: 1.0286e-04\n",
      "Epoch 41/100\n",
      "40/40 [==============================] - 1s 33ms/step - loss: 1.8912e-04 - val_loss: 2.3195e-04\n",
      "Epoch 42/100\n",
      "40/40 [==============================] - 1s 33ms/step - loss: 2.0239e-04 - val_loss: 2.4783e-04\n",
      "Epoch 43/100\n",
      "40/40 [==============================] - 1s 35ms/step - loss: 2.1240e-04 - val_loss: 7.8546e-05\n",
      "Epoch 44/100\n",
      "40/40 [==============================] - 1s 36ms/step - loss: 1.9064e-04 - val_loss: 4.9010e-05\n",
      "Epoch 45/100\n",
      "40/40 [==============================] - 1s 34ms/step - loss: 1.8649e-04 - val_loss: 4.8206e-05\n",
      "Epoch 46/100\n",
      "40/40 [==============================] - 1s 34ms/step - loss: 1.8596e-04 - val_loss: 5.6899e-05\n",
      "Epoch 47/100\n",
      "40/40 [==============================] - 1s 35ms/step - loss: 1.7153e-04 - val_loss: 5.5825e-05\n",
      "Epoch 48/100\n",
      "40/40 [==============================] - 1s 37ms/step - loss: 1.7696e-04 - val_loss: 4.8262e-05\n",
      "Epoch 49/100\n",
      "40/40 [==============================] - 1s 36ms/step - loss: 1.8026e-04 - val_loss: 4.6935e-05\n",
      "Epoch 50/100\n",
      "40/40 [==============================] - 2s 38ms/step - loss: 1.7051e-04 - val_loss: 1.9224e-04\n",
      "Epoch 51/100\n",
      "40/40 [==============================] - 2s 38ms/step - loss: 1.6644e-04 - val_loss: 1.7733e-04\n",
      "Epoch 52/100\n",
      "40/40 [==============================] - 1s 34ms/step - loss: 1.8495e-04 - val_loss: 4.9110e-04\n",
      "Epoch 53/100\n",
      "40/40 [==============================] - 1s 32ms/step - loss: 1.6602e-04 - val_loss: 8.4738e-04\n",
      "Epoch 54/100\n",
      "40/40 [==============================] - 1s 34ms/step - loss: 1.9948e-04 - val_loss: 5.8701e-05\n",
      "Epoch 55/100\n",
      "40/40 [==============================] - 1s 33ms/step - loss: 1.5203e-04 - val_loss: 6.1383e-05\n",
      "Epoch 56/100\n",
      "40/40 [==============================] - 1s 35ms/step - loss: 1.7557e-04 - val_loss: 5.3485e-05\n",
      "Epoch 57/100\n",
      "40/40 [==============================] - 1s 34ms/step - loss: 1.4462e-04 - val_loss: 5.7381e-05\n",
      "Epoch 58/100\n",
      "40/40 [==============================] - 1s 33ms/step - loss: 1.6974e-04 - val_loss: 3.9440e-05\n",
      "Epoch 59/100\n",
      "40/40 [==============================] - 1s 33ms/step - loss: 1.4027e-04 - val_loss: 7.2026e-04\n",
      "Epoch 60/100\n",
      "40/40 [==============================] - 1s 34ms/step - loss: 1.5633e-04 - val_loss: 2.7075e-04\n",
      "Epoch 61/100\n",
      "40/40 [==============================] - 2s 38ms/step - loss: 1.7679e-04 - val_loss: 1.7607e-04\n",
      "Epoch 62/100\n",
      "40/40 [==============================] - 2s 41ms/step - loss: 1.4276e-04 - val_loss: 5.4431e-05\n",
      "Epoch 63/100\n",
      "40/40 [==============================] - 1s 36ms/step - loss: 1.4361e-04 - val_loss: 9.3453e-05\n",
      "Epoch 64/100\n",
      "40/40 [==============================] - 1s 37ms/step - loss: 1.4147e-04 - val_loss: 6.4963e-05\n",
      "Epoch 65/100\n",
      "40/40 [==============================] - 1s 36ms/step - loss: 1.5330e-04 - val_loss: 9.7603e-05\n",
      "Epoch 66/100\n",
      "40/40 [==============================] - 2s 42ms/step - loss: 1.3808e-04 - val_loss: 8.7697e-05\n",
      "Epoch 67/100\n",
      "40/40 [==============================] - 1s 35ms/step - loss: 1.5305e-04 - val_loss: 2.5256e-04\n",
      "Epoch 68/100\n",
      "40/40 [==============================] - 1s 33ms/step - loss: 1.5633e-04 - val_loss: 3.6433e-05\n",
      "Epoch 69/100\n",
      "40/40 [==============================] - 1s 33ms/step - loss: 1.3769e-04 - val_loss: 1.0448e-04\n",
      "Epoch 70/100\n",
      "40/40 [==============================] - 1s 33ms/step - loss: 1.3190e-04 - val_loss: 4.3374e-05\n",
      "Epoch 71/100\n",
      "40/40 [==============================] - 1s 33ms/step - loss: 1.4266e-04 - val_loss: 1.7669e-04\n",
      "Epoch 72/100\n",
      "40/40 [==============================] - 1s 37ms/step - loss: 1.4694e-04 - val_loss: 1.0968e-04\n",
      "Epoch 73/100\n",
      "40/40 [==============================] - 1s 37ms/step - loss: 1.4982e-04 - val_loss: 3.8192e-05\n",
      "Epoch 74/100\n",
      "40/40 [==============================] - 1s 34ms/step - loss: 1.2993e-04 - val_loss: 5.0929e-05\n",
      "Epoch 75/100\n",
      "40/40 [==============================] - 2s 39ms/step - loss: 1.3006e-04 - val_loss: 6.3299e-05\n",
      "Epoch 76/100\n",
      "40/40 [==============================] - 2s 38ms/step - loss: 1.4651e-04 - val_loss: 1.1612e-04\n",
      "Epoch 77/100\n",
      "40/40 [==============================] - 1s 38ms/step - loss: 1.4806e-04 - val_loss: 2.2297e-04\n",
      "Epoch 78/100\n",
      "40/40 [==============================] - 1s 34ms/step - loss: 1.3496e-04 - val_loss: 1.0243e-04\n",
      "Epoch 79/100\n",
      "40/40 [==============================] - 1s 35ms/step - loss: 1.4902e-04 - val_loss: 4.8277e-05\n",
      "Epoch 80/100\n",
      "40/40 [==============================] - 1s 34ms/step - loss: 1.3623e-04 - val_loss: 7.9175e-05\n",
      "Epoch 81/100\n",
      "40/40 [==============================] - 1s 33ms/step - loss: 1.2083e-04 - val_loss: 3.3839e-05\n",
      "Epoch 82/100\n",
      "40/40 [==============================] - 1s 32ms/step - loss: 1.2316e-04 - val_loss: 1.1655e-04\n",
      "Epoch 83/100\n",
      "40/40 [==============================] - 1s 35ms/step - loss: 1.2081e-04 - val_loss: 3.4883e-05\n",
      "Epoch 84/100\n",
      "40/40 [==============================] - 1s 36ms/step - loss: 1.2052e-04 - val_loss: 4.1212e-05\n",
      "Epoch 85/100\n",
      "40/40 [==============================] - 1s 34ms/step - loss: 1.2513e-04 - val_loss: 1.2505e-04\n",
      "Epoch 86/100\n",
      "40/40 [==============================] - 1s 32ms/step - loss: 1.4042e-04 - val_loss: 3.3578e-05\n",
      "Epoch 87/100\n",
      "40/40 [==============================] - 1s 35ms/step - loss: 1.1467e-04 - val_loss: 4.2594e-05\n",
      "Epoch 88/100\n",
      "40/40 [==============================] - 1s 33ms/step - loss: 1.1522e-04 - val_loss: 6.5283e-05\n",
      "Epoch 89/100\n",
      "40/40 [==============================] - 1s 33ms/step - loss: 1.1375e-04 - val_loss: 1.3301e-04\n",
      "Epoch 90/100\n",
      "40/40 [==============================] - 1s 34ms/step - loss: 1.3109e-04 - val_loss: 1.2543e-04\n",
      "Epoch 91/100\n",
      "40/40 [==============================] - 1s 33ms/step - loss: 1.1736e-04 - val_loss: 3.4359e-05\n",
      "Epoch 92/100\n",
      "40/40 [==============================] - 1s 32ms/step - loss: 1.0863e-04 - val_loss: 3.0920e-05\n",
      "Epoch 93/100\n",
      "40/40 [==============================] - 1s 33ms/step - loss: 1.2254e-04 - val_loss: 1.2883e-04\n",
      "Epoch 94/100\n",
      "40/40 [==============================] - 1s 34ms/step - loss: 1.2085e-04 - val_loss: 4.5944e-05\n",
      "Epoch 95/100\n",
      "40/40 [==============================] - 2s 40ms/step - loss: 1.2546e-04 - val_loss: 1.8830e-04\n",
      "Epoch 96/100\n",
      "40/40 [==============================] - 2s 38ms/step - loss: 1.1664e-04 - val_loss: 1.4930e-04\n",
      "Epoch 97/100\n",
      "40/40 [==============================] - 1s 34ms/step - loss: 1.1865e-04 - val_loss: 1.2969e-04\n",
      "Epoch 98/100\n",
      "40/40 [==============================] - 1s 33ms/step - loss: 1.1424e-04 - val_loss: 6.4110e-05\n",
      "Epoch 99/100\n",
      "40/40 [==============================] - 1s 34ms/step - loss: 1.0886e-04 - val_loss: 7.8021e-05\n",
      "Epoch 100/100\n",
      "40/40 [==============================] - 1s 33ms/step - loss: 1.0707e-04 - val_loss: 7.2268e-05\n"
     ]
    },
    {
     "data": {
      "text/plain": [
       "<keras.callbacks.History at 0x1cdbc67bb50>"
      ]
     },
     "execution_count": 30,
     "metadata": {},
     "output_type": "execute_result"
    }
   ],
   "source": [
    "model.fit(X_train,y_train,validation_data=(X_test,ytest),epochs=100,batch_size=64,verbose=1)"
   ]
  },
  {
   "cell_type": "code",
   "execution_count": 31,
   "metadata": {},
   "outputs": [],
   "source": [
    "import tensorflow as tf"
   ]
  },
  {
   "cell_type": "code",
   "execution_count": 32,
   "metadata": {},
   "outputs": [
    {
     "data": {
      "text/plain": [
       "'2.10.0'"
      ]
     },
     "execution_count": 32,
     "metadata": {},
     "output_type": "execute_result"
    }
   ],
   "source": [
    "tf.__version__"
   ]
  },
  {
   "cell_type": "code",
   "execution_count": 33,
   "metadata": {},
   "outputs": [
    {
     "name": "stdout",
     "output_type": "stream",
     "text": [
      "79/79 [==============================] - 2s 12ms/step\n",
      "41/41 [==============================] - 1s 12ms/step\n"
     ]
    }
   ],
   "source": [
    "### Lets Do the prediction and check performance metrics\n",
    "train_predict=model.predict(X_train)\n",
    "test_predict=model.predict(X_test)"
   ]
  },
  {
   "cell_type": "code",
   "execution_count": 34,
   "metadata": {},
   "outputs": [
    {
     "data": {
      "text/plain": [
       "(2512, 1)"
      ]
     },
     "execution_count": 34,
     "metadata": {},
     "output_type": "execute_result"
    }
   ],
   "source": [
    "train_predict.shape"
   ]
  },
  {
   "cell_type": "code",
   "execution_count": 35,
   "metadata": {},
   "outputs": [],
   "source": [
    "##Transformback to original form\n",
    "train_predict=scaler.inverse_transform(train_predict)\n",
    "test_predict=scaler.inverse_transform(test_predict)"
   ]
  },
  {
   "cell_type": "code",
   "execution_count": 36,
   "metadata": {},
   "outputs": [
    {
     "data": {
      "text/plain": [
       "35904.33756061043"
      ]
     },
     "execution_count": 36,
     "metadata": {},
     "output_type": "execute_result"
    }
   ],
   "source": [
    "### Calculate RMSE performance metrics\n",
    "import math\n",
    "from sklearn.metrics import mean_squared_error\n",
    "math.sqrt(mean_squared_error(y_train,train_predict))"
   ]
  },
  {
   "cell_type": "code",
   "execution_count": 37,
   "metadata": {},
   "outputs": [
    {
     "data": {
      "text/plain": [
       "41857.364744844665"
      ]
     },
     "execution_count": 37,
     "metadata": {},
     "output_type": "execute_result"
    }
   ],
   "source": [
    "### Test Data RMSE\n",
    "math.sqrt(mean_squared_error(ytest,test_predict))"
   ]
  },
  {
   "cell_type": "code",
   "execution_count": 38,
   "metadata": {},
   "outputs": [
    {
     "data": {
      "image/png": "[encoded data removed]",
      "text/plain": [
       "<Figure size 640x480 with 1 Axes>"
      ]
     },
     "metadata": {},
     "output_type": "display_data"
    }
   ],
   "source": [
    "### Plotting \n",
    "# shift train predictions for plotting\n",
    "look_back=100\n",
    "trainPredictPlot = numpy.empty_like(df1)\n",
    "trainPredictPlot[:, :] = np.nan\n",
    "trainPredictPlot[look_back:len(train_predict)+look_back, :] = train_predict\n",
    "# shift test predictions for plotting\n",
    "testPredictPlot = numpy.empty_like(df1)\n",
    "testPredictPlot[:, :] = numpy.nan\n",
    "testPredictPlot[len(train_predict)+(look_back*2)+1:len(df1)-1, :] = test_predict\n",
    "# plot baseline and predictions\n",
    "plt.plot(scaler.inverse_transform(df1))\n",
    "plt.plot(trainPredictPlot)\n",
    "plt.plot(testPredictPlot)\n",
    "plt.legend(['data set','train','test'])\n",
    "plt.show()"
   ]
  },
  {
   "cell_type": "code",
   "execution_count": 39,
   "metadata": {},
   "outputs": [
    {
     "data": {
      "text/plain": [
       "1408"
      ]
     },
     "execution_count": 39,
     "metadata": {},
     "output_type": "execute_result"
    }
   ],
   "source": [
    "len(test_data)"
   ]
  },
  {
   "cell_type": "code",
   "execution_count": 40,
   "metadata": {},
   "outputs": [
    {
     "data": {
      "text/plain": [
       "(1, 100)"
      ]
     },
     "execution_count": 40,
     "metadata": {},
     "output_type": "execute_result"
    }
   ],
   "source": [
    "x_input=test_data[1308:].reshape(1,-1)\n",
    "x_input.shape\n"
   ]
  },
  {
   "cell_type": "code",
   "execution_count": null,
   "metadata": {},
   "outputs": [],
   "source": []
  },
  {
   "cell_type": "code",
   "execution_count": null,
   "metadata": {},
   "outputs": [],
   "source": []
  },
  {
   "cell_type": "code",
   "execution_count": 41,
   "metadata": {},
   "outputs": [],
   "source": [
    "temp_input=list(x_input)\n",
    "temp_input=temp_input[0].tolist()"
   ]
  },
  {
   "cell_type": "code",
   "execution_count": 42,
   "metadata": {},
   "outputs": [
    {
     "data": {
      "text/plain": [
       "[0.8936098615806363,\n",
       " 0.8999039337837123,\n",
       " 0.8999039337837123,\n",
       " 0.8999039337837123,\n",
       " 0.8983405748266331,\n",
       " 0.8899959637578325,\n",
       " 0.9008618564157072,\n",
       " 0.8920962707679267,\n",
       " 0.8868966411525023,\n",
       " 0.888976401680976,\n",
       " 0.8833987168037343,\n",
       " 0.8910319630199859,\n",
       " 0.8944933602903169,\n",
       " 0.9076230186342888,\n",
       " 0.9167296758769696,\n",
       " 0.9149973791821222,\n",
       " 0.9205800865326488,\n",
       " 0.920575064059364,\n",
       " 0.920575064059364,\n",
       " 0.920575064059364,\n",
       " 0.9252363758563313,\n",
       " 0.9272951333147046,\n",
       " 0.9313637932640413,\n",
       " 0.929551136996634,\n",
       " 0.9276608606875492,\n",
       " 0.9321956974754309,\n",
       " 0.9324335800737482,\n",
       " 0.9335773342172886,\n",
       " 0.931677469550114,\n",
       " 0.9335887489292998,\n",
       " 0.934606028063754,\n",
       " 0.9358739742739788,\n",
       " 0.9421461302299927,\n",
       " 0.9405503534908015,\n",
       " 0.9405503534908015,\n",
       " 0.9405503534908015,\n",
       " 0.9560437703980904,\n",
       " 0.9558725497179195,\n",
       " 0.9597001309495758,\n",
       " 0.9550187292594678,\n",
       " 0.9486634742000115,\n",
       " 0.9500090404519126,\n",
       " 0.9548032194966929,\n",
       " 0.9550054881935348,\n",
       " 0.9598448694978803,\n",
       " 0.9613657657262769,\n",
       " 0.9612749046186666,\n",
       " 0.9650563704137971,\n",
       " 0.9628446558144717,\n",
       " 0.964720321292182,\n",
       " 0.964720321292182,\n",
       " 0.964720321292182,\n",
       " 0.9814821409981755,\n",
       " 0.9771408977260068,\n",
       " 0.9764108127457587,\n",
       " 0.9756067604316767,\n",
       " 0.9757437369758137,\n",
       " 0.9770381653179041,\n",
       " 0.9800594112930767,\n",
       " 0.9815803075214733,\n",
       " 0.9796083018743871,\n",
       " 0.9817748142141469,\n",
       " 0.9814223279072354,\n",
       " 0.9819871278575589,\n",
       " 0.9836134960249407,\n",
       " 0.9820802719075719,\n",
       " 0.9820802719075719,\n",
       " 0.9820802719075719,\n",
       " 0.9950752366498095,\n",
       " 0.9966783188046877,\n",
       " 0.9951176993784916,\n",
       " 0.9859525988103126,\n",
       " 0.9850015250055248,\n",
       " 0.9881268731542407,\n",
       " 0.9886254677748982,\n",
       " 0.9875849026279404,\n",
       " 0.9939456367491633,\n",
       " 0.9917882561790119,\n",
       " 0.9914983224939227,\n",
       " 0.9919343644927574,\n",
       " 0.9933402004240794,\n",
       " 0.9939209809712186,\n",
       " 0.9939209809712186,\n",
       " 0.9939209809712186,\n",
       " 0.9898651054993342,\n",
       " 0.991219803520845,\n",
       " 0.9875638995578395,\n",
       " 0.9952752224042487,\n",
       " 0.9940707419928079,\n",
       " 0.990885124164671,\n",
       " 0.9904901751290773,\n",
       " 0.9865986715101571,\n",
       " 0.9890797733129513,\n",
       " 0.9945542691936096,\n",
       " 0.9972796458334474,\n",
       " 0.996223100089674,\n",
       " 0.9990238138287864,\n",
       " 1.0,\n",
       " 1.0,\n",
       " 1.0]"
      ]
     },
     "execution_count": 42,
     "metadata": {},
     "output_type": "execute_result"
    }
   ],
   "source": [
    "temp_input"
   ]
  },
  {
   "cell_type": "code",
   "execution_count": 43,
   "metadata": {},
   "outputs": [
    {
     "name": "stdout",
     "output_type": "stream",
     "text": [
      "[0.9864631]\n",
      "101\n",
      "1 day input [0.89990393 0.89990393 0.89990393 0.89834057 0.88999596 0.90086186\n",
      " 0.89209627 0.88689664 0.8889764  0.88339872 0.89103196 0.89449336\n",
      " 0.90762302 0.91672968 0.91499738 0.92058009 0.92057506 0.92057506\n",
      " 0.92057506 0.92523638 0.92729513 0.93136379 0.92955114 0.92766086\n",
      " 0.9321957  0.93243358 0.93357733 0.93167747 0.93358875 0.93460603\n",
      " 0.93587397 0.94214613 0.94055035 0.94055035 0.94055035 0.95604377\n",
      " 0.95587255 0.95970013 0.95501873 0.94866347 0.95000904 0.95480322\n",
      " 0.95500549 0.95984487 0.96136577 0.9612749  0.96505637 0.96284466\n",
      " 0.96472032 0.96472032 0.96472032 0.98148214 0.9771409  0.97641081\n",
      " 0.97560676 0.97574374 0.97703817 0.98005941 0.98158031 0.9796083\n",
      " 0.98177481 0.98142233 0.98198713 0.9836135  0.98208027 0.98208027\n",
      " 0.98208027 0.99507524 0.99667832 0.9951177  0.9859526  0.98500153\n",
      " 0.98812687 0.98862547 0.9875849  0.99394564 0.99178826 0.99149832\n",
      " 0.99193436 0.9933402  0.99392098 0.99392098 0.99392098 0.98986511\n",
      " 0.9912198  0.9875639  0.99527522 0.99407074 0.99088512 0.99049018\n",
      " 0.98659867 0.98907977 0.99455427 0.99727965 0.9962231  0.99902381\n",
      " 1.         1.         1.         0.98646313]\n",
      "1 day output [[0.97838]]\n",
      "2 day input [0.89990393 0.89990393 0.89834057 0.88999596 0.90086186 0.89209627\n",
      " 0.88689664 0.8889764  0.88339872 0.89103196 0.89449336 0.90762302\n",
      " 0.91672968 0.91499738 0.92058009 0.92057506 0.92057506 0.92057506\n",
      " 0.92523638 0.92729513 0.93136379 0.92955114 0.92766086 0.9321957\n",
      " 0.93243358 0.93357733 0.93167747 0.93358875 0.93460603 0.93587397\n",
      " 0.94214613 0.94055035 0.94055035 0.94055035 0.95604377 0.95587255\n",
      " 0.95970013 0.95501873 0.94866347 0.95000904 0.95480322 0.95500549\n",
      " 0.95984487 0.96136577 0.9612749  0.96505637 0.96284466 0.96472032\n",
      " 0.96472032 0.96472032 0.98148214 0.9771409  0.97641081 0.97560676\n",
      " 0.97574374 0.97703817 0.98005941 0.98158031 0.9796083  0.98177481\n",
      " 0.98142233 0.98198713 0.9836135  0.98208027 0.98208027 0.98208027\n",
      " 0.99507524 0.99667832 0.9951177  0.9859526  0.98500153 0.98812687\n",
      " 0.98862547 0.9875849  0.99394564 0.99178826 0.99149832 0.99193436\n",
      " 0.9933402  0.99392098 0.99392098 0.99392098 0.98986511 0.9912198\n",
      " 0.9875639  0.99527522 0.99407074 0.99088512 0.99049018 0.98659867\n",
      " 0.98907977 0.99455427 0.99727965 0.9962231  0.99902381 1.\n",
      " 1.         1.         0.98646313 0.97838002]\n",
      "2 day output [[0.9703041]]\n",
      "3 day input [0.89990393 0.89834057 0.88999596 0.90086186 0.89209627 0.88689664\n",
      " 0.8889764  0.88339872 0.89103196 0.89449336 0.90762302 0.91672968\n",
      " 0.91499738 0.92058009 0.92057506 0.92057506 0.92057506 0.92523638\n",
      " 0.92729513 0.93136379 0.92955114 0.92766086 0.9321957  0.93243358\n",
      " 0.93357733 0.93167747 0.93358875 0.93460603 0.93587397 0.94214613\n",
      " 0.94055035 0.94055035 0.94055035 0.95604377 0.95587255 0.95970013\n",
      " 0.95501873 0.94866347 0.95000904 0.95480322 0.95500549 0.95984487\n",
      " 0.96136577 0.9612749  0.96505637 0.96284466 0.96472032 0.96472032\n",
      " 0.96472032 0.98148214 0.9771409  0.97641081 0.97560676 0.97574374\n",
      " 0.97703817 0.98005941 0.98158031 0.9796083  0.98177481 0.98142233\n",
      " 0.98198713 0.9836135  0.98208027 0.98208027 0.98208027 0.99507524\n",
      " 0.99667832 0.9951177  0.9859526  0.98500153 0.98812687 0.98862547\n",
      " 0.9875849  0.99394564 0.99178826 0.99149832 0.99193436 0.9933402\n",
      " 0.99392098 0.99392098 0.99392098 0.98986511 0.9912198  0.9875639\n",
      " 0.99527522 0.99407074 0.99088512 0.99049018 0.98659867 0.98907977\n",
      " 0.99455427 0.99727965 0.9962231  0.99902381 1.         1.\n",
      " 1.         0.98646313 0.97838002 0.97030407]\n",
      "3 day output [[0.96360105]]\n",
      "4 day input [0.89834057 0.88999596 0.90086186 0.89209627 0.88689664 0.8889764\n",
      " 0.88339872 0.89103196 0.89449336 0.90762302 0.91672968 0.91499738\n",
      " 0.92058009 0.92057506 0.92057506 0.92057506 0.92523638 0.92729513\n",
      " 0.93136379 0.92955114 0.92766086 0.9321957  0.93243358 0.93357733\n",
      " 0.93167747 0.93358875 0.93460603 0.93587397 0.94214613 0.94055035\n",
      " 0.94055035 0.94055035 0.95604377 0.95587255 0.95970013 0.95501873\n",
      " 0.94866347 0.95000904 0.95480322 0.95500549 0.95984487 0.96136577\n",
      " 0.9612749  0.96505637 0.96284466 0.96472032 0.96472032 0.96472032\n",
      " 0.98148214 0.9771409  0.97641081 0.97560676 0.97574374 0.97703817\n",
      " 0.98005941 0.98158031 0.9796083  0.98177481 0.98142233 0.98198713\n",
      " 0.9836135  0.98208027 0.98208027 0.98208027 0.99507524 0.99667832\n",
      " 0.9951177  0.9859526  0.98500153 0.98812687 0.98862547 0.9875849\n",
      " 0.99394564 0.99178826 0.99149832 0.99193436 0.9933402  0.99392098\n",
      " 0.99392098 0.99392098 0.98986511 0.9912198  0.9875639  0.99527522\n",
      " 0.99407074 0.99088512 0.99049018 0.98659867 0.98907977 0.99455427\n",
      " 0.99727965 0.9962231  0.99902381 1.         1.         1.\n",
      " 0.98646313 0.97838002 0.97030407 0.96360105]\n",
      "4 day output [[0.9580733]]\n",
      "5 day input [0.88999596 0.90086186 0.89209627 0.88689664 0.8889764  0.88339872\n",
      " 0.89103196 0.89449336 0.90762302 0.91672968 0.91499738 0.92058009\n",
      " 0.92057506 0.92057506 0.92057506 0.92523638 0.92729513 0.93136379\n",
      " 0.92955114 0.92766086 0.9321957  0.93243358 0.93357733 0.93167747\n",
      " 0.93358875 0.93460603 0.93587397 0.94214613 0.94055035 0.94055035\n",
      " 0.94055035 0.95604377 0.95587255 0.95970013 0.95501873 0.94866347\n",
      " 0.95000904 0.95480322 0.95500549 0.95984487 0.96136577 0.9612749\n",
      " 0.96505637 0.96284466 0.96472032 0.96472032 0.96472032 0.98148214\n",
      " 0.9771409  0.97641081 0.97560676 0.97574374 0.97703817 0.98005941\n",
      " 0.98158031 0.9796083  0.98177481 0.98142233 0.98198713 0.9836135\n",
      " 0.98208027 0.98208027 0.98208027 0.99507524 0.99667832 0.9951177\n",
      " 0.9859526  0.98500153 0.98812687 0.98862547 0.9875849  0.99394564\n",
      " 0.99178826 0.99149832 0.99193436 0.9933402  0.99392098 0.99392098\n",
      " 0.99392098 0.98986511 0.9912198  0.9875639  0.99527522 0.99407074\n",
      " 0.99088512 0.99049018 0.98659867 0.98907977 0.99455427 0.99727965\n",
      " 0.9962231  0.99902381 1.         1.         1.         0.98646313\n",
      " 0.97838002 0.97030407 0.96360105 0.95807332]\n",
      "5 day output [[0.9533509]]\n",
      "6 day input [0.90086186 0.89209627 0.88689664 0.8889764  0.88339872 0.89103196\n",
      " 0.89449336 0.90762302 0.91672968 0.91499738 0.92058009 0.92057506\n",
      " 0.92057506 0.92057506 0.92523638 0.92729513 0.93136379 0.92955114\n",
      " 0.92766086 0.9321957  0.93243358 0.93357733 0.93167747 0.93358875\n",
      " 0.93460603 0.93587397 0.94214613 0.94055035 0.94055035 0.94055035\n",
      " 0.95604377 0.95587255 0.95970013 0.95501873 0.94866347 0.95000904\n",
      " 0.95480322 0.95500549 0.95984487 0.96136577 0.9612749  0.96505637\n",
      " 0.96284466 0.96472032 0.96472032 0.96472032 0.98148214 0.9771409\n",
      " 0.97641081 0.97560676 0.97574374 0.97703817 0.98005941 0.98158031\n",
      " 0.9796083  0.98177481 0.98142233 0.98198713 0.9836135  0.98208027\n",
      " 0.98208027 0.98208027 0.99507524 0.99667832 0.9951177  0.9859526\n",
      " 0.98500153 0.98812687 0.98862547 0.9875849  0.99394564 0.99178826\n",
      " 0.99149832 0.99193436 0.9933402  0.99392098 0.99392098 0.99392098\n",
      " 0.98986511 0.9912198  0.9875639  0.99527522 0.99407074 0.99088512\n",
      " 0.99049018 0.98659867 0.98907977 0.99455427 0.99727965 0.9962231\n",
      " 0.99902381 1.         1.         1.         0.98646313 0.97838002\n",
      " 0.97030407 0.96360105 0.95807332 0.9533509 ]\n",
      "6 day output [[0.9490807]]\n",
      "7 day input [0.89209627 0.88689664 0.8889764  0.88339872 0.89103196 0.89449336\n",
      " 0.90762302 0.91672968 0.91499738 0.92058009 0.92057506 0.92057506\n",
      " 0.92057506 0.92523638 0.92729513 0.93136379 0.92955114 0.92766086\n",
      " 0.9321957  0.93243358 0.93357733 0.93167747 0.93358875 0.93460603\n",
      " 0.93587397 0.94214613 0.94055035 0.94055035 0.94055035 0.95604377\n",
      " 0.95587255 0.95970013 0.95501873 0.94866347 0.95000904 0.95480322\n",
      " 0.95500549 0.95984487 0.96136577 0.9612749  0.96505637 0.96284466\n",
      " 0.96472032 0.96472032 0.96472032 0.98148214 0.9771409  0.97641081\n",
      " 0.97560676 0.97574374 0.97703817 0.98005941 0.98158031 0.9796083\n",
      " 0.98177481 0.98142233 0.98198713 0.9836135  0.98208027 0.98208027\n",
      " 0.98208027 0.99507524 0.99667832 0.9951177  0.9859526  0.98500153\n",
      " 0.98812687 0.98862547 0.9875849  0.99394564 0.99178826 0.99149832\n",
      " 0.99193436 0.9933402  0.99392098 0.99392098 0.99392098 0.98986511\n",
      " 0.9912198  0.9875639  0.99527522 0.99407074 0.99088512 0.99049018\n",
      " 0.98659867 0.98907977 0.99455427 0.99727965 0.9962231  0.99902381\n",
      " 1.         1.         1.         0.98646313 0.97838002 0.97030407\n",
      " 0.96360105 0.95807332 0.9533509  0.94908071]\n",
      "7 day output [[0.94499034]]\n",
      "8 day input [0.88689664 0.8889764  0.88339872 0.89103196 0.89449336 0.90762302\n",
      " 0.91672968 0.91499738 0.92058009 0.92057506 0.92057506 0.92057506\n",
      " 0.92523638 0.92729513 0.93136379 0.92955114 0.92766086 0.9321957\n",
      " 0.93243358 0.93357733 0.93167747 0.93358875 0.93460603 0.93587397\n",
      " 0.94214613 0.94055035 0.94055035 0.94055035 0.95604377 0.95587255\n",
      " 0.95970013 0.95501873 0.94866347 0.95000904 0.95480322 0.95500549\n",
      " 0.95984487 0.96136577 0.9612749  0.96505637 0.96284466 0.96472032\n",
      " 0.96472032 0.96472032 0.98148214 0.9771409  0.97641081 0.97560676\n",
      " 0.97574374 0.97703817 0.98005941 0.98158031 0.9796083  0.98177481\n",
      " 0.98142233 0.98198713 0.9836135  0.98208027 0.98208027 0.98208027\n",
      " 0.99507524 0.99667832 0.9951177  0.9859526  0.98500153 0.98812687\n",
      " 0.98862547 0.9875849  0.99394564 0.99178826 0.99149832 0.99193436\n",
      " 0.9933402  0.99392098 0.99392098 0.99392098 0.98986511 0.9912198\n",
      " 0.9875639  0.99527522 0.99407074 0.99088512 0.99049018 0.98659867\n",
      " 0.98907977 0.99455427 0.99727965 0.9962231  0.99902381 1.\n",
      " 1.         1.         0.98646313 0.97838002 0.97030407 0.96360105\n",
      " 0.95807332 0.9533509  0.94908071 0.94499034]\n",
      "8 day output [[0.9409098]]\n",
      "9 day input [0.8889764  0.88339872 0.89103196 0.89449336 0.90762302 0.91672968\n",
      " 0.91499738 0.92058009 0.92057506 0.92057506 0.92057506 0.92523638\n",
      " 0.92729513 0.93136379 0.92955114 0.92766086 0.9321957  0.93243358\n",
      " 0.93357733 0.93167747 0.93358875 0.93460603 0.93587397 0.94214613\n",
      " 0.94055035 0.94055035 0.94055035 0.95604377 0.95587255 0.95970013\n",
      " 0.95501873 0.94866347 0.95000904 0.95480322 0.95500549 0.95984487\n",
      " 0.96136577 0.9612749  0.96505637 0.96284466 0.96472032 0.96472032\n",
      " 0.96472032 0.98148214 0.9771409  0.97641081 0.97560676 0.97574374\n",
      " 0.97703817 0.98005941 0.98158031 0.9796083  0.98177481 0.98142233\n",
      " 0.98198713 0.9836135  0.98208027 0.98208027 0.98208027 0.99507524\n",
      " 0.99667832 0.9951177  0.9859526  0.98500153 0.98812687 0.98862547\n",
      " 0.9875849  0.99394564 0.99178826 0.99149832 0.99193436 0.9933402\n",
      " 0.99392098 0.99392098 0.99392098 0.98986511 0.9912198  0.9875639\n",
      " 0.99527522 0.99407074 0.99088512 0.99049018 0.98659867 0.98907977\n",
      " 0.99455427 0.99727965 0.9962231  0.99902381 1.         1.\n",
      " 1.         0.98646313 0.97838002 0.97030407 0.96360105 0.95807332\n",
      " 0.9533509  0.94908071 0.94499034 0.9409098 ]\n",
      "9 day output [[0.9367611]]\n",
      "10 day input [0.88339872 0.89103196 0.89449336 0.90762302 0.91672968 0.91499738\n",
      " 0.92058009 0.92057506 0.92057506 0.92057506 0.92523638 0.92729513\n",
      " 0.93136379 0.92955114 0.92766086 0.9321957  0.93243358 0.93357733\n",
      " 0.93167747 0.93358875 0.93460603 0.93587397 0.94214613 0.94055035\n",
      " 0.94055035 0.94055035 0.95604377 0.95587255 0.95970013 0.95501873\n",
      " 0.94866347 0.95000904 0.95480322 0.95500549 0.95984487 0.96136577\n",
      " 0.9612749  0.96505637 0.96284466 0.96472032 0.96472032 0.96472032\n",
      " 0.98148214 0.9771409  0.97641081 0.97560676 0.97574374 0.97703817\n",
      " 0.98005941 0.98158031 0.9796083  0.98177481 0.98142233 0.98198713\n",
      " 0.9836135  0.98208027 0.98208027 0.98208027 0.99507524 0.99667832\n",
      " 0.9951177  0.9859526  0.98500153 0.98812687 0.98862547 0.9875849\n",
      " 0.99394564 0.99178826 0.99149832 0.99193436 0.9933402  0.99392098\n",
      " 0.99392098 0.99392098 0.98986511 0.9912198  0.9875639  0.99527522\n",
      " 0.99407074 0.99088512 0.99049018 0.98659867 0.98907977 0.99455427\n",
      " 0.99727965 0.9962231  0.99902381 1.         1.         1.\n",
      " 0.98646313 0.97838002 0.97030407 0.96360105 0.95807332 0.9533509\n",
      " 0.94908071 0.94499034 0.9409098  0.93676108]\n"
     ]
    },
    {
     "name": "stdout",
     "output_type": "stream",
     "text": [
      "10 day output [[0.93253314]]\n",
      "11 day input [0.89103196 0.89449336 0.90762302 0.91672968 0.91499738 0.92058009\n",
      " 0.92057506 0.92057506 0.92057506 0.92523638 0.92729513 0.93136379\n",
      " 0.92955114 0.92766086 0.9321957  0.93243358 0.93357733 0.93167747\n",
      " 0.93358875 0.93460603 0.93587397 0.94214613 0.94055035 0.94055035\n",
      " 0.94055035 0.95604377 0.95587255 0.95970013 0.95501873 0.94866347\n",
      " 0.95000904 0.95480322 0.95500549 0.95984487 0.96136577 0.9612749\n",
      " 0.96505637 0.96284466 0.96472032 0.96472032 0.96472032 0.98148214\n",
      " 0.9771409  0.97641081 0.97560676 0.97574374 0.97703817 0.98005941\n",
      " 0.98158031 0.9796083  0.98177481 0.98142233 0.98198713 0.9836135\n",
      " 0.98208027 0.98208027 0.98208027 0.99507524 0.99667832 0.9951177\n",
      " 0.9859526  0.98500153 0.98812687 0.98862547 0.9875849  0.99394564\n",
      " 0.99178826 0.99149832 0.99193436 0.9933402  0.99392098 0.99392098\n",
      " 0.99392098 0.98986511 0.9912198  0.9875639  0.99527522 0.99407074\n",
      " 0.99088512 0.99049018 0.98659867 0.98907977 0.99455427 0.99727965\n",
      " 0.9962231  0.99902381 1.         1.         1.         0.98646313\n",
      " 0.97838002 0.97030407 0.96360105 0.95807332 0.9533509  0.94908071\n",
      " 0.94499034 0.9409098  0.93676108 0.93253314]\n",
      "11 day output [[0.9282536]]\n",
      "12 day input [0.89449336 0.90762302 0.91672968 0.91499738 0.92058009 0.92057506\n",
      " 0.92057506 0.92057506 0.92523638 0.92729513 0.93136379 0.92955114\n",
      " 0.92766086 0.9321957  0.93243358 0.93357733 0.93167747 0.93358875\n",
      " 0.93460603 0.93587397 0.94214613 0.94055035 0.94055035 0.94055035\n",
      " 0.95604377 0.95587255 0.95970013 0.95501873 0.94866347 0.95000904\n",
      " 0.95480322 0.95500549 0.95984487 0.96136577 0.9612749  0.96505637\n",
      " 0.96284466 0.96472032 0.96472032 0.96472032 0.98148214 0.9771409\n",
      " 0.97641081 0.97560676 0.97574374 0.97703817 0.98005941 0.98158031\n",
      " 0.9796083  0.98177481 0.98142233 0.98198713 0.9836135  0.98208027\n",
      " 0.98208027 0.98208027 0.99507524 0.99667832 0.9951177  0.9859526\n",
      " 0.98500153 0.98812687 0.98862547 0.9875849  0.99394564 0.99178826\n",
      " 0.99149832 0.99193436 0.9933402  0.99392098 0.99392098 0.99392098\n",
      " 0.98986511 0.9912198  0.9875639  0.99527522 0.99407074 0.99088512\n",
      " 0.99049018 0.98659867 0.98907977 0.99455427 0.99727965 0.9962231\n",
      " 0.99902381 1.         1.         1.         0.98646313 0.97838002\n",
      " 0.97030407 0.96360105 0.95807332 0.9533509  0.94908071 0.94499034\n",
      " 0.9409098  0.93676108 0.93253314 0.92825359]\n",
      "12 day output [[0.9239654]]\n",
      "13 day input [0.90762302 0.91672968 0.91499738 0.92058009 0.92057506 0.92057506\n",
      " 0.92057506 0.92523638 0.92729513 0.93136379 0.92955114 0.92766086\n",
      " 0.9321957  0.93243358 0.93357733 0.93167747 0.93358875 0.93460603\n",
      " 0.93587397 0.94214613 0.94055035 0.94055035 0.94055035 0.95604377\n",
      " 0.95587255 0.95970013 0.95501873 0.94866347 0.95000904 0.95480322\n",
      " 0.95500549 0.95984487 0.96136577 0.9612749  0.96505637 0.96284466\n",
      " 0.96472032 0.96472032 0.96472032 0.98148214 0.9771409  0.97641081\n",
      " 0.97560676 0.97574374 0.97703817 0.98005941 0.98158031 0.9796083\n",
      " 0.98177481 0.98142233 0.98198713 0.9836135  0.98208027 0.98208027\n",
      " 0.98208027 0.99507524 0.99667832 0.9951177  0.9859526  0.98500153\n",
      " 0.98812687 0.98862547 0.9875849  0.99394564 0.99178826 0.99149832\n",
      " 0.99193436 0.9933402  0.99392098 0.99392098 0.99392098 0.98986511\n",
      " 0.9912198  0.9875639  0.99527522 0.99407074 0.99088512 0.99049018\n",
      " 0.98659867 0.98907977 0.99455427 0.99727965 0.9962231  0.99902381\n",
      " 1.         1.         1.         0.98646313 0.97838002 0.97030407\n",
      " 0.96360105 0.95807332 0.9533509  0.94908071 0.94499034 0.9409098\n",
      " 0.93676108 0.93253314 0.92825359 0.92396539]\n",
      "13 day output [[0.9197106]]\n",
      "14 day input [0.91672968 0.91499738 0.92058009 0.92057506 0.92057506 0.92057506\n",
      " 0.92523638 0.92729513 0.93136379 0.92955114 0.92766086 0.9321957\n",
      " 0.93243358 0.93357733 0.93167747 0.93358875 0.93460603 0.93587397\n",
      " 0.94214613 0.94055035 0.94055035 0.94055035 0.95604377 0.95587255\n",
      " 0.95970013 0.95501873 0.94866347 0.95000904 0.95480322 0.95500549\n",
      " 0.95984487 0.96136577 0.9612749  0.96505637 0.96284466 0.96472032\n",
      " 0.96472032 0.96472032 0.98148214 0.9771409  0.97641081 0.97560676\n",
      " 0.97574374 0.97703817 0.98005941 0.98158031 0.9796083  0.98177481\n",
      " 0.98142233 0.98198713 0.9836135  0.98208027 0.98208027 0.98208027\n",
      " 0.99507524 0.99667832 0.9951177  0.9859526  0.98500153 0.98812687\n",
      " 0.98862547 0.9875849  0.99394564 0.99178826 0.99149832 0.99193436\n",
      " 0.9933402  0.99392098 0.99392098 0.99392098 0.98986511 0.9912198\n",
      " 0.9875639  0.99527522 0.99407074 0.99088512 0.99049018 0.98659867\n",
      " 0.98907977 0.99455427 0.99727965 0.9962231  0.99902381 1.\n",
      " 1.         1.         0.98646313 0.97838002 0.97030407 0.96360105\n",
      " 0.95807332 0.9533509  0.94908071 0.94499034 0.9409098  0.93676108\n",
      " 0.93253314 0.92825359 0.92396539 0.91971058]\n",
      "14 day output [[0.91552126]]\n",
      "15 day input [0.91499738 0.92058009 0.92057506 0.92057506 0.92057506 0.92523638\n",
      " 0.92729513 0.93136379 0.92955114 0.92766086 0.9321957  0.93243358\n",
      " 0.93357733 0.93167747 0.93358875 0.93460603 0.93587397 0.94214613\n",
      " 0.94055035 0.94055035 0.94055035 0.95604377 0.95587255 0.95970013\n",
      " 0.95501873 0.94866347 0.95000904 0.95480322 0.95500549 0.95984487\n",
      " 0.96136577 0.9612749  0.96505637 0.96284466 0.96472032 0.96472032\n",
      " 0.96472032 0.98148214 0.9771409  0.97641081 0.97560676 0.97574374\n",
      " 0.97703817 0.98005941 0.98158031 0.9796083  0.98177481 0.98142233\n",
      " 0.98198713 0.9836135  0.98208027 0.98208027 0.98208027 0.99507524\n",
      " 0.99667832 0.9951177  0.9859526  0.98500153 0.98812687 0.98862547\n",
      " 0.9875849  0.99394564 0.99178826 0.99149832 0.99193436 0.9933402\n",
      " 0.99392098 0.99392098 0.99392098 0.98986511 0.9912198  0.9875639\n",
      " 0.99527522 0.99407074 0.99088512 0.99049018 0.98659867 0.98907977\n",
      " 0.99455427 0.99727965 0.9962231  0.99902381 1.         1.\n",
      " 1.         0.98646313 0.97838002 0.97030407 0.96360105 0.95807332\n",
      " 0.9533509  0.94908071 0.94499034 0.9409098  0.93676108 0.93253314\n",
      " 0.92825359 0.92396539 0.91971058 0.91552126]\n",
      "15 day output [[0.91141707]]\n",
      "16 day input [0.92058009 0.92057506 0.92057506 0.92057506 0.92523638 0.92729513\n",
      " 0.93136379 0.92955114 0.92766086 0.9321957  0.93243358 0.93357733\n",
      " 0.93167747 0.93358875 0.93460603 0.93587397 0.94214613 0.94055035\n",
      " 0.94055035 0.94055035 0.95604377 0.95587255 0.95970013 0.95501873\n",
      " 0.94866347 0.95000904 0.95480322 0.95500549 0.95984487 0.96136577\n",
      " 0.9612749  0.96505637 0.96284466 0.96472032 0.96472032 0.96472032\n",
      " 0.98148214 0.9771409  0.97641081 0.97560676 0.97574374 0.97703817\n",
      " 0.98005941 0.98158031 0.9796083  0.98177481 0.98142233 0.98198713\n",
      " 0.9836135  0.98208027 0.98208027 0.98208027 0.99507524 0.99667832\n",
      " 0.9951177  0.9859526  0.98500153 0.98812687 0.98862547 0.9875849\n",
      " 0.99394564 0.99178826 0.99149832 0.99193436 0.9933402  0.99392098\n",
      " 0.99392098 0.99392098 0.98986511 0.9912198  0.9875639  0.99527522\n",
      " 0.99407074 0.99088512 0.99049018 0.98659867 0.98907977 0.99455427\n",
      " 0.99727965 0.9962231  0.99902381 1.         1.         1.\n",
      " 0.98646313 0.97838002 0.97030407 0.96360105 0.95807332 0.9533509\n",
      " 0.94908071 0.94499034 0.9409098  0.93676108 0.93253314 0.92825359\n",
      " 0.92396539 0.91971058 0.91552126 0.91141707]\n",
      "16 day output [[0.90740556]]\n",
      "17 day input [0.92057506 0.92057506 0.92057506 0.92523638 0.92729513 0.93136379\n",
      " 0.92955114 0.92766086 0.9321957  0.93243358 0.93357733 0.93167747\n",
      " 0.93358875 0.93460603 0.93587397 0.94214613 0.94055035 0.94055035\n",
      " 0.94055035 0.95604377 0.95587255 0.95970013 0.95501873 0.94866347\n",
      " 0.95000904 0.95480322 0.95500549 0.95984487 0.96136577 0.9612749\n",
      " 0.96505637 0.96284466 0.96472032 0.96472032 0.96472032 0.98148214\n",
      " 0.9771409  0.97641081 0.97560676 0.97574374 0.97703817 0.98005941\n",
      " 0.98158031 0.9796083  0.98177481 0.98142233 0.98198713 0.9836135\n",
      " 0.98208027 0.98208027 0.98208027 0.99507524 0.99667832 0.9951177\n",
      " 0.9859526  0.98500153 0.98812687 0.98862547 0.9875849  0.99394564\n",
      " 0.99178826 0.99149832 0.99193436 0.9933402  0.99392098 0.99392098\n",
      " 0.99392098 0.98986511 0.9912198  0.9875639  0.99527522 0.99407074\n",
      " 0.99088512 0.99049018 0.98659867 0.98907977 0.99455427 0.99727965\n",
      " 0.9962231  0.99902381 1.         1.         1.         0.98646313\n",
      " 0.97838002 0.97030407 0.96360105 0.95807332 0.9533509  0.94908071\n",
      " 0.94499034 0.9409098  0.93676108 0.93253314 0.92825359 0.92396539\n",
      " 0.91971058 0.91552126 0.91141707 0.90740556]\n",
      "17 day output [[0.90348536]]\n",
      "18 day input [0.92057506 0.92057506 0.92523638 0.92729513 0.93136379 0.92955114\n",
      " 0.92766086 0.9321957  0.93243358 0.93357733 0.93167747 0.93358875\n",
      " 0.93460603 0.93587397 0.94214613 0.94055035 0.94055035 0.94055035\n",
      " 0.95604377 0.95587255 0.95970013 0.95501873 0.94866347 0.95000904\n",
      " 0.95480322 0.95500549 0.95984487 0.96136577 0.9612749  0.96505637\n",
      " 0.96284466 0.96472032 0.96472032 0.96472032 0.98148214 0.9771409\n",
      " 0.97641081 0.97560676 0.97574374 0.97703817 0.98005941 0.98158031\n",
      " 0.9796083  0.98177481 0.98142233 0.98198713 0.9836135  0.98208027\n",
      " 0.98208027 0.98208027 0.99507524 0.99667832 0.9951177  0.9859526\n",
      " 0.98500153 0.98812687 0.98862547 0.9875849  0.99394564 0.99178826\n",
      " 0.99149832 0.99193436 0.9933402  0.99392098 0.99392098 0.99392098\n",
      " 0.98986511 0.9912198  0.9875639  0.99527522 0.99407074 0.99088512\n",
      " 0.99049018 0.98659867 0.98907977 0.99455427 0.99727965 0.9962231\n",
      " 0.99902381 1.         1.         1.         0.98646313 0.97838002\n",
      " 0.97030407 0.96360105 0.95807332 0.9533509  0.94908071 0.94499034\n",
      " 0.9409098  0.93676108 0.93253314 0.92825359 0.92396539 0.91971058\n",
      " 0.91552126 0.91141707 0.90740556 0.90348536]\n",
      "18 day output [[0.8996494]]\n",
      "19 day input [0.92057506 0.92523638 0.92729513 0.93136379 0.92955114 0.92766086\n",
      " 0.9321957  0.93243358 0.93357733 0.93167747 0.93358875 0.93460603\n",
      " 0.93587397 0.94214613 0.94055035 0.94055035 0.94055035 0.95604377\n",
      " 0.95587255 0.95970013 0.95501873 0.94866347 0.95000904 0.95480322\n",
      " 0.95500549 0.95984487 0.96136577 0.9612749  0.96505637 0.96284466\n",
      " 0.96472032 0.96472032 0.96472032 0.98148214 0.9771409  0.97641081\n",
      " 0.97560676 0.97574374 0.97703817 0.98005941 0.98158031 0.9796083\n",
      " 0.98177481 0.98142233 0.98198713 0.9836135  0.98208027 0.98208027\n",
      " 0.98208027 0.99507524 0.99667832 0.9951177  0.9859526  0.98500153\n",
      " 0.98812687 0.98862547 0.9875849  0.99394564 0.99178826 0.99149832\n",
      " 0.99193436 0.9933402  0.99392098 0.99392098 0.99392098 0.98986511\n",
      " 0.9912198  0.9875639  0.99527522 0.99407074 0.99088512 0.99049018\n",
      " 0.98659867 0.98907977 0.99455427 0.99727965 0.9962231  0.99902381\n",
      " 1.         1.         1.         0.98646313 0.97838002 0.97030407\n",
      " 0.96360105 0.95807332 0.9533509  0.94908071 0.94499034 0.9409098\n",
      " 0.93676108 0.93253314 0.92825359 0.92396539 0.91971058 0.91552126\n",
      " 0.91141707 0.90740556 0.90348536 0.89964938]\n"
     ]
    },
    {
     "name": "stdout",
     "output_type": "stream",
     "text": [
      "19 day output [[0.89588845]]\n",
      "20 day input [0.92523638 0.92729513 0.93136379 0.92955114 0.92766086 0.9321957\n",
      " 0.93243358 0.93357733 0.93167747 0.93358875 0.93460603 0.93587397\n",
      " 0.94214613 0.94055035 0.94055035 0.94055035 0.95604377 0.95587255\n",
      " 0.95970013 0.95501873 0.94866347 0.95000904 0.95480322 0.95500549\n",
      " 0.95984487 0.96136577 0.9612749  0.96505637 0.96284466 0.96472032\n",
      " 0.96472032 0.96472032 0.98148214 0.9771409  0.97641081 0.97560676\n",
      " 0.97574374 0.97703817 0.98005941 0.98158031 0.9796083  0.98177481\n",
      " 0.98142233 0.98198713 0.9836135  0.98208027 0.98208027 0.98208027\n",
      " 0.99507524 0.99667832 0.9951177  0.9859526  0.98500153 0.98812687\n",
      " 0.98862547 0.9875849  0.99394564 0.99178826 0.99149832 0.99193436\n",
      " 0.9933402  0.99392098 0.99392098 0.99392098 0.98986511 0.9912198\n",
      " 0.9875639  0.99527522 0.99407074 0.99088512 0.99049018 0.98659867\n",
      " 0.98907977 0.99455427 0.99727965 0.9962231  0.99902381 1.\n",
      " 1.         1.         0.98646313 0.97838002 0.97030407 0.96360105\n",
      " 0.95807332 0.9533509  0.94908071 0.94499034 0.9409098  0.93676108\n",
      " 0.93253314 0.92825359 0.92396539 0.91971058 0.91552126 0.91141707\n",
      " 0.90740556 0.90348536 0.89964938 0.89588845]\n",
      "20 day output [[0.8921929]]\n",
      "21 day input [0.92729513 0.93136379 0.92955114 0.92766086 0.9321957  0.93243358\n",
      " 0.93357733 0.93167747 0.93358875 0.93460603 0.93587397 0.94214613\n",
      " 0.94055035 0.94055035 0.94055035 0.95604377 0.95587255 0.95970013\n",
      " 0.95501873 0.94866347 0.95000904 0.95480322 0.95500549 0.95984487\n",
      " 0.96136577 0.9612749  0.96505637 0.96284466 0.96472032 0.96472032\n",
      " 0.96472032 0.98148214 0.9771409  0.97641081 0.97560676 0.97574374\n",
      " 0.97703817 0.98005941 0.98158031 0.9796083  0.98177481 0.98142233\n",
      " 0.98198713 0.9836135  0.98208027 0.98208027 0.98208027 0.99507524\n",
      " 0.99667832 0.9951177  0.9859526  0.98500153 0.98812687 0.98862547\n",
      " 0.9875849  0.99394564 0.99178826 0.99149832 0.99193436 0.9933402\n",
      " 0.99392098 0.99392098 0.99392098 0.98986511 0.9912198  0.9875639\n",
      " 0.99527522 0.99407074 0.99088512 0.99049018 0.98659867 0.98907977\n",
      " 0.99455427 0.99727965 0.9962231  0.99902381 1.         1.\n",
      " 1.         0.98646313 0.97838002 0.97030407 0.96360105 0.95807332\n",
      " 0.9533509  0.94908071 0.94499034 0.9409098  0.93676108 0.93253314\n",
      " 0.92825359 0.92396539 0.91971058 0.91552126 0.91141707 0.90740556\n",
      " 0.90348536 0.89964938 0.89588845 0.8921929 ]\n",
      "21 day output [[0.88855433]]\n",
      "22 day input [0.93136379 0.92955114 0.92766086 0.9321957  0.93243358 0.93357733\n",
      " 0.93167747 0.93358875 0.93460603 0.93587397 0.94214613 0.94055035\n",
      " 0.94055035 0.94055035 0.95604377 0.95587255 0.95970013 0.95501873\n",
      " 0.94866347 0.95000904 0.95480322 0.95500549 0.95984487 0.96136577\n",
      " 0.9612749  0.96505637 0.96284466 0.96472032 0.96472032 0.96472032\n",
      " 0.98148214 0.9771409  0.97641081 0.97560676 0.97574374 0.97703817\n",
      " 0.98005941 0.98158031 0.9796083  0.98177481 0.98142233 0.98198713\n",
      " 0.9836135  0.98208027 0.98208027 0.98208027 0.99507524 0.99667832\n",
      " 0.9951177  0.9859526  0.98500153 0.98812687 0.98862547 0.9875849\n",
      " 0.99394564 0.99178826 0.99149832 0.99193436 0.9933402  0.99392098\n",
      " 0.99392098 0.99392098 0.98986511 0.9912198  0.9875639  0.99527522\n",
      " 0.99407074 0.99088512 0.99049018 0.98659867 0.98907977 0.99455427\n",
      " 0.99727965 0.9962231  0.99902381 1.         1.         1.\n",
      " 0.98646313 0.97838002 0.97030407 0.96360105 0.95807332 0.9533509\n",
      " 0.94908071 0.94499034 0.9409098  0.93676108 0.93253314 0.92825359\n",
      " 0.92396539 0.91971058 0.91552126 0.91141707 0.90740556 0.90348536\n",
      " 0.89964938 0.89588845 0.8921929  0.88855433]\n",
      "22 day output [[0.88496596]]\n",
      "23 day input [0.92955114 0.92766086 0.9321957  0.93243358 0.93357733 0.93167747\n",
      " 0.93358875 0.93460603 0.93587397 0.94214613 0.94055035 0.94055035\n",
      " 0.94055035 0.95604377 0.95587255 0.95970013 0.95501873 0.94866347\n",
      " 0.95000904 0.95480322 0.95500549 0.95984487 0.96136577 0.9612749\n",
      " 0.96505637 0.96284466 0.96472032 0.96472032 0.96472032 0.98148214\n",
      " 0.9771409  0.97641081 0.97560676 0.97574374 0.97703817 0.98005941\n",
      " 0.98158031 0.9796083  0.98177481 0.98142233 0.98198713 0.9836135\n",
      " 0.98208027 0.98208027 0.98208027 0.99507524 0.99667832 0.9951177\n",
      " 0.9859526  0.98500153 0.98812687 0.98862547 0.9875849  0.99394564\n",
      " 0.99178826 0.99149832 0.99193436 0.9933402  0.99392098 0.99392098\n",
      " 0.99392098 0.98986511 0.9912198  0.9875639  0.99527522 0.99407074\n",
      " 0.99088512 0.99049018 0.98659867 0.98907977 0.99455427 0.99727965\n",
      " 0.9962231  0.99902381 1.         1.         1.         0.98646313\n",
      " 0.97838002 0.97030407 0.96360105 0.95807332 0.9533509  0.94908071\n",
      " 0.94499034 0.9409098  0.93676108 0.93253314 0.92825359 0.92396539\n",
      " 0.91971058 0.91552126 0.91141707 0.90740556 0.90348536 0.89964938\n",
      " 0.89588845 0.8921929  0.88855433 0.88496596]\n",
      "23 day output [[0.8814228]]\n",
      "24 day input [0.92766086 0.9321957  0.93243358 0.93357733 0.93167747 0.93358875\n",
      " 0.93460603 0.93587397 0.94214613 0.94055035 0.94055035 0.94055035\n",
      " 0.95604377 0.95587255 0.95970013 0.95501873 0.94866347 0.95000904\n",
      " 0.95480322 0.95500549 0.95984487 0.96136577 0.9612749  0.96505637\n",
      " 0.96284466 0.96472032 0.96472032 0.96472032 0.98148214 0.9771409\n",
      " 0.97641081 0.97560676 0.97574374 0.97703817 0.98005941 0.98158031\n",
      " 0.9796083  0.98177481 0.98142233 0.98198713 0.9836135  0.98208027\n",
      " 0.98208027 0.98208027 0.99507524 0.99667832 0.9951177  0.9859526\n",
      " 0.98500153 0.98812687 0.98862547 0.9875849  0.99394564 0.99178826\n",
      " 0.99149832 0.99193436 0.9933402  0.99392098 0.99392098 0.99392098\n",
      " 0.98986511 0.9912198  0.9875639  0.99527522 0.99407074 0.99088512\n",
      " 0.99049018 0.98659867 0.98907977 0.99455427 0.99727965 0.9962231\n",
      " 0.99902381 1.         1.         1.         0.98646313 0.97838002\n",
      " 0.97030407 0.96360105 0.95807332 0.9533509  0.94908071 0.94499034\n",
      " 0.9409098  0.93676108 0.93253314 0.92825359 0.92396539 0.91971058\n",
      " 0.91552126 0.91141707 0.90740556 0.90348536 0.89964938 0.89588845\n",
      " 0.8921929  0.88855433 0.88496596 0.88142282]\n",
      "24 day output [[0.8779216]]\n",
      "25 day input [0.9321957  0.93243358 0.93357733 0.93167747 0.93358875 0.93460603\n",
      " 0.93587397 0.94214613 0.94055035 0.94055035 0.94055035 0.95604377\n",
      " 0.95587255 0.95970013 0.95501873 0.94866347 0.95000904 0.95480322\n",
      " 0.95500549 0.95984487 0.96136577 0.9612749  0.96505637 0.96284466\n",
      " 0.96472032 0.96472032 0.96472032 0.98148214 0.9771409  0.97641081\n",
      " 0.97560676 0.97574374 0.97703817 0.98005941 0.98158031 0.9796083\n",
      " 0.98177481 0.98142233 0.98198713 0.9836135  0.98208027 0.98208027\n",
      " 0.98208027 0.99507524 0.99667832 0.9951177  0.9859526  0.98500153\n",
      " 0.98812687 0.98862547 0.9875849  0.99394564 0.99178826 0.99149832\n",
      " 0.99193436 0.9933402  0.99392098 0.99392098 0.99392098 0.98986511\n",
      " 0.9912198  0.9875639  0.99527522 0.99407074 0.99088512 0.99049018\n",
      " 0.98659867 0.98907977 0.99455427 0.99727965 0.9962231  0.99902381\n",
      " 1.         1.         1.         0.98646313 0.97838002 0.97030407\n",
      " 0.96360105 0.95807332 0.9533509  0.94908071 0.94499034 0.9409098\n",
      " 0.93676108 0.93253314 0.92825359 0.92396539 0.91971058 0.91552126\n",
      " 0.91141707 0.90740556 0.90348536 0.89964938 0.89588845 0.8921929\n",
      " 0.88855433 0.88496596 0.88142282 0.87792158]\n",
      "25 day output [[0.87445986]]\n",
      "26 day input [0.93243358 0.93357733 0.93167747 0.93358875 0.93460603 0.93587397\n",
      " 0.94214613 0.94055035 0.94055035 0.94055035 0.95604377 0.95587255\n",
      " 0.95970013 0.95501873 0.94866347 0.95000904 0.95480322 0.95500549\n",
      " 0.95984487 0.96136577 0.9612749  0.96505637 0.96284466 0.96472032\n",
      " 0.96472032 0.96472032 0.98148214 0.9771409  0.97641081 0.97560676\n",
      " 0.97574374 0.97703817 0.98005941 0.98158031 0.9796083  0.98177481\n",
      " 0.98142233 0.98198713 0.9836135  0.98208027 0.98208027 0.98208027\n",
      " 0.99507524 0.99667832 0.9951177  0.9859526  0.98500153 0.98812687\n",
      " 0.98862547 0.9875849  0.99394564 0.99178826 0.99149832 0.99193436\n",
      " 0.9933402  0.99392098 0.99392098 0.99392098 0.98986511 0.9912198\n",
      " 0.9875639  0.99527522 0.99407074 0.99088512 0.99049018 0.98659867\n",
      " 0.98907977 0.99455427 0.99727965 0.9962231  0.99902381 1.\n",
      " 1.         1.         0.98646313 0.97838002 0.97030407 0.96360105\n",
      " 0.95807332 0.9533509  0.94908071 0.94499034 0.9409098  0.93676108\n",
      " 0.93253314 0.92825359 0.92396539 0.91971058 0.91552126 0.91141707\n",
      " 0.90740556 0.90348536 0.89964938 0.89588845 0.8921929  0.88855433\n",
      " 0.88496596 0.88142282 0.87792158 0.87445986]\n",
      "26 day output [[0.87103623]]\n",
      "27 day input [0.93357733 0.93167747 0.93358875 0.93460603 0.93587397 0.94214613\n",
      " 0.94055035 0.94055035 0.94055035 0.95604377 0.95587255 0.95970013\n",
      " 0.95501873 0.94866347 0.95000904 0.95480322 0.95500549 0.95984487\n",
      " 0.96136577 0.9612749  0.96505637 0.96284466 0.96472032 0.96472032\n",
      " 0.96472032 0.98148214 0.9771409  0.97641081 0.97560676 0.97574374\n",
      " 0.97703817 0.98005941 0.98158031 0.9796083  0.98177481 0.98142233\n",
      " 0.98198713 0.9836135  0.98208027 0.98208027 0.98208027 0.99507524\n",
      " 0.99667832 0.9951177  0.9859526  0.98500153 0.98812687 0.98862547\n",
      " 0.9875849  0.99394564 0.99178826 0.99149832 0.99193436 0.9933402\n",
      " 0.99392098 0.99392098 0.99392098 0.98986511 0.9912198  0.9875639\n",
      " 0.99527522 0.99407074 0.99088512 0.99049018 0.98659867 0.98907977\n",
      " 0.99455427 0.99727965 0.9962231  0.99902381 1.         1.\n",
      " 1.         0.98646313 0.97838002 0.97030407 0.96360105 0.95807332\n",
      " 0.9533509  0.94908071 0.94499034 0.9409098  0.93676108 0.93253314\n",
      " 0.92825359 0.92396539 0.91971058 0.91552126 0.91141707 0.90740556\n",
      " 0.90348536 0.89964938 0.89588845 0.8921929  0.88855433 0.88496596\n",
      " 0.88142282 0.87792158 0.87445986 0.87103623]\n",
      "27 day output [[0.86764944]]\n",
      "28 day input [0.93167747 0.93358875 0.93460603 0.93587397 0.94214613 0.94055035\n",
      " 0.94055035 0.94055035 0.95604377 0.95587255 0.95970013 0.95501873\n",
      " 0.94866347 0.95000904 0.95480322 0.95500549 0.95984487 0.96136577\n",
      " 0.9612749  0.96505637 0.96284466 0.96472032 0.96472032 0.96472032\n",
      " 0.98148214 0.9771409  0.97641081 0.97560676 0.97574374 0.97703817\n",
      " 0.98005941 0.98158031 0.9796083  0.98177481 0.98142233 0.98198713\n",
      " 0.9836135  0.98208027 0.98208027 0.98208027 0.99507524 0.99667832\n",
      " 0.9951177  0.9859526  0.98500153 0.98812687 0.98862547 0.9875849\n",
      " 0.99394564 0.99178826 0.99149832 0.99193436 0.9933402  0.99392098\n",
      " 0.99392098 0.99392098 0.98986511 0.9912198  0.9875639  0.99527522\n",
      " 0.99407074 0.99088512 0.99049018 0.98659867 0.98907977 0.99455427\n",
      " 0.99727965 0.9962231  0.99902381 1.         1.         1.\n",
      " 0.98646313 0.97838002 0.97030407 0.96360105 0.95807332 0.9533509\n",
      " 0.94908071 0.94499034 0.9409098  0.93676108 0.93253314 0.92825359\n",
      " 0.92396539 0.91971058 0.91552126 0.91141707 0.90740556 0.90348536\n",
      " 0.89964938 0.89588845 0.8921929  0.88855433 0.88496596 0.88142282\n",
      " 0.87792158 0.87445986 0.87103623 0.86764944]\n",
      "28 day output [[0.86429864]]\n",
      "29 day input [0.93358875 0.93460603 0.93587397 0.94214613 0.94055035 0.94055035\n",
      " 0.94055035 0.95604377 0.95587255 0.95970013 0.95501873 0.94866347\n",
      " 0.95000904 0.95480322 0.95500549 0.95984487 0.96136577 0.9612749\n",
      " 0.96505637 0.96284466 0.96472032 0.96472032 0.96472032 0.98148214\n",
      " 0.9771409  0.97641081 0.97560676 0.97574374 0.97703817 0.98005941\n",
      " 0.98158031 0.9796083  0.98177481 0.98142233 0.98198713 0.9836135\n",
      " 0.98208027 0.98208027 0.98208027 0.99507524 0.99667832 0.9951177\n",
      " 0.9859526  0.98500153 0.98812687 0.98862547 0.9875849  0.99394564\n",
      " 0.99178826 0.99149832 0.99193436 0.9933402  0.99392098 0.99392098\n",
      " 0.99392098 0.98986511 0.9912198  0.9875639  0.99527522 0.99407074\n",
      " 0.99088512 0.99049018 0.98659867 0.98907977 0.99455427 0.99727965\n",
      " 0.9962231  0.99902381 1.         1.         1.         0.98646313\n",
      " 0.97838002 0.97030407 0.96360105 0.95807332 0.9533509  0.94908071\n",
      " 0.94499034 0.9409098  0.93676108 0.93253314 0.92825359 0.92396539\n",
      " 0.91971058 0.91552126 0.91141707 0.90740556 0.90348536 0.89964938\n",
      " 0.89588845 0.8921929  0.88855433 0.88496596 0.88142282 0.87792158\n",
      " 0.87445986 0.87103623 0.86764944 0.86429864]\n"
     ]
    },
    {
     "name": "stdout",
     "output_type": "stream",
     "text": [
      "29 day output [[0.8609826]]\n",
      "[[0.9864631295204163], [0.978380024433136], [0.9703040719032288], [0.9636010527610779], [0.9580733180046082], [0.9533509016036987], [0.9490807056427002], [0.944990336894989], [0.9409098029136658], [0.9367610812187195], [0.9325331449508667], [0.9282535910606384], [0.9239653944969177], [0.9197105765342712], [0.9155212640762329], [0.9114170670509338], [0.9074055552482605], [0.9034853577613831], [0.8996493816375732], [0.8958884477615356], [0.8921929001808167], [0.8885543346405029], [0.8849659562110901], [0.8814228177070618], [0.8779215812683105], [0.8744598627090454], [0.8710362315177917], [0.8676494359970093], [0.8642986416816711], [0.8609825968742371]]\n"
     ]
    }
   ],
   "source": [
    "# demonstrate prediction for next 30 days\n",
    "from numpy import array\n",
    "\n",
    "lst_output=[]\n",
    "n_steps=100\n",
    "i=0\n",
    "while(i<30):\n",
    "    \n",
    "    if(len(temp_input)>100):\n",
    "        #print(temp_input)\n",
    "        x_input=np.array(temp_input[1:])\n",
    "        print(\"{} day input {}\".format(i,x_input))\n",
    "        x_input=x_input.reshape(1,-1)\n",
    "        x_input = x_input.reshape((1, n_steps, 1))\n",
    "        #print(x_input)\n",
    "        yhat = model.predict(x_input, verbose=0)\n",
    "        print(\"{} day output {}\".format(i,yhat))\n",
    "        temp_input.extend(yhat[0].tolist())\n",
    "        temp_input=temp_input[1:]\n",
    "        #print(temp_input)\n",
    "        lst_output.extend(yhat.tolist())\n",
    "        i=i+1\n",
    "    else:\n",
    "        x_input = x_input.reshape((1, n_steps,1))\n",
    "        yhat = model.predict(x_input, verbose=0)\n",
    "        print(yhat[0])\n",
    "        temp_input.extend(yhat[0].tolist())\n",
    "        print(len(temp_input))\n",
    "        lst_output.extend(yhat.tolist())\n",
    "        i=i+1\n",
    "    \n",
    "\n",
    "print(lst_output)"
   ]
  },
  {
   "cell_type": "code",
   "execution_count": 44,
   "metadata": {},
   "outputs": [],
   "source": [
    "day_new=np.arange(1,101)\n",
    "day_pred=np.arange(101,131)"
   ]
  },
  {
   "cell_type": "code",
   "execution_count": 45,
   "metadata": {},
   "outputs": [],
   "source": [
    "import matplotlib.pyplot as plt"
   ]
  },
  {
   "cell_type": "code",
   "execution_count": 46,
   "metadata": {},
   "outputs": [
    {
     "data": {
      "text/plain": [
       "4021"
      ]
     },
     "execution_count": 46,
     "metadata": {},
     "output_type": "execute_result"
    }
   ],
   "source": [
    "len(df1)"
   ]
  },
  {
   "cell_type": "code",
   "execution_count": null,
   "metadata": {},
   "outputs": [],
   "source": []
  },
  {
   "cell_type": "code",
   "execution_count": 47,
   "metadata": {},
   "outputs": [
    {
     "data": {
      "text/plain": [
       "[<matplotlib.lines.Line2D at 0x1cdc3985d90>]"
      ]
     },
     "execution_count": 47,
     "metadata": {},
     "output_type": "execute_result"
    },
    {
     "data": {
      "image/png": "[encoded data removed]",
      "text/plain": [
       "<Figure size 640x480 with 1 Axes>"
      ]
     },
     "metadata": {},
     "output_type": "display_data"
    }
   ],
   "source": [
    "plt.plot(day_new,scaler.inverse_transform(df1[3921:]))\n",
    "plt.plot(day_pred,scaler.inverse_transform(lst_output))"
   ]
  },
  {
   "cell_type": "code",
   "execution_count": 48,
   "metadata": {},
   "outputs": [
    {
     "data": {
      "text/plain": [
       "[<matplotlib.lines.Line2D at 0x1cdc39649d0>]"
      ]
     },
     "execution_count": 48,
     "metadata": {},
     "output_type": "execute_result"
    },
    {
     "data": {
      "image/png": "[encoded data removed]",
      "text/plain": [
       "<Figure size 640x480 with 1 Axes>"
      ]
     },
     "metadata": {},
     "output_type": "display_data"
    }
   ],
   "source": [
    "df3=df1.tolist()\n",
    "df3.extend(lst_output)\n",
    "plt.plot(df3[1200:])"
   ]
  },
  {
   "cell_type": "code",
   "execution_count": 49,
   "metadata": {},
   "outputs": [],
   "source": [
    "df3=scaler.inverse_transform(df3).tolist()"
   ]
  },
  {
   "cell_type": "code",
   "execution_count": 50,
   "metadata": {
    "scrolled": true
   },
   "outputs": [
    {
     "data": {
      "text/plain": [
       "[<matplotlib.lines.Line2D at 0x1cdc38bcc10>]"
      ]
     },
     "execution_count": 50,
     "metadata": {},
     "output_type": "execute_result"
    },
    {
     "data": {
      "image/png": "[encoded data removed]",
      "text/plain": [
       "<Figure size 640x480 with 1 Axes>"
      ]
     },
     "metadata": {},
     "output_type": "display_data"
    }
   ],
   "source": [
    "plt.plot(df3)"
   ]
  }
 ],
 "metadata": {
  "kernelspec": {
   "display_name": "python 3.11.3 (tensorflow)",
   "language": "python",
   "name": "tensorflow"
  },
  "language_info": {
   "codemirror_mode": {
    "name": "ipython",
    "version": 3
   },
   "file_extension": ".py",
   "mimetype": "text/x-python",
   "name": "python",
   "nbconvert_exporter": "python",
   "pygments_lexer": "ipython3",
   "version": "3.9.17"
  }
 },
 "nbformat": 4,
 "nbformat_minor": 2
}
