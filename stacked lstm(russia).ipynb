{
 "cells": [
  {
   "cell_type": "markdown",
   "metadata": {},
   "source": [
    "### Stock Market Prediction And Forecasting Using Stacked LSTM"
   ]
  },
  {
   "cell_type": "code",
   "execution_count": 1,
   "metadata": {},
   "outputs": [],
   "source": [
    "import pandas as pd"
   ]
  },
  {
   "cell_type": "code",
   "execution_count": 2,
   "metadata": {
    "scrolled": true
   },
   "outputs": [],
   "source": [
    "df=pd.read_csv('russia.csv')"
   ]
  },
  {
   "cell_type": "code",
   "execution_count": 3,
   "metadata": {},
   "outputs": [
    {
     "data": {
      "text/html": [
       "<div>\n",
       "<style scoped>\n",
       "    .dataframe tbody tr th:only-of-type {\n",
       "        vertical-align: middle;\n",
       "    }\n",
       "\n",
       "    .dataframe tbody tr th {\n",
       "        vertical-align: top;\n",
       "    }\n",
       "\n",
       "    .dataframe thead th {\n",
       "        text-align: right;\n",
       "    }\n",
       "</style>\n",
       "<table border=\"1\" class=\"dataframe\">\n",
       "  <thead>\n",
       "    <tr style=\"text-align: right;\">\n",
       "      <th></th>\n",
       "      <th>Time Interval</th>\n",
       "      <th>Close</th>\n",
       "      <th>Net Chg</th>\n",
       "      <th>Open</th>\n",
       "      <th>High</th>\n",
       "      <th>Low</th>\n",
       "      <th>Tick Count</th>\n",
       "      <th>Volume</th>\n",
       "    </tr>\n",
       "  </thead>\n",
       "  <tbody>\n",
       "    <tr>\n",
       "      <th>0</th>\n",
       "      <td>Summary</td>\n",
       "      <td>3291.14</td>\n",
       "      <td>246.07</td>\n",
       "      <td>3059.20</td>\n",
       "      <td>3318.39</td>\n",
       "      <td>2073.87</td>\n",
       "      <td>7777591.0</td>\n",
       "      <td>N.A.</td>\n",
       "    </tr>\n",
       "    <tr>\n",
       "      <th>1</th>\n",
       "      <td>03JAN2020_00:00:00.000000</td>\n",
       "      <td>NaN</td>\n",
       "      <td>NaN</td>\n",
       "      <td>NaN</td>\n",
       "      <td>NaN</td>\n",
       "      <td>NaN</td>\n",
       "      <td>NaN</td>\n",
       "      <td>NaN</td>\n",
       "    </tr>\n",
       "    <tr>\n",
       "      <th>2</th>\n",
       "      <td>02:00 - 02:30</td>\n",
       "      <td>3073.80</td>\n",
       "      <td>28.73</td>\n",
       "      <td>3059.20</td>\n",
       "      <td>3074.51</td>\n",
       "      <td>3057.36</td>\n",
       "      <td>1801.0</td>\n",
       "      <td>N.A.</td>\n",
       "    </tr>\n",
       "    <tr>\n",
       "      <th>3</th>\n",
       "      <td>02:30 - 03:00</td>\n",
       "      <td>3071.34</td>\n",
       "      <td>-2.46</td>\n",
       "      <td>3073.72</td>\n",
       "      <td>3075.41</td>\n",
       "      <td>3070.58</td>\n",
       "      <td>1799.0</td>\n",
       "      <td>N.A.</td>\n",
       "    </tr>\n",
       "    <tr>\n",
       "      <th>4</th>\n",
       "      <td>03:00 - 03:30</td>\n",
       "      <td>3080.40</td>\n",
       "      <td>9.06</td>\n",
       "      <td>3071.61</td>\n",
       "      <td>3080.56</td>\n",
       "      <td>3070.95</td>\n",
       "      <td>1793.0</td>\n",
       "      <td>N.A.</td>\n",
       "    </tr>\n",
       "    <tr>\n",
       "      <th>5</th>\n",
       "      <td>03:30 - 04:00</td>\n",
       "      <td>3085.01</td>\n",
       "      <td>4.61</td>\n",
       "      <td>3080.37</td>\n",
       "      <td>3085.01</td>\n",
       "      <td>3079.32</td>\n",
       "      <td>1799.0</td>\n",
       "      <td>N.A.</td>\n",
       "    </tr>\n",
       "    <tr>\n",
       "      <th>6</th>\n",
       "      <td>04:00 - 04:30</td>\n",
       "      <td>3083.29</td>\n",
       "      <td>-1.72</td>\n",
       "      <td>3085.38</td>\n",
       "      <td>3085.57</td>\n",
       "      <td>3081.05</td>\n",
       "      <td>1800.0</td>\n",
       "      <td>N.A.</td>\n",
       "    </tr>\n",
       "    <tr>\n",
       "      <th>7</th>\n",
       "      <td>04:30 - 05:00</td>\n",
       "      <td>3084.07</td>\n",
       "      <td>0.78</td>\n",
       "      <td>3083.37</td>\n",
       "      <td>3086.07</td>\n",
       "      <td>3082.44</td>\n",
       "      <td>1800.0</td>\n",
       "      <td>N.A.</td>\n",
       "    </tr>\n",
       "    <tr>\n",
       "      <th>8</th>\n",
       "      <td>05:00 - 05:30</td>\n",
       "      <td>3083.35</td>\n",
       "      <td>-0.72</td>\n",
       "      <td>3084.09</td>\n",
       "      <td>3086.03</td>\n",
       "      <td>3082.20</td>\n",
       "      <td>1800.0</td>\n",
       "      <td>N.A.</td>\n",
       "    </tr>\n",
       "    <tr>\n",
       "      <th>9</th>\n",
       "      <td>05:30 - 06:00</td>\n",
       "      <td>3084.51</td>\n",
       "      <td>1.16</td>\n",
       "      <td>3083.38</td>\n",
       "      <td>3085.46</td>\n",
       "      <td>3083.08</td>\n",
       "      <td>1799.0</td>\n",
       "      <td>N.A.</td>\n",
       "    </tr>\n",
       "  </tbody>\n",
       "</table>\n",
       "</div>"
      ],
      "text/plain": [
       "               Time Interval    Close  Net Chg     Open     High      Low  \\\n",
       "0                    Summary  3291.14   246.07  3059.20  3318.39  2073.87   \n",
       "1  03JAN2020_00:00:00.000000      NaN      NaN      NaN      NaN      NaN   \n",
       "2              02:00 - 02:30  3073.80    28.73  3059.20  3074.51  3057.36   \n",
       "3              02:30 - 03:00  3071.34    -2.46  3073.72  3075.41  3070.58   \n",
       "4              03:00 - 03:30  3080.40     9.06  3071.61  3080.56  3070.95   \n",
       "5              03:30 - 04:00  3085.01     4.61  3080.37  3085.01  3079.32   \n",
       "6              04:00 - 04:30  3083.29    -1.72  3085.38  3085.57  3081.05   \n",
       "7              04:30 - 05:00  3084.07     0.78  3083.37  3086.07  3082.44   \n",
       "8              05:00 - 05:30  3083.35    -0.72  3084.09  3086.03  3082.20   \n",
       "9              05:30 - 06:00  3084.51     1.16  3083.38  3085.46  3083.08   \n",
       "\n",
       "   Tick Count Volume  \n",
       "0   7777591.0   N.A.  \n",
       "1         NaN    NaN  \n",
       "2      1801.0   N.A.  \n",
       "3      1799.0   N.A.  \n",
       "4      1793.0   N.A.  \n",
       "5      1799.0   N.A.  \n",
       "6      1800.0   N.A.  \n",
       "7      1800.0   N.A.  \n",
       "8      1800.0   N.A.  \n",
       "9      1799.0   N.A.  "
      ]
     },
     "execution_count": 3,
     "metadata": {},
     "output_type": "execute_result"
    }
   ],
   "source": [
    "df.head(10)"
   ]
  },
  {
   "cell_type": "code",
   "execution_count": 4,
   "metadata": {},
   "outputs": [],
   "source": [
    "df=df.dropna()"
   ]
  },
  {
   "cell_type": "code",
   "execution_count": 5,
   "metadata": {
    "scrolled": false
   },
   "outputs": [
    {
     "data": {
      "text/html": [
       "<div>\n",
       "<style scoped>\n",
       "    .dataframe tbody tr th:only-of-type {\n",
       "        vertical-align: middle;\n",
       "    }\n",
       "\n",
       "    .dataframe tbody tr th {\n",
       "        vertical-align: top;\n",
       "    }\n",
       "\n",
       "    .dataframe thead th {\n",
       "        text-align: right;\n",
       "    }\n",
       "</style>\n",
       "<table border=\"1\" class=\"dataframe\">\n",
       "  <thead>\n",
       "    <tr style=\"text-align: right;\">\n",
       "      <th></th>\n",
       "      <th>Time Interval</th>\n",
       "      <th>Close</th>\n",
       "      <th>Net Chg</th>\n",
       "      <th>Open</th>\n",
       "      <th>High</th>\n",
       "      <th>Low</th>\n",
       "      <th>Tick Count</th>\n",
       "      <th>Volume</th>\n",
       "    </tr>\n",
       "  </thead>\n",
       "  <tbody>\n",
       "    <tr>\n",
       "      <th>0</th>\n",
       "      <td>Summary</td>\n",
       "      <td>3291.14</td>\n",
       "      <td>246.07</td>\n",
       "      <td>3059.20</td>\n",
       "      <td>3318.39</td>\n",
       "      <td>2073.87</td>\n",
       "      <td>7777591.0</td>\n",
       "      <td>N.A.</td>\n",
       "    </tr>\n",
       "    <tr>\n",
       "      <th>2</th>\n",
       "      <td>02:00 - 02:30</td>\n",
       "      <td>3073.80</td>\n",
       "      <td>28.73</td>\n",
       "      <td>3059.20</td>\n",
       "      <td>3074.51</td>\n",
       "      <td>3057.36</td>\n",
       "      <td>1801.0</td>\n",
       "      <td>N.A.</td>\n",
       "    </tr>\n",
       "    <tr>\n",
       "      <th>3</th>\n",
       "      <td>02:30 - 03:00</td>\n",
       "      <td>3071.34</td>\n",
       "      <td>-2.46</td>\n",
       "      <td>3073.72</td>\n",
       "      <td>3075.41</td>\n",
       "      <td>3070.58</td>\n",
       "      <td>1799.0</td>\n",
       "      <td>N.A.</td>\n",
       "    </tr>\n",
       "    <tr>\n",
       "      <th>4</th>\n",
       "      <td>03:00 - 03:30</td>\n",
       "      <td>3080.40</td>\n",
       "      <td>9.06</td>\n",
       "      <td>3071.61</td>\n",
       "      <td>3080.56</td>\n",
       "      <td>3070.95</td>\n",
       "      <td>1793.0</td>\n",
       "      <td>N.A.</td>\n",
       "    </tr>\n",
       "    <tr>\n",
       "      <th>5</th>\n",
       "      <td>03:30 - 04:00</td>\n",
       "      <td>3085.01</td>\n",
       "      <td>4.61</td>\n",
       "      <td>3080.37</td>\n",
       "      <td>3085.01</td>\n",
       "      <td>3079.32</td>\n",
       "      <td>1799.0</td>\n",
       "      <td>N.A.</td>\n",
       "    </tr>\n",
       "    <tr>\n",
       "      <th>6</th>\n",
       "      <td>04:00 - 04:30</td>\n",
       "      <td>3083.29</td>\n",
       "      <td>-1.72</td>\n",
       "      <td>3085.38</td>\n",
       "      <td>3085.57</td>\n",
       "      <td>3081.05</td>\n",
       "      <td>1800.0</td>\n",
       "      <td>N.A.</td>\n",
       "    </tr>\n",
       "    <tr>\n",
       "      <th>7</th>\n",
       "      <td>04:30 - 05:00</td>\n",
       "      <td>3084.07</td>\n",
       "      <td>0.78</td>\n",
       "      <td>3083.37</td>\n",
       "      <td>3086.07</td>\n",
       "      <td>3082.44</td>\n",
       "      <td>1800.0</td>\n",
       "      <td>N.A.</td>\n",
       "    </tr>\n",
       "    <tr>\n",
       "      <th>8</th>\n",
       "      <td>05:00 - 05:30</td>\n",
       "      <td>3083.35</td>\n",
       "      <td>-0.72</td>\n",
       "      <td>3084.09</td>\n",
       "      <td>3086.03</td>\n",
       "      <td>3082.20</td>\n",
       "      <td>1800.0</td>\n",
       "      <td>N.A.</td>\n",
       "    </tr>\n",
       "    <tr>\n",
       "      <th>9</th>\n",
       "      <td>05:30 - 06:00</td>\n",
       "      <td>3084.51</td>\n",
       "      <td>1.16</td>\n",
       "      <td>3083.38</td>\n",
       "      <td>3085.46</td>\n",
       "      <td>3083.08</td>\n",
       "      <td>1799.0</td>\n",
       "      <td>N.A.</td>\n",
       "    </tr>\n",
       "    <tr>\n",
       "      <th>10</th>\n",
       "      <td>06:00 - 06:30</td>\n",
       "      <td>3080.95</td>\n",
       "      <td>-3.56</td>\n",
       "      <td>3084.54</td>\n",
       "      <td>3086.09</td>\n",
       "      <td>3080.26</td>\n",
       "      <td>1800.0</td>\n",
       "      <td>N.A.</td>\n",
       "    </tr>\n",
       "  </tbody>\n",
       "</table>\n",
       "</div>"
      ],
      "text/plain": [
       "    Time Interval    Close  Net Chg     Open     High      Low  Tick Count  \\\n",
       "0         Summary  3291.14   246.07  3059.20  3318.39  2073.87   7777591.0   \n",
       "2   02:00 - 02:30  3073.80    28.73  3059.20  3074.51  3057.36      1801.0   \n",
       "3   02:30 - 03:00  3071.34    -2.46  3073.72  3075.41  3070.58      1799.0   \n",
       "4   03:00 - 03:30  3080.40     9.06  3071.61  3080.56  3070.95      1793.0   \n",
       "5   03:30 - 04:00  3085.01     4.61  3080.37  3085.01  3079.32      1799.0   \n",
       "6   04:00 - 04:30  3083.29    -1.72  3085.38  3085.57  3081.05      1800.0   \n",
       "7   04:30 - 05:00  3084.07     0.78  3083.37  3086.07  3082.44      1800.0   \n",
       "8   05:00 - 05:30  3083.35    -0.72  3084.09  3086.03  3082.20      1800.0   \n",
       "9   05:30 - 06:00  3084.51     1.16  3083.38  3085.46  3083.08      1799.0   \n",
       "10  06:00 - 06:30  3080.95    -3.56  3084.54  3086.09  3080.26      1800.0   \n",
       "\n",
       "   Volume  \n",
       "0    N.A.  \n",
       "2    N.A.  \n",
       "3    N.A.  \n",
       "4    N.A.  \n",
       "5    N.A.  \n",
       "6    N.A.  \n",
       "7    N.A.  \n",
       "8    N.A.  \n",
       "9    N.A.  \n",
       "10   N.A.  "
      ]
     },
     "execution_count": 5,
     "metadata": {},
     "output_type": "execute_result"
    }
   ],
   "source": [
    "df.head(10)"
   ]
  },
  {
   "cell_type": "code",
   "execution_count": 6,
   "metadata": {},
   "outputs": [
    {
     "data": {
      "text/html": [
       "<div>\n",
       "<style scoped>\n",
       "    .dataframe tbody tr th:only-of-type {\n",
       "        vertical-align: middle;\n",
       "    }\n",
       "\n",
       "    .dataframe tbody tr th {\n",
       "        vertical-align: top;\n",
       "    }\n",
       "\n",
       "    .dataframe thead th {\n",
       "        text-align: right;\n",
       "    }\n",
       "</style>\n",
       "<table border=\"1\" class=\"dataframe\">\n",
       "  <thead>\n",
       "    <tr style=\"text-align: right;\">\n",
       "      <th></th>\n",
       "      <th>Time Interval</th>\n",
       "      <th>Close</th>\n",
       "      <th>Net Chg</th>\n",
       "      <th>Open</th>\n",
       "      <th>High</th>\n",
       "      <th>Low</th>\n",
       "      <th>Tick Count</th>\n",
       "      <th>Volume</th>\n",
       "    </tr>\n",
       "  </thead>\n",
       "  <tbody>\n",
       "    <tr>\n",
       "      <th>0</th>\n",
       "      <td>Summary</td>\n",
       "      <td>3291.14</td>\n",
       "      <td>246.07</td>\n",
       "      <td>3059.20</td>\n",
       "      <td>3318.39</td>\n",
       "      <td>2073.87</td>\n",
       "      <td>7777591.0</td>\n",
       "      <td>N.A.</td>\n",
       "    </tr>\n",
       "    <tr>\n",
       "      <th>2</th>\n",
       "      <td>02:00 - 02:30</td>\n",
       "      <td>3073.80</td>\n",
       "      <td>28.73</td>\n",
       "      <td>3059.20</td>\n",
       "      <td>3074.51</td>\n",
       "      <td>3057.36</td>\n",
       "      <td>1801.0</td>\n",
       "      <td>N.A.</td>\n",
       "    </tr>\n",
       "    <tr>\n",
       "      <th>3</th>\n",
       "      <td>02:30 - 03:00</td>\n",
       "      <td>3071.34</td>\n",
       "      <td>-2.46</td>\n",
       "      <td>3073.72</td>\n",
       "      <td>3075.41</td>\n",
       "      <td>3070.58</td>\n",
       "      <td>1799.0</td>\n",
       "      <td>N.A.</td>\n",
       "    </tr>\n",
       "    <tr>\n",
       "      <th>4</th>\n",
       "      <td>03:00 - 03:30</td>\n",
       "      <td>3080.40</td>\n",
       "      <td>9.06</td>\n",
       "      <td>3071.61</td>\n",
       "      <td>3080.56</td>\n",
       "      <td>3070.95</td>\n",
       "      <td>1793.0</td>\n",
       "      <td>N.A.</td>\n",
       "    </tr>\n",
       "    <tr>\n",
       "      <th>5</th>\n",
       "      <td>03:30 - 04:00</td>\n",
       "      <td>3085.01</td>\n",
       "      <td>4.61</td>\n",
       "      <td>3080.37</td>\n",
       "      <td>3085.01</td>\n",
       "      <td>3079.32</td>\n",
       "      <td>1799.0</td>\n",
       "      <td>N.A.</td>\n",
       "    </tr>\n",
       "    <tr>\n",
       "      <th>6</th>\n",
       "      <td>04:00 - 04:30</td>\n",
       "      <td>3083.29</td>\n",
       "      <td>-1.72</td>\n",
       "      <td>3085.38</td>\n",
       "      <td>3085.57</td>\n",
       "      <td>3081.05</td>\n",
       "      <td>1800.0</td>\n",
       "      <td>N.A.</td>\n",
       "    </tr>\n",
       "    <tr>\n",
       "      <th>7</th>\n",
       "      <td>04:30 - 05:00</td>\n",
       "      <td>3084.07</td>\n",
       "      <td>0.78</td>\n",
       "      <td>3083.37</td>\n",
       "      <td>3086.07</td>\n",
       "      <td>3082.44</td>\n",
       "      <td>1800.0</td>\n",
       "      <td>N.A.</td>\n",
       "    </tr>\n",
       "    <tr>\n",
       "      <th>8</th>\n",
       "      <td>05:00 - 05:30</td>\n",
       "      <td>3083.35</td>\n",
       "      <td>-0.72</td>\n",
       "      <td>3084.09</td>\n",
       "      <td>3086.03</td>\n",
       "      <td>3082.20</td>\n",
       "      <td>1800.0</td>\n",
       "      <td>N.A.</td>\n",
       "    </tr>\n",
       "    <tr>\n",
       "      <th>9</th>\n",
       "      <td>05:30 - 06:00</td>\n",
       "      <td>3084.51</td>\n",
       "      <td>1.16</td>\n",
       "      <td>3083.38</td>\n",
       "      <td>3085.46</td>\n",
       "      <td>3083.08</td>\n",
       "      <td>1799.0</td>\n",
       "      <td>N.A.</td>\n",
       "    </tr>\n",
       "    <tr>\n",
       "      <th>10</th>\n",
       "      <td>06:00 - 06:30</td>\n",
       "      <td>3080.95</td>\n",
       "      <td>-3.56</td>\n",
       "      <td>3084.54</td>\n",
       "      <td>3086.09</td>\n",
       "      <td>3080.26</td>\n",
       "      <td>1800.0</td>\n",
       "      <td>N.A.</td>\n",
       "    </tr>\n",
       "  </tbody>\n",
       "</table>\n",
       "</div>"
      ],
      "text/plain": [
       "    Time Interval    Close  Net Chg     Open     High      Low  Tick Count  \\\n",
       "0         Summary  3291.14   246.07  3059.20  3318.39  2073.87   7777591.0   \n",
       "2   02:00 - 02:30  3073.80    28.73  3059.20  3074.51  3057.36      1801.0   \n",
       "3   02:30 - 03:00  3071.34    -2.46  3073.72  3075.41  3070.58      1799.0   \n",
       "4   03:00 - 03:30  3080.40     9.06  3071.61  3080.56  3070.95      1793.0   \n",
       "5   03:30 - 04:00  3085.01     4.61  3080.37  3085.01  3079.32      1799.0   \n",
       "6   04:00 - 04:30  3083.29    -1.72  3085.38  3085.57  3081.05      1800.0   \n",
       "7   04:30 - 05:00  3084.07     0.78  3083.37  3086.07  3082.44      1800.0   \n",
       "8   05:00 - 05:30  3083.35    -0.72  3084.09  3086.03  3082.20      1800.0   \n",
       "9   05:30 - 06:00  3084.51     1.16  3083.38  3085.46  3083.08      1799.0   \n",
       "10  06:00 - 06:30  3080.95    -3.56  3084.54  3086.09  3080.26      1800.0   \n",
       "\n",
       "   Volume  \n",
       "0    N.A.  \n",
       "2    N.A.  \n",
       "3    N.A.  \n",
       "4    N.A.  \n",
       "5    N.A.  \n",
       "6    N.A.  \n",
       "7    N.A.  \n",
       "8    N.A.  \n",
       "9    N.A.  \n",
       "10   N.A.  "
      ]
     },
     "execution_count": 6,
     "metadata": {},
     "output_type": "execute_result"
    }
   ],
   "source": [
    "# df.index=[i for i in range(len(df))] or df.reset_index(inplace=True) to make indices in 1,2,3 order\n",
    "df.head(10)\n",
    "# print(df.loc[0])"
   ]
  },
  {
   "cell_type": "code",
   "execution_count": 7,
   "metadata": {},
   "outputs": [],
   "source": [
    "df1=df.reset_index()['Close']"
   ]
  },
  {
   "cell_type": "code",
   "execution_count": 8,
   "metadata": {},
   "outputs": [
    {
     "data": {
      "text/plain": [
       "0       3291.14\n",
       "1       3073.80\n",
       "2       3071.34\n",
       "3       3080.40\n",
       "4       3085.01\n",
       "         ...   \n",
       "4493    3287.18\n",
       "4494    3290.07\n",
       "4495    3293.35\n",
       "4496    3292.64\n",
       "4497    3291.14\n",
       "Name: Close, Length: 4498, dtype: float64"
      ]
     },
     "execution_count": 8,
     "metadata": {},
     "output_type": "execute_result"
    }
   ],
   "source": [
    "df1"
   ]
  },
  {
   "cell_type": "code",
   "execution_count": 9,
   "metadata": {},
   "outputs": [
    {
     "data": {
      "text/plain": [
       "[<matplotlib.lines.Line2D at 0x200fc811300>]"
      ]
     },
     "execution_count": 9,
     "metadata": {},
     "output_type": "execute_result"
    },
    {
     "data": {
      "image/png": "[encoded data removed]",
      "text/plain": [
       "<Figure size 640x480 with 1 Axes>"
      ]
     },
     "metadata": {},
     "output_type": "display_data"
    }
   ],
   "source": [
    "import matplotlib.pyplot as plt\n",
    "plt.plot(df1)"
   ]
  },
  {
   "cell_type": "code",
   "execution_count": 10,
   "metadata": {},
   "outputs": [],
   "source": [
    "### LSTM are sensitive to the scale of the data. so we apply MinMax scaler "
   ]
  },
  {
   "cell_type": "code",
   "execution_count": 11,
   "metadata": {},
   "outputs": [],
   "source": [
    "import numpy as np"
   ]
  },
  {
   "cell_type": "code",
   "execution_count": 12,
   "metadata": {},
   "outputs": [
    {
     "data": {
      "text/plain": [
       "0       3291.14\n",
       "1       3073.80\n",
       "2       3071.34\n",
       "3       3080.40\n",
       "4       3085.01\n",
       "         ...   \n",
       "4493    3287.18\n",
       "4494    3290.07\n",
       "4495    3293.35\n",
       "4496    3292.64\n",
       "4497    3291.14\n",
       "Name: Close, Length: 4498, dtype: float64"
      ]
     },
     "execution_count": 12,
     "metadata": {},
     "output_type": "execute_result"
    }
   ],
   "source": [
    "df1"
   ]
  },
  {
   "cell_type": "code",
   "execution_count": 13,
   "metadata": {},
   "outputs": [],
   "source": [
    "from sklearn.preprocessing import MinMaxScaler\n",
    "scaler=MinMaxScaler(feature_range=(0,1))\n",
    "df1=scaler.fit_transform(np.array(df1).reshape(-1,1))"
   ]
  },
  {
   "cell_type": "code",
   "execution_count": 14,
   "metadata": {},
   "outputs": [
    {
     "name": "stdout",
     "output_type": "stream",
     "text": [
      "[[0.98187433]\n",
      " [0.80289055]\n",
      " [0.8008647 ]\n",
      " ...\n",
      " [0.98369431]\n",
      " [0.98310961]\n",
      " [0.98187433]]\n"
     ]
    }
   ],
   "source": [
    "print(df1)"
   ]
  },
  {
   "cell_type": "code",
   "execution_count": 15,
   "metadata": {},
   "outputs": [],
   "source": [
    "##splitting dataset into train and test split\n",
    "training_size=int(len(df1)*0.65)\n",
    "test_size=len(df1)-training_size\n",
    "train_data,test_data=df1[0:training_size,:],df1[training_size:len(df1),:1]"
   ]
  },
  {
   "cell_type": "code",
   "execution_count": 16,
   "metadata": {},
   "outputs": [
    {
     "data": {
      "text/plain": [
       "(2923, 1575)"
      ]
     },
     "execution_count": 16,
     "metadata": {},
     "output_type": "execute_result"
    }
   ],
   "source": [
    "training_size,test_size"
   ]
  },
  {
   "cell_type": "code",
   "execution_count": 17,
   "metadata": {
    "scrolled": true
   },
   "outputs": [
    {
     "data": {
      "text/plain": [
       "array([[0.98187433],\n",
       "       [0.80289055],\n",
       "       [0.8008647 ],\n",
       "       ...,\n",
       "       [0.73411842],\n",
       "       [0.73271844],\n",
       "       [0.73749485]])"
      ]
     },
     "execution_count": 17,
     "metadata": {},
     "output_type": "execute_result"
    }
   ],
   "source": [
    "train_data"
   ]
  },
  {
   "cell_type": "code",
   "execution_count": 18,
   "metadata": {},
   "outputs": [
    {
     "data": {
      "text/plain": [
       "array([[0.73861484],\n",
       "       [0.740196  ],\n",
       "       [0.73959483],\n",
       "       ...,\n",
       "       [0.98369431],\n",
       "       [0.98310961],\n",
       "       [0.98187433]])"
      ]
     },
     "execution_count": 18,
     "metadata": {},
     "output_type": "execute_result"
    }
   ],
   "source": [
    "test_data"
   ]
  },
  {
   "cell_type": "code",
   "execution_count": 19,
   "metadata": {},
   "outputs": [],
   "source": [
    "import numpy\n",
    "# convert an array of values into a dataset matrix\n",
    "def create_dataset(dataset, time_step=1):\n",
    "\tdataX, dataY = [], []\n",
    "\tfor i in range(len(dataset)-time_step-1):\n",
    "\t\ta = dataset[i:(i+time_step), 0]   ###i=0, 0,1,2,3-----99   100 \n",
    "\t\tdataX.append(a)\n",
    "\t\tdataY.append(dataset[i + time_step, 0])\n",
    "\treturn numpy.array(dataX), numpy.array(dataY)"
   ]
  },
  {
   "cell_type": "code",
   "execution_count": 20,
   "metadata": {},
   "outputs": [],
   "source": [
    "# reshape into X=t,t+1,t+2,t+3 and Y=t+4\n",
    "time_step = 100\n",
    "X_train, y_train = create_dataset(train_data, time_step)\n",
    "X_test, ytest = create_dataset(test_data, time_step)"
   ]
  },
  {
   "cell_type": "code",
   "execution_count": 21,
   "metadata": {},
   "outputs": [
    {
     "name": "stdout",
     "output_type": "stream",
     "text": [
      "(2822, 100)\n",
      "(2822,)\n"
     ]
    },
    {
     "data": {
      "text/plain": [
       "(None, None)"
      ]
     },
     "execution_count": 21,
     "metadata": {},
     "output_type": "execute_result"
    }
   ],
   "source": [
    "print(X_train.shape), print(y_train.shape)"
   ]
  },
  {
   "cell_type": "code",
   "execution_count": 22,
   "metadata": {},
   "outputs": [
    {
     "name": "stdout",
     "output_type": "stream",
     "text": [
      "(1474, 100)\n",
      "(1474,)\n"
     ]
    },
    {
     "data": {
      "text/plain": [
       "(None, None)"
      ]
     },
     "execution_count": 22,
     "metadata": {},
     "output_type": "execute_result"
    }
   ],
   "source": [
    "print(X_test.shape), print(ytest.shape)"
   ]
  },
  {
   "cell_type": "code",
   "execution_count": 23,
   "metadata": {},
   "outputs": [],
   "source": [
    "# reshape input to be [samples, time steps, features] which is required for LSTM\n",
    "X_train =X_train.reshape(X_train.shape[0],X_train.shape[1] , 1)\n",
    "X_test = X_test.reshape(X_test.shape[0],X_test.shape[1] , 1)"
   ]
  },
  {
   "cell_type": "code",
   "execution_count": 24,
   "metadata": {},
   "outputs": [
    {
     "name": "stdout",
     "output_type": "stream",
     "text": [
      "(2822, 100, 1)\n"
     ]
    }
   ],
   "source": [
    "print(X_train.shape)"
   ]
  },
  {
   "cell_type": "code",
   "execution_count": 25,
   "metadata": {
    "scrolled": false
   },
   "outputs": [],
   "source": [
    "# pip install tensorflow"
   ]
  },
  {
   "cell_type": "code",
   "execution_count": 26,
   "metadata": {},
   "outputs": [],
   "source": [
    "### Create the Stacked LSTM model\n",
    "from tensorflow.keras.models import Sequential\n",
    "from tensorflow.keras.layers import Dense\n",
    "from tensorflow.keras.layers import LSTM"
   ]
  },
  {
   "cell_type": "code",
   "execution_count": 27,
   "metadata": {},
   "outputs": [],
   "source": [
    "model=Sequential()\n",
    "model.add(LSTM(50,return_sequences=True,input_shape=(100,1)))\n",
    "model.add(LSTM(50,return_sequences=True))\n",
    "model.add(LSTM(50))\n",
    "model.add(Dense(1))\n",
    "model.compile(loss='mean_squared_error',optimizer='adam')\n"
   ]
  },
  {
   "cell_type": "code",
   "execution_count": 28,
   "metadata": {
    "scrolled": true
   },
   "outputs": [
    {
     "name": "stdout",
     "output_type": "stream",
     "text": [
      "Model: \"sequential\"\n",
      "_________________________________________________________________\n",
      " Layer (type)                Output Shape              Param #   \n",
      "=================================================================\n",
      " lstm (LSTM)                 (None, 100, 50)           10400     \n",
      "                                                                 \n",
      " lstm_1 (LSTM)               (None, 100, 50)           20200     \n",
      "                                                                 \n",
      " lstm_2 (LSTM)               (None, 50)                20200     \n",
      "                                                                 \n",
      " dense (Dense)               (None, 1)                 51        \n",
      "                                                                 \n",
      "=================================================================\n",
      "Total params: 50,851\n",
      "Trainable params: 50,851\n",
      "Non-trainable params: 0\n",
      "_________________________________________________________________\n"
     ]
    }
   ],
   "source": [
    "model.summary()"
   ]
  },
  {
   "cell_type": "code",
   "execution_count": 29,
   "metadata": {},
   "outputs": [
    {
     "name": "stdout",
     "output_type": "stream",
     "text": [
      "Epoch 1/100\n",
      "45/45 [==============================] - 60s 645ms/step - loss: 0.0282 - val_loss: 0.0015\n",
      "Epoch 2/100\n",
      "45/45 [==============================] - 21s 466ms/step - loss: 0.0011 - val_loss: 4.3522e-04\n",
      "Epoch 3/100\n",
      "45/45 [==============================] - 22s 488ms/step - loss: 8.1170e-04 - val_loss: 6.8561e-04\n",
      "Epoch 4/100\n",
      "45/45 [==============================] - 22s 491ms/step - loss: 8.1061e-04 - val_loss: 3.6226e-04\n",
      "Epoch 5/100\n",
      "45/45 [==============================] - 24s 543ms/step - loss: 7.5621e-04 - val_loss: 3.4963e-04\n",
      "Epoch 6/100\n",
      "45/45 [==============================] - 25s 551ms/step - loss: 7.7050e-04 - val_loss: 3.1905e-04\n",
      "Epoch 7/100\n",
      "45/45 [==============================] - 22s 483ms/step - loss: 7.3088e-04 - val_loss: 3.7835e-04\n",
      "Epoch 8/100\n",
      "45/45 [==============================] - 22s 484ms/step - loss: 7.3443e-04 - val_loss: 3.0057e-04\n",
      "Epoch 9/100\n",
      "45/45 [==============================] - 22s 500ms/step - loss: 6.9540e-04 - val_loss: 2.7964e-04\n",
      "Epoch 10/100\n",
      "45/45 [==============================] - 23s 516ms/step - loss: 6.5250e-04 - val_loss: 3.4345e-04\n",
      "Epoch 11/100\n",
      "45/45 [==============================] - 21s 477ms/step - loss: 6.4113e-04 - val_loss: 9.0435e-04\n",
      "Epoch 12/100\n",
      "45/45 [==============================] - 22s 483ms/step - loss: 6.9549e-04 - val_loss: 2.4172e-04\n",
      "Epoch 13/100\n",
      "45/45 [==============================] - 22s 485ms/step - loss: 6.1457e-04 - val_loss: 2.3046e-04\n",
      "Epoch 14/100\n",
      "45/45 [==============================] - 22s 485ms/step - loss: 5.7977e-04 - val_loss: 2.5792e-04\n",
      "Epoch 15/100\n",
      "45/45 [==============================] - 22s 480ms/step - loss: 6.0353e-04 - val_loss: 6.9084e-04\n",
      "Epoch 16/100\n",
      "45/45 [==============================] - 22s 484ms/step - loss: 6.1359e-04 - val_loss: 4.1746e-04\n",
      "Epoch 17/100\n",
      "45/45 [==============================] - 22s 483ms/step - loss: 5.5098e-04 - val_loss: 2.0153e-04\n",
      "Epoch 18/100\n",
      "45/45 [==============================] - 21s 468ms/step - loss: 5.2458e-04 - val_loss: 4.6453e-04\n",
      "Epoch 19/100\n",
      "45/45 [==============================] - 22s 481ms/step - loss: 5.7312e-04 - val_loss: 1.8860e-04\n",
      "Epoch 20/100\n",
      "45/45 [==============================] - 22s 482ms/step - loss: 5.1499e-04 - val_loss: 2.4009e-04\n",
      "Epoch 21/100\n",
      "45/45 [==============================] - 21s 474ms/step - loss: 5.3180e-04 - val_loss: 7.8662e-04\n",
      "Epoch 22/100\n",
      "45/45 [==============================] - 25s 562ms/step - loss: 4.9926e-04 - val_loss: 1.6499e-04\n",
      "Epoch 23/100\n",
      "45/45 [==============================] - 22s 499ms/step - loss: 4.6360e-04 - val_loss: 1.9133e-04\n",
      "Epoch 24/100\n",
      "45/45 [==============================] - 23s 507ms/step - loss: 4.4315e-04 - val_loss: 1.5538e-04\n",
      "Epoch 25/100\n",
      "45/45 [==============================] - 22s 488ms/step - loss: 4.5839e-04 - val_loss: 1.5365e-04\n",
      "Epoch 26/100\n",
      "45/45 [==============================] - 22s 494ms/step - loss: 4.4218e-04 - val_loss: 4.0695e-04\n",
      "Epoch 27/100\n",
      "45/45 [==============================] - 22s 479ms/step - loss: 4.9209e-04 - val_loss: 2.9744e-04\n",
      "Epoch 28/100\n",
      "45/45 [==============================] - 22s 495ms/step - loss: 4.3574e-04 - val_loss: 3.6425e-04\n",
      "Epoch 29/100\n",
      "45/45 [==============================] - 22s 498ms/step - loss: 4.4752e-04 - val_loss: 1.6909e-04\n",
      "Epoch 30/100\n",
      "45/45 [==============================] - 23s 503ms/step - loss: 3.9132e-04 - val_loss: 1.5812e-04\n",
      "Epoch 31/100\n",
      "45/45 [==============================] - 22s 495ms/step - loss: 4.0539e-04 - val_loss: 4.1125e-04\n",
      "Epoch 32/100\n",
      "45/45 [==============================] - 22s 488ms/step - loss: 4.3680e-04 - val_loss: 1.2685e-04\n",
      "Epoch 33/100\n",
      "45/45 [==============================] - 22s 495ms/step - loss: 3.7379e-04 - val_loss: 3.1402e-04\n",
      "Epoch 34/100\n",
      "45/45 [==============================] - 23s 501ms/step - loss: 3.6712e-04 - val_loss: 1.3190e-04\n",
      "Epoch 35/100\n",
      "45/45 [==============================] - 23s 504ms/step - loss: 3.4857e-04 - val_loss: 1.1287e-04\n",
      "Epoch 36/100\n",
      "45/45 [==============================] - 22s 494ms/step - loss: 3.7454e-04 - val_loss: 3.1297e-04\n",
      "Epoch 37/100\n",
      "45/45 [==============================] - 22s 496ms/step - loss: 3.5912e-04 - val_loss: 1.4864e-04\n",
      "Epoch 38/100\n",
      "45/45 [==============================] - 22s 484ms/step - loss: 3.2538e-04 - val_loss: 1.0644e-04\n",
      "Epoch 39/100\n",
      "45/45 [==============================] - 21s 474ms/step - loss: 3.2208e-04 - val_loss: 2.4507e-04\n",
      "Epoch 40/100\n",
      "45/45 [==============================] - 20s 436ms/step - loss: 3.4984e-04 - val_loss: 2.9993e-04\n",
      "Epoch 41/100\n",
      "45/45 [==============================] - 19s 422ms/step - loss: 3.2173e-04 - val_loss: 9.6758e-05\n",
      "Epoch 42/100\n",
      "45/45 [==============================] - 18s 392ms/step - loss: 3.1179e-04 - val_loss: 2.0438e-04\n",
      "Epoch 43/100\n",
      "45/45 [==============================] - 17s 375ms/step - loss: 3.0313e-04 - val_loss: 1.0100e-04\n",
      "Epoch 44/100\n",
      "45/45 [==============================] - 15s 336ms/step - loss: 2.9880e-04 - val_loss: 2.0405e-04\n",
      "Epoch 45/100\n",
      "45/45 [==============================] - 15s 342ms/step - loss: 3.0652e-04 - val_loss: 1.7317e-04\n",
      "Epoch 46/100\n",
      "45/45 [==============================] - 15s 335ms/step - loss: 3.0059e-04 - val_loss: 1.1857e-04\n",
      "Epoch 47/100\n",
      "45/45 [==============================] - 15s 336ms/step - loss: 2.7359e-04 - val_loss: 1.4686e-04\n",
      "Epoch 48/100\n",
      "45/45 [==============================] - 15s 341ms/step - loss: 2.7746e-04 - val_loss: 2.0848e-04\n",
      "Epoch 49/100\n",
      "45/45 [==============================] - 15s 341ms/step - loss: 2.9591e-04 - val_loss: 1.5552e-04\n",
      "Epoch 50/100\n",
      "45/45 [==============================] - 15s 335ms/step - loss: 2.5116e-04 - val_loss: 9.9376e-05\n",
      "Epoch 51/100\n",
      "45/45 [==============================] - 15s 333ms/step - loss: 2.5091e-04 - val_loss: 3.3527e-04\n",
      "Epoch 52/100\n",
      "45/45 [==============================] - 15s 335ms/step - loss: 2.7435e-04 - val_loss: 3.3192e-04\n",
      "Epoch 53/100\n",
      "45/45 [==============================] - 15s 335ms/step - loss: 2.4423e-04 - val_loss: 7.8198e-05\n",
      "Epoch 54/100\n",
      "45/45 [==============================] - 15s 335ms/step - loss: 2.6894e-04 - val_loss: 5.1016e-04\n",
      "Epoch 55/100\n",
      "45/45 [==============================] - 15s 333ms/step - loss: 2.4986e-04 - val_loss: 8.6983e-05\n",
      "Epoch 56/100\n",
      "45/45 [==============================] - 15s 344ms/step - loss: 2.3175e-04 - val_loss: 7.9486e-05\n",
      "Epoch 57/100\n",
      "45/45 [==============================] - 15s 344ms/step - loss: 2.3160e-04 - val_loss: 7.7612e-05\n",
      "Epoch 58/100\n",
      "45/45 [==============================] - 15s 335ms/step - loss: 2.0647e-04 - val_loss: 3.1168e-04\n",
      "Epoch 59/100\n",
      "45/45 [==============================] - 15s 331ms/step - loss: 2.4534e-04 - val_loss: 6.8992e-05\n",
      "Epoch 60/100\n",
      "45/45 [==============================] - 14s 321ms/step - loss: 1.9787e-04 - val_loss: 6.9448e-05\n",
      "Epoch 61/100\n",
      "45/45 [==============================] - 13s 291ms/step - loss: 1.9352e-04 - val_loss: 7.3554e-05\n",
      "Epoch 62/100\n",
      "45/45 [==============================] - 11s 249ms/step - loss: 1.9472e-04 - val_loss: 5.9627e-05\n",
      "Epoch 63/100\n",
      "45/45 [==============================] - 11s 247ms/step - loss: 2.2685e-04 - val_loss: 7.1961e-05\n",
      "Epoch 64/100\n",
      "45/45 [==============================] - 11s 244ms/step - loss: 1.8263e-04 - val_loss: 8.3276e-05\n",
      "Epoch 65/100\n",
      "45/45 [==============================] - 11s 250ms/step - loss: 1.8060e-04 - val_loss: 5.5666e-04\n",
      "Epoch 66/100\n",
      "45/45 [==============================] - 11s 250ms/step - loss: 2.6324e-04 - val_loss: 9.2829e-05\n",
      "Epoch 67/100\n",
      "45/45 [==============================] - 11s 245ms/step - loss: 1.7684e-04 - val_loss: 9.1763e-05\n",
      "Epoch 68/100\n",
      "45/45 [==============================] - 11s 244ms/step - loss: 1.6537e-04 - val_loss: 1.4779e-04\n",
      "Epoch 69/100\n",
      "45/45 [==============================] - 11s 244ms/step - loss: 1.6924e-04 - val_loss: 5.0856e-05\n",
      "Epoch 70/100\n",
      "45/45 [==============================] - 11s 243ms/step - loss: 1.7328e-04 - val_loss: 1.7933e-04\n",
      "Epoch 71/100\n",
      "45/45 [==============================] - 11s 245ms/step - loss: 2.0126e-04 - val_loss: 2.7791e-04\n",
      "Epoch 72/100\n",
      "45/45 [==============================] - 11s 242ms/step - loss: 1.7645e-04 - val_loss: 9.2383e-05\n",
      "Epoch 73/100\n",
      "45/45 [==============================] - 11s 242ms/step - loss: 1.5464e-04 - val_loss: 6.0141e-05\n",
      "Epoch 74/100\n",
      "45/45 [==============================] - 11s 243ms/step - loss: 1.6402e-04 - val_loss: 6.2143e-04\n"
     ]
    },
    {
     "name": "stdout",
     "output_type": "stream",
     "text": [
      "Epoch 75/100\n",
      "45/45 [==============================] - 11s 244ms/step - loss: 1.9060e-04 - val_loss: 1.8549e-04\n",
      "Epoch 76/100\n",
      "45/45 [==============================] - 11s 242ms/step - loss: 1.5735e-04 - val_loss: 6.5689e-05\n",
      "Epoch 77/100\n",
      "45/45 [==============================] - 11s 243ms/step - loss: 1.4023e-04 - val_loss: 2.8840e-04\n",
      "Epoch 78/100\n",
      "45/45 [==============================] - 11s 243ms/step - loss: 1.6762e-04 - val_loss: 6.6895e-05\n",
      "Epoch 79/100\n",
      "45/45 [==============================] - 11s 248ms/step - loss: 1.5339e-04 - val_loss: 1.3888e-04\n",
      "Epoch 80/100\n",
      "45/45 [==============================] - 11s 244ms/step - loss: 1.7397e-04 - val_loss: 2.5659e-04\n",
      "Epoch 81/100\n",
      "45/45 [==============================] - 11s 246ms/step - loss: 1.7226e-04 - val_loss: 1.2221e-04\n",
      "Epoch 82/100\n",
      "45/45 [==============================] - 11s 247ms/step - loss: 1.4887e-04 - val_loss: 5.1758e-05\n",
      "Epoch 83/100\n",
      "45/45 [==============================] - 10s 222ms/step - loss: 1.6044e-04 - val_loss: 6.3144e-05\n",
      "Epoch 84/100\n",
      "45/45 [==============================] - 8s 189ms/step - loss: 1.4290e-04 - val_loss: 4.6138e-05\n",
      "Epoch 85/100\n",
      "45/45 [==============================] - 8s 173ms/step - loss: 1.2721e-04 - val_loss: 5.0724e-05\n",
      "Epoch 86/100\n",
      "45/45 [==============================] - 8s 173ms/step - loss: 1.3747e-04 - val_loss: 8.9764e-05\n",
      "Epoch 87/100\n",
      "45/45 [==============================] - 8s 173ms/step - loss: 1.6205e-04 - val_loss: 2.0565e-04\n",
      "Epoch 88/100\n",
      "45/45 [==============================] - 8s 178ms/step - loss: 1.4460e-04 - val_loss: 5.9806e-05\n",
      "Epoch 89/100\n",
      "45/45 [==============================] - 8s 177ms/step - loss: 1.4354e-04 - val_loss: 3.4466e-04\n",
      "Epoch 90/100\n",
      "45/45 [==============================] - 8s 174ms/step - loss: 1.2521e-04 - val_loss: 5.8560e-05\n",
      "Epoch 91/100\n",
      "45/45 [==============================] - 8s 173ms/step - loss: 1.1604e-04 - val_loss: 4.6425e-05\n",
      "Epoch 92/100\n",
      "45/45 [==============================] - 8s 173ms/step - loss: 1.1952e-04 - val_loss: 1.8099e-04\n",
      "Epoch 93/100\n",
      "45/45 [==============================] - 8s 173ms/step - loss: 1.3381e-04 - val_loss: 4.5242e-05\n",
      "Epoch 94/100\n",
      "45/45 [==============================] - 8s 173ms/step - loss: 1.2157e-04 - val_loss: 1.5996e-04\n",
      "Epoch 95/100\n",
      "45/45 [==============================] - 8s 173ms/step - loss: 1.2923e-04 - val_loss: 1.4595e-04\n",
      "Epoch 96/100\n",
      "45/45 [==============================] - 8s 173ms/step - loss: 1.1480e-04 - val_loss: 6.0114e-05\n",
      "Epoch 97/100\n",
      "45/45 [==============================] - 8s 175ms/step - loss: 1.1503e-04 - val_loss: 4.1894e-05\n",
      "Epoch 98/100\n",
      "45/45 [==============================] - 8s 174ms/step - loss: 1.1047e-04 - val_loss: 4.8876e-05\n",
      "Epoch 99/100\n",
      "45/45 [==============================] - 8s 180ms/step - loss: 1.2813e-04 - val_loss: 3.9083e-05\n",
      "Epoch 100/100\n",
      "45/45 [==============================] - 8s 173ms/step - loss: 1.2649e-04 - val_loss: 1.0917e-04\n"
     ]
    },
    {
     "data": {
      "text/plain": [
       "<keras.callbacks.History at 0x200a90d73a0>"
      ]
     },
     "execution_count": 29,
     "metadata": {},
     "output_type": "execute_result"
    }
   ],
   "source": [
    "model.fit(X_train,y_train,validation_data=(X_test,ytest),epochs=100,batch_size=64,verbose=1)"
   ]
  },
  {
   "cell_type": "code",
   "execution_count": 30,
   "metadata": {},
   "outputs": [],
   "source": [
    "import tensorflow as tf"
   ]
  },
  {
   "cell_type": "code",
   "execution_count": 31,
   "metadata": {},
   "outputs": [
    {
     "data": {
      "text/plain": [
       "'2.12.0'"
      ]
     },
     "execution_count": 31,
     "metadata": {},
     "output_type": "execute_result"
    }
   ],
   "source": [
    "tf.__version__"
   ]
  },
  {
   "cell_type": "code",
   "execution_count": 32,
   "metadata": {},
   "outputs": [
    {
     "name": "stdout",
     "output_type": "stream",
     "text": [
      "89/89 [==============================] - 3s 28ms/step\n",
      "47/47 [==============================] - 1s 28ms/step\n"
     ]
    }
   ],
   "source": [
    "### Lets Do the prediction and check performance metrics\n",
    "train_predict=model.predict(X_train)\n",
    "test_predict=model.predict(X_test)"
   ]
  },
  {
   "cell_type": "code",
   "execution_count": 33,
   "metadata": {},
   "outputs": [
    {
     "data": {
      "text/plain": [
       "(2822, 1)"
      ]
     },
     "execution_count": 33,
     "metadata": {},
     "output_type": "execute_result"
    }
   ],
   "source": [
    "train_predict.shape"
   ]
  },
  {
   "cell_type": "code",
   "execution_count": 34,
   "metadata": {},
   "outputs": [],
   "source": [
    "##Transformback to original form\n",
    "train_predict=scaler.inverse_transform(train_predict)\n",
    "test_predict=scaler.inverse_transform(test_predict)"
   ]
  },
  {
   "cell_type": "code",
   "execution_count": 35,
   "metadata": {},
   "outputs": [
    {
     "data": {
      "text/plain": [
       "2803.596512058741"
      ]
     },
     "execution_count": 35,
     "metadata": {},
     "output_type": "execute_result"
    }
   ],
   "source": [
    "### Calculate RMSE performance metrics\n",
    "import math\n",
    "from sklearn.metrics import mean_squared_error\n",
    "math.sqrt(mean_squared_error(y_train,train_predict))"
   ]
  },
  {
   "cell_type": "code",
   "execution_count": 36,
   "metadata": {},
   "outputs": [
    {
     "data": {
      "text/plain": [
       "2989.6211688493336"
      ]
     },
     "execution_count": 36,
     "metadata": {},
     "output_type": "execute_result"
    }
   ],
   "source": [
    "### Test Data RMSE\n",
    "math.sqrt(mean_squared_error(ytest,test_predict))"
   ]
  },
  {
   "cell_type": "code",
   "execution_count": 37,
   "metadata": {},
   "outputs": [
    {
     "data": {
      "image/png": "[encoded data removed]",
      "text/plain": [
       "<Figure size 640x480 with 1 Axes>"
      ]
     },
     "metadata": {},
     "output_type": "display_data"
    }
   ],
   "source": [
    "### Plotting \n",
    "# shift train predictions for plotting\n",
    "look_back=100\n",
    "trainPredictPlot = numpy.empty_like(df1)\n",
    "trainPredictPlot[:, :] = np.nan\n",
    "trainPredictPlot[look_back:len(train_predict)+look_back, :] = train_predict\n",
    "# shift test predictions for plotting\n",
    "testPredictPlot = numpy.empty_like(df1)\n",
    "testPredictPlot[:, :] = numpy.nan\n",
    "testPredictPlot[len(train_predict)+(look_back*2)+1:len(df1)-1, :] = test_predict\n",
    "# plot baseline and predictions\n",
    "plt.plot(scaler.inverse_transform(df1))\n",
    "plt.plot(trainPredictPlot)\n",
    "plt.plot(testPredictPlot)\n",
    "plt.legend(['data set','train','test'])\n",
    "plt.show()"
   ]
  },
  {
   "cell_type": "code",
   "execution_count": 38,
   "metadata": {},
   "outputs": [
    {
     "data": {
      "text/plain": [
       "1575"
      ]
     },
     "execution_count": 38,
     "metadata": {},
     "output_type": "execute_result"
    }
   ],
   "source": [
    "len(test_data)"
   ]
  },
  {
   "cell_type": "code",
   "execution_count": 39,
   "metadata": {},
   "outputs": [
    {
     "data": {
      "text/plain": [
       "(1, 100)"
      ]
     },
     "execution_count": 39,
     "metadata": {},
     "output_type": "execute_result"
    }
   ],
   "source": [
    "x_input=test_data[len(test_data)-100:].reshape(1,-1)\n",
    "x_input.shape\n"
   ]
  },
  {
   "cell_type": "code",
   "execution_count": null,
   "metadata": {},
   "outputs": [],
   "source": []
  },
  {
   "cell_type": "code",
   "execution_count": null,
   "metadata": {},
   "outputs": [],
   "source": []
  },
  {
   "cell_type": "code",
   "execution_count": 40,
   "metadata": {},
   "outputs": [],
   "source": [
    "temp_input=list(x_input)\n",
    "temp_input=temp_input[0].tolist()"
   ]
  },
  {
   "cell_type": "code",
   "execution_count": 41,
   "metadata": {},
   "outputs": [
    {
     "data": {
      "text/plain": [
       "[0.9367125092645971,\n",
       " 0.9350242938318374,\n",
       " 0.9317384501358807,\n",
       " 0.9312525734991355,\n",
       " 0.9336737214856297,\n",
       " 0.9407230503170552,\n",
       " 0.9410771637980728,\n",
       " 0.9486453100551757,\n",
       " 0.9457300502347028,\n",
       " 0.9465041587746028,\n",
       " 0.9410936341925389,\n",
       " 0.9447335913695132,\n",
       " 0.937848966482747,\n",
       " 0.9398912953965244,\n",
       " 0.9421971506217575,\n",
       " 0.9411101045870045,\n",
       " 0.934818413901013,\n",
       " 0.9331137280737871,\n",
       " 0.9397924730297289,\n",
       " 0.940788931894919,\n",
       " 0.9385818990364818,\n",
       " 0.9375854401712922,\n",
       " 0.936992505970518,\n",
       " 0.9357160503994071,\n",
       " 0.9376430865519225,\n",
       " 0.9378983776661447,\n",
       " 0.9341925389113066,\n",
       " 0.9363007494029483,\n",
       " 0.9344890060116939,\n",
       " 0.9346701803508193,\n",
       " 0.9359548711191632,\n",
       " 0.9356748744132419,\n",
       " 0.9353042905377582,\n",
       " 0.9371736803096433,\n",
       " 0.9366548628839659,\n",
       " 0.9399571769743882,\n",
       " 0.9395618875072058,\n",
       " 0.9383430783167257,\n",
       " 0.9393148315902167,\n",
       " 0.9404348184139009,\n",
       " 0.9421559746355923,\n",
       " 0.9428724367948611,\n",
       " 0.9430453759367534,\n",
       " 0.9453100551758213,\n",
       " 0.9464135716050399,\n",
       " 0.9453759367536851,\n",
       " 0.958255785226056,\n",
       " 0.9559334596063573,\n",
       " 0.9586016635098411,\n",
       " 0.9584534299596474,\n",
       " 0.9594828296137692,\n",
       " 0.9611381042575968,\n",
       " 0.9596392983611954,\n",
       " 0.95175821460924,\n",
       " 0.95175821460924,\n",
       " 0.9531993741250102,\n",
       " 0.9513876307337559,\n",
       " 0.9553569958000492,\n",
       " 0.9531911389277772,\n",
       " 0.95411348101787,\n",
       " 0.95510993988306,\n",
       " 0.957926377336737,\n",
       " 0.9594910648110022,\n",
       " 0.9597545911224574,\n",
       " 0.9673721485629581,\n",
       " 0.9717779790825989,\n",
       " 0.9656921683274313,\n",
       " 0.9617475088528367,\n",
       " 0.9662933377254381,\n",
       " 0.9650415877460263,\n",
       " 0.968673309725768,\n",
       " 0.968673309725768,\n",
       " 0.9684180186115459,\n",
       " 0.9711768096845921,\n",
       " 0.9689368360372228,\n",
       " 0.9676439100716463,\n",
       " 0.9683521370336816,\n",
       " 0.9703038787778966,\n",
       " 0.9692744791237748,\n",
       " 0.9672239150127644,\n",
       " 0.9671827390265997,\n",
       " 0.9685497817672735,\n",
       " 0.977764967470971,\n",
       " 0.973647368854484,\n",
       " 0.9777320266820388,\n",
       " 0.9750802931730211,\n",
       " 0.9737214856295804,\n",
       " 0.9758379313184551,\n",
       " 0.9766532158445194,\n",
       " 0.9752861731038456,\n",
       " 0.9782014329243185,\n",
       " 0.979280243761838,\n",
       " 0.9797496500041176,\n",
       " 0.9775096763567488,\n",
       " 0.9774273243844189,\n",
       " 0.9786131927859669,\n",
       " 0.9809931647862968,\n",
       " 0.9836943094787118,\n",
       " 0.9831096104751706,\n",
       " 0.9818743308902245]"
      ]
     },
     "execution_count": 41,
     "metadata": {},
     "output_type": "execute_result"
    }
   ],
   "source": [
    "temp_input"
   ]
  },
  {
   "cell_type": "code",
   "execution_count": 42,
   "metadata": {},
   "outputs": [
    {
     "name": "stdout",
     "output_type": "stream",
     "text": [
      "[0.9679657]\n",
      "101\n",
      "1 day input [0.93502429 0.93173845 0.93125257 0.93367372 0.94072305 0.94107716\n",
      " 0.94864531 0.94573005 0.94650416 0.94109363 0.94473359 0.93784897\n",
      " 0.9398913  0.94219715 0.9411101  0.93481841 0.93311373 0.93979247\n",
      " 0.94078893 0.9385819  0.93758544 0.93699251 0.93571605 0.93764309\n",
      " 0.93789838 0.93419254 0.93630075 0.93448901 0.93467018 0.93595487\n",
      " 0.93567487 0.93530429 0.93717368 0.93665486 0.93995718 0.93956189\n",
      " 0.93834308 0.93931483 0.94043482 0.94215597 0.94287244 0.94304538\n",
      " 0.94531006 0.94641357 0.94537594 0.95825579 0.95593346 0.95860166\n",
      " 0.95845343 0.95948283 0.9611381  0.9596393  0.95175821 0.95175821\n",
      " 0.95319937 0.95138763 0.955357   0.95319114 0.95411348 0.95510994\n",
      " 0.95792638 0.95949106 0.95975459 0.96737215 0.97177798 0.96569217\n",
      " 0.96174751 0.96629334 0.96504159 0.96867331 0.96867331 0.96841802\n",
      " 0.97117681 0.96893684 0.96764391 0.96835214 0.97030388 0.96927448\n",
      " 0.96722392 0.96718274 0.96854978 0.97776497 0.97364737 0.97773203\n",
      " 0.97508029 0.97372149 0.97583793 0.97665322 0.97528617 0.97820143\n",
      " 0.97928024 0.97974965 0.97750968 0.97742732 0.97861319 0.98099316\n",
      " 0.98369431 0.98310961 0.98187433 0.96796572]\n",
      "1 day output [[0.9550105]]\n",
      "2 day input [0.93173845 0.93125257 0.93367372 0.94072305 0.94107716 0.94864531\n",
      " 0.94573005 0.94650416 0.94109363 0.94473359 0.93784897 0.9398913\n",
      " 0.94219715 0.9411101  0.93481841 0.93311373 0.93979247 0.94078893\n",
      " 0.9385819  0.93758544 0.93699251 0.93571605 0.93764309 0.93789838\n",
      " 0.93419254 0.93630075 0.93448901 0.93467018 0.93595487 0.93567487\n",
      " 0.93530429 0.93717368 0.93665486 0.93995718 0.93956189 0.93834308\n",
      " 0.93931483 0.94043482 0.94215597 0.94287244 0.94304538 0.94531006\n",
      " 0.94641357 0.94537594 0.95825579 0.95593346 0.95860166 0.95845343\n",
      " 0.95948283 0.9611381  0.9596393  0.95175821 0.95175821 0.95319937\n",
      " 0.95138763 0.955357   0.95319114 0.95411348 0.95510994 0.95792638\n",
      " 0.95949106 0.95975459 0.96737215 0.97177798 0.96569217 0.96174751\n",
      " 0.96629334 0.96504159 0.96867331 0.96867331 0.96841802 0.97117681\n",
      " 0.96893684 0.96764391 0.96835214 0.97030388 0.96927448 0.96722392\n",
      " 0.96718274 0.96854978 0.97776497 0.97364737 0.97773203 0.97508029\n",
      " 0.97372149 0.97583793 0.97665322 0.97528617 0.97820143 0.97928024\n",
      " 0.97974965 0.97750968 0.97742732 0.97861319 0.98099316 0.98369431\n",
      " 0.98310961 0.98187433 0.96796572 0.95501047]\n",
      "2 day output [[0.9444062]]\n",
      "3 day input [0.93125257 0.93367372 0.94072305 0.94107716 0.94864531 0.94573005\n",
      " 0.94650416 0.94109363 0.94473359 0.93784897 0.9398913  0.94219715\n",
      " 0.9411101  0.93481841 0.93311373 0.93979247 0.94078893 0.9385819\n",
      " 0.93758544 0.93699251 0.93571605 0.93764309 0.93789838 0.93419254\n",
      " 0.93630075 0.93448901 0.93467018 0.93595487 0.93567487 0.93530429\n",
      " 0.93717368 0.93665486 0.93995718 0.93956189 0.93834308 0.93931483\n",
      " 0.94043482 0.94215597 0.94287244 0.94304538 0.94531006 0.94641357\n",
      " 0.94537594 0.95825579 0.95593346 0.95860166 0.95845343 0.95948283\n",
      " 0.9611381  0.9596393  0.95175821 0.95175821 0.95319937 0.95138763\n",
      " 0.955357   0.95319114 0.95411348 0.95510994 0.95792638 0.95949106\n",
      " 0.95975459 0.96737215 0.97177798 0.96569217 0.96174751 0.96629334\n",
      " 0.96504159 0.96867331 0.96867331 0.96841802 0.97117681 0.96893684\n",
      " 0.96764391 0.96835214 0.97030388 0.96927448 0.96722392 0.96718274\n",
      " 0.96854978 0.97776497 0.97364737 0.97773203 0.97508029 0.97372149\n",
      " 0.97583793 0.97665322 0.97528617 0.97820143 0.97928024 0.97974965\n",
      " 0.97750968 0.97742732 0.97861319 0.98099316 0.98369431 0.98310961\n",
      " 0.98187433 0.96796572 0.95501047 0.94440621]\n",
      "3 day output [[0.9359493]]\n",
      "4 day input [0.93367372 0.94072305 0.94107716 0.94864531 0.94573005 0.94650416\n",
      " 0.94109363 0.94473359 0.93784897 0.9398913  0.94219715 0.9411101\n",
      " 0.93481841 0.93311373 0.93979247 0.94078893 0.9385819  0.93758544\n",
      " 0.93699251 0.93571605 0.93764309 0.93789838 0.93419254 0.93630075\n",
      " 0.93448901 0.93467018 0.93595487 0.93567487 0.93530429 0.93717368\n",
      " 0.93665486 0.93995718 0.93956189 0.93834308 0.93931483 0.94043482\n",
      " 0.94215597 0.94287244 0.94304538 0.94531006 0.94641357 0.94537594\n",
      " 0.95825579 0.95593346 0.95860166 0.95845343 0.95948283 0.9611381\n",
      " 0.9596393  0.95175821 0.95175821 0.95319937 0.95138763 0.955357\n",
      " 0.95319114 0.95411348 0.95510994 0.95792638 0.95949106 0.95975459\n",
      " 0.96737215 0.97177798 0.96569217 0.96174751 0.96629334 0.96504159\n",
      " 0.96867331 0.96867331 0.96841802 0.97117681 0.96893684 0.96764391\n",
      " 0.96835214 0.97030388 0.96927448 0.96722392 0.96718274 0.96854978\n",
      " 0.97776497 0.97364737 0.97773203 0.97508029 0.97372149 0.97583793\n",
      " 0.97665322 0.97528617 0.97820143 0.97928024 0.97974965 0.97750968\n",
      " 0.97742732 0.97861319 0.98099316 0.98369431 0.98310961 0.98187433\n",
      " 0.96796572 0.95501047 0.94440621 0.93594933]\n",
      "4 day output [[0.92884916]]\n",
      "5 day input [0.94072305 0.94107716 0.94864531 0.94573005 0.94650416 0.94109363\n",
      " 0.94473359 0.93784897 0.9398913  0.94219715 0.9411101  0.93481841\n",
      " 0.93311373 0.93979247 0.94078893 0.9385819  0.93758544 0.93699251\n",
      " 0.93571605 0.93764309 0.93789838 0.93419254 0.93630075 0.93448901\n",
      " 0.93467018 0.93595487 0.93567487 0.93530429 0.93717368 0.93665486\n",
      " 0.93995718 0.93956189 0.93834308 0.93931483 0.94043482 0.94215597\n",
      " 0.94287244 0.94304538 0.94531006 0.94641357 0.94537594 0.95825579\n",
      " 0.95593346 0.95860166 0.95845343 0.95948283 0.9611381  0.9596393\n",
      " 0.95175821 0.95175821 0.95319937 0.95138763 0.955357   0.95319114\n",
      " 0.95411348 0.95510994 0.95792638 0.95949106 0.95975459 0.96737215\n",
      " 0.97177798 0.96569217 0.96174751 0.96629334 0.96504159 0.96867331\n",
      " 0.96867331 0.96841802 0.97117681 0.96893684 0.96764391 0.96835214\n",
      " 0.97030388 0.96927448 0.96722392 0.96718274 0.96854978 0.97776497\n",
      " 0.97364737 0.97773203 0.97508029 0.97372149 0.97583793 0.97665322\n",
      " 0.97528617 0.97820143 0.97928024 0.97974965 0.97750968 0.97742732\n",
      " 0.97861319 0.98099316 0.98369431 0.98310961 0.98187433 0.96796572\n",
      " 0.95501047 0.94440621 0.93594933 0.92884916]\n",
      "5 day output [[0.9220742]]\n",
      "6 day input [0.94107716 0.94864531 0.94573005 0.94650416 0.94109363 0.94473359\n",
      " 0.93784897 0.9398913  0.94219715 0.9411101  0.93481841 0.93311373\n",
      " 0.93979247 0.94078893 0.9385819  0.93758544 0.93699251 0.93571605\n",
      " 0.93764309 0.93789838 0.93419254 0.93630075 0.93448901 0.93467018\n",
      " 0.93595487 0.93567487 0.93530429 0.93717368 0.93665486 0.93995718\n",
      " 0.93956189 0.93834308 0.93931483 0.94043482 0.94215597 0.94287244\n",
      " 0.94304538 0.94531006 0.94641357 0.94537594 0.95825579 0.95593346\n",
      " 0.95860166 0.95845343 0.95948283 0.9611381  0.9596393  0.95175821\n",
      " 0.95175821 0.95319937 0.95138763 0.955357   0.95319114 0.95411348\n",
      " 0.95510994 0.95792638 0.95949106 0.95975459 0.96737215 0.97177798\n",
      " 0.96569217 0.96174751 0.96629334 0.96504159 0.96867331 0.96867331\n",
      " 0.96841802 0.97117681 0.96893684 0.96764391 0.96835214 0.97030388\n",
      " 0.96927448 0.96722392 0.96718274 0.96854978 0.97776497 0.97364737\n",
      " 0.97773203 0.97508029 0.97372149 0.97583793 0.97665322 0.97528617\n",
      " 0.97820143 0.97928024 0.97974965 0.97750968 0.97742732 0.97861319\n",
      " 0.98099316 0.98369431 0.98310961 0.98187433 0.96796572 0.95501047\n",
      " 0.94440621 0.93594933 0.92884916 0.9220742 ]\n",
      "6 day output [[0.9151013]]\n",
      "7 day input [0.94864531 0.94573005 0.94650416 0.94109363 0.94473359 0.93784897\n",
      " 0.9398913  0.94219715 0.9411101  0.93481841 0.93311373 0.93979247\n",
      " 0.94078893 0.9385819  0.93758544 0.93699251 0.93571605 0.93764309\n",
      " 0.93789838 0.93419254 0.93630075 0.93448901 0.93467018 0.93595487\n",
      " 0.93567487 0.93530429 0.93717368 0.93665486 0.93995718 0.93956189\n",
      " 0.93834308 0.93931483 0.94043482 0.94215597 0.94287244 0.94304538\n",
      " 0.94531006 0.94641357 0.94537594 0.95825579 0.95593346 0.95860166\n",
      " 0.95845343 0.95948283 0.9611381  0.9596393  0.95175821 0.95175821\n",
      " 0.95319937 0.95138763 0.955357   0.95319114 0.95411348 0.95510994\n",
      " 0.95792638 0.95949106 0.95975459 0.96737215 0.97177798 0.96569217\n",
      " 0.96174751 0.96629334 0.96504159 0.96867331 0.96867331 0.96841802\n",
      " 0.97117681 0.96893684 0.96764391 0.96835214 0.97030388 0.96927448\n",
      " 0.96722392 0.96718274 0.96854978 0.97776497 0.97364737 0.97773203\n",
      " 0.97508029 0.97372149 0.97583793 0.97665322 0.97528617 0.97820143\n",
      " 0.97928024 0.97974965 0.97750968 0.97742732 0.97861319 0.98099316\n",
      " 0.98369431 0.98310961 0.98187433 0.96796572 0.95501047 0.94440621\n",
      " 0.93594933 0.92884916 0.9220742  0.91510129]\n",
      "7 day output [[0.90786517]]\n",
      "8 day input [0.94573005 0.94650416 0.94109363 0.94473359 0.93784897 0.9398913\n",
      " 0.94219715 0.9411101  0.93481841 0.93311373 0.93979247 0.94078893\n",
      " 0.9385819  0.93758544 0.93699251 0.93571605 0.93764309 0.93789838\n",
      " 0.93419254 0.93630075 0.93448901 0.93467018 0.93595487 0.93567487\n",
      " 0.93530429 0.93717368 0.93665486 0.93995718 0.93956189 0.93834308\n",
      " 0.93931483 0.94043482 0.94215597 0.94287244 0.94304538 0.94531006\n",
      " 0.94641357 0.94537594 0.95825579 0.95593346 0.95860166 0.95845343\n",
      " 0.95948283 0.9611381  0.9596393  0.95175821 0.95175821 0.95319937\n",
      " 0.95138763 0.955357   0.95319114 0.95411348 0.95510994 0.95792638\n",
      " 0.95949106 0.95975459 0.96737215 0.97177798 0.96569217 0.96174751\n",
      " 0.96629334 0.96504159 0.96867331 0.96867331 0.96841802 0.97117681\n",
      " 0.96893684 0.96764391 0.96835214 0.97030388 0.96927448 0.96722392\n",
      " 0.96718274 0.96854978 0.97776497 0.97364737 0.97773203 0.97508029\n",
      " 0.97372149 0.97583793 0.97665322 0.97528617 0.97820143 0.97928024\n",
      " 0.97974965 0.97750968 0.97742732 0.97861319 0.98099316 0.98369431\n",
      " 0.98310961 0.98187433 0.96796572 0.95501047 0.94440621 0.93594933\n",
      " 0.92884916 0.9220742  0.91510129 0.90786517]\n"
     ]
    },
    {
     "name": "stdout",
     "output_type": "stream",
     "text": [
      "8 day output [[0.9005193]]\n",
      "9 day input [0.94650416 0.94109363 0.94473359 0.93784897 0.9398913  0.94219715\n",
      " 0.9411101  0.93481841 0.93311373 0.93979247 0.94078893 0.9385819\n",
      " 0.93758544 0.93699251 0.93571605 0.93764309 0.93789838 0.93419254\n",
      " 0.93630075 0.93448901 0.93467018 0.93595487 0.93567487 0.93530429\n",
      " 0.93717368 0.93665486 0.93995718 0.93956189 0.93834308 0.93931483\n",
      " 0.94043482 0.94215597 0.94287244 0.94304538 0.94531006 0.94641357\n",
      " 0.94537594 0.95825579 0.95593346 0.95860166 0.95845343 0.95948283\n",
      " 0.9611381  0.9596393  0.95175821 0.95175821 0.95319937 0.95138763\n",
      " 0.955357   0.95319114 0.95411348 0.95510994 0.95792638 0.95949106\n",
      " 0.95975459 0.96737215 0.97177798 0.96569217 0.96174751 0.96629334\n",
      " 0.96504159 0.96867331 0.96867331 0.96841802 0.97117681 0.96893684\n",
      " 0.96764391 0.96835214 0.97030388 0.96927448 0.96722392 0.96718274\n",
      " 0.96854978 0.97776497 0.97364737 0.97773203 0.97508029 0.97372149\n",
      " 0.97583793 0.97665322 0.97528617 0.97820143 0.97928024 0.97974965\n",
      " 0.97750968 0.97742732 0.97861319 0.98099316 0.98369431 0.98310961\n",
      " 0.98187433 0.96796572 0.95501047 0.94440621 0.93594933 0.92884916\n",
      " 0.9220742  0.91510129 0.90786517 0.90051931]\n",
      "9 day output [[0.89323705]]\n",
      "10 day input [0.94109363 0.94473359 0.93784897 0.9398913  0.94219715 0.9411101\n",
      " 0.93481841 0.93311373 0.93979247 0.94078893 0.9385819  0.93758544\n",
      " 0.93699251 0.93571605 0.93764309 0.93789838 0.93419254 0.93630075\n",
      " 0.93448901 0.93467018 0.93595487 0.93567487 0.93530429 0.93717368\n",
      " 0.93665486 0.93995718 0.93956189 0.93834308 0.93931483 0.94043482\n",
      " 0.94215597 0.94287244 0.94304538 0.94531006 0.94641357 0.94537594\n",
      " 0.95825579 0.95593346 0.95860166 0.95845343 0.95948283 0.9611381\n",
      " 0.9596393  0.95175821 0.95175821 0.95319937 0.95138763 0.955357\n",
      " 0.95319114 0.95411348 0.95510994 0.95792638 0.95949106 0.95975459\n",
      " 0.96737215 0.97177798 0.96569217 0.96174751 0.96629334 0.96504159\n",
      " 0.96867331 0.96867331 0.96841802 0.97117681 0.96893684 0.96764391\n",
      " 0.96835214 0.97030388 0.96927448 0.96722392 0.96718274 0.96854978\n",
      " 0.97776497 0.97364737 0.97773203 0.97508029 0.97372149 0.97583793\n",
      " 0.97665322 0.97528617 0.97820143 0.97928024 0.97974965 0.97750968\n",
      " 0.97742732 0.97861319 0.98099316 0.98369431 0.98310961 0.98187433\n",
      " 0.96796572 0.95501047 0.94440621 0.93594933 0.92884916 0.9220742\n",
      " 0.91510129 0.90786517 0.90051931 0.89323705]\n",
      "10 day output [[0.8861231]]\n",
      "11 day input [0.94473359 0.93784897 0.9398913  0.94219715 0.9411101  0.93481841\n",
      " 0.93311373 0.93979247 0.94078893 0.9385819  0.93758544 0.93699251\n",
      " 0.93571605 0.93764309 0.93789838 0.93419254 0.93630075 0.93448901\n",
      " 0.93467018 0.93595487 0.93567487 0.93530429 0.93717368 0.93665486\n",
      " 0.93995718 0.93956189 0.93834308 0.93931483 0.94043482 0.94215597\n",
      " 0.94287244 0.94304538 0.94531006 0.94641357 0.94537594 0.95825579\n",
      " 0.95593346 0.95860166 0.95845343 0.95948283 0.9611381  0.9596393\n",
      " 0.95175821 0.95175821 0.95319937 0.95138763 0.955357   0.95319114\n",
      " 0.95411348 0.95510994 0.95792638 0.95949106 0.95975459 0.96737215\n",
      " 0.97177798 0.96569217 0.96174751 0.96629334 0.96504159 0.96867331\n",
      " 0.96867331 0.96841802 0.97117681 0.96893684 0.96764391 0.96835214\n",
      " 0.97030388 0.96927448 0.96722392 0.96718274 0.96854978 0.97776497\n",
      " 0.97364737 0.97773203 0.97508029 0.97372149 0.97583793 0.97665322\n",
      " 0.97528617 0.97820143 0.97928024 0.97974965 0.97750968 0.97742732\n",
      " 0.97861319 0.98099316 0.98369431 0.98310961 0.98187433 0.96796572\n",
      " 0.95501047 0.94440621 0.93594933 0.92884916 0.9220742  0.91510129\n",
      " 0.90786517 0.90051931 0.89323705 0.88612312]\n",
      "11 day output [[0.8792109]]\n",
      "12 day input [0.93784897 0.9398913  0.94219715 0.9411101  0.93481841 0.93311373\n",
      " 0.93979247 0.94078893 0.9385819  0.93758544 0.93699251 0.93571605\n",
      " 0.93764309 0.93789838 0.93419254 0.93630075 0.93448901 0.93467018\n",
      " 0.93595487 0.93567487 0.93530429 0.93717368 0.93665486 0.93995718\n",
      " 0.93956189 0.93834308 0.93931483 0.94043482 0.94215597 0.94287244\n",
      " 0.94304538 0.94531006 0.94641357 0.94537594 0.95825579 0.95593346\n",
      " 0.95860166 0.95845343 0.95948283 0.9611381  0.9596393  0.95175821\n",
      " 0.95175821 0.95319937 0.95138763 0.955357   0.95319114 0.95411348\n",
      " 0.95510994 0.95792638 0.95949106 0.95975459 0.96737215 0.97177798\n",
      " 0.96569217 0.96174751 0.96629334 0.96504159 0.96867331 0.96867331\n",
      " 0.96841802 0.97117681 0.96893684 0.96764391 0.96835214 0.97030388\n",
      " 0.96927448 0.96722392 0.96718274 0.96854978 0.97776497 0.97364737\n",
      " 0.97773203 0.97508029 0.97372149 0.97583793 0.97665322 0.97528617\n",
      " 0.97820143 0.97928024 0.97974965 0.97750968 0.97742732 0.97861319\n",
      " 0.98099316 0.98369431 0.98310961 0.98187433 0.96796572 0.95501047\n",
      " 0.94440621 0.93594933 0.92884916 0.9220742  0.91510129 0.90786517\n",
      " 0.90051931 0.89323705 0.88612312 0.87921089]\n",
      "12 day output [[0.87249154]]\n",
      "13 day input [0.9398913  0.94219715 0.9411101  0.93481841 0.93311373 0.93979247\n",
      " 0.94078893 0.9385819  0.93758544 0.93699251 0.93571605 0.93764309\n",
      " 0.93789838 0.93419254 0.93630075 0.93448901 0.93467018 0.93595487\n",
      " 0.93567487 0.93530429 0.93717368 0.93665486 0.93995718 0.93956189\n",
      " 0.93834308 0.93931483 0.94043482 0.94215597 0.94287244 0.94304538\n",
      " 0.94531006 0.94641357 0.94537594 0.95825579 0.95593346 0.95860166\n",
      " 0.95845343 0.95948283 0.9611381  0.9596393  0.95175821 0.95175821\n",
      " 0.95319937 0.95138763 0.955357   0.95319114 0.95411348 0.95510994\n",
      " 0.95792638 0.95949106 0.95975459 0.96737215 0.97177798 0.96569217\n",
      " 0.96174751 0.96629334 0.96504159 0.96867331 0.96867331 0.96841802\n",
      " 0.97117681 0.96893684 0.96764391 0.96835214 0.97030388 0.96927448\n",
      " 0.96722392 0.96718274 0.96854978 0.97776497 0.97364737 0.97773203\n",
      " 0.97508029 0.97372149 0.97583793 0.97665322 0.97528617 0.97820143\n",
      " 0.97928024 0.97974965 0.97750968 0.97742732 0.97861319 0.98099316\n",
      " 0.98369431 0.98310961 0.98187433 0.96796572 0.95501047 0.94440621\n",
      " 0.93594933 0.92884916 0.9220742  0.91510129 0.90786517 0.90051931\n",
      " 0.89323705 0.88612312 0.87921089 0.87249154]\n",
      "13 day output [[0.8659437]]\n",
      "14 day input [0.94219715 0.9411101  0.93481841 0.93311373 0.93979247 0.94078893\n",
      " 0.9385819  0.93758544 0.93699251 0.93571605 0.93764309 0.93789838\n",
      " 0.93419254 0.93630075 0.93448901 0.93467018 0.93595487 0.93567487\n",
      " 0.93530429 0.93717368 0.93665486 0.93995718 0.93956189 0.93834308\n",
      " 0.93931483 0.94043482 0.94215597 0.94287244 0.94304538 0.94531006\n",
      " 0.94641357 0.94537594 0.95825579 0.95593346 0.95860166 0.95845343\n",
      " 0.95948283 0.9611381  0.9596393  0.95175821 0.95175821 0.95319937\n",
      " 0.95138763 0.955357   0.95319114 0.95411348 0.95510994 0.95792638\n",
      " 0.95949106 0.95975459 0.96737215 0.97177798 0.96569217 0.96174751\n",
      " 0.96629334 0.96504159 0.96867331 0.96867331 0.96841802 0.97117681\n",
      " 0.96893684 0.96764391 0.96835214 0.97030388 0.96927448 0.96722392\n",
      " 0.96718274 0.96854978 0.97776497 0.97364737 0.97773203 0.97508029\n",
      " 0.97372149 0.97583793 0.97665322 0.97528617 0.97820143 0.97928024\n",
      " 0.97974965 0.97750968 0.97742732 0.97861319 0.98099316 0.98369431\n",
      " 0.98310961 0.98187433 0.96796572 0.95501047 0.94440621 0.93594933\n",
      " 0.92884916 0.9220742  0.91510129 0.90786517 0.90051931 0.89323705\n",
      " 0.88612312 0.87921089 0.87249154 0.86594367]\n",
      "14 day output [[0.8595495]]\n",
      "15 day input [0.9411101  0.93481841 0.93311373 0.93979247 0.94078893 0.9385819\n",
      " 0.93758544 0.93699251 0.93571605 0.93764309 0.93789838 0.93419254\n",
      " 0.93630075 0.93448901 0.93467018 0.93595487 0.93567487 0.93530429\n",
      " 0.93717368 0.93665486 0.93995718 0.93956189 0.93834308 0.93931483\n",
      " 0.94043482 0.94215597 0.94287244 0.94304538 0.94531006 0.94641357\n",
      " 0.94537594 0.95825579 0.95593346 0.95860166 0.95845343 0.95948283\n",
      " 0.9611381  0.9596393  0.95175821 0.95175821 0.95319937 0.95138763\n",
      " 0.955357   0.95319114 0.95411348 0.95510994 0.95792638 0.95949106\n",
      " 0.95975459 0.96737215 0.97177798 0.96569217 0.96174751 0.96629334\n",
      " 0.96504159 0.96867331 0.96867331 0.96841802 0.97117681 0.96893684\n",
      " 0.96764391 0.96835214 0.97030388 0.96927448 0.96722392 0.96718274\n",
      " 0.96854978 0.97776497 0.97364737 0.97773203 0.97508029 0.97372149\n",
      " 0.97583793 0.97665322 0.97528617 0.97820143 0.97928024 0.97974965\n",
      " 0.97750968 0.97742732 0.97861319 0.98099316 0.98369431 0.98310961\n",
      " 0.98187433 0.96796572 0.95501047 0.94440621 0.93594933 0.92884916\n",
      " 0.9220742  0.91510129 0.90786517 0.90051931 0.89323705 0.88612312\n",
      " 0.87921089 0.87249154 0.86594367 0.85954952]\n",
      "15 day output [[0.85329765]]\n",
      "16 day input [0.93481841 0.93311373 0.93979247 0.94078893 0.9385819  0.93758544\n",
      " 0.93699251 0.93571605 0.93764309 0.93789838 0.93419254 0.93630075\n",
      " 0.93448901 0.93467018 0.93595487 0.93567487 0.93530429 0.93717368\n",
      " 0.93665486 0.93995718 0.93956189 0.93834308 0.93931483 0.94043482\n",
      " 0.94215597 0.94287244 0.94304538 0.94531006 0.94641357 0.94537594\n",
      " 0.95825579 0.95593346 0.95860166 0.95845343 0.95948283 0.9611381\n",
      " 0.9596393  0.95175821 0.95175821 0.95319937 0.95138763 0.955357\n",
      " 0.95319114 0.95411348 0.95510994 0.95792638 0.95949106 0.95975459\n",
      " 0.96737215 0.97177798 0.96569217 0.96174751 0.96629334 0.96504159\n",
      " 0.96867331 0.96867331 0.96841802 0.97117681 0.96893684 0.96764391\n",
      " 0.96835214 0.97030388 0.96927448 0.96722392 0.96718274 0.96854978\n",
      " 0.97776497 0.97364737 0.97773203 0.97508029 0.97372149 0.97583793\n",
      " 0.97665322 0.97528617 0.97820143 0.97928024 0.97974965 0.97750968\n",
      " 0.97742732 0.97861319 0.98099316 0.98369431 0.98310961 0.98187433\n",
      " 0.96796572 0.95501047 0.94440621 0.93594933 0.92884916 0.9220742\n",
      " 0.91510129 0.90786517 0.90051931 0.89323705 0.88612312 0.87921089\n",
      " 0.87249154 0.86594367 0.85954952 0.85329765]\n"
     ]
    },
    {
     "name": "stdout",
     "output_type": "stream",
     "text": [
      "16 day output [[0.84718144]]\n",
      "17 day input [0.93311373 0.93979247 0.94078893 0.9385819  0.93758544 0.93699251\n",
      " 0.93571605 0.93764309 0.93789838 0.93419254 0.93630075 0.93448901\n",
      " 0.93467018 0.93595487 0.93567487 0.93530429 0.93717368 0.93665486\n",
      " 0.93995718 0.93956189 0.93834308 0.93931483 0.94043482 0.94215597\n",
      " 0.94287244 0.94304538 0.94531006 0.94641357 0.94537594 0.95825579\n",
      " 0.95593346 0.95860166 0.95845343 0.95948283 0.9611381  0.9596393\n",
      " 0.95175821 0.95175821 0.95319937 0.95138763 0.955357   0.95319114\n",
      " 0.95411348 0.95510994 0.95792638 0.95949106 0.95975459 0.96737215\n",
      " 0.97177798 0.96569217 0.96174751 0.96629334 0.96504159 0.96867331\n",
      " 0.96867331 0.96841802 0.97117681 0.96893684 0.96764391 0.96835214\n",
      " 0.97030388 0.96927448 0.96722392 0.96718274 0.96854978 0.97776497\n",
      " 0.97364737 0.97773203 0.97508029 0.97372149 0.97583793 0.97665322\n",
      " 0.97528617 0.97820143 0.97928024 0.97974965 0.97750968 0.97742732\n",
      " 0.97861319 0.98099316 0.98369431 0.98310961 0.98187433 0.96796572\n",
      " 0.95501047 0.94440621 0.93594933 0.92884916 0.9220742  0.91510129\n",
      " 0.90786517 0.90051931 0.89323705 0.88612312 0.87921089 0.87249154\n",
      " 0.86594367 0.85954952 0.85329765 0.84718144]\n",
      "17 day output [[0.84119517]]\n",
      "18 day input [0.93979247 0.94078893 0.9385819  0.93758544 0.93699251 0.93571605\n",
      " 0.93764309 0.93789838 0.93419254 0.93630075 0.93448901 0.93467018\n",
      " 0.93595487 0.93567487 0.93530429 0.93717368 0.93665486 0.93995718\n",
      " 0.93956189 0.93834308 0.93931483 0.94043482 0.94215597 0.94287244\n",
      " 0.94304538 0.94531006 0.94641357 0.94537594 0.95825579 0.95593346\n",
      " 0.95860166 0.95845343 0.95948283 0.9611381  0.9596393  0.95175821\n",
      " 0.95175821 0.95319937 0.95138763 0.955357   0.95319114 0.95411348\n",
      " 0.95510994 0.95792638 0.95949106 0.95975459 0.96737215 0.97177798\n",
      " 0.96569217 0.96174751 0.96629334 0.96504159 0.96867331 0.96867331\n",
      " 0.96841802 0.97117681 0.96893684 0.96764391 0.96835214 0.97030388\n",
      " 0.96927448 0.96722392 0.96718274 0.96854978 0.97776497 0.97364737\n",
      " 0.97773203 0.97508029 0.97372149 0.97583793 0.97665322 0.97528617\n",
      " 0.97820143 0.97928024 0.97974965 0.97750968 0.97742732 0.97861319\n",
      " 0.98099316 0.98369431 0.98310961 0.98187433 0.96796572 0.95501047\n",
      " 0.94440621 0.93594933 0.92884916 0.9220742  0.91510129 0.90786517\n",
      " 0.90051931 0.89323705 0.88612312 0.87921089 0.87249154 0.86594367\n",
      " 0.85954952 0.85329765 0.84718144 0.84119517]\n",
      "18 day output [[0.8353323]]\n",
      "19 day input [0.94078893 0.9385819  0.93758544 0.93699251 0.93571605 0.93764309\n",
      " 0.93789838 0.93419254 0.93630075 0.93448901 0.93467018 0.93595487\n",
      " 0.93567487 0.93530429 0.93717368 0.93665486 0.93995718 0.93956189\n",
      " 0.93834308 0.93931483 0.94043482 0.94215597 0.94287244 0.94304538\n",
      " 0.94531006 0.94641357 0.94537594 0.95825579 0.95593346 0.95860166\n",
      " 0.95845343 0.95948283 0.9611381  0.9596393  0.95175821 0.95175821\n",
      " 0.95319937 0.95138763 0.955357   0.95319114 0.95411348 0.95510994\n",
      " 0.95792638 0.95949106 0.95975459 0.96737215 0.97177798 0.96569217\n",
      " 0.96174751 0.96629334 0.96504159 0.96867331 0.96867331 0.96841802\n",
      " 0.97117681 0.96893684 0.96764391 0.96835214 0.97030388 0.96927448\n",
      " 0.96722392 0.96718274 0.96854978 0.97776497 0.97364737 0.97773203\n",
      " 0.97508029 0.97372149 0.97583793 0.97665322 0.97528617 0.97820143\n",
      " 0.97928024 0.97974965 0.97750968 0.97742732 0.97861319 0.98099316\n",
      " 0.98369431 0.98310961 0.98187433 0.96796572 0.95501047 0.94440621\n",
      " 0.93594933 0.92884916 0.9220742  0.91510129 0.90786517 0.90051931\n",
      " 0.89323705 0.88612312 0.87921089 0.87249154 0.86594367 0.85954952\n",
      " 0.85329765 0.84718144 0.84119517 0.83533227]\n",
      "19 day output [[0.8295851]]\n",
      "20 day input [0.9385819  0.93758544 0.93699251 0.93571605 0.93764309 0.93789838\n",
      " 0.93419254 0.93630075 0.93448901 0.93467018 0.93595487 0.93567487\n",
      " 0.93530429 0.93717368 0.93665486 0.93995718 0.93956189 0.93834308\n",
      " 0.93931483 0.94043482 0.94215597 0.94287244 0.94304538 0.94531006\n",
      " 0.94641357 0.94537594 0.95825579 0.95593346 0.95860166 0.95845343\n",
      " 0.95948283 0.9611381  0.9596393  0.95175821 0.95175821 0.95319937\n",
      " 0.95138763 0.955357   0.95319114 0.95411348 0.95510994 0.95792638\n",
      " 0.95949106 0.95975459 0.96737215 0.97177798 0.96569217 0.96174751\n",
      " 0.96629334 0.96504159 0.96867331 0.96867331 0.96841802 0.97117681\n",
      " 0.96893684 0.96764391 0.96835214 0.97030388 0.96927448 0.96722392\n",
      " 0.96718274 0.96854978 0.97776497 0.97364737 0.97773203 0.97508029\n",
      " 0.97372149 0.97583793 0.97665322 0.97528617 0.97820143 0.97928024\n",
      " 0.97974965 0.97750968 0.97742732 0.97861319 0.98099316 0.98369431\n",
      " 0.98310961 0.98187433 0.96796572 0.95501047 0.94440621 0.93594933\n",
      " 0.92884916 0.9220742  0.91510129 0.90786517 0.90051931 0.89323705\n",
      " 0.88612312 0.87921089 0.87249154 0.86594367 0.85954952 0.85329765\n",
      " 0.84718144 0.84119517 0.83533227 0.82958508]\n",
      "20 day output [[0.82394433]]\n",
      "21 day input [0.93758544 0.93699251 0.93571605 0.93764309 0.93789838 0.93419254\n",
      " 0.93630075 0.93448901 0.93467018 0.93595487 0.93567487 0.93530429\n",
      " 0.93717368 0.93665486 0.93995718 0.93956189 0.93834308 0.93931483\n",
      " 0.94043482 0.94215597 0.94287244 0.94304538 0.94531006 0.94641357\n",
      " 0.94537594 0.95825579 0.95593346 0.95860166 0.95845343 0.95948283\n",
      " 0.9611381  0.9596393  0.95175821 0.95175821 0.95319937 0.95138763\n",
      " 0.955357   0.95319114 0.95411348 0.95510994 0.95792638 0.95949106\n",
      " 0.95975459 0.96737215 0.97177798 0.96569217 0.96174751 0.96629334\n",
      " 0.96504159 0.96867331 0.96867331 0.96841802 0.97117681 0.96893684\n",
      " 0.96764391 0.96835214 0.97030388 0.96927448 0.96722392 0.96718274\n",
      " 0.96854978 0.97776497 0.97364737 0.97773203 0.97508029 0.97372149\n",
      " 0.97583793 0.97665322 0.97528617 0.97820143 0.97928024 0.97974965\n",
      " 0.97750968 0.97742732 0.97861319 0.98099316 0.98369431 0.98310961\n",
      " 0.98187433 0.96796572 0.95501047 0.94440621 0.93594933 0.92884916\n",
      " 0.9220742  0.91510129 0.90786517 0.90051931 0.89323705 0.88612312\n",
      " 0.87921089 0.87249154 0.86594367 0.85954952 0.85329765 0.84718144\n",
      " 0.84119517 0.83533227 0.82958508 0.82394433]\n",
      "21 day output [[0.818401]]\n",
      "22 day input [0.93699251 0.93571605 0.93764309 0.93789838 0.93419254 0.93630075\n",
      " 0.93448901 0.93467018 0.93595487 0.93567487 0.93530429 0.93717368\n",
      " 0.93665486 0.93995718 0.93956189 0.93834308 0.93931483 0.94043482\n",
      " 0.94215597 0.94287244 0.94304538 0.94531006 0.94641357 0.94537594\n",
      " 0.95825579 0.95593346 0.95860166 0.95845343 0.95948283 0.9611381\n",
      " 0.9596393  0.95175821 0.95175821 0.95319937 0.95138763 0.955357\n",
      " 0.95319114 0.95411348 0.95510994 0.95792638 0.95949106 0.95975459\n",
      " 0.96737215 0.97177798 0.96569217 0.96174751 0.96629334 0.96504159\n",
      " 0.96867331 0.96867331 0.96841802 0.97117681 0.96893684 0.96764391\n",
      " 0.96835214 0.97030388 0.96927448 0.96722392 0.96718274 0.96854978\n",
      " 0.97776497 0.97364737 0.97773203 0.97508029 0.97372149 0.97583793\n",
      " 0.97665322 0.97528617 0.97820143 0.97928024 0.97974965 0.97750968\n",
      " 0.97742732 0.97861319 0.98099316 0.98369431 0.98310961 0.98187433\n",
      " 0.96796572 0.95501047 0.94440621 0.93594933 0.92884916 0.9220742\n",
      " 0.91510129 0.90786517 0.90051931 0.89323705 0.88612312 0.87921089\n",
      " 0.87249154 0.86594367 0.85954952 0.85329765 0.84718144 0.84119517\n",
      " 0.83533227 0.82958508 0.82394433 0.81840098]\n",
      "22 day output [[0.81294584]]\n",
      "23 day input [0.93571605 0.93764309 0.93789838 0.93419254 0.93630075 0.93448901\n",
      " 0.93467018 0.93595487 0.93567487 0.93530429 0.93717368 0.93665486\n",
      " 0.93995718 0.93956189 0.93834308 0.93931483 0.94043482 0.94215597\n",
      " 0.94287244 0.94304538 0.94531006 0.94641357 0.94537594 0.95825579\n",
      " 0.95593346 0.95860166 0.95845343 0.95948283 0.9611381  0.9596393\n",
      " 0.95175821 0.95175821 0.95319937 0.95138763 0.955357   0.95319114\n",
      " 0.95411348 0.95510994 0.95792638 0.95949106 0.95975459 0.96737215\n",
      " 0.97177798 0.96569217 0.96174751 0.96629334 0.96504159 0.96867331\n",
      " 0.96867331 0.96841802 0.97117681 0.96893684 0.96764391 0.96835214\n",
      " 0.97030388 0.96927448 0.96722392 0.96718274 0.96854978 0.97776497\n",
      " 0.97364737 0.97773203 0.97508029 0.97372149 0.97583793 0.97665322\n",
      " 0.97528617 0.97820143 0.97928024 0.97974965 0.97750968 0.97742732\n",
      " 0.97861319 0.98099316 0.98369431 0.98310961 0.98187433 0.96796572\n",
      " 0.95501047 0.94440621 0.93594933 0.92884916 0.9220742  0.91510129\n",
      " 0.90786517 0.90051931 0.89323705 0.88612312 0.87921089 0.87249154\n",
      " 0.86594367 0.85954952 0.85329765 0.84718144 0.84119517 0.83533227\n",
      " 0.82958508 0.82394433 0.81840098 0.81294584]\n",
      "23 day output [[0.80757034]]\n",
      "24 day input [0.93764309 0.93789838 0.93419254 0.93630075 0.93448901 0.93467018\n",
      " 0.93595487 0.93567487 0.93530429 0.93717368 0.93665486 0.93995718\n",
      " 0.93956189 0.93834308 0.93931483 0.94043482 0.94215597 0.94287244\n",
      " 0.94304538 0.94531006 0.94641357 0.94537594 0.95825579 0.95593346\n",
      " 0.95860166 0.95845343 0.95948283 0.9611381  0.9596393  0.95175821\n",
      " 0.95175821 0.95319937 0.95138763 0.955357   0.95319114 0.95411348\n",
      " 0.95510994 0.95792638 0.95949106 0.95975459 0.96737215 0.97177798\n",
      " 0.96569217 0.96174751 0.96629334 0.96504159 0.96867331 0.96867331\n",
      " 0.96841802 0.97117681 0.96893684 0.96764391 0.96835214 0.97030388\n",
      " 0.96927448 0.96722392 0.96718274 0.96854978 0.97776497 0.97364737\n",
      " 0.97773203 0.97508029 0.97372149 0.97583793 0.97665322 0.97528617\n",
      " 0.97820143 0.97928024 0.97974965 0.97750968 0.97742732 0.97861319\n",
      " 0.98099316 0.98369431 0.98310961 0.98187433 0.96796572 0.95501047\n",
      " 0.94440621 0.93594933 0.92884916 0.9220742  0.91510129 0.90786517\n",
      " 0.90051931 0.89323705 0.88612312 0.87921089 0.87249154 0.86594367\n",
      " 0.85954952 0.85329765 0.84718144 0.84119517 0.83533227 0.82958508\n",
      " 0.82394433 0.81840098 0.81294584 0.80757034]\n"
     ]
    },
    {
     "name": "stdout",
     "output_type": "stream",
     "text": [
      "24 day output [[0.80226743]]\n",
      "25 day input [0.93789838 0.93419254 0.93630075 0.93448901 0.93467018 0.93595487\n",
      " 0.93567487 0.93530429 0.93717368 0.93665486 0.93995718 0.93956189\n",
      " 0.93834308 0.93931483 0.94043482 0.94215597 0.94287244 0.94304538\n",
      " 0.94531006 0.94641357 0.94537594 0.95825579 0.95593346 0.95860166\n",
      " 0.95845343 0.95948283 0.9611381  0.9596393  0.95175821 0.95175821\n",
      " 0.95319937 0.95138763 0.955357   0.95319114 0.95411348 0.95510994\n",
      " 0.95792638 0.95949106 0.95975459 0.96737215 0.97177798 0.96569217\n",
      " 0.96174751 0.96629334 0.96504159 0.96867331 0.96867331 0.96841802\n",
      " 0.97117681 0.96893684 0.96764391 0.96835214 0.97030388 0.96927448\n",
      " 0.96722392 0.96718274 0.96854978 0.97776497 0.97364737 0.97773203\n",
      " 0.97508029 0.97372149 0.97583793 0.97665322 0.97528617 0.97820143\n",
      " 0.97928024 0.97974965 0.97750968 0.97742732 0.97861319 0.98099316\n",
      " 0.98369431 0.98310961 0.98187433 0.96796572 0.95501047 0.94440621\n",
      " 0.93594933 0.92884916 0.9220742  0.91510129 0.90786517 0.90051931\n",
      " 0.89323705 0.88612312 0.87921089 0.87249154 0.86594367 0.85954952\n",
      " 0.85329765 0.84718144 0.84119517 0.83533227 0.82958508 0.82394433\n",
      " 0.81840098 0.81294584 0.80757034 0.80226743]\n",
      "25 day output [[0.79702955]]\n",
      "26 day input [0.93419254 0.93630075 0.93448901 0.93467018 0.93595487 0.93567487\n",
      " 0.93530429 0.93717368 0.93665486 0.93995718 0.93956189 0.93834308\n",
      " 0.93931483 0.94043482 0.94215597 0.94287244 0.94304538 0.94531006\n",
      " 0.94641357 0.94537594 0.95825579 0.95593346 0.95860166 0.95845343\n",
      " 0.95948283 0.9611381  0.9596393  0.95175821 0.95175821 0.95319937\n",
      " 0.95138763 0.955357   0.95319114 0.95411348 0.95510994 0.95792638\n",
      " 0.95949106 0.95975459 0.96737215 0.97177798 0.96569217 0.96174751\n",
      " 0.96629334 0.96504159 0.96867331 0.96867331 0.96841802 0.97117681\n",
      " 0.96893684 0.96764391 0.96835214 0.97030388 0.96927448 0.96722392\n",
      " 0.96718274 0.96854978 0.97776497 0.97364737 0.97773203 0.97508029\n",
      " 0.97372149 0.97583793 0.97665322 0.97528617 0.97820143 0.97928024\n",
      " 0.97974965 0.97750968 0.97742732 0.97861319 0.98099316 0.98369431\n",
      " 0.98310961 0.98187433 0.96796572 0.95501047 0.94440621 0.93594933\n",
      " 0.92884916 0.9220742  0.91510129 0.90786517 0.90051931 0.89323705\n",
      " 0.88612312 0.87921089 0.87249154 0.86594367 0.85954952 0.85329765\n",
      " 0.84718144 0.84119517 0.83533227 0.82958508 0.82394433 0.81840098\n",
      " 0.81294584 0.80757034 0.80226743 0.79702955]\n",
      "26 day output [[0.7918505]]\n",
      "27 day input [0.93630075 0.93448901 0.93467018 0.93595487 0.93567487 0.93530429\n",
      " 0.93717368 0.93665486 0.93995718 0.93956189 0.93834308 0.93931483\n",
      " 0.94043482 0.94215597 0.94287244 0.94304538 0.94531006 0.94641357\n",
      " 0.94537594 0.95825579 0.95593346 0.95860166 0.95845343 0.95948283\n",
      " 0.9611381  0.9596393  0.95175821 0.95175821 0.95319937 0.95138763\n",
      " 0.955357   0.95319114 0.95411348 0.95510994 0.95792638 0.95949106\n",
      " 0.95975459 0.96737215 0.97177798 0.96569217 0.96174751 0.96629334\n",
      " 0.96504159 0.96867331 0.96867331 0.96841802 0.97117681 0.96893684\n",
      " 0.96764391 0.96835214 0.97030388 0.96927448 0.96722392 0.96718274\n",
      " 0.96854978 0.97776497 0.97364737 0.97773203 0.97508029 0.97372149\n",
      " 0.97583793 0.97665322 0.97528617 0.97820143 0.97928024 0.97974965\n",
      " 0.97750968 0.97742732 0.97861319 0.98099316 0.98369431 0.98310961\n",
      " 0.98187433 0.96796572 0.95501047 0.94440621 0.93594933 0.92884916\n",
      " 0.9220742  0.91510129 0.90786517 0.90051931 0.89323705 0.88612312\n",
      " 0.87921089 0.87249154 0.86594367 0.85954952 0.85329765 0.84718144\n",
      " 0.84119517 0.83533227 0.82958508 0.82394433 0.81840098 0.81294584\n",
      " 0.80757034 0.80226743 0.79702955 0.79185051]\n",
      "27 day output [[0.7867251]]\n",
      "28 day input [0.93448901 0.93467018 0.93595487 0.93567487 0.93530429 0.93717368\n",
      " 0.93665486 0.93995718 0.93956189 0.93834308 0.93931483 0.94043482\n",
      " 0.94215597 0.94287244 0.94304538 0.94531006 0.94641357 0.94537594\n",
      " 0.95825579 0.95593346 0.95860166 0.95845343 0.95948283 0.9611381\n",
      " 0.9596393  0.95175821 0.95175821 0.95319937 0.95138763 0.955357\n",
      " 0.95319114 0.95411348 0.95510994 0.95792638 0.95949106 0.95975459\n",
      " 0.96737215 0.97177798 0.96569217 0.96174751 0.96629334 0.96504159\n",
      " 0.96867331 0.96867331 0.96841802 0.97117681 0.96893684 0.96764391\n",
      " 0.96835214 0.97030388 0.96927448 0.96722392 0.96718274 0.96854978\n",
      " 0.97776497 0.97364737 0.97773203 0.97508029 0.97372149 0.97583793\n",
      " 0.97665322 0.97528617 0.97820143 0.97928024 0.97974965 0.97750968\n",
      " 0.97742732 0.97861319 0.98099316 0.98369431 0.98310961 0.98187433\n",
      " 0.96796572 0.95501047 0.94440621 0.93594933 0.92884916 0.9220742\n",
      " 0.91510129 0.90786517 0.90051931 0.89323705 0.88612312 0.87921089\n",
      " 0.87249154 0.86594367 0.85954952 0.85329765 0.84718144 0.84119517\n",
      " 0.83533227 0.82958508 0.82394433 0.81840098 0.81294584 0.80757034\n",
      " 0.80226743 0.79702955 0.79185051 0.7867251 ]\n",
      "28 day output [[0.7816483]]\n",
      "29 day input [0.93467018 0.93595487 0.93567487 0.93530429 0.93717368 0.93665486\n",
      " 0.93995718 0.93956189 0.93834308 0.93931483 0.94043482 0.94215597\n",
      " 0.94287244 0.94304538 0.94531006 0.94641357 0.94537594 0.95825579\n",
      " 0.95593346 0.95860166 0.95845343 0.95948283 0.9611381  0.9596393\n",
      " 0.95175821 0.95175821 0.95319937 0.95138763 0.955357   0.95319114\n",
      " 0.95411348 0.95510994 0.95792638 0.95949106 0.95975459 0.96737215\n",
      " 0.97177798 0.96569217 0.96174751 0.96629334 0.96504159 0.96867331\n",
      " 0.96867331 0.96841802 0.97117681 0.96893684 0.96764391 0.96835214\n",
      " 0.97030388 0.96927448 0.96722392 0.96718274 0.96854978 0.97776497\n",
      " 0.97364737 0.97773203 0.97508029 0.97372149 0.97583793 0.97665322\n",
      " 0.97528617 0.97820143 0.97928024 0.97974965 0.97750968 0.97742732\n",
      " 0.97861319 0.98099316 0.98369431 0.98310961 0.98187433 0.96796572\n",
      " 0.95501047 0.94440621 0.93594933 0.92884916 0.9220742  0.91510129\n",
      " 0.90786517 0.90051931 0.89323705 0.88612312 0.87921089 0.87249154\n",
      " 0.86594367 0.85954952 0.85329765 0.84718144 0.84119517 0.83533227\n",
      " 0.82958508 0.82394433 0.81840098 0.81294584 0.80757034 0.80226743\n",
      " 0.79702955 0.79185051 0.7867251  0.78164828]\n",
      "29 day output [[0.7766165]]\n",
      "[[0.9679657220840454], [0.9550104737281799], [0.9444062113761902], [0.9359493255615234], [0.9288491606712341], [0.9220741987228394], [0.9151012897491455], [0.9078651666641235], [0.9005193114280701], [0.8932370543479919], [0.8861231207847595], [0.879210889339447], [0.8724915385246277], [0.8659436702728271], [0.8595495223999023], [0.8532976508140564], [0.8471814393997192], [0.8411951661109924], [0.8353322744369507], [0.829585075378418], [0.8239443302154541], [0.8184009790420532], [0.8129458427429199], [0.8075703382492065], [0.8022674322128296], [0.7970295548439026], [0.7918505072593689], [0.7867251038551331], [0.7816482782363892], [0.7766165137290955]]\n"
     ]
    }
   ],
   "source": [
    "# demonstrate prediction for next 30 days\n",
    "from numpy import array\n",
    "\n",
    "lst_output=[]\n",
    "n_steps=100\n",
    "i=0\n",
    "while(i<30):\n",
    "    \n",
    "    if(len(temp_input)>100):\n",
    "        #print(temp_input)\n",
    "        x_input=np.array(temp_input[1:])\n",
    "        print(\"{} day input {}\".format(i,x_input))\n",
    "        x_input=x_input.reshape(1,-1)\n",
    "        x_input = x_input.reshape((1, n_steps, 1))\n",
    "        #print(x_input)\n",
    "        yhat = model.predict(x_input, verbose=0)\n",
    "        print(\"{} day output {}\".format(i,yhat))\n",
    "        temp_input.extend(yhat[0].tolist())\n",
    "        temp_input=temp_input[1:]\n",
    "        #print(temp_input)\n",
    "        lst_output.extend(yhat.tolist())\n",
    "        i=i+1\n",
    "    else:\n",
    "        x_input = x_input.reshape((1, n_steps,1))\n",
    "        yhat = model.predict(x_input, verbose=0)\n",
    "        print(yhat[0])\n",
    "        temp_input.extend(yhat[0].tolist())\n",
    "        print(len(temp_input))\n",
    "        lst_output.extend(yhat.tolist())\n",
    "        i=i+1\n",
    "    \n",
    "\n",
    "print(lst_output)"
   ]
  },
  {
   "cell_type": "code",
   "execution_count": 43,
   "metadata": {},
   "outputs": [],
   "source": [
    "day_new=np.arange(1,101)\n",
    "day_pred=np.arange(101,131)"
   ]
  },
  {
   "cell_type": "code",
   "execution_count": 44,
   "metadata": {},
   "outputs": [],
   "source": [
    "import matplotlib.pyplot as plt"
   ]
  },
  {
   "cell_type": "code",
   "execution_count": 45,
   "metadata": {},
   "outputs": [
    {
     "data": {
      "text/plain": [
       "4498"
      ]
     },
     "execution_count": 45,
     "metadata": {},
     "output_type": "execute_result"
    }
   ],
   "source": [
    "len(df1)"
   ]
  },
  {
   "cell_type": "code",
   "execution_count": null,
   "metadata": {},
   "outputs": [],
   "source": []
  },
  {
   "cell_type": "code",
   "execution_count": 46,
   "metadata": {},
   "outputs": [
    {
     "data": {
      "text/plain": [
       "[<matplotlib.lines.Line2D at 0x200b5bb40a0>]"
      ]
     },
     "execution_count": 46,
     "metadata": {},
     "output_type": "execute_result"
    },
    {
     "data": {
      "image/png": "[encoded data removed]",
      "text/plain": [
       "<Figure size 640x480 with 1 Axes>"
      ]
     },
     "metadata": {},
     "output_type": "display_data"
    }
   ],
   "source": [
    "plt.plot(day_new,scaler.inverse_transform(df1[len(df1)-100:]))\n",
    "plt.plot(day_pred,scaler.inverse_transform(lst_output))"
   ]
  },
  {
   "cell_type": "code",
   "execution_count": 47,
   "metadata": {},
   "outputs": [
    {
     "data": {
      "text/plain": [
       "[<matplotlib.lines.Line2D at 0x200b5b91cc0>]"
      ]
     },
     "execution_count": 47,
     "metadata": {},
     "output_type": "execute_result"
    },
    {
     "data": {
      "image/png": "[encoded data removed]",
      "text/plain": [
       "<Figure size 640x480 with 1 Axes>"
      ]
     },
     "metadata": {},
     "output_type": "display_data"
    }
   ],
   "source": [
    "df3=df1.tolist()\n",
    "df3.extend(lst_output)\n",
    "plt.plot(df3[1200:])"
   ]
  },
  {
   "cell_type": "code",
   "execution_count": 48,
   "metadata": {},
   "outputs": [],
   "source": [
    "df3=scaler.inverse_transform(df3).tolist()"
   ]
  },
  {
   "cell_type": "code",
   "execution_count": 49,
   "metadata": {
    "scrolled": true
   },
   "outputs": [
    {
     "data": {
      "text/plain": [
       "[<matplotlib.lines.Line2D at 0x200b5a04370>]"
      ]
     },
     "execution_count": 49,
     "metadata": {},
     "output_type": "execute_result"
    },
    {
     "data": {
      "image/png": "[encoded data removed]",
      "text/plain": [
       "<Figure size 640x480 with 1 Axes>"
      ]
     },
     "metadata": {},
     "output_type": "display_data"
    }
   ],
   "source": [
    "plt.plot(df3)"
   ]
  }
 ],
 "metadata": {
  "kernelspec": {
   "display_name": "Python 3 (ipykernel)",
   "language": "python",
   "name": "python3"
  },
  "language_info": {
   "codemirror_mode": {
    "name": "ipython",
    "version": 3
   },
   "file_extension": ".py",
   "mimetype": "text/x-python",
   "name": "python",
   "nbconvert_exporter": "python",
   "pygments_lexer": "ipython3",
   "version": "3.10.9"
  }
 },
 "nbformat": 4,
 "nbformat_minor": 2
}
